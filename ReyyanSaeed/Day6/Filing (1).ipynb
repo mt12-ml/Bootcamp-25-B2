{
 "cells": [
  {
   "cell_type": "markdown",
   "id": "64d0c9e3-3656-4283-99df-33c0316c7908",
   "metadata": {
    "jp-MarkdownHeadingCollapsed": true
   },
   "source": [
    "# os module – File & Directory Operations\n",
    "\n",
    "**Q:1 Create, Read, Rename, Remove files and folder**\n",
    "\n",
    "**Q:1 Get the current working directory and navigate to a sibling directory**\n",
    "\n",
    "**Q:2 Recursively list all files in a directory using only os.**\n",
    "\n",
    "**Q:3 Check if a given path is a file, directory, or doesn't exist.**\n",
    "\n",
    "**Q:4 Create a deeply nested folder structure like**\n",
    "\n",
    "**Q:5 Delete all empty directories from a given folder tree.**\n",
    "\n",
    "**Q:6 Count the number of .txt files in a directory using os.listdir().**\n",
    "\n",
    "**Q:7 Move files from one folder to another, creating the destination if needed.**\n",
    "\n",
    "**Q:8 Rename all .log files to .log.bak within a folder.**\n",
    "\n",
    "**Q:9 Print the total size of all files in a directory in MB.**\n",
    "\n",
    "**Q:10 Print the directory tree with indentation (like the tree command).**\n",
    "\n",
    "**Q:11 Write a function that synchronizes the structure of two directory trees (mirror mode).**\n",
    "\n",
    "**Q:12 Implement a safe folder deletion function that first moves the folder to a Trash directory.**\n",
    "\n",
    "**Q13: Find and print the most recently modified file in a directory recursively.**\n",
    "\n",
    "**Q:14 Generate a directory report (file count, total size, subfolders) in JSON format.**\n",
    "\n",
    "**Q:15 Track changes (additions/removals) in a directory over time using file snapshots.**\n",
    "\n"
   ]
  },
  {
   "cell_type": "code",
   "execution_count": 105,
   "id": "0cb604f0-de66-4950-b150-3ea858f1ba9c",
   "metadata": {},
   "outputs": [
    {
     "data": {
      "text/plain": [
       "'C:\\\\Users\\\\Public'"
      ]
     },
     "execution_count": 105,
     "metadata": {},
     "output_type": "execute_result"
    }
   ],
   "source": [
    "import os\n",
    "cwd=os.getcwd()\n",
    "path=os.path.join(os.path.dirname(cwd),'Public')\n",
    "os.chdir(path)\n",
    "os.getcwd()"
   ]
  },
  {
   "cell_type": "code",
   "execution_count": 103,
   "id": "d3de0b42-c67e-49e2-b0d9-225e9d3f9a91",
   "metadata": {},
   "outputs": [
    {
     "ename": "SyntaxError",
     "evalue": "(unicode error) 'unicodeescape' codec can't decode bytes in position 2-3: truncated \\UXXXXXXXX escape (1961895019.py, line 5)",
     "output_type": "error",
     "traceback": [
      "\u001b[1;36m  Cell \u001b[1;32mIn[103], line 5\u001b[1;36m\u001b[0m\n\u001b[1;33m    path='C:\\Users\\Show'\u001b[0m\n\u001b[1;37m                        ^\u001b[0m\n\u001b[1;31mSyntaxError\u001b[0m\u001b[1;31m:\u001b[0m (unicode error) 'unicodeescape' codec can't decode bytes in position 2-3: truncated \\UXXXXXXXX escape\n"
     ]
    }
   ],
   "source": [
    "def list_files(start_path='.'):\n",
    "    for root,dirs,files in os.walk(start_path):\n",
    "        for file in files:\n",
    "            print(os.path.join(root,file))\n",
    "path='C:\\Users\\Show'\n",
    "list_files(path)\n"
   ]
  },
  {
   "cell_type": "code",
   "execution_count": 106,
   "id": "9375de53-f7e0-4781-a449-6ad8eab91288",
   "metadata": {},
   "outputs": [
    {
     "data": {
      "text/plain": [
       "['C:\\\\Users\\\\Public\\\\desktop.ini',\n",
       " 'C:\\\\Users\\\\Public\\\\AccountPictures\\\\desktop.ini',\n",
       " 'C:\\\\Users\\\\Public\\\\AccountPictures\\\\S-1-5-21-2854992968-1567563288-1470518954-1001\\\\{41B202A4-8925-4741-B7DE-DA297FE1F05A}-Image1080.jpg',\n",
       " 'C:\\\\Users\\\\Public\\\\AccountPictures\\\\S-1-5-21-2854992968-1567563288-1470518954-1001\\\\{41B202A4-8925-4741-B7DE-DA297FE1F05A}-Image192.jpg',\n",
       " 'C:\\\\Users\\\\Public\\\\AccountPictures\\\\S-1-5-21-2854992968-1567563288-1470518954-1001\\\\{41B202A4-8925-4741-B7DE-DA297FE1F05A}-Image208.jpg',\n",
       " 'C:\\\\Users\\\\Public\\\\AccountPictures\\\\S-1-5-21-2854992968-1567563288-1470518954-1001\\\\{41B202A4-8925-4741-B7DE-DA297FE1F05A}-Image240.jpg',\n",
       " 'C:\\\\Users\\\\Public\\\\AccountPictures\\\\S-1-5-21-2854992968-1567563288-1470518954-1001\\\\{41B202A4-8925-4741-B7DE-DA297FE1F05A}-Image32.jpg',\n",
       " 'C:\\\\Users\\\\Public\\\\AccountPictures\\\\S-1-5-21-2854992968-1567563288-1470518954-1001\\\\{41B202A4-8925-4741-B7DE-DA297FE1F05A}-Image40.jpg',\n",
       " 'C:\\\\Users\\\\Public\\\\AccountPictures\\\\S-1-5-21-2854992968-1567563288-1470518954-1001\\\\{41B202A4-8925-4741-B7DE-DA297FE1F05A}-Image424.jpg',\n",
       " 'C:\\\\Users\\\\Public\\\\AccountPictures\\\\S-1-5-21-2854992968-1567563288-1470518954-1001\\\\{41B202A4-8925-4741-B7DE-DA297FE1F05A}-Image448.jpg',\n",
       " 'C:\\\\Users\\\\Public\\\\AccountPictures\\\\S-1-5-21-2854992968-1567563288-1470518954-1001\\\\{41B202A4-8925-4741-B7DE-DA297FE1F05A}-Image48.jpg',\n",
       " 'C:\\\\Users\\\\Public\\\\AccountPictures\\\\S-1-5-21-2854992968-1567563288-1470518954-1001\\\\{41B202A4-8925-4741-B7DE-DA297FE1F05A}-Image64.jpg',\n",
       " 'C:\\\\Users\\\\Public\\\\AccountPictures\\\\S-1-5-21-2854992968-1567563288-1470518954-1001\\\\{41B202A4-8925-4741-B7DE-DA297FE1F05A}-Image96.jpg',\n",
       " 'C:\\\\Users\\\\Public\\\\Desktop\\\\3uTools(32bit).lnk',\n",
       " 'C:\\\\Users\\\\Public\\\\Desktop\\\\DataSpell 2023.2.1.lnk',\n",
       " 'C:\\\\Users\\\\Public\\\\Desktop\\\\desktop.ini',\n",
       " 'C:\\\\Users\\\\Public\\\\Desktop\\\\DOSBox 0.74-3.lnk',\n",
       " 'C:\\\\Users\\\\Public\\\\Desktop\\\\Driver Easy.lnk',\n",
       " 'C:\\\\Users\\\\Public\\\\Desktop\\\\Macrium Reflect.lnk',\n",
       " 'C:\\\\Users\\\\Public\\\\Desktop\\\\Microsoft Edge.lnk',\n",
       " 'C:\\\\Users\\\\Public\\\\Desktop\\\\MinGW Installer.lnk',\n",
       " 'C:\\\\Users\\\\Public\\\\Desktop\\\\Oracle VM VirtualBox.lnk',\n",
       " 'C:\\\\Users\\\\Public\\\\Desktop\\\\Pentablet.lnk',\n",
       " 'C:\\\\Users\\\\Public\\\\Desktop\\\\Steam.lnk',\n",
       " 'C:\\\\Users\\\\Public\\\\Desktop\\\\Tableau Public 2024.3.lnk',\n",
       " 'C:\\\\Users\\\\Public\\\\Documents\\\\desktop.ini',\n",
       " 'C:\\\\Users\\\\Public\\\\Documents\\\\Steam\\\\CODEX\\\\847370\\\\achievements.ini',\n",
       " 'C:\\\\Users\\\\Public\\\\Documents\\\\Steam\\\\CODEX\\\\847370\\\\leaderboards.ini',\n",
       " 'C:\\\\Users\\\\Public\\\\Downloads\\\\desktop.ini',\n",
       " 'C:\\\\Users\\\\Public\\\\Libraries\\\\desktop.ini',\n",
       " 'C:\\\\Users\\\\Public\\\\Libraries\\\\RecordedTV.library-ms',\n",
       " 'C:\\\\Users\\\\Public\\\\Music\\\\desktop.ini',\n",
       " 'C:\\\\Users\\\\Public\\\\Pictures\\\\desktop.ini',\n",
       " 'C:\\\\Users\\\\Public\\\\Videos\\\\desktop.ini']"
      ]
     },
     "execution_count": 106,
     "metadata": {},
     "output_type": "execute_result"
    }
   ],
   "source": [
    "all_files = []\n",
    "    \n",
    "for root, dirs, files in os.walk(os.getcwd()):\n",
    "    for file in files:\n",
    "        file_path = os.path.join(root, file)\n",
    "        all_files.append(file_path)\n",
    "all_files        "
   ]
  },
  {
   "cell_type": "code",
   "execution_count": 112,
   "id": "6aff88b7-92de-4cf0-9452-cd880199e516",
   "metadata": {},
   "outputs": [
    {
     "name": "stdout",
     "output_type": "stream",
     "text": [
      "Its a directory\n"
     ]
    }
   ],
   "source": [
    "p=r'C:\\Users\\Reyyan Saeed\\Downloads'\n",
    "if os.path.isfile(p):\n",
    "    print(\"Its a file\")\n",
    "elif os.path.isdir(p):\n",
    "    print(\"Its a directory\")"
   ]
  },
  {
   "cell_type": "code",
   "execution_count": null,
   "id": "1fe3144f-c8f8-464b-b0b0-c83a0079d9b4",
   "metadata": {},
   "outputs": [],
   "source": [
    "for path in structure:\n",
    "    full_path = os.path.join(base_path, path)\n",
    "    os.makedirs(full_path, exist_ok=True)\n",
    "    print(f\"✓ Created: {full_path}\")"
   ]
  },
  {
   "cell_type": "code",
   "execution_count": null,
   "id": "a504a41f-193c-4ea9-849a-58df15a77f9b",
   "metadata": {},
   "outputs": [],
   "source": [
    "if not os.listdir(dir_path):\n",
    "    os.rmdir(dir_path)"
   ]
  },
  {
   "cell_type": "code",
   "execution_count": 111,
   "id": "73e2337b-6b7b-49fe-9931-d7c591bc141b",
   "metadata": {},
   "outputs": [
    {
     "data": {
      "text/plain": [
       "33"
      ]
     },
     "execution_count": 111,
     "metadata": {},
     "output_type": "execute_result"
    }
   ],
   "source": [
    "files = os.listdir(r'C:\\Users\\Reyyan Saeed\\Downloads')\n",
    "txt_count = sum(1 for file in files if file.endswith('.txt'))\n",
    "txt_count"
   ]
  },
  {
   "cell_type": "code",
   "execution_count": null,
   "id": "7b41c41b-7da5-45e5-bfdd-476e72724bcb",
   "metadata": {},
   "outputs": [],
   "source": [
    "shutil.move(srpath, dstpath)"
   ]
  },
  {
   "cell_type": "code",
   "execution_count": null,
   "id": "26b0a2bb-3b00-4100-b845-86d5624a98c7",
   "metadata": {},
   "outputs": [],
   "source": [
    "direc=r'C:\\Users\\Reyyan Saeed\\Downloads'\n",
    "for file in os.listdir(direc):\n",
    "    if file.endswith('.log'):\n",
    "        old_path = os.path.join(direc, file)\n",
    "        new_path = os.path.join(direc, file + '.bak')\n",
    "        os.rename(old_path, new_path)"
   ]
  },
  {
   "cell_type": "code",
   "execution_count": 115,
   "id": "04406f76-8c61-422d-b1dc-082d6b359127",
   "metadata": {},
   "outputs": [
    {
     "data": {
      "text/plain": [
       "74140768500"
      ]
     },
     "execution_count": 115,
     "metadata": {},
     "output_type": "execute_result"
    }
   ],
   "source": [
    "direc=r'C:\\Users\\Reyyan Saeed\\Downloads'\n",
    "total_size=0\n",
    "for root, dirs, files in os.walk(direc):\n",
    "    for file in files:\n",
    "        file_path = os.path.join(root, file)\n",
    "        total_size += os.path.getsize(file_path)\n",
    "total_size        "
   ]
  },
  {
   "cell_type": "code",
   "execution_count": null,
   "id": "1a2e636e-228e-43e5-8c2a-27b465e9f994",
   "metadata": {},
   "outputs": [],
   "source": [
    "os.makedirs(trash_dir, exist_ok=True)\n",
    "folder_name = os.path.basename(folder_path)\n",
    "\n",
    "trash_name = f\"{folder_name}_{timestamp}\"\n",
    "trash_path = os.path.join(trash_dir, trash_name)\n",
    "shutil.move(folder_path, trash_path)"
   ]
  },
  {
   "cell_type": "code",
   "execution_count": 117,
   "id": "ae90520a-7168-4c28-ba04-e38cf6969d2c",
   "metadata": {},
   "outputs": [
    {
     "data": {
      "text/plain": [
       "'C:\\\\Users\\\\Reyyan Saeed\\\\Downloads\\\\cv2_Task1.ipynb'"
      ]
     },
     "execution_count": 117,
     "metadata": {},
     "output_type": "execute_result"
    }
   ],
   "source": [
    "direc=r'C:\\Users\\Reyyan Saeed\\Downloads'\n",
    "\n",
    "\n",
    "most_recent_file = None\n",
    "most_recent_time = 0\n",
    "for root, dirs, files in os.walk(direc):\n",
    "    for file in files:\n",
    "        file_path = os.path.join(root, file)\n",
    "        mtime = os.path.getmtime(file_path)\n",
    "        if mtime > most_recent_time:\n",
    "            most_recent_time = mtime\n",
    "            most_recent_file = file_path\n",
    "most_recent_file            "
   ]
  },
  {
   "cell_type": "code",
   "execution_count": null,
   "id": "0ab3825a-334a-4720-a341-f0ea1543e7d0",
   "metadata": {},
   "outputs": [],
   "source": []
  },
  {
   "cell_type": "code",
   "execution_count": null,
   "id": "96b7d7a2-9ca3-41b0-9a2d-1c25512f9d40",
   "metadata": {},
   "outputs": [],
   "source": []
  },
  {
   "cell_type": "code",
   "execution_count": null,
   "id": "e93ae0bf-78d0-4fb0-8a3e-df9e29b0596c",
   "metadata": {},
   "outputs": [],
   "source": []
  },
  {
   "cell_type": "markdown",
   "id": "5791d390-e204-4c7a-8169-792bf6d02fd1",
   "metadata": {
    "jp-MarkdownHeadingCollapsed": true
   },
   "source": [
    "\n",
    "# glob module – Pattern Matching\n",
    "\n",
    "**Q:1 List all .csv and .json files in the current directory.**\n",
    "\n",
    "**Q:2 Recursively find all .jpg files in nested folders.**\n",
    "\n",
    "**Q:3 Use glob to count files grouped by extension.**\n",
    "\n",
    "**Q:4 Find files with names matching pattern report_*.txt.**\n",
    "\n",
    "**Q:5 Replace spaces with underscores in filenames found via glob.**\n",
    "\n",
    "**Q:6 Return all files with a date in the format 2025-06-*.log.**\n",
    "\n",
    "**Q:7 List all files with numeric names only (e.g., 123.txt).**\n",
    "\n",
    "**Q:8 Use glob to sort files by last modified time.**\n",
    "\n",
    "**Q:9 Find all .txt files larger than 100KB using glob and os.**\n",
    "\n",
    "**Q:10 Batch rename files with a custom suffix _archived.**\n",
    "\n",
    "**Q:11 Create a utility that indexes all media files and stores the paths in a SQLite DB.**\n",
    "\n",
    "**Q:12 Find duplicate filenames (regardless of path) across a directory tree.**\n",
    "\n",
    "**Q:13 Generate a file manifest with relative paths and hash (MD5) of contents.**\n",
    "\n",
    "**Q14: Use glob patterns dynamically to extract weekly reports (e.g., week_01.json, week_02.json).**\n",
    "\n",
    "**Q:15 Write a recursive file crawler that ignores folders listed in a .ignore file.**\n"
   ]
  },
  {
   "cell_type": "code",
   "execution_count": 3,
   "id": "e086f083-8cf2-409a-99bc-423710252c8b",
   "metadata": {},
   "outputs": [],
   "source": [
    "import glob\n",
    "csv_files = glob.glob(\"*.csv\")\n",
    "json_files = glob.glob(\"*.json\")\n",
    "    \n",
    "all_files = csv_files + json_files\n",
    "for file in sorted(all_files):\n",
    "    print(f\"  {file}\")"
   ]
  },
  {
   "cell_type": "code",
   "execution_count": 154,
   "id": "645efcb6-eb26-4e68-b757-768e461d75d2",
   "metadata": {},
   "outputs": [],
   "source": [
    "files = glob.glob('Desktop/hello/**/*.txt', \n",
    "                   recursive = True)\n",
    "for file in files:\n",
    "    print(file)"
   ]
  },
  {
   "cell_type": "code",
   "execution_count": 6,
   "id": "7960eb22-6d5a-478d-ae2b-7313d61d601f",
   "metadata": {},
   "outputs": [
    {
     "data": {
      "text/plain": [
       "0"
      ]
     },
     "execution_count": 6,
     "metadata": {},
     "output_type": "execute_result"
    }
   ],
   "source": [
    "csv_files = glob.glob(\"*.csv\")\n",
    "count=0\n",
    "for i in csv_files:\n",
    "    count+=1\n",
    "count"
   ]
  },
  {
   "cell_type": "code",
   "execution_count": 11,
   "id": "6581ba6c-a002-4d46-91bd-1f7953f24f03",
   "metadata": {},
   "outputs": [],
   "source": [
    "for item in glob.glob(\"report*.docx\"):\n",
    "    print(item)"
   ]
  },
  {
   "cell_type": "code",
   "execution_count": 19,
   "id": "a5ddb88a-132e-44ad-98a7-ef2889b90fc4",
   "metadata": {},
   "outputs": [
    {
     "data": {
      "text/plain": [
       "['Downloads\\\\22i1959_resume.txt',\n",
       " 'Downloads\\\\22l7480.txt',\n",
       " 'Downloads\\\\account_approval.txt',\n",
       " 'Downloads\\\\admins.txt',\n",
       " 'Downloads\\\\admins_(1).txt',\n",
       " 'Downloads\\\\admins_(2).txt',\n",
       " 'Downloads\\\\admins_(3).txt',\n",
       " 'Downloads\\\\AI_Lab_Final_Cheat_Code.txt',\n",
       " 'Downloads\\\\AI_Lab_Final_Cheat_Code_Expanded.txt',\n",
       " 'Downloads\\\\Bidding_READ_ME.txt',\n",
       " 'Downloads\\\\Bidding_SETUP-Code.txt',\n",
       " 'Downloads\\\\candy.txt',\n",
       " 'Downloads\\\\cards.txt',\n",
       " 'Downloads\\\\cards_(1).txt',\n",
       " 'Downloads\\\\companies.txt',\n",
       " 'Downloads\\\\companies_(1).txt',\n",
       " 'Downloads\\\\company_employees.txt',\n",
       " 'Downloads\\\\company_employees_(1).txt',\n",
       " 'Downloads\\\\cube.txt',\n",
       " 'Downloads\\\\disapproved_accounts.txt',\n",
       " 'Downloads\\\\disapproved_accounts_(1).txt',\n",
       " 'Downloads\\\\english_report.txt',\n",
       " 'Downloads\\\\glove.6B.100d.txt',\n",
       " 'Downloads\\\\ideology_report.txt',\n",
       " 'Downloads\\\\I_am_a_Senior_Data_Scientist_with_e.txt',\n",
       " 'Downloads\\\\L22-7485.txt',\n",
       " 'Downloads\\\\new.txt',\n",
       " 'Downloads\\\\q1.txt',\n",
       " 'Downloads\\\\Q1_(1).txt',\n",
       " 'Downloads\\\\Seerah_report.txt',\n",
       " 'Downloads\\\\Text_File.txt',\n",
       " 'Downloads\\\\users.txt',\n",
       " 'Downloads\\\\users_(1).txt']"
      ]
     },
     "execution_count": 19,
     "metadata": {},
     "output_type": "execute_result"
    }
   ],
   "source": [
    "import os\n",
    "file_pattern = os.path.join('Downloads/', '*.txt')\n",
    "files_to_rename = glob.glob(file_pattern)\n",
    "for old_file in files_to_rename:\n",
    "    base=os.path.basename(old_file)\n",
    "    if ' ' in base:\n",
    "        new_base=base.replace(' ', '_')\n",
    "    else:\n",
    "        new_base=os.path.basename(old_file)\n",
    "    new_path=os.path.join(os.path.dirname(old_file),new_base)    \n",
    "    os.rename(old_file,new_path)\n",
    "files_to_rename = glob.glob(file_pattern)   \n",
    "files_to_rename"
   ]
  },
  {
   "cell_type": "code",
   "execution_count": null,
   "id": "ce6944a2-6a7e-4f31-a1d3-ea519703ddf0",
   "metadata": {},
   "outputs": [],
   "source": [
    "for item in glob.glob(\"*\"):\n",
    "    print(item)"
   ]
  },
  {
   "cell_type": "code",
   "execution_count": 4,
   "id": "e02f22be-8e15-4438-b6f0-89171f2cbd55",
   "metadata": {},
   "outputs": [
    {
     "name": "stdout",
     "output_type": "stream",
     "text": [
      "['Downloads\\\\3. Geopolitical Significance of Pakistan.pptx', 'Downloads\\\\3.cpp', 'Downloads\\\\5. drinks.xlsx', 'Downloads\\\\6. Dataset.xlsx', 'Downloads\\\\6. Datasetjh.xlsx']\n"
     ]
    }
   ],
   "source": [
    "print(glob.glob(\"Downloads/[0-9].*\"))"
   ]
  },
  {
   "cell_type": "code",
   "execution_count": 12,
   "id": "1347debe-d3e6-435c-9419-7c83319ea167",
   "metadata": {},
   "outputs": [
    {
     "data": {
      "text/plain": [
       "['Downloads\\\\Bidding_SETUP-Code.txt',\n",
       " 'Downloads\\\\Bidding_READ_ME.txt',\n",
       " 'Downloads\\\\ideology_report.txt',\n",
       " 'Downloads\\\\Seerah_report.txt',\n",
       " 'Downloads\\\\english_report.txt',\n",
       " 'Downloads\\\\AI_Lab_Final_Cheat_Code_Expanded.txt',\n",
       " 'Downloads\\\\AI_Lab_Final_Cheat_Code.txt',\n",
       " 'Downloads\\\\glove.6B.100d.txt',\n",
       " 'Downloads\\\\I_am_a_Senior_Data_Scientist_with_e.txt',\n",
       " 'Downloads\\\\cube.txt',\n",
       " 'Downloads\\\\candy.txt',\n",
       " 'Downloads\\\\L22-7485.txt',\n",
       " 'Downloads\\\\Q1_(1).txt',\n",
       " 'Downloads\\\\admins_(3).txt',\n",
       " 'Downloads\\\\admins_(2).txt',\n",
       " 'Downloads\\\\cards_(1).txt',\n",
       " 'Downloads\\\\cards.txt',\n",
       " 'Downloads\\\\disapproved_accounts_(1).txt',\n",
       " 'Downloads\\\\companies_(1).txt',\n",
       " 'Downloads\\\\disapproved_accounts.txt',\n",
       " 'Downloads\\\\companies.txt',\n",
       " 'Downloads\\\\company_employees_(1).txt',\n",
       " 'Downloads\\\\company_employees.txt',\n",
       " 'Downloads\\\\users_(1).txt',\n",
       " 'Downloads\\\\admins_(1).txt',\n",
       " 'Downloads\\\\users.txt',\n",
       " 'Downloads\\\\admins.txt',\n",
       " 'Downloads\\\\account_approval.txt',\n",
       " 'Downloads\\\\new.txt',\n",
       " 'Downloads\\\\22l7480.txt',\n",
       " 'Downloads\\\\q1.txt',\n",
       " 'Downloads\\\\Text_File.txt',\n",
       " 'Downloads\\\\22i1959_resume.txt']"
      ]
     },
     "execution_count": 12,
     "metadata": {},
     "output_type": "execute_result"
    }
   ],
   "source": [
    "import os\n",
    "files = glob.glob(\"Downloads/*.txt\")\n",
    "files.sort(key=os.path.getmtime, reverse=True)\n",
    "files"
   ]
  },
  {
   "cell_type": "code",
   "execution_count": 18,
   "id": "3a4d87d4-a7ea-4926-b1f6-98b57ef14353",
   "metadata": {},
   "outputs": [
    {
     "name": "stdout",
     "output_type": "stream",
     "text": [
      "Downloads\\22i1959_resume.txt\n",
      "Downloads\\22l7480.txt\n",
      "Downloads\\AI_Lab_Final_Cheat_Code.txt\n",
      "Downloads\\AI_Lab_Final_Cheat_Code_Expanded.txt\n",
      "Downloads\\Bidding_READ_ME.txt\n",
      "Downloads\\Bidding_SETUP-Code.txt\n",
      "Downloads\\candy.txt\n",
      "Downloads\\cube.txt\n",
      "Downloads\\english_report.txt\n",
      "Downloads\\ideology_report.txt\n",
      "Downloads\\I_am_a_Senior_Data_Scientist_with_e.txt\n",
      "Downloads\\L22-7485.txt\n",
      "Downloads\\new.txt\n",
      "Downloads\\q1.txt\n",
      "Downloads\\Q1_(1).txt\n",
      "Downloads\\Seerah_report.txt\n",
      "Downloads\\Text_File.txt\n"
     ]
    }
   ],
   "source": [
    "files = glob.glob(\"Downloads/*.txt\")\n",
    "for file in files:\n",
    "    file_size=os.path.getsize(file)\n",
    "    if file_size>100:\n",
    "        print(file)"
   ]
  },
  {
   "cell_type": "code",
   "execution_count": null,
   "id": "e6c8c4f5-ccca-4503-ab99-41e81d18576b",
   "metadata": {},
   "outputs": [],
   "source": []
  },
  {
   "cell_type": "code",
   "execution_count": 160,
   "id": "7ee706df-4370-4da5-a142-b95c9437caca",
   "metadata": {},
   "outputs": [],
   "source": [
    "import sqlite3\n",
    "import os\n",
    "conn = sqlite3.connect('media.db')\n",
    "conn.execute('CREATE TABLE IF NOT EXISTS files (path TEXT)')\n",
    "for root, dirs, files in os.walk('.'):\n",
    "    for file in files:\n",
    "        if file.endswith(('.jpg', '.mp4', '.mp3')):\n",
    "            conn.execute('INSERT INTO files VALUES (?)', (os.path.join(root, file),))\n",
    "conn.commit()"
   ]
  },
  {
   "cell_type": "code",
   "execution_count": 164,
   "id": "e9009881-91b6-499d-be9e-5b00becf893f",
   "metadata": {},
   "outputs": [
    {
     "data": {
      "text/plain": [
       "{'desktop.ini': ['.\\\\desktop.ini',\n",
       "  '.\\\\AccountPictures\\\\desktop.ini',\n",
       "  '.\\\\Desktop\\\\desktop.ini',\n",
       "  '.\\\\Documents\\\\desktop.ini',\n",
       "  '.\\\\Downloads\\\\desktop.ini',\n",
       "  '.\\\\Libraries\\\\desktop.ini',\n",
       "  '.\\\\Music\\\\desktop.ini',\n",
       "  '.\\\\Pictures\\\\desktop.ini',\n",
       "  '.\\\\Videos\\\\desktop.ini']}"
      ]
     },
     "execution_count": 164,
     "metadata": {},
     "output_type": "execute_result"
    }
   ],
   "source": [
    "from collections import defaultdict\n",
    "filenames = defaultdict(list)\n",
    "for root, dirs, files in os.walk('.'):\n",
    "    for file in files:\n",
    "        filenames[file].append(os.path.join(root, file))\n",
    "duplicates = {k: v for k, v in filenames.items() if len(v) > 1}\n",
    "duplicates"
   ]
  },
  {
   "cell_type": "code",
   "execution_count": 166,
   "id": "f453d529",
   "metadata": {},
   "outputs": [
    {
     "data": {
      "text/plain": [
       "'data.csv 284ecc058763267f8fd3e21e0e5133a6\\ndesktop.ini 7220fad57a4b3d9d9755c51198cc0386\\njson_nested.json 5d1790129bf20b37eb6dbcf016bea2db\\nmanif.txt d41d8cd98f00b204e9800998ecf8427e\\nmedia.db e039e405a8a9168d28c03139436464ec\\nstore.json 5a7197614959164256cf58a2df5e3528\\nAccountPictures\\\\desktop.ini 2971c89bfb3b06e591694b9a78e467b9\\nAccountPictures\\\\S-1-5-21-2854992968-1567563288-1470518954-1001\\\\{41B202A4-8925-4741-B7DE-DA297FE1F05A}-Image1080.jpg fa27b7be60edec9c81c93f6ac5e01a53\\nAccountPictures\\\\S-1-5-21-2854992968-1567563288-1470518954-1001\\\\{41B202A4-8925-4741-B7DE-DA297FE1F05A}-Image192.jpg f3e19ecde854637925c119dafe5ba145\\nAccountPictures\\\\S-1-5-21-2854992968-1567563288-1470518954-1001\\\\{41B202A4-8925-4741-B7DE-DA297FE1F05A}-Image208.jpg 59d2c0a2f2d6de7806bc8a2964d2c5bc\\nAccountPictures\\\\S-1-5-21-2854992968-1567563288-1470518954-1001\\\\{41B202A4-8925-4741-B7DE-DA297FE1F05A}-Image240.jpg af5c1161eff1a422f67e49351c281292\\nAccountPictures\\\\S-1-5-21-2854992968-1567563288-1470518954-1001\\\\{41B202A4-8925-4741-B7DE-DA297FE1F05A}-Image32.jpg d82bb5954dfe7975b91419c46ccc830a\\nAccountPictures\\\\S-1-5-21-2854992968-1567563288-1470518954-1001\\\\{41B202A4-8925-4741-B7DE-DA297FE1F05A}-Image40.jpg 79027b08a36120df6390eaf4b21c4de3\\nAccountPictures\\\\S-1-5-21-2854992968-1567563288-1470518954-1001\\\\{41B202A4-8925-4741-B7DE-DA297FE1F05A}-Image424.jpg f50b4805cc01c0e20aac5e643a5c653b\\nAccountPictures\\\\S-1-5-21-2854992968-1567563288-1470518954-1001\\\\{41B202A4-8925-4741-B7DE-DA297FE1F05A}-Image448.jpg 8c7f2fcdeaf6870a5136a5f3453a5c97\\nAccountPictures\\\\S-1-5-21-2854992968-1567563288-1470518954-1001\\\\{41B202A4-8925-4741-B7DE-DA297FE1F05A}-Image48.jpg 680080c74a2110d624a27f4385d7a94a\\nAccountPictures\\\\S-1-5-21-2854992968-1567563288-1470518954-1001\\\\{41B202A4-8925-4741-B7DE-DA297FE1F05A}-Image64.jpg c8e08690a55160071936bc512da15cdf\\nAccountPictures\\\\S-1-5-21-2854992968-1567563288-1470518954-1001\\\\{41B202A4-8925-4741-B7DE-DA297FE1F05A}-Image96.jpg 9f704c62b2a59aea3a15b1e3b7f671f3\\nDesktop\\\\3uTools(32bit).lnk 86a730171e2bad68ec3ffee4d76c5ca6\\nDesktop\\\\DataSpell 2023.2.1.lnk fb7b30106c440e16833d826a793a0350\\nDesktop\\\\desktop.ini dc723b859dec1526568ad581aec334d5\\nDesktop\\\\DOSBox 0.74-3.lnk 4fed8ca7db8b0821d7743a50a4866bbc\\nDesktop\\\\Driver Easy.lnk 1e6ef571caac44da395482f3ff4a2b39\\nDesktop\\\\Macrium Reflect.lnk 51fc500064781a76a26bbf76ffa5ab2d\\nDesktop\\\\Microsoft Edge.lnk 78873a237a42c16e1806d678ad0f0683\\nDesktop\\\\MinGW Installer.lnk 82f1e05bf68f29df6cbaf513f6f21229\\nDesktop\\\\Oracle VM VirtualBox.lnk 1e6fa2306f49e7c8d336caeca40d6957\\nDesktop\\\\Pentablet.lnk 6c71fa661aec5e1d5509ab6e1c44b183\\nDesktop\\\\Steam.lnk d791dd2cfdadd19f71283d47844a25f4\\nDesktop\\\\Tableau Public 2024.3.lnk a189fd749c1aa970410a67e2ce049b23\\nDocuments\\\\desktop.ini ec659b643b3dc5a57dafa797bbc83871\\nDocuments\\\\Steam\\\\CODEX\\\\847370\\\\achievements.ini 7ebba17ad01ef8b82fe01c5a15a31634\\nDocuments\\\\Steam\\\\CODEX\\\\847370\\\\leaderboards.ini d03f6a84b07a97dd09a27efb9acd8d1d\\nDownloads\\\\desktop.ini 81594cbb270b4099912612cd3c20306a\\nLibraries\\\\desktop.ini 203abc35ee1b804c770321d392cac58c\\nLibraries\\\\RecordedTV.library-ms 793ae915ab19520cb3508630b51e289e\\nMusic\\\\desktop.ini 48f5ac70aaedafe403b362e41da1e1d6\\nPictures\\\\desktop.ini 2f145cca0196fb928ee5656f2cfc2934\\nVideos\\\\desktop.ini 582bd0facb013808c1c4804d894cd9fd\\n'"
      ]
     },
     "execution_count": 166,
     "metadata": {},
     "output_type": "execute_result"
    }
   ],
   "source": [
    "import hashlib\n",
    "with open('manif.txt', 'w') as manif:\n",
    "    for root, dirs, files in os.walk('.'):\n",
    "        for file in files:\n",
    "            path = os.path.join(root, file)\n",
    "            with open(path, 'rb') as f:\n",
    "                md5 = hashlib.md5(f.read()).hexdigest()\n",
    "            rel_path = os.path.relpath(path)\n",
    "            manif.write(f\"{rel_path} {md5}\\n\")\n",
    "with open('manif.txt','r') as f:\n",
    "    content=f.read()\n",
    "content\n",
    "            "
   ]
  },
  {
   "cell_type": "code",
   "execution_count": 165,
   "id": "6bf8902d-f3a0-48ad-becb-b99163059561",
   "metadata": {},
   "outputs": [],
   "source": [
    "import glob\n",
    "weekly_reports = glob.glob('week_*.json')\n",
    "for report in sorted(weekly_reports):\n",
    "    print(f\"Processing {report}\")"
   ]
  },
  {
   "cell_type": "code",
   "execution_count": null,
   "id": "04b33b98-b54f-4513-a552-da8cdd53c97c",
   "metadata": {},
   "outputs": [],
   "source": []
  },
  {
   "cell_type": "code",
   "execution_count": null,
   "id": "c5eca2f0-33d0-4cff-bc46-04ef2ec87b31",
   "metadata": {},
   "outputs": [],
   "source": []
  },
  {
   "cell_type": "markdown",
   "id": "11836593-dc92-44d0-953c-46ac17571473",
   "metadata": {
    "jp-MarkdownHeadingCollapsed": true
   },
   "source": [
    "\n",
    "# File Handling – Text & Binary Files\n",
    "\n",
    "**Q:1 Count the number of lines in a file without loading it entirely.**\n",
    "\n",
    "**Q:2 Replace a specific word in a file and save it to a new file.**\n",
    "\n",
    "**Q:3 Append data to an existing file with a timestamp.**\n",
    "\n",
    "**Q:4 Read and print the first 10 lines of a file.**\n",
    "\n",
    "**Q:5 Write a list of dictionaries as CSV manually (without csv module).**\n",
    "\n",
    "**Q:6 Copy a binary file in chunks (e.g., image or PDF).**\n",
    "\n",
    "**Q:7 Write a function to compare two files and print the differing lines.**\n",
    "\n",
    "**Q:8 Safely read a file that may not exist using try-except.**\n",
    "\n",
    "**Q:9 Read a file using a specific encoding (e.g., UTF-16).**\n",
    "\n",
    "**Q:10 Detect and skip empty lines when reading a file.**\n",
    "\n",
    "**Q:11 Implement a log rotation mechanism: create log.txt, log_1.txt, etc. when size exceeds 1MB.**\n",
    "\n",
    "**Q:12 Build a file-based key-value store using JSON per line.**\n",
    "\n",
    "**Q:13 Implement version control: on every write, back up the previous version with a timestamp.**\n",
    "\n",
    "**Q:14 Create a reader that detects encoding using chardet or fallback encoding.**\n",
    "\n",
    "**Q:15 Convert a large log file into separate files per date based on timestamps in each line.**\n"
   ]
  },
  {
   "cell_type": "code",
   "execution_count": 86,
   "id": "cd9fca21-d1a6-43c9-a323-ac90a2d11f00",
   "metadata": {},
   "outputs": [
    {
     "data": {
      "text/plain": [
       "62"
      ]
     },
     "execution_count": 86,
     "metadata": {},
     "output_type": "execute_result"
    }
   ],
   "source": [
    "count = 0\n",
    "fil='calculus_report.docx'\n",
    "with open(fil, 'r') as f:\n",
    "    for line in f:\n",
    "        count += 1\n",
    "count     "
   ]
  },
  {
   "cell_type": "code",
   "execution_count": 89,
   "id": "973c8888-d4f2-4ef3-a557-935b1c0153f9",
   "metadata": {},
   "outputs": [
    {
     "data": {
      "text/plain": [
       "'import random\\n\\nW = 15\\nprofit = [10, 40, 30, 50, 35, 40, 30, 60, 45, 55]\\nweight = [5, 4, 6, 3, 7, 8, 6, 2, 9, 10]\\n\\npopulation_size = 10\\ngenerations = 100\\ncrossover_rate = 0.8\\nmutation_rate = 0.1\\n\\ndef initialize_population():\\n    return [[random.randint(0, 1) for _ in range(len(profit))] for _ in range(population_size)]\\n\\n#Calc total profit if weight constraint is satisfied\\ndef fitness(individual):\\n    total_profit = sum(p * i for p, i in zip(profit, individual))\\n    total_weight = sum(w * i for w, i in zip(weight, individual))\\n    if total_weight > W:\\n        return 0\\n    return total_profit\\n\\n#roulette wheel\\ndef select(population):\\n    fitness_values = [fitness(ind) for ind in population]\\n    total_fitness = sum(fitness_values)\\n    if total_fitness == 0:\\n        return random.choice(population)\\n    probabilities = [f / total_fitness for f in fitness_values]\\n    return population[random.choices(range(len(population)), probabilities)[0]]\\n\\n#single point\\ndef crossover(parent1, parent2):\\n    if random.random() < crossover_rate:\\n        point = random.randint(1, len(parent1) - 1)\\n        return parent1[:point] + parent2[point:], parent2[:point] + parent1[point:]\\n    return parent1, parent2\\n\\n#flip bits\\ndef mutate(individual):\\n    for i in range(len(individual)):\\n        if random.random() < mutation_rate:\\n            individual[i] = 1 - individual[i]\\n\\ndef genetic_algorithm():\\n    population = initialize_population()\\n    for _ in range(generations):\\n        new_population = []\\n        for _ in range(population_size // 2):\\n            parent1 = select(population)\\n            parent2 = select(population)\\n            offspring1, offspring2 = crossover(parent1, parent2)\\n            mutate(offspring1)\\n            mutate(offspring2)\\n            new_population.extend([offspring1, offspring2])\\n        population = new_population\\n    best_individual = max(population, key=fitness)\\n    return best_individual, fitness(best_individual)\\n\\nbest_solution, best_profit = genetic_algorithm()\\nprint(\"Best solution:\", best_solution)\\nprint(\"Best profit:\", best_profit)'"
      ]
     },
     "execution_count": 89,
     "metadata": {},
     "output_type": "execute_result"
    }
   ],
   "source": [
    "with open(fil, 'r') as f:\n",
    "    content = f.read()\n",
    "content = content.replace('python', 'snake')\n",
    "with open('ofile1.txt', 'w') as f:\n",
    "    f.write(content)\n",
    "with open('ofile1.txt', 'r') as f:\n",
    "    content = f.read()\n",
    "content    "
   ]
  },
  {
   "cell_type": "code",
   "execution_count": 97,
   "id": "0366559c-111f-43cd-b9cf-d5a0a57951ac",
   "metadata": {},
   "outputs": [
    {
     "data": {
      "text/plain": [
       "'Appended this Appended this Appended this Appended this Appended this Appended this Appended this Appended this 06/26/2025, 02:16:03'"
      ]
     },
     "execution_count": 97,
     "metadata": {},
     "output_type": "execute_result"
    }
   ],
   "source": [
    "from datetime import datetime\n",
    "with open('sample.txt','a') as a:\n",
    "    a.write('Appended this ')\n",
    "    date=datetime.now()\n",
    "    time=date.strftime(\"%m/%d/%Y, %H:%M:%S\")\n",
    "    a.write(time)\n",
    "with open('sample.txt','r') as f:\n",
    "    content=f.read()\n",
    "content    \n",
    "    "
   ]
  },
  {
   "cell_type": "code",
   "execution_count": 102,
   "id": "5aeb7999-c659-452c-a71f-7f49ca9f1893",
   "metadata": {},
   "outputs": [
    {
     "name": "stdout",
     "output_type": "stream",
     "text": [
      "import random\n",
      "\n",
      "\n",
      "\n",
      "W = 15\n",
      "\n",
      "profit = [10, 40, 30, 50, 35, 40, 30, 60, 45, 55]\n",
      "\n",
      "weight = [5, 4, 6, 3, 7, 8, 6, 2, 9, 10]\n",
      "\n",
      "\n",
      "\n",
      "population_size = 10\n",
      "\n",
      "generations = 100\n",
      "\n",
      "crossover_rate = 0.8\n",
      "\n",
      "mutation_rate = 0.1\n",
      "\n",
      "\n",
      "\n",
      "def initialize_population():\n",
      "\n",
      "    return [[random.randint(0, 1) for _ in range(len(profit))] for _ in range(population_size)]\n",
      "\n",
      "\n",
      "\n",
      "#Calc total profit if weight constraint is satisfied\n",
      "\n",
      "def fitness(individual):\n",
      "\n",
      "    total_profit = sum(p * i for p, i in zip(profit, individual))\n",
      "\n",
      "    total_weight = sum(w * i for w, i in zip(weight, individual))\n",
      "\n",
      "    if total_weight > W:\n",
      "\n",
      "        return 0\n",
      "\n",
      "    return total_profit\n",
      "\n",
      "\n",
      "\n",
      "#roulette wheel\n",
      "\n",
      "def select(population):\n",
      "\n",
      "    fitness_values = [fitness(ind) for ind in population]\n",
      "\n",
      "    total_fitness = sum(fitness_values)\n",
      "\n",
      "    if total_fitness == 0:\n",
      "\n",
      "        return random.choice(population)\n",
      "\n",
      "    probabilities = [f / total_fitness for f in fitness_values]\n",
      "\n",
      "    return population[random.choices(range(len(population)), probabilities)[0]]\n",
      "\n",
      "\n",
      "\n",
      "#single point\n",
      "\n",
      "def crossover(parent1, parent2):\n",
      "\n",
      "    if random.random() < crossover_rate:\n",
      "\n",
      "        point = random.randint(1, len(parent1) - 1)\n",
      "\n",
      "        return parent1[:point] + parent2[point:], parent2[:point] + parent1[point:]\n",
      "\n",
      "    return parent1, parent2\n",
      "\n",
      "\n",
      "\n",
      "#flip bits\n",
      "\n",
      "def mutate(individual):\n",
      "\n",
      "    for i in range(len(individual)):\n",
      "\n",
      "        if random.random() < mutation_rate:\n",
      "\n",
      "            individual[i] = 1 - individual[i]\n",
      "\n",
      "\n",
      "\n",
      "def genetic_algorithm():\n",
      "\n",
      "    population = initialize_population()\n",
      "\n",
      "    for _ in range(generations):\n",
      "\n",
      "        new_population = []\n",
      "\n",
      "        for _ in range(population_size // 2):\n",
      "\n",
      "            parent1 = select(population)\n",
      "\n",
      "            parent2 = select(population)\n",
      "\n",
      "            offspring1, offspring2 = crossover(parent1, parent2)\n",
      "\n",
      "            mutate(offspring1)\n",
      "\n",
      "            mutate(offspring2)\n",
      "\n",
      "            new_population.extend([offspring1, offspring2])\n",
      "\n",
      "        population = new_population\n",
      "\n",
      "    best_individual = max(population, key=fitness)\n",
      "\n",
      "    return best_individual, fitness(best_individual)\n",
      "\n",
      "\n",
      "\n",
      "best_solution, best_profit = genetic_algorithm()\n",
      "\n",
      "print(\"Best solution:\", best_solution)\n",
      "\n",
      "print(\"Best profit:\", best_profit)\n"
     ]
    }
   ],
   "source": [
    "fil='calculus_report.docx'\n",
    "with open(fil, 'r') as f:\n",
    "    for line in f:\n",
    "        if count==10:\n",
    "            break\n",
    "        else:    \n",
    "            count += 1\n",
    "            print(line)"
   ]
  },
  {
   "cell_type": "code",
   "execution_count": 142,
   "id": "53751a3c-9427-4fe1-97b4-ecc3646dd2b6",
   "metadata": {},
   "outputs": [],
   "source": [
    "data = [{'name': 'Shehroz', 'age': 25}, {'name': 'Reyyan', 'age': 22}]\n",
    "with open('data.csv', 'w') as f:\n",
    "    f.write(','.join(data[0].keys()) + '\\n')\n",
    "    for row in data:\n",
    "        f.write(','.join(str(v) for v in row.values()) + '\\n')\n",
    "        "
   ]
  },
  {
   "cell_type": "code",
   "execution_count": 155,
   "id": "f66f88dd-9e32-44fa-acc1-d5099df1cfea",
   "metadata": {},
   "outputs": [
    {
     "ename": "FileNotFoundError",
     "evalue": "[Errno 2] No such file or directory: 'file1.txt'",
     "output_type": "error",
     "traceback": [
      "\u001b[1;31m---------------------------------------------------------------------------\u001b[0m",
      "\u001b[1;31mFileNotFoundError\u001b[0m                         Traceback (most recent call last)",
      "Cell \u001b[1;32mIn[155], line 1\u001b[0m\n\u001b[1;32m----> 1\u001b[0m \u001b[38;5;28;01mwith\u001b[39;00m \u001b[38;5;28mopen\u001b[39m(\u001b[38;5;124m'\u001b[39m\u001b[38;5;124mfile1.txt\u001b[39m\u001b[38;5;124m'\u001b[39m, \u001b[38;5;124m'\u001b[39m\u001b[38;5;124mr\u001b[39m\u001b[38;5;124m'\u001b[39m) \u001b[38;5;28;01mas\u001b[39;00m f1, \u001b[38;5;28mopen\u001b[39m(\u001b[38;5;124m'\u001b[39m\u001b[38;5;124mfile2.txt\u001b[39m\u001b[38;5;124m'\u001b[39m, \u001b[38;5;124m'\u001b[39m\u001b[38;5;124mr\u001b[39m\u001b[38;5;124m'\u001b[39m) \u001b[38;5;28;01mas\u001b[39;00m f2:\n\u001b[0;32m      2\u001b[0m     \u001b[38;5;28;01mfor\u001b[39;00m i, (line1, line2) \u001b[38;5;129;01min\u001b[39;00m \u001b[38;5;28menumerate\u001b[39m(\u001b[38;5;28mzip\u001b[39m(f1, f2), \u001b[38;5;241m1\u001b[39m):\n\u001b[0;32m      3\u001b[0m         \u001b[38;5;28;01mif\u001b[39;00m line1 \u001b[38;5;241m!=\u001b[39m line2:\n",
      "File \u001b[1;32mC:\\ProgramData\\anaconda3\\Lib\\site-packages\\IPython\\core\\interactiveshell.py:284\u001b[0m, in \u001b[0;36m_modified_open\u001b[1;34m(file, *args, **kwargs)\u001b[0m\n\u001b[0;32m    277\u001b[0m \u001b[38;5;28;01mif\u001b[39;00m file \u001b[38;5;129;01min\u001b[39;00m {\u001b[38;5;241m0\u001b[39m, \u001b[38;5;241m1\u001b[39m, \u001b[38;5;241m2\u001b[39m}:\n\u001b[0;32m    278\u001b[0m     \u001b[38;5;28;01mraise\u001b[39;00m \u001b[38;5;167;01mValueError\u001b[39;00m(\n\u001b[0;32m    279\u001b[0m         \u001b[38;5;124mf\u001b[39m\u001b[38;5;124m\"\u001b[39m\u001b[38;5;124mIPython won\u001b[39m\u001b[38;5;124m'\u001b[39m\u001b[38;5;124mt let you open fd=\u001b[39m\u001b[38;5;132;01m{\u001b[39;00mfile\u001b[38;5;132;01m}\u001b[39;00m\u001b[38;5;124m by default \u001b[39m\u001b[38;5;124m\"\u001b[39m\n\u001b[0;32m    280\u001b[0m         \u001b[38;5;124m\"\u001b[39m\u001b[38;5;124mas it is likely to crash IPython. If you know what you are doing, \u001b[39m\u001b[38;5;124m\"\u001b[39m\n\u001b[0;32m    281\u001b[0m         \u001b[38;5;124m\"\u001b[39m\u001b[38;5;124myou can use builtins\u001b[39m\u001b[38;5;124m'\u001b[39m\u001b[38;5;124m open.\u001b[39m\u001b[38;5;124m\"\u001b[39m\n\u001b[0;32m    282\u001b[0m     )\n\u001b[1;32m--> 284\u001b[0m \u001b[38;5;28;01mreturn\u001b[39;00m io_open(file, \u001b[38;5;241m*\u001b[39margs, \u001b[38;5;241m*\u001b[39m\u001b[38;5;241m*\u001b[39mkwargs)\n",
      "\u001b[1;31mFileNotFoundError\u001b[0m: [Errno 2] No such file or directory: 'file1.txt'"
     ]
    }
   ],
   "source": [
    "with open('file1.txt', 'r') as f1, open('file2.txt', 'r') as f2:\n",
    "    for i, (line1, line2) in enumerate(zip(f1, f2), 1):\n",
    "        if line1 != line2:\n",
    "            print(f\"Line {i}:'{line1.strip()}' vs '{line2.strip()}'\")"
   ]
  },
  {
   "cell_type": "code",
   "execution_count": 151,
   "id": "03611855-540e-4c06-b88a-9818bd7c4e1f",
   "metadata": {},
   "outputs": [
    {
     "data": {
      "text/plain": [
       "'File not found'"
      ]
     },
     "execution_count": 151,
     "metadata": {},
     "output_type": "execute_result"
    }
   ],
   "source": [
    "try:\n",
    "    with open('file2.txt', 'r') as f:\n",
    "        content = f.read()\n",
    "except FileNotFoundError:\n",
    "    content = \"File not found\"\n",
    "content    "
   ]
  },
  {
   "cell_type": "code",
   "execution_count": null,
   "id": "cd9c5d25-b370-48a7-b94d-5d0cf1c2747e",
   "metadata": {},
   "outputs": [],
   "source": [
    "with open('file.txt', 'r', encoding='utf-16') as f:\n",
    "    content = f.read()"
   ]
  },
  {
   "cell_type": "code",
   "execution_count": null,
   "id": "e0ec443e-67c2-4aae-bf45-61348919674a",
   "metadata": {},
   "outputs": [],
   "source": [
    "with open('file.txt', 'r') as f:\n",
    "    lines = [line.strip() for line in f if line.strip()]\n"
   ]
  },
  {
   "cell_type": "code",
   "execution_count": null,
   "id": "9711969f-5301-4867-b7b9-dba59247ca48",
   "metadata": {},
   "outputs": [],
   "source": []
  },
  {
   "cell_type": "code",
   "execution_count": 152,
   "id": "432c9462-d5ca-4f95-953c-15c9c7136de9",
   "metadata": {},
   "outputs": [],
   "source": [
    "import json\n",
    "with open('store.json', 'a') as f:\n",
    "    json.dump({'key': 'value'}, f)\n",
    "    f.write('\\n')"
   ]
  },
  {
   "cell_type": "code",
   "execution_count": null,
   "id": "80361657-7f56-4534-b5f6-b7eee56ecc67",
   "metadata": {},
   "outputs": [],
   "source": []
  },
  {
   "cell_type": "code",
   "execution_count": 167,
   "id": "9a72e9a6-e186-4d1d-b8b5-f52b3b781d59",
   "metadata": {},
   "outputs": [
    {
     "ename": "FileNotFoundError",
     "evalue": "[Errno 2] No such file or directory: 'file1.txt'",
     "output_type": "error",
     "traceback": [
      "\u001b[1;31m---------------------------------------------------------------------------\u001b[0m",
      "\u001b[1;31mFileNotFoundError\u001b[0m                         Traceback (most recent call last)",
      "Cell \u001b[1;32mIn[167], line 2\u001b[0m\n\u001b[0;32m      1\u001b[0m \u001b[38;5;28;01mtry\u001b[39;00m:\n\u001b[1;32m----> 2\u001b[0m     \u001b[38;5;28;01mwith\u001b[39;00m \u001b[38;5;28mopen\u001b[39m(\u001b[38;5;124m'\u001b[39m\u001b[38;5;124mfile1.txt\u001b[39m\u001b[38;5;124m'\u001b[39m, \u001b[38;5;124m'\u001b[39m\u001b[38;5;124mr\u001b[39m\u001b[38;5;124m'\u001b[39m, encoding\u001b[38;5;241m=\u001b[39m\u001b[38;5;124m'\u001b[39m\u001b[38;5;124mutf-8\u001b[39m\u001b[38;5;124m'\u001b[39m) \u001b[38;5;28;01mas\u001b[39;00m f:\n\u001b[0;32m      3\u001b[0m         content \u001b[38;5;241m=\u001b[39m f\u001b[38;5;241m.\u001b[39mread()\n\u001b[0;32m      4\u001b[0m \u001b[38;5;28;01mexcept\u001b[39;00m \u001b[38;5;167;01mUnicodeDecodeError\u001b[39;00m:\n",
      "File \u001b[1;32mC:\\ProgramData\\anaconda3\\Lib\\site-packages\\IPython\\core\\interactiveshell.py:284\u001b[0m, in \u001b[0;36m_modified_open\u001b[1;34m(file, *args, **kwargs)\u001b[0m\n\u001b[0;32m    277\u001b[0m \u001b[38;5;28;01mif\u001b[39;00m file \u001b[38;5;129;01min\u001b[39;00m {\u001b[38;5;241m0\u001b[39m, \u001b[38;5;241m1\u001b[39m, \u001b[38;5;241m2\u001b[39m}:\n\u001b[0;32m    278\u001b[0m     \u001b[38;5;28;01mraise\u001b[39;00m \u001b[38;5;167;01mValueError\u001b[39;00m(\n\u001b[0;32m    279\u001b[0m         \u001b[38;5;124mf\u001b[39m\u001b[38;5;124m\"\u001b[39m\u001b[38;5;124mIPython won\u001b[39m\u001b[38;5;124m'\u001b[39m\u001b[38;5;124mt let you open fd=\u001b[39m\u001b[38;5;132;01m{\u001b[39;00mfile\u001b[38;5;132;01m}\u001b[39;00m\u001b[38;5;124m by default \u001b[39m\u001b[38;5;124m\"\u001b[39m\n\u001b[0;32m    280\u001b[0m         \u001b[38;5;124m\"\u001b[39m\u001b[38;5;124mas it is likely to crash IPython. If you know what you are doing, \u001b[39m\u001b[38;5;124m\"\u001b[39m\n\u001b[0;32m    281\u001b[0m         \u001b[38;5;124m\"\u001b[39m\u001b[38;5;124myou can use builtins\u001b[39m\u001b[38;5;124m'\u001b[39m\u001b[38;5;124m open.\u001b[39m\u001b[38;5;124m\"\u001b[39m\n\u001b[0;32m    282\u001b[0m     )\n\u001b[1;32m--> 284\u001b[0m \u001b[38;5;28;01mreturn\u001b[39;00m io_open(file, \u001b[38;5;241m*\u001b[39margs, \u001b[38;5;241m*\u001b[39m\u001b[38;5;241m*\u001b[39mkwargs)\n",
      "\u001b[1;31mFileNotFoundError\u001b[0m: [Errno 2] No such file or directory: 'file1.txt'"
     ]
    }
   ],
   "source": [
    "try:\n",
    "    with open('file1.txt', 'r', encoding='utf-8') as f:\n",
    "        content = f.read()\n",
    "except UnicodeDecodeError:\n",
    "    with open('file1.txt', 'r', encoding='latin-1') as f:\n",
    "        content = f.read()"
   ]
  },
  {
   "cell_type": "code",
   "execution_count": null,
   "id": "9876fee2-bf07-4bc1-aee4-e7720ee401bd",
   "metadata": {},
   "outputs": [],
   "source": [
    "files=[]\n",
    "with open('log.txt', 'r') as f:\n",
    "    for line in f:\n",
    "        date_match = re.search(r'(\\d{4}-\\d{2}-\\d{2})', line)\n",
    "        if date_match:\n",
    "            date = date_match.group(1)\n",
    "            files[date].append(line)"
   ]
  },
  {
   "cell_type": "code",
   "execution_count": null,
   "id": "3c941d47-d2a4-473e-b853-798bccd0d1d2",
   "metadata": {},
   "outputs": [],
   "source": []
  },
  {
   "cell_type": "markdown",
   "id": "49b7b4dc-a5af-49a8-b1a6-2629376ed791",
   "metadata": {
    "jp-MarkdownHeadingCollapsed": true
   },
   "source": [
    "\n",
    "# JSON Handling – json module\n",
    "\n",
    "**Q:1 Load JSON from a file and print a nested field (e.g., data[\"user\"][\"name\"]).**\n",
    "\n",
    "**Q:2 Write a Python dict to a file with pretty formatting.**\n",
    "\n",
    "**Q:3 Merge multiple JSON objects into a single file.**\n",
    "\n",
    "**Q:4 Convert a JSON array into CSV format.**\n",
    "\n",
    "**Q:5 Update a nested key inside a loaded JSON.**\n",
    "\n",
    "**Q:6 Create a function to pretty-print JSON from string input.**\n",
    "\n",
    "**Q:7 Safely load malformed JSON with exception handling.**\n",
    "\n",
    "**Q:8 Remove a key from each item in a JSON list and re-save.**\n",
    "\n",
    "**Q:9 Convert an object with datetime to a JSON string using a custom encoder.**\n",
    "\n",
    "**Q:10 Search for all values associated with a key in nested JSON.**\n",
    "\n",
    "**Q:11 Write a function to flatten deeply nested JSON into a flat dictionary.**\n",
    "\n",
    "**Q:12 Build a recursive JSON validator for required schema keys.**\n",
    "\n",
    "**Q:13 Convert a nested JSON into a pandas DataFrame with normalized columns.**\n",
    "\n",
    "**Q:14 Create a diff tool that compares two JSON files and shows key-level changes.**\n",
    "\n",
    "**Q:15 Handle and fix trailing commas in malformed JSON before parsing.**\n",
    "\n"
   ]
  },
  {
   "cell_type": "code",
   "execution_count": 52,
   "id": "96ed1e4b-4790-418d-ba76-3fd3697603c6",
   "metadata": {},
   "outputs": [
    {
     "data": {
      "text/plain": [
       "{'fruit': 'Apple', 'size': 'Large', 'color': 'Red'}"
      ]
     },
     "execution_count": 52,
     "metadata": {},
     "output_type": "execute_result"
    }
   ],
   "source": [
    "import json\n",
    "file='sample.json'\n",
    "with open(file, 'r') as f:\n",
    "    data=json.load(f)\n",
    "data    "
   ]
  },
  {
   "cell_type": "code",
   "execution_count": 60,
   "id": "a945a883-853d-412f-b1eb-4696b812d624",
   "metadata": {},
   "outputs": [
    {
     "data": {
      "text/plain": [
       "{'a': 1, 'b': 2}"
      ]
     },
     "execution_count": 60,
     "metadata": {},
     "output_type": "execute_result"
    }
   ],
   "source": [
    "keys=['a','b']\n",
    "values=[1,2]\n",
    "dict={}\n",
    "for i in range(len(keys)):\n",
    "    dict[keys[i]]=dict.get(keys[i],values[i])\n",
    "with open(\"json_dict.json\",\"w\") as outfile:\n",
    "    json.dump(dict,outfile,indent=3)\n",
    "with open(\"json_dict.json\",\"r\") as f:\n",
    "    data=json.load(f)\n",
    "data    \n",
    "    "
   ]
  },
  {
   "cell_type": "code",
   "execution_count": 79,
   "id": "bea19279-5e6b-4e2b-8b55-5f1afa5bf4d4",
   "metadata": {},
   "outputs": [],
   "source": [
    "file1='sample.json'\n",
    "with open(file1, 'r') as f:\n",
    "    data1=json.load(f)\n",
    "file2='sample2.json'    \n",
    "with open(file2, 'r') as file:\n",
    "    data2=json.load(file)\n",
    "merged_dict = data1 | data2\n",
    "merged_dict\n",
    "with open(\"merged_file.json\", \"w\") as ofile:\n",
    "    json.dump(merged_dict,ofile,indent=5)\n",
    "    "
   ]
  },
  {
   "cell_type": "code",
   "execution_count": 84,
   "id": "47d69ea5-4a78-48b2-83e2-c02b21be9c58",
   "metadata": {},
   "outputs": [
    {
     "data": {
      "text/plain": [
       "{'a': 1, 'b': [4, 5]}"
      ]
     },
     "execution_count": 84,
     "metadata": {},
     "output_type": "execute_result"
    }
   ],
   "source": [
    "keys=['a','b']\n",
    "values=[1,(2,3)]\n",
    "dict={}\n",
    "for i in range(len(keys)):\n",
    "    dict[keys[i]]=dict.get(keys[i],values[i])\n",
    "with open(\"json_dict.json\",\"w\") as outfile:\n",
    "    json.dump(dict,outfile,indent=3)\n",
    "with open(\"json_dict.json\",\"r\") as f:\n",
    "    data=json.load(f)\n",
    "data \n",
    "\n",
    "data['b']=(4,5)\n",
    "with open(\"json_dict.json\",\"w\") as outfile:\n",
    "    json.dump(data,outfile,indent=3)\n",
    "with open(\"json_dict.json\",\"r\") as f:\n",
    "    data=json.load(f)\n",
    "data "
   ]
  },
  {
   "cell_type": "code",
   "execution_count": 118,
   "id": "44ca8311-ecec-4810-a343-fef73c3fdda4",
   "metadata": {},
   "outputs": [],
   "source": [
    "json_string = '{\"person\": {\"name\": \"Reyyan\", \"details\": {\"age\": 22, \"city\": \"Lahore\"}}}'\n",
    "data = json.loads(json_string)\n",
    "with open(\"json_nested.json\",\"w\") as outfile:\n",
    "    json.dump(data,outfile,indent=3)"
   ]
  },
  {
   "cell_type": "code",
   "execution_count": null,
   "id": "0ea9a5f6-031c-49d3-bbc5-165459650667",
   "metadata": {},
   "outputs": [],
   "source": [
    "with open(file_path, 'r', encoding='utf-8') as file:\n",
    "    data = json.load(file)\n",
    "        \n",
    "if not isinstance(data, list):\n",
    "    {'success': False, 'error': 'JSON root is not a list'}\n",
    "        \n",
    "else:\n",
    "    for item in data:\n",
    "        if isinstance(item, dict) and key_to_remove in item:\n",
    "                del item[key_to_remove]\n",
    "        with open(output_path, 'w', encoding='utf-8') as file:\n",
    "            json.dump(data, file, indent=2, ensure_ascii=False)"
   ]
  },
  {
   "cell_type": "code",
   "execution_count": null,
   "id": "c29b99d1-d6e9-4fca-9c86-c9c62cb3d03b",
   "metadata": {},
   "outputs": [],
   "source": [
    "json.dumps(data, cls=DateTimeEncoder, indent=indent, ensure_ascii=False)"
   ]
  },
  {
   "cell_type": "code",
   "execution_count": 119,
   "id": "b3708f19-a270-4366-bd8e-6044a70d2989",
   "metadata": {},
   "outputs": [
    {
     "ename": "NameError",
     "evalue": "name 'v' is not defined",
     "output_type": "error",
     "traceback": [
      "\u001b[1;31m---------------------------------------------------------------------------\u001b[0m",
      "\u001b[1;31mNameError\u001b[0m                                 Traceback (most recent call last)",
      "Cell \u001b[1;32mIn[119], line 15\u001b[0m\n\u001b[0;32m     13\u001b[0m         \u001b[38;5;28;01mfor\u001b[39;00m item \u001b[38;5;129;01min\u001b[39;00m data:\n\u001b[0;32m     14\u001b[0m             \u001b[38;5;28;01myield from\u001b[39;00m find_key(item, target_key)\n\u001b[1;32m---> 15\u001b[0m v\n",
      "\u001b[1;31mNameError\u001b[0m: name 'v' is not defined"
     ]
    }
   ],
   "source": [
    "file='json_nested.json'\n",
    "with open(file, 'r') as f:\n",
    "    data=json.load(f)\n",
    "data\n",
    "target_key='age'\n",
    "def find_key(data, target_key):\n",
    "    if isinstance(data, dict):\n",
    "        for k, v in data.items():\n",
    "            if k == target_key:\n",
    "                yield v\n",
    "            yield from find_key(v, target_key)\n",
    "    elif isinstance(data, list):\n",
    "        for item in data:\n",
    "            yield from find_key(item, target_key)\n",
    "v            "
   ]
  },
  {
   "cell_type": "code",
   "execution_count": 171,
   "id": "c4462486-b8a9-492b-8c85-415a6869ac9d",
   "metadata": {},
   "outputs": [
    {
     "ename": "TypeError",
     "evalue": "isinstance() arg 2 must be a type, a tuple of types, or a union",
     "output_type": "error",
     "traceback": [
      "\u001b[1;31m---------------------------------------------------------------------------\u001b[0m",
      "\u001b[1;31mTypeError\u001b[0m                                 Traceback (most recent call last)",
      "Cell \u001b[1;32mIn[171], line 9\u001b[0m\n\u001b[0;32m      7\u001b[0m \u001b[38;5;28;01mfor\u001b[39;00m k, v \u001b[38;5;129;01min\u001b[39;00m data\u001b[38;5;241m.\u001b[39mitems():\n\u001b[0;32m      8\u001b[0m     new_key \u001b[38;5;241m=\u001b[39m \u001b[38;5;124mf\u001b[39m\u001b[38;5;124m\"\u001b[39m\u001b[38;5;132;01m{\u001b[39;00mprefix\u001b[38;5;132;01m}\u001b[39;00m\u001b[38;5;124m.\u001b[39m\u001b[38;5;132;01m{\u001b[39;00mk\u001b[38;5;132;01m}\u001b[39;00m\u001b[38;5;124m\"\u001b[39m \u001b[38;5;28;01mif\u001b[39;00m prefix \u001b[38;5;28;01melse\u001b[39;00m k\n\u001b[1;32m----> 9\u001b[0m     \u001b[38;5;28;01mif\u001b[39;00m \u001b[38;5;28misinstance\u001b[39m(v, data):\n\u001b[0;32m     10\u001b[0m         result\u001b[38;5;241m.\u001b[39mupdate(flatten(v, new_key))\n\u001b[0;32m     11\u001b[0m     \u001b[38;5;28;01melse\u001b[39;00m:\n",
      "\u001b[1;31mTypeError\u001b[0m: isinstance() arg 2 must be a type, a tuple of types, or a union"
     ]
    }
   ],
   "source": [
    "file='json_nested.json'\n",
    "with open(file, 'r') as f:\n",
    "    data=json.load(f)\n",
    "data\n",
    "result = {}\n",
    "prefix=''\n",
    "for k, v in data.items():\n",
    "    new_key = f\"{prefix}.{k}\" if prefix else k\n",
    "    if isinstance(v, data):\n",
    "        result.update(flatten(v, new_key))\n",
    "    else:\n",
    "        result[new_key] = v\n",
    "result"
   ]
  },
  {
   "cell_type": "code",
   "execution_count": null,
   "id": "b5a38e81-21a8-4534-bf38-b56e602348cb",
   "metadata": {},
   "outputs": [],
   "source": [
    "pd.json_normalize(jdata)"
   ]
  },
  {
   "cell_type": "code",
   "execution_count": null,
   "id": "edeaed10-eec5-450f-a8bb-ab3d9c200aa8",
   "metadata": {},
   "outputs": [],
   "source": []
  },
  {
   "cell_type": "code",
   "execution_count": 168,
   "id": "719153bf-475c-404e-ab37-4df1bae3355d",
   "metadata": {},
   "outputs": [
    {
     "ename": "FileNotFoundError",
     "evalue": "[Errno 2] No such file or directory: 'sample.json'",
     "output_type": "error",
     "traceback": [
      "\u001b[1;31m---------------------------------------------------------------------------\u001b[0m",
      "\u001b[1;31mFileNotFoundError\u001b[0m                         Traceback (most recent call last)",
      "Cell \u001b[1;32mIn[168], line 2\u001b[0m\n\u001b[0;32m      1\u001b[0m changes \u001b[38;5;241m=\u001b[39m []\n\u001b[1;32m----> 2\u001b[0m \u001b[38;5;28;01mwith\u001b[39;00m \u001b[38;5;28mopen\u001b[39m(\u001b[38;5;124m'\u001b[39m\u001b[38;5;124msample.json\u001b[39m\u001b[38;5;124m'\u001b[39m, \u001b[38;5;124m'\u001b[39m\u001b[38;5;124mr\u001b[39m\u001b[38;5;124m'\u001b[39m) \u001b[38;5;28;01mas\u001b[39;00m file:\n\u001b[0;32m      3\u001b[0m     json1\u001b[38;5;241m=\u001b[39m json\u001b[38;5;241m.\u001b[39mload(file)\n\u001b[0;32m      4\u001b[0m \u001b[38;5;28;01mwith\u001b[39;00m \u001b[38;5;28mopen\u001b[39m(\u001b[38;5;124m'\u001b[39m\u001b[38;5;124msample2.json\u001b[39m\u001b[38;5;124m'\u001b[39m, \u001b[38;5;124m'\u001b[39m\u001b[38;5;124mr\u001b[39m\u001b[38;5;124m'\u001b[39m) \u001b[38;5;28;01mas\u001b[39;00m file:\n",
      "File \u001b[1;32mC:\\ProgramData\\anaconda3\\Lib\\site-packages\\IPython\\core\\interactiveshell.py:284\u001b[0m, in \u001b[0;36m_modified_open\u001b[1;34m(file, *args, **kwargs)\u001b[0m\n\u001b[0;32m    277\u001b[0m \u001b[38;5;28;01mif\u001b[39;00m file \u001b[38;5;129;01min\u001b[39;00m {\u001b[38;5;241m0\u001b[39m, \u001b[38;5;241m1\u001b[39m, \u001b[38;5;241m2\u001b[39m}:\n\u001b[0;32m    278\u001b[0m     \u001b[38;5;28;01mraise\u001b[39;00m \u001b[38;5;167;01mValueError\u001b[39;00m(\n\u001b[0;32m    279\u001b[0m         \u001b[38;5;124mf\u001b[39m\u001b[38;5;124m\"\u001b[39m\u001b[38;5;124mIPython won\u001b[39m\u001b[38;5;124m'\u001b[39m\u001b[38;5;124mt let you open fd=\u001b[39m\u001b[38;5;132;01m{\u001b[39;00mfile\u001b[38;5;132;01m}\u001b[39;00m\u001b[38;5;124m by default \u001b[39m\u001b[38;5;124m\"\u001b[39m\n\u001b[0;32m    280\u001b[0m         \u001b[38;5;124m\"\u001b[39m\u001b[38;5;124mas it is likely to crash IPython. If you know what you are doing, \u001b[39m\u001b[38;5;124m\"\u001b[39m\n\u001b[0;32m    281\u001b[0m         \u001b[38;5;124m\"\u001b[39m\u001b[38;5;124myou can use builtins\u001b[39m\u001b[38;5;124m'\u001b[39m\u001b[38;5;124m open.\u001b[39m\u001b[38;5;124m\"\u001b[39m\n\u001b[0;32m    282\u001b[0m     )\n\u001b[1;32m--> 284\u001b[0m \u001b[38;5;28;01mreturn\u001b[39;00m io_open(file, \u001b[38;5;241m*\u001b[39margs, \u001b[38;5;241m*\u001b[39m\u001b[38;5;241m*\u001b[39mkwargs)\n",
      "\u001b[1;31mFileNotFoundError\u001b[0m: [Errno 2] No such file or directory: 'sample.json'"
     ]
    }
   ],
   "source": [
    "changes = []\n",
    "with open('sample.json', 'r') as file:\n",
    "    json1= json.load(file)\n",
    "with open('sample2.json', 'r') as file:\n",
    "    json2= json.load(file) \n",
    "all_keys = set(json1.keys()) | set(json2.keys())\n",
    "for key in all_keys:\n",
    "    if key not in json1:\n",
    "        changes.append(f\"Added: {key}\")\n",
    "    elif key not in json2:\n",
    "        changes.append(f\"Removed: {key}\")\n",
    "    elif json1[key] != json2[key]:\n",
    "        changes.append(f\"Changed: {key}\")"
   ]
  },
  {
   "cell_type": "code",
   "execution_count": null,
   "id": "e3306548-70c6-4a3b-8977-93d0f632d2e7",
   "metadata": {},
   "outputs": [],
   "source": [
    "import re\n",
    "fixed_json = re.sub(r',(\\s*[}\\]])', r'\\1', malformed_json)\n",
    "json.loads(fixed_json)"
   ]
  },
  {
   "cell_type": "code",
   "execution_count": null,
   "id": "c22e231e-9fd0-41ea-a70d-0d0095e4665e",
   "metadata": {},
   "outputs": [],
   "source": []
  },
  {
   "cell_type": "code",
   "execution_count": null,
   "id": "a9fb0524-fa1d-4cc8-99e6-c52f55e6f085",
   "metadata": {},
   "outputs": [],
   "source": []
  },
  {
   "cell_type": "markdown",
   "id": "3083804d-5685-4ed0-852d-40333ae26433",
   "metadata": {
    "jp-MarkdownHeadingCollapsed": true
   },
   "source": [
    "    \n",
    "# Regular Expressions – re module\n",
    "\n",
    "**Q:1 Extract email addresses from a string using re.findall().**\n",
    "\n",
    "**Q:2 Validate a US phone number using regex.**\n",
    "\n",
    "**Q:3 Extract hashtags from a tweet-like string.**\n",
    "\n",
    "**Q:4 Replace all numbers with # in a paragraph.**\n",
    "\n",
    "**Q:5 Match filenames with extension .pdf, .docx, or .xlsx.**\n",
    "\n",
    "**Q:6 Split a paragraph into sentences using regex.**\n",
    "\n",
    "**Q:7 Match a date in the format DD-MM-YYYY or YYYY/MM/DD.**\n",
    "\n",
    "**Q:8 Extract quoted strings from text (e.g., \"like this\").**\n",
    "\n",
    "**Q:9 Clean a text by removing special characters except alphanumerics and spaces.**\n",
    "\n",
    "**Q:10 Capture repeated words like the the, is is in a sentence.**\n",
    "\n",
    "**Q:11 Write a regex that extracts values from key-value pairs (key: value) even if keys contain spaces.**\n",
    "\n",
    "**Q:12 Extract nested parentheses using recursive regex (advanced feature).**\n",
    "\n",
    "**Q:13 Create a regex to detect and fix malformed URLs in a text block.**\n",
    "\n",
    "**Q:14 Build a pattern to extract address-like strings (e.g., 123 Main St, City, ZIP).**\n",
    "\n",
    "**Q:15 Tokenize a log line into timestamp, level, and message using regex groups.**"
   ]
  },
  {
   "cell_type": "code",
   "execution_count": 31,
   "id": "f26db1f6-d95e-4acf-9865-f30af739bdec",
   "metadata": {},
   "outputs": [
    {
     "data": {
      "text/plain": [
       "['reyyan929.rs@gmail.com']"
      ]
     },
     "execution_count": 31,
     "metadata": {},
     "output_type": "execute_result"
    }
   ],
   "source": [
    "import re\n",
    "text=\"Reyyan reyyan929.rs@gmail.com\"\n",
    "patterns=[r'\\S+@\\S+']\n",
    "for pattern in patterns:\n",
    "    email_r=re.compile(pattern)\n",
    "    emails=email_r.findall(text)\n",
    "emails    \n"
   ]
  },
  {
   "cell_type": "code",
   "execution_count": 121,
   "id": "9df5434d-35b9-4115-b333-ace145a2bdda",
   "metadata": {},
   "outputs": [],
   "source": [
    "import re\n",
    "\n",
    "pattern = r'\\+\\d{1,2}\\s?\\(?\\d{3}\\)?[\\s.-]?\\d{3}[\\s.-]?\\d{4}$'\n",
    "\n",
    "if re.match(r'^\\(?(\\d{3})\\)?[-.\\s]?(\\d{3})[-.\\s]?(\\d{4})$',\"+1-123-456-7890\"):\n",
    "    print(\"US number found\")"
   ]
  },
  {
   "cell_type": "code",
   "execution_count": 122,
   "id": "661df70d-da86-4263-9964-a6ac85f13087",
   "metadata": {},
   "outputs": [
    {
     "data": {
      "text/plain": [
       "['#haha', '#lol']"
      ]
     },
     "execution_count": 122,
     "metadata": {},
     "output_type": "execute_result"
    }
   ],
   "source": [
    "hashtags=re.findall(r'#\\w+', '#haha reyyan #lol')\n",
    "hashtags"
   ]
  },
  {
   "cell_type": "code",
   "execution_count": 123,
   "id": "b0d06c91-2baa-4cc3-b919-d5b66e479ce1",
   "metadata": {},
   "outputs": [
    {
     "data": {
      "text/plain": [
       "'reyyan###'"
      ]
     },
     "execution_count": 123,
     "metadata": {},
     "output_type": "execute_result"
    }
   ],
   "source": [
    "text=re.sub(r'\\d', '#', \"reyyan929\")\n",
    "text"
   ]
  },
  {
   "cell_type": "code",
   "execution_count": 125,
   "id": "47b77dc7-10d4-4dd3-bff1-96221bf711cb",
   "metadata": {},
   "outputs": [],
   "source": [
    "check=re.match(r'.*\\.(pdf|docx|xlsx)$', 'sample.txt')\n",
    "check"
   ]
  },
  {
   "cell_type": "code",
   "execution_count": 141,
   "id": "56308ae4-1cba-4d32-93a3-6c0b6ec54047",
   "metadata": {},
   "outputs": [
    {
     "data": {
      "text/plain": [
       "['A good example of a paragraph contains a topic sentence, details and a conclusion',\n",
       " 'There are many different kinds of animals that live in China',\n",
       " 'Tigers and leopards are animals that live in Chinas forests in the north',\n",
       " 'In the jungles, monkeys swing, in, the trees and elephants walk through the brush.']"
      ]
     },
     "execution_count": 141,
     "metadata": {},
     "output_type": "execute_result"
    }
   ],
   "source": [
    "sentences=re.split(r'[.!?]+\\s+','A good example of a paragraph contains a topic sentence, details and a conclusion. There are many different kinds of animals that live in China. Tigers and leopards are animals that live in Chinas forests in the north. In the jungles, monkeys swing, in, the trees and elephants walk through the brush.')\n",
    "sentences"
   ]
  },
  {
   "cell_type": "code",
   "execution_count": 130,
   "id": "506b8c6c-eb88-4d2a-9ca9-a1f1fb3ace9f",
   "metadata": {},
   "outputs": [
    {
     "data": {
      "text/plain": [
       "<re.Match object; span=(0, 10), match='19-12-2002'>"
      ]
     },
     "execution_count": 130,
     "metadata": {},
     "output_type": "execute_result"
    }
   ],
   "source": [
    "check=re.match(r'(\\d{2}-\\d{2}-\\d{4})|(\\d{4}/\\d{2}/\\d{2})', '19-12-2002')\n",
    "check"
   ]
  },
  {
   "cell_type": "code",
   "execution_count": 133,
   "id": "8ae3d300-1edc-48ed-8989-5a324c4e6a5c",
   "metadata": {},
   "outputs": [
    {
     "data": {
      "text/plain": [
       "['assignment']"
      ]
     },
     "execution_count": 133,
     "metadata": {},
     "output_type": "execute_result"
    }
   ],
   "source": [
    "re.findall(r'\"([^\"]*)\"', 'Reyyan did this \"assignment\"')"
   ]
  },
  {
   "cell_type": "code",
   "execution_count": 134,
   "id": "a2451580-9fd8-4352-95dc-712a1bc956f5",
   "metadata": {},
   "outputs": [
    {
     "data": {
      "text/plain": [
       "'1m'"
      ]
     },
     "execution_count": 134,
     "metadata": {},
     "output_type": "execute_result"
    }
   ],
   "source": [
    "re.sub(r'[^a-zA-Z0-9\\s]', '', '1@m')"
   ]
  },
  {
   "cell_type": "code",
   "execution_count": 136,
   "id": "8ddb494a-144b-4a43-8213-519acf6e04a2",
   "metadata": {},
   "outputs": [
    {
     "data": {
      "text/plain": [
       "[('fruit', 'apple')]"
      ]
     },
     "execution_count": 136,
     "metadata": {},
     "output_type": "execute_result"
    }
   ],
   "source": [
    "re.findall(r'([^:]+):\\s*([^,\\n]+)', \"fruit: apple\")"
   ]
  },
  {
   "cell_type": "code",
   "execution_count": null,
   "id": "11c75e7e",
   "metadata": {},
   "outputs": [],
   "source": [
    "re.findall(r'\\(([^()]*(?:\\([^()]*\\)[^()]*)*)\\)', text)"
   ]
  },
  {
   "cell_type": "code",
   "execution_count": 139,
   "id": "1f66d7a7-5d04-41d0-b569-28c958a0c8c3",
   "metadata": {},
   "outputs": [
    {
     "data": {
      "text/plain": [
       "'http://www.pakistan.com'"
      ]
     },
     "execution_count": 139,
     "metadata": {},
     "output_type": "execute_result"
    }
   ],
   "source": [
    "re.sub(r'www\\.([^\\s]+)', r'http://www.\\1', \"www.pakistan.com\")"
   ]
  },
  {
   "cell_type": "code",
   "execution_count": 140,
   "id": "2de5cf72",
   "metadata": {},
   "outputs": [
    {
     "data": {
      "text/plain": [
       "[]"
      ]
     },
     "execution_count": 140,
     "metadata": {},
     "output_type": "execute_result"
    }
   ],
   "source": [
    "re.findall(r'\\d+\\s+[A-Za-z\\s]+(?:St|Ave|Rd|Blvd|Dr),?\\s*[A-Za-z\\s]+,?\\s*\\d{5}', 'John Smith, 123 Main Street, Anytown, CA 91234')"
   ]
  }
 ],
 "metadata": {
  "kernelspec": {
   "display_name": "Python 3 (ipykernel)",
   "language": "python",
   "name": "python3"
  },
  "language_info": {
   "codemirror_mode": {
    "name": "ipython",
    "version": 3
   },
   "file_extension": ".py",
   "mimetype": "text/x-python",
   "name": "python",
   "nbconvert_exporter": "python",
   "pygments_lexer": "ipython3",
   "version": "3.11.4"
  }
 },
 "nbformat": 4,
 "nbformat_minor": 5
}
