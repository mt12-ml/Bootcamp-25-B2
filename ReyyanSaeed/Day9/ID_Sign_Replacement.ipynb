{
 "cells": [
  {
   "cell_type": "code",
   "execution_count": 12,
   "id": "a08f6a83",
   "metadata": {},
   "outputs": [],
   "source": [
    "import cv2\n",
    "import numpy as np\n",
    "\n",
    "img = cv2.imread('sign.jpg')\n",
    "\n",
    "white_mask = cv2.inRange(img, np.array([200, 200, 200]), np.array([255, 255, 255]))\n",
    "result = cv2.cvtColor(img, cv2.COLOR_BGR2BGRA)\n",
    "\n",
    "result[white_mask > 0] = [0, 0, 0, 0]\n",
    "\n",
    "cv2.imshow('Original', img)\n",
    "cv2.imshow('Background Removed', result)\n",
    "\n",
    "cv2.imwrite('result.png', result)\n",
    "\n",
    "cv2.waitKey(0)\n",
    "cv2.destroyAllWindows()"
   ]
  },
  {
   "cell_type": "code",
   "execution_count": 28,
   "id": "f2cf4b2f",
   "metadata": {},
   "outputs": [
    {
     "name": "stdout",
     "output_type": "stream",
     "text": [
      "Clicked at: (829, 530)\n"
     ]
    }
   ],
   "source": [
    "import cv2\n",
    "\n",
    "\n",
    "def click_event(event, x, y, flags, params):\n",
    "    if event == cv2.EVENT_LBUTTONDOWN:\n",
    "        print(f\"Clicked at: ({x}, {y})\")\n",
    "        font = cv2.FONT_HERSHEY_SIMPLEX\n",
    "        cv2.putText(img, f\"({x},{y})\", (x, y), font, 0.5, (255, 0, 0), 2)\n",
    "        cv2.imshow('image', img)\n",
    "\n",
    "img = cv2.imread('idC.jpeg')\n",
    "\n",
    "cv2.imshow('idc', img)\n",
    "\n",
    "cv2.setMouseCallback('idc', click_event)\n",
    "\n",
    "cv2.waitKey(0)\n",
    "cv2.destroyAllWindows()"
   ]
  },
  {
   "cell_type": "code",
   "execution_count": 10,
   "id": "ba1038da",
   "metadata": {},
   "outputs": [],
   "source": [
    "import cv2\n",
    "import numpy as np\n",
    "image = cv2.imread('idC.jpeg')\n",
    "\n",
    "mask = np.zeros(image.shape[:2], dtype=np.uint8)\n",
    "\n",
    "cv2.rectangle(mask, (832, 531), (947, 608), 255, -1)\n",
    "inpainted_image = cv2.inpaint(image, mask, inpaintRadius=3, flags=cv2.INPAINT_TELEA)\n",
    "\n",
    "cv2.imshow('Original Image', image)\n",
    "cv2.imshow('Mask', mask)\n",
    "cv2.imshow('Inpainted Image', inpainted_image)\n",
    "cv2.imwrite('new_img.png', inpainted_image)\n",
    "cv2.waitKey(0)\n",
    "cv2.destroyAllWindows()"
   ]
  },
  {
   "cell_type": "code",
   "execution_count": 11,
   "id": "025dcdc0",
   "metadata": {},
   "outputs": [],
   "source": [
    "import cv2\n",
    "import numpy as np\n",
    "x_pos, y_pos = 832, 531\n",
    "\n",
    "background = cv2.imread('new_img.png')\n",
    "overlay = cv2.imread('result.png', cv2.IMREAD_UNCHANGED)\n",
    "\n",
    "if background is None or overlay is None:\n",
    "    print(\"Error: Could not load images\")\n",
    "    exit()\n",
    "    \n",
    "b, g, r, a = cv2.split(overlay)\n",
    "alpha_factor = 0.6\n",
    "a = (a * alpha_factor).astype(np.uint8)\n",
    "overlay= cv2.merge([b, g, r, a])\n",
    "\n",
    "h, w = overlay.shape[:2]\n",
    "bg_h, bg_w = background.shape[:2]\n",
    "\n",
    "available_width = bg_w - x_pos\n",
    "available_height = bg_h - y_pos\n",
    "new_w=available_width\n",
    "new_h=available_height+150\n",
    "\n",
    "overlay_resized = cv2.resize(overlay, (new_w,new_h))\n",
    "\n",
    "for y in range(new_h):\n",
    "    for x in range(new_w):\n",
    "        if overlay_resized[y, x, 3] > 0:  \n",
    "            alpha = overlay_resized[y, x, 3] / 255\n",
    "            bg_color = background[y + y_pos, x + x_pos]\n",
    "            overlay_color = overlay_resized[y, x, :3]\n",
    "            background[y + y_pos, x + x_pos] = bg_color * (1 - alpha) + overlay_color * alpha\n",
    "\n",
    "cv2.imshow('Combined Image', background)\n",
    "cv2.imwrite('final_id_sign.jpg', background)\n",
    "cv2.waitKey(0)\n",
    "cv2.destroyAllWindows()"
   ]
  },
  {
   "cell_type": "code",
   "execution_count": 18,
   "id": "78f0ab8b",
   "metadata": {},
   "outputs": [],
   "source": []
  },
  {
   "cell_type": "code",
   "execution_count": null,
   "id": "e179821b",
   "metadata": {},
   "outputs": [],
   "source": []
  }
 ],
 "metadata": {
  "kernelspec": {
   "display_name": "Python 3 (ipykernel)",
   "language": "python",
   "name": "python3"
  },
  "language_info": {
   "codemirror_mode": {
    "name": "ipython",
    "version": 3
   },
   "file_extension": ".py",
   "mimetype": "text/x-python",
   "name": "python",
   "nbconvert_exporter": "python",
   "pygments_lexer": "ipython3",
   "version": "3.11.4"
  }
 },
 "nbformat": 4,
 "nbformat_minor": 5
}
