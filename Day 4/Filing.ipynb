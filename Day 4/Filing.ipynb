{
 "cells": [
  {
   "cell_type": "markdown",
   "id": "64d0c9e3-3656-4283-99df-33c0316c7908",
   "metadata": {
    "jp-MarkdownHeadingCollapsed": true
   },
   "source": [
    "# os module – File & Directory Operations\n",
    "\n",
    "**Q:1 Create, Read, Rename, Remove files and folder**\n",
    "\n",
    "**Q:1 Get the current working directory and navigate to a sibling directory**\n",
    "\n",
    "**Q:2 Recursively list all files in a directory using only os.**\n",
    "\n",
    "**Q:3 Check if a given path is a file, directory, or doesn't exist.**\n",
    "\n",
    "**Q:4 Create a deeply nested folder structure like**\n",
    "\n",
    "**Q:5 Delete all empty directories from a given folder tree.**\n",
    "\n",
    "**Q:6 Count the number of .txt files in a directory using os.listdir().**\n",
    "\n",
    "**Q:7 Move files from one folder to another, creating the destination if needed.**\n",
    "\n",
    "**Q:8 Rename all .log files to .log.bak within a folder.**\n",
    "\n",
    "**Q:9 Print the total size of all files in a directory in MB.**\n",
    "\n",
    "**Q:10 Print the directory tree with indentation (like the tree command).**\n",
    "\n",
    "**Q:11 Write a function that synchronizes the structure of two directory trees (mirror mode).**\n",
    "\n",
    "**Q:12 Implement a safe folder deletion function that first moves the folder to a Trash directory.**\n",
    "\n",
    "**Q13: Find and print the most recently modified file in a directory recursively.**\n",
    "\n",
    "**Q:14 Generate a directory report (file count, total size, subfolders) in JSON format.**\n",
    "\n",
    "**Q:15 Track changes (additions/removals) in a directory over time using file snapshots.**\n",
    "\n"
   ]
  },
  {
   "cell_type": "markdown",
   "id": "0f7e0302",
   "metadata": {},
   "source": [
    "### Question 1"
   ]
  },
  {
   "cell_type": "code",
   "execution_count": 1,
   "id": "0cb604f0-de66-4950-b150-3ea858f1ba9c",
   "metadata": {},
   "outputs": [],
   "source": [
    "import os\n",
    "os.mkdir(\"Folder1\")"
   ]
  },
  {
   "cell_type": "code",
   "execution_count": 9,
   "id": "d3de0b42-c67e-49e2-b0d9-225e9d3f9a91",
   "metadata": {},
   "outputs": [],
   "source": [
    "fd = os.open('example.txt', os.O_CREAT | os.O_WRONLY)\n",
    "os.write(fd, b'This is a file created with os.')\n",
    "os.close(fd)"
   ]
  },
  {
   "cell_type": "code",
   "execution_count": 11,
   "id": "9375de53-f7e0-4781-a449-6ad8eab91288",
   "metadata": {},
   "outputs": [
    {
     "name": "stdout",
     "output_type": "stream",
     "text": [
      "This is a file created with os.\n"
     ]
    }
   ],
   "source": [
    "fd = os.open('example.txt', os.O_RDONLY)\n",
    "content = os.read(fd,100)\n",
    "print(content.decode())\n",
    "os.close(fd)"
   ]
  },
  {
   "cell_type": "code",
   "execution_count": 12,
   "id": "6aff88b7-92de-4cf0-9452-cd880199e516",
   "metadata": {},
   "outputs": [
    {
     "data": {
      "text/plain": [
       "True"
      ]
     },
     "execution_count": 12,
     "metadata": {},
     "output_type": "execute_result"
    }
   ],
   "source": [
    "os.rename('folder1', 'folder2')\n",
    "os.path.exists(\"./folder2\")"
   ]
  },
  {
   "cell_type": "code",
   "execution_count": 15,
   "id": "1fe3144f-c8f8-464b-b0b0-c83a0079d9b4",
   "metadata": {},
   "outputs": [
    {
     "data": {
      "text/plain": [
       "False"
      ]
     },
     "execution_count": 15,
     "metadata": {},
     "output_type": "execute_result"
    }
   ],
   "source": [
    "os.rmdir('folder2')\n",
    "os.path.exists(\"./folder2\")"
   ]
  },
  {
   "cell_type": "markdown",
   "id": "f3686aa4",
   "metadata": {},
   "source": [
    "### Question 1"
   ]
  },
  {
   "cell_type": "code",
   "execution_count": 6,
   "id": "a504a41f-193c-4ea9-849a-58df15a77f9b",
   "metadata": {},
   "outputs": [
    {
     "name": "stdout",
     "output_type": "stream",
     "text": [
      "Current working directory: C:\\Users\\DELL\\Downloads\n"
     ]
    }
   ],
   "source": [
    "cwd = os.getcwd()\n",
    "print(\"Current working directory:\", cwd)"
   ]
  },
  {
   "cell_type": "code",
   "execution_count": 42,
   "id": "73e2337b-6b7b-49fe-9931-d7c591bc141b",
   "metadata": {},
   "outputs": [
    {
     "name": "stdout",
     "output_type": "stream",
     "text": [
      "Sibling directory path: C:\\Users\\DELL\\Desktop\n"
     ]
    }
   ],
   "source": [
    "sibling_path = os.path.join(os.path.dirname(cwd), 'Desktop')\n",
    "print(\"Sibling directory path:\", sibling_path)"
   ]
  },
  {
   "cell_type": "markdown",
   "id": "469a2e8a",
   "metadata": {},
   "source": [
    "### Question 2"
   ]
  },
  {
   "cell_type": "code",
   "execution_count": 11,
   "id": "26b0a2bb-3b00-4100-b845-86d5624a98c7",
   "metadata": {},
   "outputs": [
    {
     "name": "stdout",
     "output_type": "stream",
     "text": [
      "['#RollNo#Dask_Assignment.ipynb', '.git', '.ipynb_checkpoints', '.~lock.DW &BI Lab 6.docx#', '100-numpy-exercises.ipynb', 'Attestation', 'BSDSF21A016_Dask_Assignment.ipynb', 'BSDSF21A016_HybridNumber.ipynb', 'BSDSF21A016_PARALLELSORTER.ipynb', 'BSDSF21A016_RealTimeLog.ipynb', 'BSDSF21A016_Web_Crawler.ipynb', 'Contact_Us.pdf', 'dask_sort_report.html', 'Day1-Task.ipynb', 'desktop.ini', 'example.txt', 'Filing.ipynb', 'Folder', 'Folder1', 'FYP Proposal (4).docx', 'Interviewprep', 'Interviewprep.zip', 'list_solution.ipynb', 'msodbcsql.msi', 'Numpy_solution.ipynb', 'pandas-exercises-1-fill-the-blancks.ipynb', 'pandas-solution.ipynb', 'parent', 'Practice_Day2.ipynb', 'report.txt', 'Scholarship', 'task-Day1.ipynb', 'test.log', 'warmup-day3.ipynb']\n"
     ]
    }
   ],
   "source": [
    "print(os.listdir())"
   ]
  },
  {
   "cell_type": "markdown",
   "id": "585c6d4f",
   "metadata": {},
   "source": [
    "### Question 3"
   ]
  },
  {
   "cell_type": "code",
   "execution_count": 47,
   "id": "1a2e636e-228e-43e5-8c2a-27b465e9f994",
   "metadata": {},
   "outputs": [
    {
     "name": "stdout",
     "output_type": "stream",
     "text": [
      "True\n",
      "True\n",
      "False\n"
     ]
    }
   ],
   "source": [
    "file = \"./example.txt\"\n",
    "print(os.path.exists(file))\n",
    "print(os.path.isfile(file))\n",
    "print(os.path.isdir(file))"
   ]
  },
  {
   "cell_type": "markdown",
   "id": "4cf38dd5",
   "metadata": {},
   "source": [
    "### Question 4"
   ]
  },
  {
   "cell_type": "code",
   "execution_count": 49,
   "id": "0ab3825a-334a-4720-a341-f0ea1543e7d0",
   "metadata": {},
   "outputs": [
    {
     "name": "stdout",
     "output_type": "stream",
     "text": [
      "Created: parent/child1/child2/child3/child4\n"
     ]
    }
   ],
   "source": [
    "path = 'parent/child1/child2/child3/child4'\n",
    "os.makedirs(path, exist_ok=True)\n",
    "\n",
    "print(f\"Created: {path}\")"
   ]
  },
  {
   "cell_type": "markdown",
   "id": "5c110a03",
   "metadata": {},
   "source": [
    "### Question 5"
   ]
  },
  {
   "cell_type": "code",
   "execution_count": 50,
   "id": "e93ae0bf-78d0-4fb0-8a3e-df9e29b0596c",
   "metadata": {},
   "outputs": [
    {
     "name": "stdout",
     "output_type": "stream",
     "text": [
      "Deleted empty directory: parent\\child1\\child2\\child3\\child4\n"
     ]
    }
   ],
   "source": [
    "import os\n",
    "\n",
    "def delete_empty_dirs(root_dir):\n",
    "    for dirpath, dirnames, filenames in os.walk(root_dir, topdown=False):\n",
    "        if not dirnames and not filenames:\n",
    "            os.rmdir(dirpath)\n",
    "            print(f\"Deleted empty directory: {dirpath}\")\n",
    "\n",
    "delete_empty_dirs('parent') "
   ]
  },
  {
   "cell_type": "markdown",
   "id": "2f509d62",
   "metadata": {},
   "source": [
    "### Question 6"
   ]
  },
  {
   "cell_type": "code",
   "execution_count": null,
   "id": "6996add3",
   "metadata": {},
   "outputs": [],
   "source": [
    "def count_txt_files(directory):\n",
    "    count = 0\n",
    "    for file in os.listdir(directory):\n",
    "        if file.endswith('.txt') and os.path.isfile(os.path.join(directory, file)):\n",
    "            count += 1\n",
    "    return count\n",
    "\n",
    "directory = './'\n",
    "print(f\"Number of .txt files: {count_txt_files(directory)}\")"
   ]
  },
  {
   "cell_type": "markdown",
   "id": "48955aac",
   "metadata": {},
   "source": [
    "### Question 7\n"
   ]
  },
  {
   "cell_type": "code",
   "execution_count": 8,
   "id": "463970d4",
   "metadata": {},
   "outputs": [
    {
     "name": "stdout",
     "output_type": "stream",
     "text": [
      "File 'C:/Users/DELL/Downloads/screenshot.png' moved to 'C:/Users/DELL/Desktop/screenshot.png' successfully.\n"
     ]
    }
   ],
   "source": [
    "source = \"C:/Users/DELL/Downloads/screenshot.png\"\n",
    "dest = \"C:/Users/DELL/Desktop/screenshot.png\"\n",
    "os.rename(source, dest)\n",
    "print(f\"File '{source}' moved to '{dest}' successfully.\")"
   ]
  },
  {
   "cell_type": "markdown",
   "id": "48b0ca95",
   "metadata": {},
   "source": [
    "### Question 8"
   ]
  },
  {
   "cell_type": "code",
   "execution_count": 13,
   "id": "6fdd43fc",
   "metadata": {},
   "outputs": [
    {
     "name": "stdout",
     "output_type": "stream",
     "text": [
      "./test.log.bak\n"
     ]
    }
   ],
   "source": [
    "def rename_log_files(directory):\n",
    "    count = 0\n",
    "    for file in os.listdir(directory):\n",
    "        if file.endswith('.log'):\n",
    "            os.rename(f\"{os.path.join(directory, file)}\",f\"{os.path.join(directory, file)}.bak\" )\n",
    "            print(f\"{os.path.join(directory, file)}.bak\")\n",
    "\n",
    "directory = './'\n",
    "rename_log_files(directory)"
   ]
  },
  {
   "cell_type": "markdown",
   "id": "5ff8eba5",
   "metadata": {},
   "source": [
    "### Question 9"
   ]
  },
  {
   "cell_type": "code",
   "execution_count": 101,
   "id": "eeb81eab",
   "metadata": {},
   "outputs": [
    {
     "name": "stdout",
     "output_type": "stream",
     "text": [
      "Folder size: 56MB\n"
     ]
    }
   ],
   "source": [
    "size = 0\n",
    "Folderpath = './'   \n",
    "\n",
    "for f in os.scandir(Folderpath):\n",
    "    size += os.path.getsize(f)\n",
    "size = size // (2**20)  \n",
    "print(\"Folder size: \" + str(size) + \"MB\")"
   ]
  },
  {
   "cell_type": "markdown",
   "id": "d1f872e8",
   "metadata": {},
   "source": [
    "### QUESTION 10"
   ]
  },
  {
   "cell_type": "code",
   "execution_count": 35,
   "id": "89e2e745",
   "metadata": {},
   "outputs": [
    {
     "name": "stdout",
     "output_type": "stream",
     "text": [
      "Hamza Majeed/\n",
      "    dict_solution.ipynb\n",
      "    list_solution.ipynb\n",
      "    Practice_Day2.ipynb\n",
      "    rain_water_problem.ipynb\n",
      "    string_solution.ipynb\n",
      "    task-Day1.ipynb\n",
      "    warmup-day3.ipynb\n",
      "    Day 3/\n",
      "        Numpy_solution.ipynb\n",
      "        pandas-solution.ipynb\n"
     ]
    }
   ],
   "source": [
    "def list_files(startpath):\n",
    "    for root, dirs, files in os.walk(startpath):\n",
    "        level = root.replace(startpath, '').count(os.sep)\n",
    "        indent = ' ' * 4 * (level)\n",
    "        print(f'{indent}{os.path.basename(root)}/')\n",
    "        subindent = ' ' * 4 * (level + 1)\n",
    "        for f in files:\n",
    "            print(f'{subindent}{f}')\n",
    "list_files(\"D:/ML1/Bootcamp-25-B2/Hamza Majeed\")"
   ]
  },
  {
   "cell_type": "markdown",
   "id": "cfc546e6",
   "metadata": {},
   "source": [
    "### Question 11"
   ]
  },
  {
   "cell_type": "code",
   "execution_count": null,
   "id": "a433c0ed",
   "metadata": {},
   "outputs": [],
   "source": [
    "# Write a function that synchronizes the structure of two directory trees (mirror mode).\n"
   ]
  },
  {
   "cell_type": "markdown",
   "id": "2426ded9",
   "metadata": {},
   "source": [
    "### Question 12"
   ]
  },
  {
   "cell_type": "code",
   "execution_count": 42,
   "id": "319b3bfc",
   "metadata": {},
   "outputs": [
    {
     "name": "stdout",
     "output_type": "stream",
     "text": [
      "Folder 'Folder' moved to trash: 'Trash'\n"
     ]
    }
   ],
   "source": [
    "import shutil\n",
    "def safe_delete_folder(path, trash_path):\n",
    "    if not os.path.exists(trash_path):\n",
    "        os.makedirs(trash_path)\n",
    "    shutil.move(path, trash_path)\n",
    "    print(f\"Folder '{path}' moved to trash: '{trash_path}'\")\n",
    "        \n",
    "trash_path = \"Trash\"\n",
    "safe_delete_folder(\"Folder\", trash_path)\n"
   ]
  },
  {
   "cell_type": "markdown",
   "id": "59480704",
   "metadata": {},
   "source": [
    "### Question 13"
   ]
  },
  {
   "cell_type": "code",
   "execution_count": 144,
   "id": "d0cb018c",
   "metadata": {},
   "outputs": [
    {
     "name": "stdout",
     "output_type": "stream",
     "text": [
      "File modified recently: ./Filing.ipynb\n"
     ]
    }
   ],
   "source": [
    "path = \"./\"\n",
    "recent_file = None\n",
    "recent_time = 0\n",
    "for entry in os.scandir(path):\n",
    "    if entry.is_file():\n",
    "        modification_time = os.path.getmtime(entry)\n",
    "        if modification_time > recent_time:\n",
    "            recent_time = modification_time\n",
    "            recent_file = entry.path\n",
    "print(f\"File modified recently: {recent_file}\")"
   ]
  },
  {
   "cell_type": "markdown",
   "id": "32e07873",
   "metadata": {},
   "source": [
    "### Question 14"
   ]
  },
  {
   "cell_type": "code",
   "execution_count": 65,
   "id": "39abdf8e",
   "metadata": {},
   "outputs": [
    {
     "name": "stdout",
     "output_type": "stream",
     "text": [
      "Report generated as output.json\n"
     ]
    }
   ],
   "source": [
    "import json\n",
    "Folderpath = 'D:/ML1/Bootcamp-25-B2/Hamza Majeed' \n",
    "report = {}\n",
    "for path, dirs, files in os.walk(Folderpath):\n",
    "    size = 0\n",
    "    c = 0\n",
    "    for f in files:\n",
    "        fp = os.path.join(path, f)\n",
    "        size += os.path.getsize(fp)\n",
    "        c += 1\n",
    "    size = size // (2**10)\n",
    "    report[f'{os.path.basename(path)}'] = {\"Size\": f'{size} KB', \"Files\":c}\n",
    "path = \"output.json\"\n",
    "\n",
    "# Open the file in write mode and use json.dump()\n",
    "with open(path, 'w') as f:\n",
    "    json.dump(report, f, indent=4)\n",
    "print(f\"Report generated as {path}\")"
   ]
  },
  {
   "cell_type": "code",
   "execution_count": null,
   "id": "af2ae076",
   "metadata": {},
   "outputs": [],
   "source": []
  },
  {
   "cell_type": "markdown",
   "id": "5791d390-e204-4c7a-8169-792bf6d02fd1",
   "metadata": {
    "jp-MarkdownHeadingCollapsed": true
   },
   "source": [
    "\n",
    "# glob module – Pattern Matching\n",
    "\n",
    "**Q:1 List all .csv and .json files in the current directory.**\n",
    "\n",
    "**Q:2 Recursively find all .jpg files in nested folders.**\n",
    "\n",
    "**Q:3 Use glob to count files grouped by extension.**\n",
    "\n",
    "**Q:4 Find files with names matching pattern report_*.txt.**\n",
    "\n",
    "**Q:5 Replace spaces with underscores in filenames found via glob.**\n",
    "\n",
    "**Q:6 Return all files with a date in the format 2025-06-*.log.**\n",
    "\n",
    "**Q:7 List all files with numeric names only (e.g., 123.txt).**\n",
    "\n",
    "**Q:8 Use glob to sort files by last modified time.**\n",
    "\n",
    "**Q:9 Find all .txt files larger than 100KB using glob and os.**\n",
    "\n",
    "**Q:10 Batch rename files with a custom suffix _archived.**\n",
    "\n",
    "**Q:11 Create a utility that indexes all media files and stores the paths in a SQLite DB.**\n",
    "\n",
    "**Q:12 Find duplicate filenames (regardless of path) across a directory tree.**\n",
    "\n",
    "**Q:13 Generate a file manifest with relative paths and hash (MD5) of contents.**\n",
    "\n",
    "**Q14: Use glob patterns dynamically to extract weekly reports (e.g., week_01.json, week_02.json).**\n",
    "\n",
    "**Q:15 Write a recursive file crawler that ignores folders listed in a .ignore file.**\n"
   ]
  },
  {
   "cell_type": "markdown",
   "id": "c099de13",
   "metadata": {},
   "source": [
    "### Question 1"
   ]
  },
  {
   "cell_type": "code",
   "execution_count": 81,
   "id": "e086f083-8cf2-409a-99bc-423710252c8b",
   "metadata": {},
   "outputs": [
    {
     "name": "stdout",
     "output_type": "stream",
     "text": [
      "['output.json', 'new.csv']\n"
     ]
    }
   ],
   "source": [
    "from glob import glob\n",
    "path = \"\"\n",
    "files = glob(\"*.json\")\n",
    "files += glob(\"*.csv\")\n",
    "print(files)"
   ]
  },
  {
   "cell_type": "markdown",
   "id": "a4a88c04",
   "metadata": {},
   "source": [
    "### Question 2"
   ]
  },
  {
   "cell_type": "code",
   "execution_count": 92,
   "id": "7960eb22-6d5a-478d-ae2b-7313d61d601f",
   "metadata": {},
   "outputs": [
    {
     "data": {
      "text/plain": [
       "['D:/PDP\\\\photo-1509718443690-d8e2fb3474b7.jpg',\n",
       " 'D:/PDP\\\\photo-1510915228340-29c85a43dcfe.jpg',\n",
       " 'D:/PDP\\\\photo-1521185496955-15097b20c5fe.jpg',\n",
       " 'D:/PDP\\\\photo-1587620962725-abab7fe55159.jpg',\n",
       " 'D:/PDP\\\\Images\\\\photo-1482062364825-616fd23b8fc1.jpg',\n",
       " 'D:/PDP\\\\Images\\\\photo-1493119508027-2b584f234d6c.jpg']"
      ]
     },
     "execution_count": 92,
     "metadata": {},
     "output_type": "execute_result"
    }
   ],
   "source": [
    "path = \"D:/PDP/\"\n",
    "jpg = glob(path +\"**/*.jpg\", recursive=True)\n",
    "jpg"
   ]
  },
  {
   "cell_type": "markdown",
   "id": "d36abbe8",
   "metadata": {},
   "source": [
    "### Question 3"
   ]
  },
  {
   "cell_type": "code",
   "execution_count": 119,
   "id": "a5ddb88a-132e-44ad-98a7-ef2889b90fc4",
   "metadata": {},
   "outputs": [
    {
     "name": "stdout",
     "output_type": "stream",
     "text": [
      "{'.ipynb': 15, '.pdf': 0, '.html': 0, '.ini': 0, '.txt': 1, '.docx': 0, '.zip': 0, '.msi': 0, '.csv': 0, '.json': 0, '.bak': 0}\n"
     ]
    }
   ],
   "source": [
    "import os\n",
    "import glob\n",
    "\n",
    "def countextensions(path):\n",
    "    counts = {}\n",
    "    pattern = os.path.join(path, '*')\n",
    "\n",
    "    for filepath in glob.glob(pattern):\n",
    "        if os.path.isfile(filepath):\n",
    "            _, extension = os.path.splitext(filepath)\n",
    "            if extension:\n",
    "                if extension.lower() in counts.keys(): counts[extension.lower()] += 1\n",
    "                else: counts[extension.lower()] = 0\n",
    "    return counts\n",
    "\n",
    "path = '.' \n",
    "file_counts = countextensions(path)\n",
    "print(file_counts)"
   ]
  },
  {
   "cell_type": "markdown",
   "id": "975daab9",
   "metadata": {},
   "source": [
    "### Question 4"
   ]
  },
  {
   "cell_type": "code",
   "execution_count": 122,
   "id": "e02f22be-8e15-4438-b6f0-89171f2cbd55",
   "metadata": {},
   "outputs": [
    {
     "name": "stdout",
     "output_type": "stream",
     "text": [
      "['report_1.txt', 'report_2.txt']\n"
     ]
    }
   ],
   "source": [
    "# Find files with names matching pattern report_*.txt.\n",
    "from glob import glob\n",
    "path = \"\"\n",
    "files = glob(\"report_*.txt\")\n",
    "print(files)"
   ]
  },
  {
   "cell_type": "markdown",
   "id": "dd1875f7",
   "metadata": {},
   "source": [
    "### Question 5"
   ]
  },
  {
   "cell_type": "code",
   "execution_count": 126,
   "id": "3a4d87d4-a7ea-4926-b1f6-98b57ef14353",
   "metadata": {},
   "outputs": [
    {
     "name": "stdout",
     "output_type": "stream",
     "text": [
      "['new text.txt']\n",
      "['new_text.txt', 'report_1.txt', 'report_2.txt']\n"
     ]
    }
   ],
   "source": [
    "# Replace spaces with underscores in filenames found via glob.\n",
    "def change_filenames(path):\n",
    "    files = glob(\"* *.txt\")\n",
    "    print(files)\n",
    "    for file in files:\n",
    "        new_name = \"\"\n",
    "        for s in file:\n",
    "            if s == \" \": new_name += \"_\"\n",
    "            else: new_name += s\n",
    "        os.rename(file,new_name)\n",
    "    files = glob(\"*_*.txt\")\n",
    "    return(files)\n",
    "path = \"\"\n",
    "print(change_filenames(path))"
   ]
  },
  {
   "cell_type": "markdown",
   "id": "29500ac9",
   "metadata": {},
   "source": [
    "### Question 6"
   ]
  },
  {
   "cell_type": "code",
   "execution_count": 127,
   "id": "7ee706df-4370-4da5-a142-b95c9437caca",
   "metadata": {},
   "outputs": [
    {
     "name": "stdout",
     "output_type": "stream",
     "text": [
      "['2025-06-20.log']\n"
     ]
    }
   ],
   "source": [
    "# Return all files with a date in the format 2025-06-*.log.\n",
    "path = \"\"\n",
    "files = glob(\"2025-06-*.log*\")\n",
    "print(files)"
   ]
  },
  {
   "cell_type": "markdown",
   "id": "8d932f2f",
   "metadata": {},
   "source": [
    "### Question 7"
   ]
  },
  {
   "cell_type": "code",
   "execution_count": 142,
   "id": "e9009881-91b6-499d-be9e-5b00becf893f",
   "metadata": {},
   "outputs": [
    {
     "name": "stdout",
     "output_type": "stream",
     "text": [
      "['1212.log', '123.txt']\n"
     ]
    }
   ],
   "source": [
    "#List all files with numeric names only (e.g., 123.txt).\n",
    "path = \"\"\n",
    "files = glob(\"*.*\")\n",
    "numeric = []\n",
    "for file in files:\n",
    "    base = os.path.splitext(file)[0]\n",
    "    if base.isdigit(): numeric.append(file)\n",
    "print(numeric)"
   ]
  },
  {
   "cell_type": "markdown",
   "id": "517d5159",
   "metadata": {},
   "source": [
    "### Question 8\n"
   ]
  },
  {
   "cell_type": "code",
   "execution_count": 143,
   "id": "04b33b98-b54f-4513-a552-da8cdd53c97c",
   "metadata": {},
   "outputs": [
    {
     "name": "stdout",
     "output_type": "stream",
     "text": [
      "['desktop.ini', 'Interviewprep.zip', 'FYP Proposal (4).docx', 'msodbcsql.msi', 'Contact_Us.pdf', 'report_1.txt', '#RollNo#Dask_Assignment.ipynb', 'BSDSF21A016_Dask_Assignment.ipynb', 'BSDSF21A016_Web_Crawler.ipynb', 'BSDSF21A016_HybridNumber.ipynb', 'dask_sort_report.html', 'BSDSF21A016_PARALLELSORTER.ipynb', 'BSDSF21A016_RealTimeLog.ipynb', 'Day1-Task.ipynb', 'Practice_Day2.ipynb', 'list_solution.ipynb', 'task-Day1.ipynb', 'warmup-day3.ipynb', '100-numpy-exercises.ipynb', 'pandas-exercises-1-fill-the-blancks.ipynb', 'pandas-solution.ipynb', 'Numpy_solution.ipynb', 'example.txt', 'test.log.bak', 'output.json', 'new.csv', 'report_2.txt', 'new_text.txt', '2025-06-20.log', '123.txt', '1212.log', 'Filing.ipynb']\n"
     ]
    }
   ],
   "source": [
    "# Use glob to sort files by last modified time.\n",
    "path = \"\"\n",
    "files = glob(r\"*.*\")\n",
    "files.sort(key = os.path.getmtime)\n",
    "print(files)"
   ]
  },
  {
   "cell_type": "markdown",
   "id": "aaf2f87f",
   "metadata": {},
   "source": [
    "### Question 9"
   ]
  },
  {
   "cell_type": "code",
   "execution_count": 151,
   "id": "93671702",
   "metadata": {},
   "outputs": [
    {
     "name": "stdout",
     "output_type": "stream",
     "text": [
      "['report_1.txt']\n",
      "['300 KB']\n"
     ]
    }
   ],
   "source": [
    "#Find all .txt files larger than 100KB using glob and os.\n",
    "path = \"\"\n",
    "files = glob(\"*.txt\")\n",
    "files = [file for file in files if os.path.getsize(file) > (2**12)]\n",
    "print(files)\n",
    "\n",
    "sizes = [f\"{os.path.getsize(file)//(2*10)} KB\" for file in files]\n",
    "print(sizes)"
   ]
  },
  {
   "cell_type": "markdown",
   "id": "506903a2",
   "metadata": {},
   "source": [
    "### Question 10"
   ]
  },
  {
   "cell_type": "code",
   "execution_count": 156,
   "id": "d821e352",
   "metadata": {},
   "outputs": [
    {
     "name": "stdout",
     "output_type": "stream",
     "text": [
      "['123archived.txt', 'new_renamedarchived.txt', 'new_textarchived.txt', 'report_1archived.txt', 'report_2archived.txt']\n",
      "['123archived_archived.txt', 'new_renamedarchived_archived.txt', 'new_textarchived_archived.txt', 'report_1archived_archived.txt', 'report_2archived_archived.txt']\n"
     ]
    }
   ],
   "source": [
    "# Batch rename files with a custom suffix _archived.\n",
    "def change_filenames(path):\n",
    "    files = glob(\"*.txt\")\n",
    "    print(files)\n",
    "    for file in files:\n",
    "        new_name = file[:-4] + \"_archived.txt\"\n",
    "        os.rename(file,new_name)\n",
    "    files = glob(\"*_archived.txt\")\n",
    "    return(files)\n",
    "path = \"\"\n",
    "print(change_filenames(path))"
   ]
  },
  {
   "cell_type": "code",
   "execution_count": null,
   "id": "0a12b055",
   "metadata": {},
   "outputs": [],
   "source": []
  },
  {
   "cell_type": "code",
   "execution_count": null,
   "id": "3aa3b80a",
   "metadata": {},
   "outputs": [],
   "source": []
  },
  {
   "cell_type": "code",
   "execution_count": null,
   "id": "93cb0310",
   "metadata": {},
   "outputs": [],
   "source": []
  },
  {
   "cell_type": "code",
   "execution_count": null,
   "id": "766f8f21",
   "metadata": {},
   "outputs": [],
   "source": []
  },
  {
   "cell_type": "markdown",
   "id": "11836593-dc92-44d0-953c-46ac17571473",
   "metadata": {
    "jp-MarkdownHeadingCollapsed": true
   },
   "source": [
    "\n",
    "# File Handling – Text & Binary Files\n",
    "\n",
    "**Q:1 Count the number of lines in a file without loading it entirely.**\n",
    "\n",
    "**Q:2 Replace a specific word in a file and save it to a new file.**\n",
    "\n",
    "**Q:3 Append data to an existing file with a timestamp.**\n",
    "\n",
    "**Q:4 Read and print the first 10 lines of a file.**\n",
    "\n",
    "**Q:5 Write a list of dictionaries as CSV manually (without csv module).**\n",
    "\n",
    "**Q:6 Copy a binary file in chunks (e.g., image or PDF).**\n",
    "\n",
    "**Q:7 Write a function to compare two files and print the differing lines.**\n",
    "\n",
    "**Q:8 Safely read a file that may not exist using try-except.**\n",
    "\n",
    "**Q:9 Read a file using a specific encoding (e.g., UTF-16).**\n",
    "\n",
    "**Q:10 Detect and skip empty lines when reading a file.**\n",
    "\n",
    "**Q:11 Implement a log rotation mechanism: create log.txt, log_1.txt, etc. when size exceeds 1MB.**\n",
    "\n",
    "**Q:12 Build a file-based key-value store using JSON per line.**\n",
    "\n",
    "**Q:13 Implement version control: on every write, back up the previous version with a timestamp.**\n",
    "\n",
    "**Q:14 Create a reader that detects encoding using chardet or fallback encoding.**\n",
    "\n",
    "**Q:15 Convert a large log file into separate files per date based on timestamps in each line.**\n"
   ]
  },
  {
   "cell_type": "markdown",
   "id": "d11daa87",
   "metadata": {},
   "source": [
    "### Question 1"
   ]
  },
  {
   "cell_type": "code",
   "execution_count": 163,
   "id": "cd9fca21-d1a6-43c9-a323-ac90a2d11f00",
   "metadata": {},
   "outputs": [
    {
     "name": "stdout",
     "output_type": "stream",
     "text": [
      "151\n"
     ]
    }
   ],
   "source": [
    "# Count the number of lines in a file without loading it entirely.\n",
    "with open(\"report_1.txt\",'r') as f:\n",
    "    a = f.readlines()\n",
    "    \n",
    "print(len(a))"
   ]
  },
  {
   "cell_type": "markdown",
   "id": "cb3fc89b",
   "metadata": {},
   "source": [
    "### Question 2 "
   ]
  },
  {
   "cell_type": "code",
   "execution_count": 171,
   "id": "973c8888-d4f2-4ef3-a557-935b1c0153f9",
   "metadata": {},
   "outputs": [
    {
     "name": "stdout",
     "output_type": "stream",
     "text": [
      "This is a text file created with os.\n",
      "This is a text file created from os.\n"
     ]
    }
   ],
   "source": [
    "# Replace a specific word in a file and save it to a new file.\n",
    "with open(\"new.txt\",'r+') as f:\n",
    "    a = f.read()\n",
    "print(a)\n",
    "a1 = a.replace('with','from')\n",
    "with open(\"new.txt\",'r+') as f:\n",
    "    f.write(a1)\n",
    "    f.seek(0)\n",
    "    a = f.read()\n",
    "print(a)"
   ]
  },
  {
   "cell_type": "markdown",
   "id": "5f10f458",
   "metadata": {},
   "source": [
    "### Question 3"
   ]
  },
  {
   "cell_type": "code",
   "execution_count": 182,
   "id": "0366559c-111f-43cd-b9cf-d5a0a57951ac",
   "metadata": {},
   "outputs": [
    {
     "name": "stdout",
     "output_type": "stream",
     "text": [
      "This is a text file created from os.\n",
      "This appends new data at 2025-06-20 16:37:47.624864\n",
      "This appends new data at 2025-06-20 16:38:13.089198\n"
     ]
    }
   ],
   "source": [
    "# Append data to an existing file with a timestamp.\n",
    "from datetime import datetime\n",
    "s = datetime.now()\n",
    "with open('new.txt','a') as f:\n",
    "    f.write(f\"\\nThis appends new data at {str(s)}\")\n",
    "with open('new.txt','r') as f:\n",
    "    a = f.read()\n",
    "print(a)"
   ]
  },
  {
   "cell_type": "markdown",
   "id": "be4589be",
   "metadata": {},
   "source": [
    "### Question 4"
   ]
  },
  {
   "cell_type": "code",
   "execution_count": 190,
   "id": "53751a3c-9427-4fe1-97b4-ecc3646dd2b6",
   "metadata": {},
   "outputs": [
    {
     "name": "stdout",
     "output_type": "stream",
     "text": [
      ",sepal_length,sepal_width,petal_length,petal_width,class_name\n",
      "\n",
      "0,\"5.1,3.5,1.4,0.2,Iris-setosa\",,,,\n",
      "\n",
      "1,\"4.9,3.0,1.4,0.2,Iris-setosa\",,,,\n",
      "\n",
      "2,\"4.7,3.2,1.3,0.2,Iris-setosa\",,,,\n",
      "\n",
      "3,\"4.6,3.1,1.5,0.2,Iris-setosa\",,,,\n",
      "\n",
      "4,\"5.0,3.6,1.4,0.2,Iris-setosa\",,,,\n",
      "\n",
      "5,\"5.4,3.9,1.7,0.4,Iris-setosa\",,,,\n",
      "\n",
      "6,\"4.6,3.4,1.4,0.3,Iris-setosa\",,,,\n",
      "\n",
      "7,\"5.0,3.4,1.5,0.2,Iris-setosa\",,,,\n",
      "\n",
      "8,\"4.4,2.9,1.4,0.2,Iris-setosa\",,,,\n",
      "\n"
     ]
    }
   ],
   "source": [
    "# Read and print the first 10 lines of a file.\n",
    "with open(\"report_1.txt\",'r') as f:\n",
    "    for i in range(10):\n",
    "        a = f.readline()\n",
    "        print(a)"
   ]
  },
  {
   "cell_type": "markdown",
   "id": "c2439241",
   "metadata": {},
   "source": [
    "### Question 5"
   ]
  },
  {
   "cell_type": "code",
   "execution_count": null,
   "id": "03611855-540e-4c06-b88a-9818bd7c4e1f",
   "metadata": {},
   "outputs": [],
   "source": [
    "# Write a list of dictionaries as CSV manually (without csv module).\\\n",
    "lst = [{\"a\":1,:\"b\":2,\"c\":3}, {\"a\":4,:\"b\":3,\"c\":7}, {\"a\":5,:\"b\":9,\"c\":4}]\n",
    "with open(\"dict.csv\",\"w+\"):\n",
    "    for a in lst:\n",
    "        "
   ]
  },
  {
   "cell_type": "markdown",
   "id": "3e35f84e",
   "metadata": {},
   "source": [
    "### Question 6"
   ]
  },
  {
   "cell_type": "code",
   "execution_count": 195,
   "id": "e0ec443e-67c2-4aae-bf45-61348919674a",
   "metadata": {},
   "outputs": [
    {
     "name": "stdout",
     "output_type": "stream",
     "text": [
      "File copied successfully.\n"
     ]
    }
   ],
   "source": [
    "# Copy a binary file in chunks (e.g., image or PDF).\n",
    "source = r\"D:/PDP/photo-1509718443690-d8e2fb3474b7.jpg\"  # Add your appropriate path\n",
    "destination = r\"./Copy.jpg\"\n",
    "with open(source, 'rb') as src_file, open(destination, 'wb') as dst_file:\n",
    "    dst_file.write(src_file.read())\n",
    "print(\"File copied successfully.\")"
   ]
  },
  {
   "cell_type": "markdown",
   "id": "e26adb5e",
   "metadata": {},
   "source": [
    "### Question 7"
   ]
  },
  {
   "cell_type": "code",
   "execution_count": 199,
   "id": "432c9462-d5ca-4f95-953c-15c9c7136de9",
   "metadata": {},
   "outputs": [
    {
     "name": "stdout",
     "output_type": "stream",
     "text": [
      "This appends new data at 2025-06-20 16:37:47.624864\n",
      " This is second line.\n",
      "\n",
      "This appends new data at 2025-06-20 16:38:13.089198 This is third line.\n"
     ]
    }
   ],
   "source": [
    "# Write a function to compare two files and print the differing lines.\n",
    "file1 = \"new.txt\"\n",
    "file2 = \"new1.txt\"\n",
    "\n",
    "with open(file1,\"r\") as f1, open(file2,\"r\") as f2:\n",
    "    r1 = f1.readlines()\n",
    "    r2 = f2.readlines()\n",
    "    for i in range(len(r1)):\n",
    "        if r1[i] != r2[i]:\n",
    "            print(r1[i] ,r2[i])"
   ]
  },
  {
   "cell_type": "code",
   "execution_count": null,
   "id": "80361657-7f56-4534-b5f6-b7eee56ecc67",
   "metadata": {},
   "outputs": [],
   "source": []
  },
  {
   "cell_type": "code",
   "execution_count": null,
   "id": "9a72e9a6-e186-4d1d-b8b5-f52b3b781d59",
   "metadata": {},
   "outputs": [],
   "source": []
  },
  {
   "cell_type": "code",
   "execution_count": null,
   "id": "9876fee2-bf07-4bc1-aee4-e7720ee401bd",
   "metadata": {},
   "outputs": [],
   "source": []
  },
  {
   "cell_type": "code",
   "execution_count": null,
   "id": "3c941d47-d2a4-473e-b853-798bccd0d1d2",
   "metadata": {},
   "outputs": [],
   "source": []
  },
  {
   "cell_type": "markdown",
   "id": "49b7b4dc-a5af-49a8-b1a6-2629376ed791",
   "metadata": {
    "jp-MarkdownHeadingCollapsed": true
   },
   "source": [
    "\n",
    "# JSON Handling – json module\n",
    "\n",
    "**Q:1 Load JSON from a file and print a nested field (e.g., data[\"user\"][\"name\"]).**\n",
    "\n",
    "**Q:2 Write a Python dict to a file with pretty formatting.**\n",
    "\n",
    "**Q:3 Merge multiple JSON objects into a single file.**\n",
    "\n",
    "**Q:4 Convert a JSON array into CSV format.**\n",
    "\n",
    "**Q:5 Update a nested key inside a loaded JSON.**\n",
    "\n",
    "**Q:6 Create a function to pretty-print JSON from string input.**\n",
    "\n",
    "**Q:7 Safely load malformed JSON with exception handling.**\n",
    "\n",
    "**Q:8 Remove a key from each item in a JSON list and re-save.**\n",
    "\n",
    "**Q:9 Convert an object with datetime to a JSON string using a custom encoder.**\n",
    "\n",
    "**Q:10 Search for all values associated with a key in nested JSON.**\n",
    "\n",
    "**Q:11 Write a function to flatten deeply nested JSON into a flat dictionary.**\n",
    "\n",
    "**Q:12 Build a recursive JSON validator for required schema keys.**\n",
    "\n",
    "**Q:13 Convert a nested JSON into a pandas DataFrame with normalized columns.**\n",
    "\n",
    "**Q:14 Create a diff tool that compares two JSON files and shows key-level changes.**\n",
    "\n",
    "**Q:15 Handle and fix trailing commas in malformed JSON before parsing.**\n",
    "\n"
   ]
  },
  {
   "cell_type": "code",
   "execution_count": null,
   "id": "96ed1e4b-4790-418d-ba76-3fd3697603c6",
   "metadata": {},
   "outputs": [],
   "source": []
  },
  {
   "cell_type": "code",
   "execution_count": null,
   "id": "a945a883-853d-412f-b1eb-4696b812d624",
   "metadata": {},
   "outputs": [],
   "source": []
  },
  {
   "cell_type": "code",
   "execution_count": null,
   "id": "bea19279-5e6b-4e2b-8b55-5f1afa5bf4d4",
   "metadata": {},
   "outputs": [],
   "source": []
  },
  {
   "cell_type": "code",
   "execution_count": null,
   "id": "47d69ea5-4a78-48b2-83e2-c02b21be9c58",
   "metadata": {},
   "outputs": [],
   "source": []
  },
  {
   "cell_type": "code",
   "execution_count": null,
   "id": "44ca8311-ecec-4810-a343-fef73c3fdda4",
   "metadata": {},
   "outputs": [],
   "source": []
  },
  {
   "cell_type": "code",
   "execution_count": null,
   "id": "0ea9a5f6-031c-49d3-bbc5-165459650667",
   "metadata": {},
   "outputs": [],
   "source": []
  },
  {
   "cell_type": "code",
   "execution_count": null,
   "id": "c29b99d1-d6e9-4fca-9c86-c9c62cb3d03b",
   "metadata": {},
   "outputs": [],
   "source": []
  },
  {
   "cell_type": "code",
   "execution_count": null,
   "id": "b3708f19-a270-4366-bd8e-6044a70d2989",
   "metadata": {},
   "outputs": [],
   "source": []
  },
  {
   "cell_type": "code",
   "execution_count": null,
   "id": "c4462486-b8a9-492b-8c85-415a6869ac9d",
   "metadata": {},
   "outputs": [],
   "source": []
  },
  {
   "cell_type": "code",
   "execution_count": null,
   "id": "b5a38e81-21a8-4534-bf38-b56e602348cb",
   "metadata": {},
   "outputs": [],
   "source": []
  },
  {
   "cell_type": "code",
   "execution_count": null,
   "id": "edeaed10-eec5-450f-a8bb-ab3d9c200aa8",
   "metadata": {},
   "outputs": [],
   "source": []
  },
  {
   "cell_type": "code",
   "execution_count": null,
   "id": "719153bf-475c-404e-ab37-4df1bae3355d",
   "metadata": {},
   "outputs": [],
   "source": []
  },
  {
   "cell_type": "code",
   "execution_count": null,
   "id": "e3306548-70c6-4a3b-8977-93d0f632d2e7",
   "metadata": {},
   "outputs": [],
   "source": []
  },
  {
   "cell_type": "code",
   "execution_count": null,
   "id": "c22e231e-9fd0-41ea-a70d-0d0095e4665e",
   "metadata": {},
   "outputs": [],
   "source": []
  },
  {
   "cell_type": "code",
   "execution_count": null,
   "id": "a9fb0524-fa1d-4cc8-99e6-c52f55e6f085",
   "metadata": {},
   "outputs": [],
   "source": []
  },
  {
   "cell_type": "markdown",
   "id": "3083804d-5685-4ed0-852d-40333ae26433",
   "metadata": {
    "jp-MarkdownHeadingCollapsed": true
   },
   "source": [
    "    \n",
    "# Regular Expressions – re module\n",
    "\n",
    "**Q:1 Extract email addresses from a string using re.findall().**\n",
    "\n",
    "**Q:2 Validate a US phone number using regex.**\n",
    "\n",
    "**Q:3 Extract hashtags from a tweet-like string.**\n",
    "\n",
    "**Q:4 Replace all numbers with # in a paragraph.**\n",
    "\n",
    "**Q:5 Match filenames with extension .pdf, .docx, or .xlsx.**\n",
    "\n",
    "**Q:6 Split a paragraph into sentences using regex.**\n",
    "\n",
    "**Q:7 Match a date in the format DD-MM-YYYY or YYYY/MM/DD.**\n",
    "\n",
    "**Q:8 Extract quoted strings from text (e.g., \"like this\").**\n",
    "\n",
    "**Q:9 Clean a text by removing special characters except alphanumerics and spaces.**\n",
    "\n",
    "**Q:10 Capture repeated words like the the, is is in a sentence.**\n",
    "\n",
    "**Q:11 Write a regex that extracts values from key-value pairs (key: value) even if keys contain spaces.**\n",
    "\n",
    "**Q:12 Extract nested parentheses using recursive regex (advanced feature).**\n",
    "\n",
    "**Q:13 Create a regex to detect and fix malformed URLs in a text block.**\n",
    "\n",
    "**Q:14 Build a pattern to extract address-like strings (e.g., 123 Main St, City, ZIP).**\n",
    "\n",
    "**Q:15 Tokenize a log line into timestamp, level, and message using regex groups.**"
   ]
  },
  {
   "cell_type": "code",
   "execution_count": null,
   "id": "f26db1f6-d95e-4acf-9865-f30af739bdec",
   "metadata": {},
   "outputs": [],
   "source": []
  },
  {
   "cell_type": "code",
   "execution_count": null,
   "id": "9df5434d-35b9-4115-b333-ace145a2bdda",
   "metadata": {},
   "outputs": [],
   "source": []
  },
  {
   "cell_type": "code",
   "execution_count": null,
   "id": "661df70d-da86-4263-9964-a6ac85f13087",
   "metadata": {},
   "outputs": [],
   "source": []
  },
  {
   "cell_type": "code",
   "execution_count": null,
   "id": "b0d06c91-2baa-4cc3-b919-d5b66e479ce1",
   "metadata": {},
   "outputs": [],
   "source": []
  },
  {
   "cell_type": "code",
   "execution_count": null,
   "id": "47b77dc7-10d4-4dd3-bff1-96221bf711cb",
   "metadata": {},
   "outputs": [],
   "source": []
  },
  {
   "cell_type": "code",
   "execution_count": null,
   "id": "56308ae4-1cba-4d32-93a3-6c0b6ec54047",
   "metadata": {},
   "outputs": [],
   "source": []
  },
  {
   "cell_type": "code",
   "execution_count": null,
   "id": "506b8c6c-eb88-4d2a-9ca9-a1f1fb3ace9f",
   "metadata": {},
   "outputs": [],
   "source": []
  },
  {
   "cell_type": "code",
   "execution_count": null,
   "id": "8ae3d300-1edc-48ed-8989-5a324c4e6a5c",
   "metadata": {},
   "outputs": [],
   "source": []
  },
  {
   "cell_type": "code",
   "execution_count": null,
   "id": "a2451580-9fd8-4352-95dc-712a1bc956f5",
   "metadata": {},
   "outputs": [],
   "source": []
  },
  {
   "cell_type": "code",
   "execution_count": null,
   "id": "8ddb494a-144b-4a43-8213-519acf6e04a2",
   "metadata": {},
   "outputs": [],
   "source": []
  },
  {
   "cell_type": "code",
   "execution_count": null,
   "id": "1f66d7a7-5d04-41d0-b569-28c958a0c8c3",
   "metadata": {},
   "outputs": [],
   "source": []
  }
 ],
 "metadata": {
  "kernelspec": {
   "display_name": "Python 3 (ipykernel)",
   "language": "python",
   "name": "python3"
  },
  "language_info": {
   "codemirror_mode": {
    "name": "ipython",
    "version": 3
   },
   "file_extension": ".py",
   "mimetype": "text/x-python",
   "name": "python",
   "nbconvert_exporter": "python",
   "pygments_lexer": "ipython3",
   "version": "3.11.5"
  }
 },
 "nbformat": 4,
 "nbformat_minor": 5
}
