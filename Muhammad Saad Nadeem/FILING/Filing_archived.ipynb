{
 "cells": [
  {
   "cell_type": "markdown",
   "id": "64d0c9e3-3656-4283-99df-33c0316c7908",
   "metadata": {
    "jp-MarkdownHeadingCollapsed": true
   },
   "source": [
    "# os module – File & Directory Operations\n",
    "\n",
    "**Q:1 Create, Read, Rename, Remove files and folder**\n",
    "\n",
    "**Q:1 Get the current working directory and navigate to a sibling directory**\n",
    "\n",
    "**Q:2 Recursively list all files in a directory using only os.**\n",
    "\n",
    "**Q:3 Check if a given path is a file, directory, or doesn't exist.**\n",
    "\n",
    "**Q:4 Create a deeply nested folder structure like**\n",
    "\n",
    "**Q:5 Delete all empty directories from a given folder tree.**\n",
    "\n",
    "**Q:6 Count the number of .txt files in a directory using os.listdir().**\n",
    "\n",
    "**Q:7 Move files from one folder to another, creating the destination if needed.**\n",
    "\n",
    "**Q:8 Rename all .log files to .log.bak within a folder.**\n",
    "\n",
    "**Q:9 Print the total size of all files in a directory in MB.**\n",
    "\n",
    "**Q:10 Print the directory tree with indentation (like the tree command).**\n",
    "\n",
    "**Q:11 Write a function that synchronizes the structure of two directory trees (mirror mode).**\n",
    "\n",
    "**Q:12 Implement a safe folder deletion function that first moves the folder to a Trash directory.**\n",
    "\n",
    "**Q13: Find and print the most recently modified file in a directory recursively.**\n",
    "\n",
    "**Q:14 Generate a directory report (file count, total size, subfolders) in JSON format.**\n",
    "\n",
    "**Q:15 Track changes (additions/removals) in a directory over time using file snapshots.**\n",
    "\n"
   ]
  },
  {
   "cell_type": "code",
   "execution_count": 14,
   "id": "0cb604f0-de66-4950-b150-3ea858f1ba9c",
   "metadata": {},
   "outputs": [
    {
     "name": "stdout",
     "output_type": "stream",
     "text": [
      "My name is Saad at, and I am a 25-year-old woman from Afghanistan. I am a refugee who has\n"
     ]
    }
   ],
   "source": [
    "f=open(\"yufile.txt\")\n",
    "print(f.read())\n",
    "f.close()"
   ]
  },
  {
   "cell_type": "code",
   "execution_count": 8,
   "id": "d3de0b42-c67e-49e2-b0d9-225e9d3f9a91",
   "metadata": {},
   "outputs": [],
   "source": [
    "import os\n",
    "os.remove(\"nofile.txt\")\n"
   ]
  },
  {
   "cell_type": "code",
   "execution_count": null,
   "id": "9375de53-f7e0-4781-a449-6ad8eab91288",
   "metadata": {},
   "outputs": [
    {
     "name": "stdout",
     "output_type": "stream",
     "text": [
      "Created 'my_old_folder' for demonstration.\n",
      "Folder 'my_old_folder' renamed to 'my_new_folder'.\n"
     ]
    }
   ],
   "source": []
  },
  {
   "cell_type": "code",
   "execution_count": 15,
   "id": "6aff88b7-92de-4cf0-9452-cd880199e516",
   "metadata": {},
   "outputs": [],
   "source": [
    "os.mkdir(\"MYFOLDER\")"
   ]
  },
  {
   "cell_type": "code",
   "execution_count": 26,
   "id": "1fe3144f-c8f8-464b-b0b0-c83a0079d9b4",
   "metadata": {},
   "outputs": [],
   "source": [
    "os.rmdir(\"my_new_folder\")"
   ]
  },
  {
   "cell_type": "code",
   "execution_count": 22,
   "id": "a504a41f-193c-4ea9-849a-58df15a77f9b",
   "metadata": {},
   "outputs": [
    {
     "name": "stdout",
     "output_type": "stream",
     "text": [
      "Contents of 'C:\\Users\\Saad\\Documents\\GitHub\\Programmers_Force\\CardProject':\n",
      ".vscode\n",
      "B_card.jpg\n",
      "B_card_extracted_data.json\n",
      "card-detection-0000-db10ff830d97.json\n",
      "check.py\n",
      "correct.json\n",
      "C_card.jpg\n",
      "C_card_extracted_data.json\n",
      "final.py\n",
      "G_card.jpg\n",
      "G_card_extracted_data.json\n",
      "Hamza.jpg\n",
      "Hamza_Card.jpg\n",
      "M_card.PNG\n",
      "M_card_extracted_data.json\n",
      "nic_extracted_data.json\n",
      "person.jpg\n",
      "process_extracted_text.py\n",
      "P_card.jpg\n",
      "P_card_extracted_data.json\n",
      "sir.jpg\n",
      "sirid.jpg\n",
      "sirid_extracted_data.json\n",
      "tesseract-main\n",
      "test.py\n",
      "text_detect.ipynb\n",
      "UAE_card.png\n",
      "umair.jpg\n",
      "umair_card.jpg\n",
      "universal_card_parser.py\n"
     ]
    }
   ],
   "source": [
    "\n",
    "\n",
    "folder_path = r\"C:\\Users\\Saad\\Documents\\GitHub\\Programmers_Force\\CardProject\"  # Replace with the actual path\n",
    "contents = os.listdir(folder_path)\n",
    "print(f\"Contents of '{folder_path}':\")\n",
    "for item in contents:\n",
    "        print(item)"
   ]
  },
  {
   "cell_type": "code",
   "execution_count": 31,
   "id": "73e2337b-6b7b-49fe-9931-d7c591bc141b",
   "metadata": {},
   "outputs": [
    {
     "name": "stdout",
     "output_type": "stream",
     "text": [
      "c:\\Users\\Saad\\Documents\\GitHub\\Programmers_Force\\FILING\\--f=c:\\Users\\Saad\\AppData\\Roaming\\jupyter\\runtime\n"
     ]
    }
   ],
   "source": [
    "import sys\n",
    "script_directory = os.path.dirname(os.path.abspath(sys.argv[1]))\n",
    "print(script_directory)"
   ]
  },
  {
   "cell_type": "code",
   "execution_count": 32,
   "id": "7b41c41b-7da5-45e5-bfdd-476e72724bcb",
   "metadata": {},
   "outputs": [
    {
     "data": {
      "text/plain": [
       "'c:\\\\Users\\\\Saad\\\\Documents\\\\GitHub\\\\Programmers_Force\\\\CardProject'"
      ]
     },
     "execution_count": 32,
     "metadata": {},
     "output_type": "execute_result"
    }
   ],
   "source": [
    "cwd=os.getcwd()\n",
    "path=os.path.join(os.path.dirname(cwd),'CardProject')\n",
    "os.chdir(path)\n",
    "os.getcwd()\n",
    "\n"
   ]
  },
  {
   "cell_type": "code",
   "execution_count": 35,
   "id": "26b0a2bb-3b00-4100-b845-86d5624a98c7",
   "metadata": {},
   "outputs": [
    {
     "name": "stdout",
     "output_type": "stream",
     "text": [
      "C:\\Users\\Saad\\Documents\\GitHub\\Programmers_Force\\FILING\\Filing.ipynb\n",
      "C:\\Users\\Saad\\Documents\\GitHub\\Programmers_Force\\FILING\\yufile.txt\n"
     ]
    }
   ],
   "source": [
    "def list_files_recursive(directory):\n",
    "    for entry in os.listdir(directory):\n",
    "        path = os.path.join(directory, entry)\n",
    "        if os.path.isdir(path):\n",
    "            list_files_recursive(path)  \n",
    "        else:\n",
    "            print(path) \n",
    "\n",
    "list_files_recursive(r\"C:\\Users\\Saad\\Documents\\GitHub\\Programmers_Force\\FILING\")\n"
   ]
  },
  {
   "cell_type": "code",
   "execution_count": 40,
   "id": "04406f76-8c61-422d-b1dc-082d6b359127",
   "metadata": {},
   "outputs": [
    {
     "name": "stdout",
     "output_type": "stream",
     "text": [
      "File\n"
     ]
    }
   ],
   "source": [
    "def curr_file_check(p):\n",
    "    if os.path.isfile(p):\n",
    "        print(\"File\")\n",
    "    elif os.path.isdir(p):\n",
    "        print(\"Folder\")    \n",
    "    \n",
    "    \n",
    "\n",
    "p=r'C:\\Users\\Saad\\Documents\\GitHub\\Programmers_Force\\FILING\\yufile.txt'\n",
    "curr_file_check(p)"
   ]
  },
  {
   "cell_type": "code",
   "execution_count": 44,
   "id": "1a2e636e-228e-43e5-8c2a-27b465e9f994",
   "metadata": {},
   "outputs": [],
   "source": [
    "import os\n",
    "\n",
    "def create_nested_from_list(base_path, folders):\n",
    "    path = base_path\n",
    "    for folder in folders:\n",
    "        path = os.path.join(path, folder)\n",
    "        os.makedirs(path, exist_ok=True)\n",
    "\n",
    "folders = [\"level1\", \"level2\", \"level3\", \"level4\"]\n",
    "create_nested_from_list(\"p\", folders)\n"
   ]
  },
  {
   "cell_type": "code",
   "execution_count": null,
   "id": "ae90520a-7168-4c28-ba04-e38cf6969d2c",
   "metadata": {},
   "outputs": [
    {
     "name": "stdout",
     "output_type": "stream",
     "text": [
      "Deleted directory: c:\\Users\\Saad\\Documents\\GitHub\\Programmers_Force\\CardProject\\my_root\\level1\\level2\\level3\\level4\n",
      "Deleted directory: c:\\Users\\Saad\\Documents\\GitHub\\Programmers_Force\\CardProject\\my_root\\level1\\level2\\level3\n",
      "Deleted directory: c:\\Users\\Saad\\Documents\\GitHub\\Programmers_Force\\CardProject\\my_root\\level1\\level2\n",
      "Deleted directory: c:\\Users\\Saad\\Documents\\GitHub\\Programmers_Force\\CardProject\\my_root\\level1\n",
      "Deleted directory: c:\\Users\\Saad\\Documents\\GitHub\\Programmers_Force\\CardProject\\p\\level1\\level2\\level3\\level4\n",
      "Deleted directory: c:\\Users\\Saad\\Documents\\GitHub\\Programmers_Force\\CardProject\\p\\level1\\level2\\level3\n",
      "Deleted directory: c:\\Users\\Saad\\Documents\\GitHub\\Programmers_Force\\CardProject\\p\\level1\\level2\n",
      "Deleted directory: c:\\Users\\Saad\\Documents\\GitHub\\Programmers_Force\\CardProject\\p\\level1\n",
      "Deleted directory: c:\\Users\\Saad\\Documents\\GitHub\\Programmers_Force\\CardProject\\Reyyan\\level1\\level2\\level3\\level4\n",
      "Deleted directory: c:\\Users\\Saad\\Documents\\GitHub\\Programmers_Force\\CardProject\\Reyyan\\level1\\level2\\level3\n",
      "Deleted directory: c:\\Users\\Saad\\Documents\\GitHub\\Programmers_Force\\CardProject\\Reyyan\\level1\\level2\n",
      "Deleted directory: c:\\Users\\Saad\\Documents\\GitHub\\Programmers_Force\\CardProject\\Reyyan\\level1\n",
      "Deleted directory: c:\\Users\\Saad\\Documents\\GitHub\\Programmers_Force\\CardProject\\Saad\\level1\\level2\\level3\\level4\n",
      "Deleted directory: c:\\Users\\Saad\\Documents\\GitHub\\Programmers_Force\\CardProject\\Saad\\level1\\level2\\level3\n",
      "Deleted directory: c:\\Users\\Saad\\Documents\\GitHub\\Programmers_Force\\CardProject\\Saad\\level1\\level2\n",
      "Deleted directory: c:\\Users\\Saad\\Documents\\GitHub\\Programmers_Force\\CardProject\\Saad\\level1\n",
      "Could not delete c:\\Users\\Saad\\Documents\\GitHub\\Programmers_Force\\CardProject\\tesseract-main\\.github\\ISSUE_TEMPLATE: [WinError 145] The directory is not empty: 'c:\\\\Users\\\\Saad\\\\Documents\\\\GitHub\\\\Programmers_Force\\\\CardProject\\\\tesseract-main\\\\.github\\\\ISSUE_TEMPLATE'\n",
      "Could not delete c:\\Users\\Saad\\Documents\\GitHub\\Programmers_Force\\CardProject\\tesseract-main\\.github\\workflows: [WinError 145] The directory is not empty: 'c:\\\\Users\\\\Saad\\\\Documents\\\\GitHub\\\\Programmers_Force\\\\CardProject\\\\tesseract-main\\\\.github\\\\workflows'\n",
      "Could not delete c:\\Users\\Saad\\Documents\\GitHub\\Programmers_Force\\CardProject\\tesseract-main\\cmake\\templates: [WinError 145] The directory is not empty: 'c:\\\\Users\\\\Saad\\\\Documents\\\\GitHub\\\\Programmers_Force\\\\CardProject\\\\tesseract-main\\\\cmake\\\\templates'\n",
      "Could not delete c:\\Users\\Saad\\Documents\\GitHub\\Programmers_Force\\CardProject\\tesseract-main\\include\\tesseract: [WinError 145] The directory is not empty: 'c:\\\\Users\\\\Saad\\\\Documents\\\\GitHub\\\\Programmers_Force\\\\CardProject\\\\tesseract-main\\\\include\\\\tesseract'\n",
      "Could not delete c:\\Users\\Saad\\Documents\\GitHub\\Programmers_Force\\CardProject\\tesseract-main\\java\\com\\google\\scrollview\\events: [WinError 145] The directory is not empty: 'c:\\\\Users\\\\Saad\\\\Documents\\\\GitHub\\\\Programmers_Force\\\\CardProject\\\\tesseract-main\\\\java\\\\com\\\\google\\\\scrollview\\\\events'\n",
      "Could not delete c:\\Users\\Saad\\Documents\\GitHub\\Programmers_Force\\CardProject\\tesseract-main\\java\\com\\google\\scrollview\\ui: [WinError 145] The directory is not empty: 'c:\\\\Users\\\\Saad\\\\Documents\\\\GitHub\\\\Programmers_Force\\\\CardProject\\\\tesseract-main\\\\java\\\\com\\\\google\\\\scrollview\\\\ui'\n",
      "Could not delete c:\\Users\\Saad\\Documents\\GitHub\\Programmers_Force\\CardProject\\tesseract-main\\java\\com\\google\\scrollview: [WinError 145] The directory is not empty: 'c:\\\\Users\\\\Saad\\\\Documents\\\\GitHub\\\\Programmers_Force\\\\CardProject\\\\tesseract-main\\\\java\\\\com\\\\google\\\\scrollview'\n",
      "Could not delete c:\\Users\\Saad\\Documents\\GitHub\\Programmers_Force\\CardProject\\tesseract-main\\java\\com\\google: [WinError 145] The directory is not empty: 'c:\\\\Users\\\\Saad\\\\Documents\\\\GitHub\\\\Programmers_Force\\\\CardProject\\\\tesseract-main\\\\java\\\\com\\\\google'\n",
      "Could not delete c:\\Users\\Saad\\Documents\\GitHub\\Programmers_Force\\CardProject\\tesseract-main\\java\\com: [WinError 145] The directory is not empty: 'c:\\\\Users\\\\Saad\\\\Documents\\\\GitHub\\\\Programmers_Force\\\\CardProject\\\\tesseract-main\\\\java\\\\com'\n",
      "Could not delete c:\\Users\\Saad\\Documents\\GitHub\\Programmers_Force\\CardProject\\tesseract-main\\nsis\\include: [WinError 145] The directory is not empty: 'c:\\\\Users\\\\Saad\\\\Documents\\\\GitHub\\\\Programmers_Force\\\\CardProject\\\\tesseract-main\\\\nsis\\\\include'\n",
      "Could not delete c:\\Users\\Saad\\Documents\\GitHub\\Programmers_Force\\CardProject\\tesseract-main\\src\\training\\common: [WinError 145] The directory is not empty: 'c:\\\\Users\\\\Saad\\\\Documents\\\\GitHub\\\\Programmers_Force\\\\CardProject\\\\tesseract-main\\\\src\\\\training\\\\common'\n",
      "Could not delete c:\\Users\\Saad\\Documents\\GitHub\\Programmers_Force\\CardProject\\tesseract-main\\src\\training\\pango: [WinError 145] The directory is not empty: 'c:\\\\Users\\\\Saad\\\\Documents\\\\GitHub\\\\Programmers_Force\\\\CardProject\\\\tesseract-main\\\\src\\\\training\\\\pango'\n",
      "Could not delete c:\\Users\\Saad\\Documents\\GitHub\\Programmers_Force\\CardProject\\tesseract-main\\src\\training\\unicharset: [WinError 145] The directory is not empty: 'c:\\\\Users\\\\Saad\\\\Documents\\\\GitHub\\\\Programmers_Force\\\\CardProject\\\\tesseract-main\\\\src\\\\training\\\\unicharset'\n",
      "Could not delete c:\\Users\\Saad\\Documents\\GitHub\\Programmers_Force\\CardProject\\tesseract-main\\src\\api: [WinError 145] The directory is not empty: 'c:\\\\Users\\\\Saad\\\\Documents\\\\GitHub\\\\Programmers_Force\\\\CardProject\\\\tesseract-main\\\\src\\\\api'\n",
      "Could not delete c:\\Users\\Saad\\Documents\\GitHub\\Programmers_Force\\CardProject\\tesseract-main\\src\\arch: [WinError 145] The directory is not empty: 'c:\\\\Users\\\\Saad\\\\Documents\\\\GitHub\\\\Programmers_Force\\\\CardProject\\\\tesseract-main\\\\src\\\\arch'\n",
      "Could not delete c:\\Users\\Saad\\Documents\\GitHub\\Programmers_Force\\CardProject\\tesseract-main\\src\\ccmain: [WinError 145] The directory is not empty: 'c:\\\\Users\\\\Saad\\\\Documents\\\\GitHub\\\\Programmers_Force\\\\CardProject\\\\tesseract-main\\\\src\\\\ccmain'\n",
      "Could not delete c:\\Users\\Saad\\Documents\\GitHub\\Programmers_Force\\CardProject\\tesseract-main\\src\\ccstruct: [WinError 145] The directory is not empty: 'c:\\\\Users\\\\Saad\\\\Documents\\\\GitHub\\\\Programmers_Force\\\\CardProject\\\\tesseract-main\\\\src\\\\ccstruct'\n",
      "Could not delete c:\\Users\\Saad\\Documents\\GitHub\\Programmers_Force\\CardProject\\tesseract-main\\src\\ccutil: [WinError 145] The directory is not empty: 'c:\\\\Users\\\\Saad\\\\Documents\\\\GitHub\\\\Programmers_Force\\\\CardProject\\\\tesseract-main\\\\src\\\\ccutil'\n",
      "Could not delete c:\\Users\\Saad\\Documents\\GitHub\\Programmers_Force\\CardProject\\tesseract-main\\src\\classify: [WinError 145] The directory is not empty: 'c:\\\\Users\\\\Saad\\\\Documents\\\\GitHub\\\\Programmers_Force\\\\CardProject\\\\tesseract-main\\\\src\\\\classify'\n",
      "Could not delete c:\\Users\\Saad\\Documents\\GitHub\\Programmers_Force\\CardProject\\tesseract-main\\src\\cutil: [WinError 145] The directory is not empty: 'c:\\\\Users\\\\Saad\\\\Documents\\\\GitHub\\\\Programmers_Force\\\\CardProject\\\\tesseract-main\\\\src\\\\cutil'\n",
      "Could not delete c:\\Users\\Saad\\Documents\\GitHub\\Programmers_Force\\CardProject\\tesseract-main\\src\\dict: [WinError 145] The directory is not empty: 'c:\\\\Users\\\\Saad\\\\Documents\\\\GitHub\\\\Programmers_Force\\\\CardProject\\\\tesseract-main\\\\src\\\\dict'\n",
      "Could not delete c:\\Users\\Saad\\Documents\\GitHub\\Programmers_Force\\CardProject\\tesseract-main\\src\\lstm: [WinError 145] The directory is not empty: 'c:\\\\Users\\\\Saad\\\\Documents\\\\GitHub\\\\Programmers_Force\\\\CardProject\\\\tesseract-main\\\\src\\\\lstm'\n",
      "Could not delete c:\\Users\\Saad\\Documents\\GitHub\\Programmers_Force\\CardProject\\tesseract-main\\src\\textord: [WinError 145] The directory is not empty: 'c:\\\\Users\\\\Saad\\\\Documents\\\\GitHub\\\\Programmers_Force\\\\CardProject\\\\tesseract-main\\\\src\\\\textord'\n",
      "Could not delete c:\\Users\\Saad\\Documents\\GitHub\\Programmers_Force\\CardProject\\tesseract-main\\src\\training: [WinError 145] The directory is not empty: 'c:\\\\Users\\\\Saad\\\\Documents\\\\GitHub\\\\Programmers_Force\\\\CardProject\\\\tesseract-main\\\\src\\\\training'\n",
      "Could not delete c:\\Users\\Saad\\Documents\\GitHub\\Programmers_Force\\CardProject\\tesseract-main\\src\\viewer: [WinError 145] The directory is not empty: 'c:\\\\Users\\\\Saad\\\\Documents\\\\GitHub\\\\Programmers_Force\\\\CardProject\\\\tesseract-main\\\\src\\\\viewer'\n",
      "Could not delete c:\\Users\\Saad\\Documents\\GitHub\\Programmers_Force\\CardProject\\tesseract-main\\src\\wordrec: [WinError 145] The directory is not empty: 'c:\\\\Users\\\\Saad\\\\Documents\\\\GitHub\\\\Programmers_Force\\\\CardProject\\\\tesseract-main\\\\src\\\\wordrec'\n",
      "Could not delete c:\\Users\\Saad\\Documents\\GitHub\\Programmers_Force\\CardProject\\tesseract-main\\tessdata\\configs: [WinError 145] The directory is not empty: 'c:\\\\Users\\\\Saad\\\\Documents\\\\GitHub\\\\Programmers_Force\\\\CardProject\\\\tesseract-main\\\\tessdata\\\\configs'\n",
      "Could not delete c:\\Users\\Saad\\Documents\\GitHub\\Programmers_Force\\CardProject\\tesseract-main\\tessdata\\tessconfigs: [WinError 145] The directory is not empty: 'c:\\\\Users\\\\Saad\\\\Documents\\\\GitHub\\\\Programmers_Force\\\\CardProject\\\\tesseract-main\\\\tessdata\\\\tessconfigs'\n",
      "Deleted directory: c:\\Users\\Saad\\Documents\\GitHub\\Programmers_Force\\CardProject\\tesseract-main\\unittest\\third_party\\googletest\n",
      "Could not delete c:\\Users\\Saad\\Documents\\GitHub\\Programmers_Force\\CardProject\\tesseract-main\\unittest\\third_party\\utf: [WinError 145] The directory is not empty: 'c:\\\\Users\\\\Saad\\\\Documents\\\\GitHub\\\\Programmers_Force\\\\CardProject\\\\tesseract-main\\\\unittest\\\\third_party\\\\utf'\n",
      "Could not delete c:\\Users\\Saad\\Documents\\GitHub\\Programmers_Force\\CardProject\\tesseract-main\\unittest\\util\\utf8: [WinError 145] The directory is not empty: 'c:\\\\Users\\\\Saad\\\\Documents\\\\GitHub\\\\Programmers_Force\\\\CardProject\\\\tesseract-main\\\\unittest\\\\util\\\\utf8'\n",
      "Could not delete c:\\Users\\Saad\\Documents\\GitHub\\Programmers_Force\\CardProject\\tesseract-main\\unittest\\fuzzers: [WinError 145] The directory is not empty: 'c:\\\\Users\\\\Saad\\\\Documents\\\\GitHub\\\\Programmers_Force\\\\CardProject\\\\tesseract-main\\\\unittest\\\\fuzzers'\n",
      "Could not delete c:\\Users\\Saad\\Documents\\GitHub\\Programmers_Force\\CardProject\\tesseract-main\\unittest\\syntaxnet: [WinError 145] The directory is not empty: 'c:\\\\Users\\\\Saad\\\\Documents\\\\GitHub\\\\Programmers_Force\\\\CardProject\\\\tesseract-main\\\\unittest\\\\syntaxnet'\n",
      "Could not delete c:\\Users\\Saad\\Documents\\GitHub\\Programmers_Force\\CardProject\\tesseract-main\\unittest\\third_party: [WinError 145] The directory is not empty: 'c:\\\\Users\\\\Saad\\\\Documents\\\\GitHub\\\\Programmers_Force\\\\CardProject\\\\tesseract-main\\\\unittest\\\\third_party'\n",
      "Could not delete c:\\Users\\Saad\\Documents\\GitHub\\Programmers_Force\\CardProject\\tesseract-main\\unittest\\util: [WinError 145] The directory is not empty: 'c:\\\\Users\\\\Saad\\\\Documents\\\\GitHub\\\\Programmers_Force\\\\CardProject\\\\tesseract-main\\\\unittest\\\\util'\n",
      "Could not delete c:\\Users\\Saad\\Documents\\GitHub\\Programmers_Force\\CardProject\\tesseract-main\\.github: [WinError 145] The directory is not empty: 'c:\\\\Users\\\\Saad\\\\Documents\\\\GitHub\\\\Programmers_Force\\\\CardProject\\\\tesseract-main\\\\.github'\n",
      "Could not delete c:\\Users\\Saad\\Documents\\GitHub\\Programmers_Force\\CardProject\\tesseract-main\\cmake: [WinError 145] The directory is not empty: 'c:\\\\Users\\\\Saad\\\\Documents\\\\GitHub\\\\Programmers_Force\\\\CardProject\\\\tesseract-main\\\\cmake'\n",
      "Could not delete c:\\Users\\Saad\\Documents\\GitHub\\Programmers_Force\\CardProject\\tesseract-main\\doc: [WinError 145] The directory is not empty: 'c:\\\\Users\\\\Saad\\\\Documents\\\\GitHub\\\\Programmers_Force\\\\CardProject\\\\tesseract-main\\\\doc'\n",
      "Could not delete c:\\Users\\Saad\\Documents\\GitHub\\Programmers_Force\\CardProject\\tesseract-main\\include: [WinError 145] The directory is not empty: 'c:\\\\Users\\\\Saad\\\\Documents\\\\GitHub\\\\Programmers_Force\\\\CardProject\\\\tesseract-main\\\\include'\n",
      "Could not delete c:\\Users\\Saad\\Documents\\GitHub\\Programmers_Force\\CardProject\\tesseract-main\\java: [WinError 145] The directory is not empty: 'c:\\\\Users\\\\Saad\\\\Documents\\\\GitHub\\\\Programmers_Force\\\\CardProject\\\\tesseract-main\\\\java'\n",
      "Could not delete c:\\Users\\Saad\\Documents\\GitHub\\Programmers_Force\\CardProject\\tesseract-main\\m4: [WinError 145] The directory is not empty: 'c:\\\\Users\\\\Saad\\\\Documents\\\\GitHub\\\\Programmers_Force\\\\CardProject\\\\tesseract-main\\\\m4'\n",
      "Could not delete c:\\Users\\Saad\\Documents\\GitHub\\Programmers_Force\\CardProject\\tesseract-main\\nsis: [WinError 145] The directory is not empty: 'c:\\\\Users\\\\Saad\\\\Documents\\\\GitHub\\\\Programmers_Force\\\\CardProject\\\\tesseract-main\\\\nsis'\n",
      "Could not delete c:\\Users\\Saad\\Documents\\GitHub\\Programmers_Force\\CardProject\\tesseract-main\\snap: [WinError 145] The directory is not empty: 'c:\\\\Users\\\\Saad\\\\Documents\\\\GitHub\\\\Programmers_Force\\\\CardProject\\\\tesseract-main\\\\snap'\n",
      "Could not delete c:\\Users\\Saad\\Documents\\GitHub\\Programmers_Force\\CardProject\\tesseract-main\\src: [WinError 145] The directory is not empty: 'c:\\\\Users\\\\Saad\\\\Documents\\\\GitHub\\\\Programmers_Force\\\\CardProject\\\\tesseract-main\\\\src'\n",
      "Could not delete c:\\Users\\Saad\\Documents\\GitHub\\Programmers_Force\\CardProject\\tesseract-main\\tessdata: [WinError 145] The directory is not empty: 'c:\\\\Users\\\\Saad\\\\Documents\\\\GitHub\\\\Programmers_Force\\\\CardProject\\\\tesseract-main\\\\tessdata'\n",
      "Deleted directory: c:\\Users\\Saad\\Documents\\GitHub\\Programmers_Force\\CardProject\\tesseract-main\\test\n",
      "Could not delete c:\\Users\\Saad\\Documents\\GitHub\\Programmers_Force\\CardProject\\tesseract-main\\unittest: [WinError 145] The directory is not empty: 'c:\\\\Users\\\\Saad\\\\Documents\\\\GitHub\\\\Programmers_Force\\\\CardProject\\\\tesseract-main\\\\unittest'\n",
      "Could not delete c:\\Users\\Saad\\Documents\\GitHub\\Programmers_Force\\CardProject\\.vscode: [WinError 145] The directory is not empty: 'c:\\\\Users\\\\Saad\\\\Documents\\\\GitHub\\\\Programmers_Force\\\\CardProject\\\\.vscode'\n",
      "Deleted directory: c:\\Users\\Saad\\Documents\\GitHub\\Programmers_Force\\CardProject\\my_root\n",
      "Deleted directory: c:\\Users\\Saad\\Documents\\GitHub\\Programmers_Force\\CardProject\\p\n",
      "Deleted directory: c:\\Users\\Saad\\Documents\\GitHub\\Programmers_Force\\CardProject\\Reyyan\n",
      "Deleted directory: c:\\Users\\Saad\\Documents\\GitHub\\Programmers_Force\\CardProject\\Saad\n",
      "Could not delete c:\\Users\\Saad\\Documents\\GitHub\\Programmers_Force\\CardProject\\tesseract-main: [WinError 145] The directory is not empty: 'c:\\\\Users\\\\Saad\\\\Documents\\\\GitHub\\\\Programmers_Force\\\\CardProject\\\\tesseract-main'\n"
     ]
    }
   ],
   "source": [
    "import os\n",
    "\n",
    "def delete_all_directories(path):\n",
    "    for root, dirs, files in os.walk(path, topdown=False): \n",
    "        for dir_name in dirs:\n",
    "            dir_path = os.path.join(root, dir_name)\n",
    "            try:\n",
    "                os.rmdir(dir_path)\n",
    "                print(f\"Deleted directory: {dir_path}\")\n",
    "            except OSError as e:\n",
    "                print(f\"Could not delete {dir_path}: {e}\")\n",
    "\n",
    "delete_all_directories(r\"C:\\Users\\Saad\\Documents\\GitHub\\Programmers_Force\\FILING\")\n"
   ]
  },
  {
   "cell_type": "code",
   "execution_count": 50,
   "id": "0ab3825a-334a-4720-a341-f0ea1543e7d0",
   "metadata": {},
   "outputs": [
    {
     "name": "stdout",
     "output_type": "stream",
     "text": [
      "Number of .txt files: 2\n"
     ]
    }
   ],
   "source": [
    "\n",
    "\n",
    "def count_txt_files(directory):\n",
    "    count = 0\n",
    "    for entry in os.listdir(directory):\n",
    "        if entry.endswith(\".txt\") and os.path.isfile(os.path.join(directory, entry)):\n",
    "            count += 1\n",
    "    return count\n",
    "\n",
    "\n",
    "directory_path =r\"C:\\Users\\Saad\\Documents\\GitHub\\Programmers_Force\\FILING\" \n",
    "print(f\"Number of .txt files: {count_txt_files(directory_path)}\")\n"
   ]
  },
  {
   "cell_type": "code",
   "execution_count": 51,
   "id": "96b7d7a2-9ca3-41b0-9a2d-1c25512f9d40",
   "metadata": {},
   "outputs": [
    {
     "name": "stdout",
     "output_type": "stream",
     "text": [
      "Moved: C:\\Users\\Saad\\Documents\\GitHub\\Programmers_Force\\Saad\\haha.txt -> C:\\Users\\Saad\\Documents\\GitHub\\Programmers_Force\\FILING\\haha.txt\n"
     ]
    }
   ],
   "source": [
    "import os\n",
    "\n",
    "def move_files(src_folder, dest_folder):\n",
    "    if not os.path.exists(dest_folder):\n",
    "        os.makedirs(dest_folder)\n",
    "\n",
    "    # Move files\n",
    "    for file_name in os.listdir(src_folder):\n",
    "        src_path = os.path.join(src_folder, file_name)\n",
    "        dest_path = os.path.join(dest_folder, file_name)\n",
    "\n",
    "        if os.path.isfile(src_path):\n",
    "            os.rename(src_path, dest_path)\n",
    "            print(f\"Moved: {src_path} -> {dest_path}\")\n",
    "\n",
    "move_files(r\"C:\\Users\\Saad\\Documents\\GitHub\\Programmers_Force\\Saad\", r\"C:\\Users\\Saad\\Documents\\GitHub\\Programmers_Force\\FILING\")\n"
   ]
  },
  {
   "cell_type": "code",
   "execution_count": 52,
   "id": "e93ae0bf-78d0-4fb0-8a3e-df9e29b0596c",
   "metadata": {},
   "outputs": [
    {
     "name": "stdout",
     "output_type": "stream",
     "text": [
      "Renamed: C:\\Users\\Saad\\Documents\\GitHub\\Programmers_Force\\Saad\\h.log to C:\\Users\\Saad\\Documents\\GitHub\\Programmers_Force\\Saad\\h.log.sad\n",
      "Renamed: C:\\Users\\Saad\\Documents\\GitHub\\Programmers_Force\\Saad\\m.log to C:\\Users\\Saad\\Documents\\GitHub\\Programmers_Force\\Saad\\m.log.sad\n"
     ]
    }
   ],
   "source": [
    "def rename_log(dir):\n",
    "    for file in os.listdir(dir):\n",
    "        if file.endswith(\".log\"):\n",
    "            old_path=os.path.join(dir,file)\n",
    "            new_file=file + \".sad\"\n",
    "            new_path=os.path.join(dir, new_file)\n",
    "            os.rename(old_path,new_path)\n",
    "            print(f\"Renamed: {old_path} to {new_path}\")\n",
    "            \n",
    "    \n",
    "dir=r\"C:\\Users\\Saad\\Documents\\GitHub\\Programmers_Force\\Saad\"\n",
    "rename_log(dir)"
   ]
  },
  {
   "cell_type": "code",
   "execution_count": null,
   "id": "a80cfcca",
   "metadata": {},
   "outputs": [
    {
     "name": "stdout",
     "output_type": "stream",
     "text": [
      "Total size: 0.04 MB\n"
     ]
    }
   ],
   "source": [
    "import os\n",
    "\n",
    "def total_size_in_mb(directory):\n",
    "    total_bytes = 0\n",
    "    for filename in os.listdir(directory):\n",
    "        path = os.path.join(directory, filename)\n",
    "        if os.path.isfile(path):\n",
    "            total_bytes += os.path.getsize(path)\n",
    "    \n",
    "    total_mb = total_bytes / (1024 * 1024)  \n",
    "    print(f\"Total size: {total_mb:.2f} MB\")\n",
    "\n",
    "total_size_in_mb(r\"C:\\Users\\Saad\\Documents\\GitHub\\Programmers_Force\\FILING\")\n"
   ]
  },
  {
   "cell_type": "code",
   "execution_count": 11,
   "id": "cf034ff7",
   "metadata": {},
   "outputs": [
    {
     "name": "stdout",
     "output_type": "stream",
     "text": [
      "FILING/\n",
      "Filing.ipynb\n",
      "haha.txt\n",
      "my.txt\n",
      "yufile.txt\n",
      "hamza/\n",
      "a.txt\n"
     ]
    }
   ],
   "source": [
    "import os\n",
    "def Tree(directory):\n",
    "    for root,dirs,files in os.walk(directory):\n",
    "        level=root.replace(directory,'').count(os.sep)\n",
    "        indent=''*4*(level)\n",
    "        print(f'{indent}{os.path.basename(root)}/')\n",
    "        subindent=''*4*(level+1)\n",
    "        for f in files:\n",
    "            print(f'{subindent}{f}')\n",
    "\n",
    "directory=r\"C:\\Users\\Saad\\Documents\\GitHub\\Programmers_Force\\FILING\"\n",
    "Tree(directory)"
   ]
  },
  {
   "cell_type": "code",
   "execution_count": null,
   "id": "f29a0af3",
   "metadata": {},
   "outputs": [
    {
     "name": "stdout",
     "output_type": "stream",
     "text": [
      "Folder does not exist: C:\\Users\\Saad\\Documents\\GitHub\\Programmers_Force\\FILING\\hamza\n"
     ]
    }
   ],
   "source": [
    "import os\n",
    "import shutil\n",
    "import datetime\n",
    "\n",
    "def safe_delete_folder(folder_path, trash_root=None):\n",
    "    \n",
    "    if not os.path.isdir(folder_path):\n",
    "        print(f\"Folder does not exist: {folder_path}\")\n",
    "        return\n",
    "\n",
    "    if trash_root is None:\n",
    "        trash_root = os.path.join(os.path.dirname(folder_path), 'Trash')\n",
    "    \n",
    "    os.makedirs(trash_root, exist_ok=True)\n",
    "    folder_name = os.path.basename(folder_path)\n",
    "    trash_folder_name = f\"{folder_name}\"\n",
    "    trash_path = os.path.join(trash_root, trash_folder_name)\n",
    "\n",
    "    \n",
    "    try:\n",
    "        shutil.move(folder_path, trash_path)\n",
    "        print(f\"Folder moved to Trash: {trash_path}\")\n",
    "    except Exception as e:\n",
    "        print(f\"Error moving folder: {e}\")\n",
    "        \n",
    "        \n",
    "folder_path=r\"C:\\Users\\Saad\\Documents\\GitHub\\Programmers_Force\\FILING\\hamza\"\n",
    "safe_delete_folder(folder_path)"
   ]
  },
  {
   "cell_type": "code",
   "execution_count": 1,
   "id": "7b6b5e63",
   "metadata": {},
   "outputs": [
    {
     "name": "stdout",
     "output_type": "stream",
     "text": [
      "Most recently modified file:\n",
      "C:\\Users\\Saad\\Documents\\GitHub\\Programmers_Force\\FILING\\Filing.ipynb\n"
     ]
    }
   ],
   "source": [
    "import os\n",
    "\n",
    "def find_most_recent_file(directory):\n",
    "    latest_file = None\n",
    "    latest_mtime = 0\n",
    "\n",
    "    for root, _, files in os.walk(directory):\n",
    "        for file in files:\n",
    "            filepath = os.path.join(root, file)\n",
    "            try:\n",
    "                mtime = os.path.getmtime(filepath)\n",
    "                if mtime > latest_mtime:\n",
    "                    latest_mtime = mtime\n",
    "                    latest_file = filepath\n",
    "            except Exception as e:\n",
    "                print(f\"Error accessing {filepath}: {e}\")\n",
    "\n",
    "    if latest_file:\n",
    "        print(f\"Most recently modified file:\\n{latest_file}\")\n",
    "    else:\n",
    "        print(\"No files found.\")\n",
    "\n",
    "\n",
    "directory = r\"C:\\Users\\Saad\\Documents\\GitHub\\Programmers_Force\\FILING\"\n",
    "find_most_recent_file(directory)\n"
   ]
  },
  {
   "cell_type": "code",
   "execution_count": 3,
   "id": "6d4b06f0",
   "metadata": {},
   "outputs": [
    {
     "name": "stdout",
     "output_type": "stream",
     "text": [
      "{\n",
      "    \"directory\": \"C:\\\\Users\\\\Saad\\\\Documents\\\\GitHub\\\\Programmers_Force\\\\FILING\",\n",
      "    \"file_count\": 5,\n",
      "    \"total_size\": 50091,\n",
      "    \"subfolders\": [\n",
      "        \"C:\\\\Users\\\\Saad\\\\Documents\\\\GitHub\\\\Programmers_Force\\\\FILING\\\\Trash\"\n",
      "    ]\n",
      "}\n"
     ]
    }
   ],
   "source": [
    "import os\n",
    "import json\n",
    "\n",
    "def generate_directory_report(directory):\n",
    "    report = {\n",
    "        \"directory\": directory,\n",
    "        \"file_count\": 0,\n",
    "        \"total_size\": 0,\n",
    "        \"subfolders\": []\n",
    "    }\n",
    "\n",
    "    for root, dirs, files in os.walk(directory):\n",
    "        \n",
    "        if root == directory:\n",
    "            report[\"subfolders\"].extend([os.path.join(root, d) for d in dirs])\n",
    "        \n",
    "        for file in files:\n",
    "            filepath = os.path.join(root, file)\n",
    "            try:\n",
    "                report[\"file_count\"] += 1\n",
    "                report[\"total_size\"] += os.path.getsize(filepath)\n",
    "            except Exception as e:\n",
    "                print(f\"Error accessing {filepath}: {e}\")\n",
    "\n",
    "    return json.dumps(report, indent=4)\n",
    "\n",
    "\n",
    "directory = r\"C:\\Users\\Saad\\Documents\\GitHub\\Programmers_Force\\FILING\"\n",
    "report_json = generate_directory_report(directory)\n",
    "print(report_json)\n"
   ]
  },
  {
   "cell_type": "code",
   "execution_count": 4,
   "id": "1083063c",
   "metadata": {},
   "outputs": [
    {
     "name": "stdout",
     "output_type": "stream",
     "text": [
      "Added:\n",
      "+ yufile.txt\n",
      "+ Filing.ipynb\n",
      "+ Trash\\hamza_20250707_120826\\a.txt\n",
      "+ my.txt\n",
      "+ haha.txt\n",
      "Removed:\n"
     ]
    }
   ],
   "source": [
    "import os, json\n",
    "\n",
    "def snapshot(directory):\n",
    "    return {os.path.relpath(os.path.join(root, f), directory)\n",
    "            for root, _, files in os.walk(directory) for f in files}\n",
    "\n",
    "dir_path = r\"C:\\Users\\Saad\\Documents\\GitHub\\Programmers_Force\\FILING\"\n",
    "snap_file = \"snapshot.json\"\n",
    "\n",
    "\n",
    "try:\n",
    "    with open(snap_file) as f:\n",
    "        old = set(json.load(f))\n",
    "except FileNotFoundError:\n",
    "    old = set()\n",
    "\n",
    "new = snapshot(dir_path)\n",
    "\n",
    "added = new - old\n",
    "removed = old - new\n",
    "\n",
    "print(\"Added:\", *added, sep=\"\\n+ \")\n",
    "print(\"Removed:\", *removed, sep=\"\\n- \")\n",
    "\n",
    "with open(snap_file, \"w\") as f:\n",
    "    json.dump(list(new), f)\n"
   ]
  },
  {
   "cell_type": "markdown",
   "id": "5791d390-e204-4c7a-8169-792bf6d02fd1",
   "metadata": {
    "jp-MarkdownHeadingCollapsed": true
   },
   "source": [
    "\n",
    "# glob module – Pattern Matching\n",
    "\n",
    "**Q:1 List all .csv and .json files in the current directory.**\n",
    "\n",
    "**Q:2 Recursively find all .jpg files in nested folders.**\n",
    "\n",
    "**Q:3 Use glob to count files grouped by extension.**\n",
    "\n",
    "**Q:4 Find files with names matching pattern report_*.txt.**\n",
    "\n",
    "**Q:5 Replace spaces with underscores in filenames found via glob.**\n",
    "\n",
    "**Q:6 Return all files with a date in the format 2025-06-*.log.**\n",
    "\n",
    "**Q:7 List all files with numeric names only (e.g., 123.txt).**\n",
    "\n",
    "**Q:8 Use glob to sort files by last modified time.**\n",
    "\n",
    "**Q:9 Find all .txt files larger than 100KB using glob and os.**\n",
    "\n",
    "**Q:10 Batch rename files with a custom suffix _archived.**\n",
    "\n",
    "**Q:11 Create a utility that indexes all media files and stores the paths in a SQLite DB.**\n",
    "\n",
    "**Q:12 Find duplicate filenames (regardless of path) across a directory tree.**\n",
    "\n",
    "**Q:13 Generate a file manifest with relative paths and hash (MD5) of contents.**\n",
    "\n",
    "**Q14: Use glob patterns dynamically to extract weekly reports (e.g., week_01.json, week_02.json).**\n",
    "\n",
    "**Q:15 Write a recursive file crawler that ignores folders listed in a .ignore file.**\n"
   ]
  },
  {
   "cell_type": "code",
   "execution_count": 6,
   "id": "e086f083-8cf2-409a-99bc-423710252c8b",
   "metadata": {},
   "outputs": [
    {
     "name": "stdout",
     "output_type": "stream",
     "text": [
      ".csv and .json files in current directory:\n",
      "- h.csv\n",
      "- snapshot.json\n"
     ]
    }
   ],
   "source": [
    "import glob\n",
    "\n",
    "csv_files = glob.glob(\"*.csv\")\n",
    "json_files = glob.glob(\"*.json\")\n",
    "\n",
    "print(\".csv and .json files in current directory:\")\n",
    "for f in csv_files + json_files:\n",
    "    print(f\"- {f}\")\n"
   ]
  },
  {
   "cell_type": "code",
   "execution_count": 9,
   "id": "645efcb6-eb26-4e68-b757-768e461d75d2",
   "metadata": {},
   "outputs": [
    {
     "name": "stdout",
     "output_type": "stream",
     "text": [
      "All .jpg files (including subfolders):\n",
      "- img_1.jpg\n"
     ]
    }
   ],
   "source": [
    "import glob\n",
    "\n",
    "jpg_files = glob.glob(\"**/*.jpg\", recursive=True)\n",
    "\n",
    "print(\"All .jpg files (including subfolders):\")\n",
    "for f in jpg_files :\n",
    "    print(f\"- {f}\")\n"
   ]
  },
  {
   "cell_type": "code",
   "execution_count": null,
   "id": "7960eb22-6d5a-478d-ae2b-7313d61d601f",
   "metadata": {},
   "outputs": [
    {
     "name": "stdout",
     "output_type": "stream",
     "text": [
      "File count by extension:\n",
      ".ipynb: 1\n",
      ".csv: 1\n",
      ".txt: 3\n",
      ".jpg: 1\n",
      ".json: 1\n"
     ]
    }
   ],
   "source": [
    "import glob\n",
    "import os\n",
    "from collections import defaultdict\n",
    "\n",
    "files = glob.glob(\"*.*\")\n",
    "ext_count = defaultdict(int)\n",
    "for file in files:\n",
    "    _, ext = os.path.splitext(file)\n",
    "    ext_count[ext] += 1\n",
    "\n",
    "print(\"File count by extension:\")\n",
    "for ext, count in ext_count.items():\n",
    "    print(f\"{ext or '[no extension]'}: {count}\")\n"
   ]
  },
  {
   "cell_type": "code",
   "execution_count": 11,
   "id": "6581ba6c-a002-4d46-91bd-1f7953f24f03",
   "metadata": {},
   "outputs": [
    {
     "name": "stdout",
     "output_type": "stream",
     "text": [
      "All .txt files (including subfolders):\n",
      "- haha.txt\n",
      "- my.txt\n",
      "- yufile.txt\n",
      "- Trash\\hamza_20250707_120826\\a.txt\n"
     ]
    }
   ],
   "source": [
    "import glob\n",
    "\n",
    "txt_files = glob.glob(\"**/*.txt\", recursive=True)\n",
    "\n",
    "print(\"All .txt files (including subfolders):\")\n",
    "for f in txt_files :\n",
    "    print(f\"- {f}\")\n"
   ]
  },
  {
   "cell_type": "code",
   "execution_count": 17,
   "id": "a5ddb88a-132e-44ad-98a7-ef2889b90fc4",
   "metadata": {},
   "outputs": [],
   "source": [
    "import glob\n",
    "import os\n",
    "\n",
    "for file in glob.glob(\"* *\"):\n",
    "    new_name = file.replace(\" \", \"_\")\n",
    "    if not os.path.exists(new_name):\n",
    "        os.rename(file, new_name)\n",
    "        print(f\"Renamed: {file} → {new_name}\")\n",
    "    else:\n",
    "        print(f\"Skipped: {new_name} already exists\")\n",
    "\n",
    "\n"
   ]
  },
  {
   "cell_type": "code",
   "execution_count": 18,
   "id": "ce6944a2-6a7e-4f31-a1d3-ea519703ddf0",
   "metadata": {},
   "outputs": [
    {
     "name": "stdout",
     "output_type": "stream",
     "text": [
      "Matching log files:\n"
     ]
    }
   ],
   "source": [
    "import glob\n",
    "\n",
    "\n",
    "matched_files = glob.glob(\"2025-07-*.log\")\n",
    "\n",
    "\n",
    "print(\"Matching log files:\")\n",
    "for file in matched_files:\n",
    "    print(f\"- {file}\")\n"
   ]
  },
  {
   "cell_type": "code",
   "execution_count": null,
   "id": "e02f22be-8e15-4438-b6f0-89171f2cbd55",
   "metadata": {},
   "outputs": [
    {
     "name": "stdout",
     "output_type": "stream",
     "text": [
      "📄 Numbered .txt files:\n",
      "- 123.txt\n"
     ]
    }
   ],
   "source": [
    "import glob\n",
    "import os\n",
    "\n",
    "files = glob.glob(\"*.txt\")\n",
    "numbered_files = [f for f in files if os.path.splitext(f)[0].isdigit()]\n",
    "print(\"Numbered .txt files:\")\n",
    "for f in numbered_files:\n",
    "    print(f\"- {f}\")\n"
   ]
  },
  {
   "cell_type": "code",
   "execution_count": 21,
   "id": "1347debe-d3e6-435c-9419-7c83319ea167",
   "metadata": {},
   "outputs": [
    {
     "name": "stdout",
     "output_type": "stream",
     "text": [
      "📄 Files sorted by last modified time:\n",
      "img_1.jpg\n",
      "yufile.txt\n",
      "my.txt\n",
      "haha.txt\n",
      "Trash\n",
      "snapshot.json\n",
      "h.csv\n",
      "a_a.txt\n",
      "123.txt\n",
      "Filing.ipynb\n"
     ]
    }
   ],
   "source": [
    "\n",
    "files = glob.glob(\"*\")\n",
    "files.sort(key=os.path.getmtime)\n",
    "\n",
    "print(\"📄 Files sorted by last modified time:\")\n",
    "for f in files:\n",
    "    mtime = os.path.getmtime(f)\n",
    "    print(f\"{f}\")\n"
   ]
  },
  {
   "cell_type": "code",
   "execution_count": 22,
   "id": "3a4d87d4-a7ea-4926-b1f6-98b57ef14353",
   "metadata": {},
   "outputs": [
    {
     "name": "stdout",
     "output_type": "stream",
     "text": [
      "txt files larger than 100 KB:\n"
     ]
    }
   ],
   "source": [
    "import glob\n",
    "import os\n",
    "\n",
    "threshold = 100 * 1024\n",
    "\n",
    "files = glob.glob(\"*.txt\")\n",
    "large_files = [f for f in files if os.path.getsize(f) > threshold]\n",
    "\n",
    "print(\"txt files larger than 100 KB:\")\n",
    "for f in large_files:\n",
    "    size_kb = os.path.getsize(f) / 1024\n",
    "    print(f\"- {f} ({size_kb:.2f} KB)\")\n"
   ]
  },
  {
   "cell_type": "code",
   "execution_count": null,
   "id": "e6c8c4f5-ccca-4503-ab99-41e81d18576b",
   "metadata": {},
   "outputs": [],
   "source": [
    "import glob\n",
    "import os\n",
    "\n",
    "files = glob.glob(\"*.*\")\n",
    "\n",
    "for file in files:\n",
    "    name, ext = os.path.splitext(file)\n",
    "    new_name = f\"{name}_archived{ext}\"\n",
    "    \n",
    "    if not os.path.exists(new_name):\n",
    "        os.rename(file, new_name)\n",
    "        print(f\"Renamed: {file} → {new_name}\")\n",
    "    else:\n",
    "        print(f\"Skipped: {new_name} already exists\")\n"
   ]
  },
  {
   "cell_type": "code",
   "execution_count": null,
   "id": "7ee706df-4370-4da5-a142-b95c9437caca",
   "metadata": {},
   "outputs": [],
   "source": []
  },
  {
   "cell_type": "code",
   "execution_count": null,
   "id": "e9009881-91b6-499d-be9e-5b00becf893f",
   "metadata": {},
   "outputs": [],
   "source": []
  },
  {
   "cell_type": "code",
   "execution_count": null,
   "id": "6bf8902d-f3a0-48ad-becb-b99163059561",
   "metadata": {},
   "outputs": [],
   "source": []
  },
  {
   "cell_type": "code",
   "execution_count": null,
   "id": "04b33b98-b54f-4513-a552-da8cdd53c97c",
   "metadata": {},
   "outputs": [],
   "source": []
  },
  {
   "cell_type": "code",
   "execution_count": null,
   "id": "c5eca2f0-33d0-4cff-bc46-04ef2ec87b31",
   "metadata": {},
   "outputs": [],
   "source": []
  },
  {
   "cell_type": "markdown",
   "id": "11836593-dc92-44d0-953c-46ac17571473",
   "metadata": {
    "jp-MarkdownHeadingCollapsed": true
   },
   "source": [
    "\n",
    "# File Handling – Text & Binary Files\n",
    "\n",
    "**Q:1 Count the number of lines in a file without loading it entirely.**\n",
    "\n",
    "**Q:2 Replace a specific word in a file and save it to a new file.**\n",
    "\n",
    "**Q:3 Append data to an existing file with a timestamp.**\n",
    "\n",
    "**Q:4 Read and print the first 10 lines of a file.**\n",
    "\n",
    "**Q:5 Write a list of dictionaries as CSV manually (without csv module).**\n",
    "\n",
    "**Q:6 Copy a binary file in chunks (e.g., image or PDF).**\n",
    "\n",
    "**Q:7 Write a function to compare two files and print the differing lines.**\n",
    "\n",
    "**Q:8 Safely read a file that may not exist using try-except.**\n",
    "\n",
    "**Q:9 Read a file using a specific encoding (e.g., UTF-16).**\n",
    "\n",
    "**Q:10 Detect and skip empty lines when reading a file.**\n",
    "\n",
    "**Q:11 Implement a log rotation mechanism: create log.txt, log_1.txt, etc. when size exceeds 1MB.**\n",
    "\n",
    "**Q:12 Build a file-based key-value store using JSON per line.**\n",
    "\n",
    "**Q:13 Implement version control: on every write, back up the previous version with a timestamp.**\n",
    "\n",
    "**Q:14 Create a reader that detects encoding using chardet or fallback encoding.**\n",
    "\n",
    "**Q:15 Convert a large log file into separate files per date based on timestamps in each line.**\n"
   ]
  },
  {
   "cell_type": "code",
   "execution_count": null,
   "id": "cd9fca21-d1a6-43c9-a323-ac90a2d11f00",
   "metadata": {},
   "outputs": [],
   "source": []
  },
  {
   "cell_type": "code",
   "execution_count": null,
   "id": "973c8888-d4f2-4ef3-a557-935b1c0153f9",
   "metadata": {},
   "outputs": [],
   "source": []
  },
  {
   "cell_type": "code",
   "execution_count": null,
   "id": "0366559c-111f-43cd-b9cf-d5a0a57951ac",
   "metadata": {},
   "outputs": [],
   "source": []
  },
  {
   "cell_type": "code",
   "execution_count": null,
   "id": "5aeb7999-c659-452c-a71f-7f49ca9f1893",
   "metadata": {},
   "outputs": [],
   "source": []
  },
  {
   "cell_type": "code",
   "execution_count": null,
   "id": "53751a3c-9427-4fe1-97b4-ecc3646dd2b6",
   "metadata": {},
   "outputs": [],
   "source": []
  },
  {
   "cell_type": "code",
   "execution_count": null,
   "id": "f66f88dd-9e32-44fa-acc1-d5099df1cfea",
   "metadata": {},
   "outputs": [],
   "source": []
  },
  {
   "cell_type": "code",
   "execution_count": null,
   "id": "03611855-540e-4c06-b88a-9818bd7c4e1f",
   "metadata": {},
   "outputs": [],
   "source": []
  },
  {
   "cell_type": "code",
   "execution_count": null,
   "id": "cd9c5d25-b370-48a7-b94d-5d0cf1c2747e",
   "metadata": {},
   "outputs": [],
   "source": []
  },
  {
   "cell_type": "code",
   "execution_count": null,
   "id": "e0ec443e-67c2-4aae-bf45-61348919674a",
   "metadata": {},
   "outputs": [],
   "source": []
  },
  {
   "cell_type": "code",
   "execution_count": null,
   "id": "9711969f-5301-4867-b7b9-dba59247ca48",
   "metadata": {},
   "outputs": [],
   "source": []
  },
  {
   "cell_type": "code",
   "execution_count": null,
   "id": "432c9462-d5ca-4f95-953c-15c9c7136de9",
   "metadata": {},
   "outputs": [],
   "source": []
  },
  {
   "cell_type": "code",
   "execution_count": null,
   "id": "80361657-7f56-4534-b5f6-b7eee56ecc67",
   "metadata": {},
   "outputs": [],
   "source": []
  },
  {
   "cell_type": "code",
   "execution_count": null,
   "id": "9a72e9a6-e186-4d1d-b8b5-f52b3b781d59",
   "metadata": {},
   "outputs": [],
   "source": []
  },
  {
   "cell_type": "code",
   "execution_count": null,
   "id": "9876fee2-bf07-4bc1-aee4-e7720ee401bd",
   "metadata": {},
   "outputs": [],
   "source": []
  },
  {
   "cell_type": "code",
   "execution_count": null,
   "id": "3c941d47-d2a4-473e-b853-798bccd0d1d2",
   "metadata": {},
   "outputs": [],
   "source": []
  },
  {
   "cell_type": "markdown",
   "id": "49b7b4dc-a5af-49a8-b1a6-2629376ed791",
   "metadata": {
    "jp-MarkdownHeadingCollapsed": true
   },
   "source": [
    "\n",
    "# JSON Handling – json module\n",
    "\n",
    "**Q:1 Load JSON from a file and print a nested field (e.g., data[\"user\"][\"name\"]).**\n",
    "\n",
    "**Q:2 Write a Python dict to a file with pretty formatting.**\n",
    "\n",
    "**Q:3 Merge multiple JSON objects into a single file.**\n",
    "\n",
    "**Q:4 Convert a JSON array into CSV format.**\n",
    "\n",
    "**Q:5 Update a nested key inside a loaded JSON.**\n",
    "\n",
    "**Q:6 Create a function to pretty-print JSON from string input.**\n",
    "\n",
    "**Q:7 Safely load malformed JSON with exception handling.**\n",
    "\n",
    "**Q:8 Remove a key from each item in a JSON list and re-save.**\n",
    "\n",
    "**Q:9 Convert an object with datetime to a JSON string using a custom encoder.**\n",
    "\n",
    "**Q:10 Search for all values associated with a key in nested JSON.**\n",
    "\n",
    "**Q:11 Write a function to flatten deeply nested JSON into a flat dictionary.**\n",
    "\n",
    "**Q:12 Build a recursive JSON validator for required schema keys.**\n",
    "\n",
    "**Q:13 Convert a nested JSON into a pandas DataFrame with normalized columns.**\n",
    "\n",
    "**Q:14 Create a diff tool that compares two JSON files and shows key-level changes.**\n",
    "\n",
    "**Q:15 Handle and fix trailing commas in malformed JSON before parsing.**\n",
    "\n"
   ]
  },
  {
   "cell_type": "code",
   "execution_count": null,
   "id": "96ed1e4b-4790-418d-ba76-3fd3697603c6",
   "metadata": {},
   "outputs": [],
   "source": []
  },
  {
   "cell_type": "code",
   "execution_count": null,
   "id": "a945a883-853d-412f-b1eb-4696b812d624",
   "metadata": {},
   "outputs": [],
   "source": []
  },
  {
   "cell_type": "code",
   "execution_count": null,
   "id": "bea19279-5e6b-4e2b-8b55-5f1afa5bf4d4",
   "metadata": {},
   "outputs": [],
   "source": []
  },
  {
   "cell_type": "code",
   "execution_count": null,
   "id": "47d69ea5-4a78-48b2-83e2-c02b21be9c58",
   "metadata": {},
   "outputs": [],
   "source": []
  },
  {
   "cell_type": "code",
   "execution_count": null,
   "id": "44ca8311-ecec-4810-a343-fef73c3fdda4",
   "metadata": {},
   "outputs": [],
   "source": []
  },
  {
   "cell_type": "code",
   "execution_count": null,
   "id": "0ea9a5f6-031c-49d3-bbc5-165459650667",
   "metadata": {},
   "outputs": [],
   "source": []
  },
  {
   "cell_type": "code",
   "execution_count": null,
   "id": "c29b99d1-d6e9-4fca-9c86-c9c62cb3d03b",
   "metadata": {},
   "outputs": [],
   "source": []
  },
  {
   "cell_type": "code",
   "execution_count": null,
   "id": "b3708f19-a270-4366-bd8e-6044a70d2989",
   "metadata": {},
   "outputs": [],
   "source": []
  },
  {
   "cell_type": "code",
   "execution_count": null,
   "id": "c4462486-b8a9-492b-8c85-415a6869ac9d",
   "metadata": {},
   "outputs": [],
   "source": []
  },
  {
   "cell_type": "code",
   "execution_count": null,
   "id": "b5a38e81-21a8-4534-bf38-b56e602348cb",
   "metadata": {},
   "outputs": [],
   "source": []
  },
  {
   "cell_type": "code",
   "execution_count": null,
   "id": "edeaed10-eec5-450f-a8bb-ab3d9c200aa8",
   "metadata": {},
   "outputs": [],
   "source": []
  },
  {
   "cell_type": "code",
   "execution_count": null,
   "id": "719153bf-475c-404e-ab37-4df1bae3355d",
   "metadata": {},
   "outputs": [],
   "source": []
  },
  {
   "cell_type": "code",
   "execution_count": null,
   "id": "e3306548-70c6-4a3b-8977-93d0f632d2e7",
   "metadata": {},
   "outputs": [],
   "source": []
  },
  {
   "cell_type": "code",
   "execution_count": null,
   "id": "c22e231e-9fd0-41ea-a70d-0d0095e4665e",
   "metadata": {},
   "outputs": [],
   "source": []
  },
  {
   "cell_type": "code",
   "execution_count": null,
   "id": "a9fb0524-fa1d-4cc8-99e6-c52f55e6f085",
   "metadata": {},
   "outputs": [],
   "source": []
  },
  {
   "cell_type": "markdown",
   "id": "3083804d-5685-4ed0-852d-40333ae26433",
   "metadata": {
    "jp-MarkdownHeadingCollapsed": true
   },
   "source": [
    "    \n",
    "# Regular Expressions – re module\n",
    "\n",
    "**Q:1 Extract email addresses from a string using re.findall().**\n",
    "\n",
    "**Q:2 Validate a US phone number using regex.**\n",
    "\n",
    "**Q:3 Extract hashtags from a tweet-like string.**\n",
    "\n",
    "**Q:4 Replace all numbers with # in a paragraph.**\n",
    "\n",
    "**Q:5 Match filenames with extension .pdf, .docx, or .xlsx.**\n",
    "\n",
    "**Q:6 Split a paragraph into sentences using regex.**\n",
    "\n",
    "**Q:7 Match a date in the format DD-MM-YYYY or YYYY/MM/DD.**\n",
    "\n",
    "**Q:8 Extract quoted strings from text (e.g., \"like this\").**\n",
    "\n",
    "**Q:9 Clean a text by removing special characters except alphanumerics and spaces.**\n",
    "\n",
    "**Q:10 Capture repeated words like the the, is is in a sentence.**\n",
    "\n",
    "**Q:11 Write a regex that extracts values from key-value pairs (key: value) even if keys contain spaces.**\n",
    "\n",
    "**Q:12 Extract nested parentheses using recursive regex (advanced feature).**\n",
    "\n",
    "**Q:13 Create a regex to detect and fix malformed URLs in a text block.**\n",
    "\n",
    "**Q:14 Build a pattern to extract address-like strings (e.g., 123 Main St, City, ZIP).**\n",
    "\n",
    "**Q:15 Tokenize a log line into timestamp, level, and message using regex groups.**"
   ]
  },
  {
   "cell_type": "code",
   "execution_count": null,
   "id": "f26db1f6-d95e-4acf-9865-f30af739bdec",
   "metadata": {},
   "outputs": [],
   "source": []
  },
  {
   "cell_type": "code",
   "execution_count": null,
   "id": "9df5434d-35b9-4115-b333-ace145a2bdda",
   "metadata": {},
   "outputs": [],
   "source": []
  },
  {
   "cell_type": "code",
   "execution_count": null,
   "id": "661df70d-da86-4263-9964-a6ac85f13087",
   "metadata": {},
   "outputs": [],
   "source": []
  },
  {
   "cell_type": "code",
   "execution_count": null,
   "id": "b0d06c91-2baa-4cc3-b919-d5b66e479ce1",
   "metadata": {},
   "outputs": [],
   "source": []
  },
  {
   "cell_type": "code",
   "execution_count": null,
   "id": "47b77dc7-10d4-4dd3-bff1-96221bf711cb",
   "metadata": {},
   "outputs": [],
   "source": []
  },
  {
   "cell_type": "code",
   "execution_count": null,
   "id": "56308ae4-1cba-4d32-93a3-6c0b6ec54047",
   "metadata": {},
   "outputs": [],
   "source": []
  },
  {
   "cell_type": "code",
   "execution_count": null,
   "id": "506b8c6c-eb88-4d2a-9ca9-a1f1fb3ace9f",
   "metadata": {},
   "outputs": [],
   "source": []
  },
  {
   "cell_type": "code",
   "execution_count": null,
   "id": "8ae3d300-1edc-48ed-8989-5a324c4e6a5c",
   "metadata": {},
   "outputs": [],
   "source": []
  },
  {
   "cell_type": "code",
   "execution_count": null,
   "id": "a2451580-9fd8-4352-95dc-712a1bc956f5",
   "metadata": {},
   "outputs": [],
   "source": []
  },
  {
   "cell_type": "code",
   "execution_count": null,
   "id": "8ddb494a-144b-4a43-8213-519acf6e04a2",
   "metadata": {},
   "outputs": [],
   "source": []
  },
  {
   "cell_type": "code",
   "execution_count": null,
   "id": "1f66d7a7-5d04-41d0-b569-28c958a0c8c3",
   "metadata": {},
   "outputs": [],
   "source": []
  }
 ],
 "metadata": {
  "kernelspec": {
   "display_name": "ml1",
   "language": "python",
   "name": "python3"
  },
  "language_info": {
   "codemirror_mode": {
    "name": "ipython",
    "version": 3
   },
   "file_extension": ".py",
   "mimetype": "text/x-python",
   "name": "python",
   "nbconvert_exporter": "python",
   "pygments_lexer": "ipython3",
   "version": "3.13.5"
  }
 },
 "nbformat": 4,
 "nbformat_minor": 5
}
