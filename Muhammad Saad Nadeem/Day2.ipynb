{
 "cells": [
  {
   "cell_type": "markdown",
   "id": "221f8d75",
   "metadata": {},
   "source": [
    "# Reverse A String\n"
   ]
  },
  {
   "cell_type": "code",
   "execution_count": 2,
   "id": "57d9f627",
   "metadata": {},
   "outputs": [
    {
     "name": "stdout",
     "output_type": "stream",
     "text": [
      "daas\n"
     ]
    }
   ],
   "source": [
    "my_string = input(\"Write a string:\\n\")\n",
    "reversed_string = \"\"\n",
    "def reverseString(my_string, reversed_string):\n",
    "    for char in my_string:\n",
    "        reversed_string = char + reversed_string\n",
    "    print(reversed_string) \n",
    "\n",
    "reverseString(my_string,reversed_string)"
   ]
  },
  {
   "cell_type": "markdown",
   "id": "6d1941d8",
   "metadata": {},
   "source": [
    "# Palindrome"
   ]
  },
  {
   "cell_type": "code",
   "execution_count": 5,
   "id": "d84d5b80",
   "metadata": {},
   "outputs": [
    {
     "name": "stdout",
     "output_type": "stream",
     "text": [
      "It is a palindrome\n"
     ]
    }
   ],
   "source": [
    "s = \"maham\" \n",
    "rev = \"\"  \n",
    "\n",
    "for char in s:\n",
    "    rev = char + rev\n",
    "\n",
    "if s == rev:\n",
    "    print(\"It is a palindrome\")\n",
    "else:\n",
    "    print(\"It is not a palindrome\")"
   ]
  },
  {
   "cell_type": "markdown",
   "id": "887c52ce",
   "metadata": {},
   "source": [
    "# Count Vowels"
   ]
  },
  {
   "cell_type": "code",
   "execution_count": 6,
   "id": "f5a56a01",
   "metadata": {},
   "outputs": [
    {
     "name": "stdout",
     "output_type": "stream",
     "text": [
      "5\n"
     ]
    }
   ],
   "source": [
    "s = \"Data Science\"\n",
    "count = 0\n",
    "vowels = ['a', 'e', 'i', 'o', 'u']\n",
    "for x in s:\n",
    "    if x in vowels:\n",
    "        count += 1\n",
    "        \n",
    "print(count)"
   ]
  },
  {
   "cell_type": "markdown",
   "id": "5f5deeb6",
   "metadata": {},
   "source": [
    "# Remove String Space"
   ]
  },
  {
   "cell_type": "code",
   "execution_count": 12,
   "id": "03386497",
   "metadata": {},
   "outputs": [
    {
     "name": "stdout",
     "output_type": "stream",
     "text": [
      "MelloWorld!\n"
     ]
    }
   ],
   "source": [
    "str=\"Mello World!\"\n",
    "str= str.replace(' ','')\n",
    "\n",
    "print(str)"
   ]
  },
  {
   "cell_type": "markdown",
   "id": "03016d9d",
   "metadata": {},
   "source": [
    "# Frist Non Repeating Character"
   ]
  },
  {
   "cell_type": "code",
   "execution_count": 13,
   "id": "a78991e3",
   "metadata": {},
   "outputs": [
    {
     "name": "stdout",
     "output_type": "stream",
     "text": [
      "w\n"
     ]
    }
   ],
   "source": [
    "def NonRep(s):\n",
    "    n = len(s)\n",
    "    for i in range(n):\n",
    "        found = False\n",
    "        for j in range(n):\n",
    "            if i != j and s[i] == s[j]:\n",
    "                found = True\n",
    "                break\n",
    "        if not found:\n",
    "            return s[i]\n",
    "    return '$'\n",
    "\n",
    "\n",
    "s = \"swiss\"\n",
    "print(NonRep(s))"
   ]
  },
  {
   "cell_type": "markdown",
   "id": "32fb3eda",
   "metadata": {},
   "source": []
  },
  {
   "cell_type": "markdown",
   "id": "bc8c3335",
   "metadata": {},
   "source": [
    "# Anagram Check"
   ]
  },
  {
   "cell_type": "code",
   "execution_count": 16,
   "id": "b4153dd3",
   "metadata": {},
   "outputs": [
    {
     "name": "stdout",
     "output_type": "stream",
     "text": [
      "It is not an anagram\n"
     ]
    }
   ],
   "source": [
    "def AnagramCheck(str1, str2):\n",
    "    \n",
    "    str1= sorted(str1)\n",
    "    \n",
    "    str2= sorted(str2)\n",
    "    \n",
    "    \n",
    "    if str1== str2:\n",
    "        print(\"It is an anagram\")\n",
    "    else:\n",
    "        print(\"It is not an anagram\")\n",
    "    \n",
    "\n",
    "\n",
    "\n",
    "if __name__ == \"__main__\":\n",
    "    str1=\"listen\"\n",
    "    str2=\"stenill\"\n",
    "    AnagramCheck( str1,str2)\n",
    "    \n",
    "\n",
    "\n",
    "\n"
   ]
  },
  {
   "cell_type": "markdown",
   "id": "7756e215",
   "metadata": {},
   "source": [
    "# UpperCase"
   ]
  },
  {
   "cell_type": "code",
   "execution_count": 17,
   "id": "828ad0e8",
   "metadata": {},
   "outputs": [
    {
     "name": "stdout",
     "output_type": "stream",
     "text": [
      "LISTEN\n"
     ]
    }
   ],
   "source": [
    "str1=\"listen\"\n",
    "\n",
    "str1= str1.upper()\n",
    "\n",
    "print(str1)"
   ]
  },
  {
   "cell_type": "markdown",
   "id": "988a1e92",
   "metadata": {},
   "source": [
    "# Most Frequent Character"
   ]
  },
  {
   "cell_type": "code",
   "execution_count": 19,
   "metadata": {},
   "outputs": [
    {
     "name": "stdout",
     "output_type": "stream",
     "text": [
      "a\n"
     ]
    }
   ],
   "source": [
    "w = input()\n",
    "r = 1\n",
    "for i in w:\n",
    "    p = w.count(i)\n",
    "    if p > r:\n",
    "        r = p\n",
    "        s = i\n",
    "print(s)\n",
    "\n"
   ]
  },
  {
   "cell_type": "markdown",
   "id": "9e82dc75",
   "metadata": {},
   "source": [
    "# Only Digits"
   ]
  },
  {
   "cell_type": "code",
   "execution_count": 33,
   "id": "936685de",
   "metadata": {},
   "outputs": [
    {
     "name": "stdout",
     "output_type": "stream",
     "text": [
      "False\n"
     ]
    }
   ],
   "source": [
    "str= \"12345a\"\n",
    "if str.isdigit():\n",
    "    print(\"True\")\n",
    "else:\n",
    "    print(\"False\")\n",
    "\n"
   ]
  },
  {
   "cell_type": "markdown",
   "id": "b89e7943",
   "metadata": {},
   "source": [
    "# Length of Longest Word"
   ]
  },
  {
   "cell_type": "code",
   "execution_count": 34,
   "id": "fa6f6e48",
   "metadata": {},
   "outputs": [
    {
     "name": "stdout",
     "output_type": "stream",
     "text": [
      "5\n"
     ]
    }
   ],
   "source": [
    "\n",
    "\n",
    "def longestWordLength(string):\n",
    "    \n",
    "    length = 0\n",
    "    splitstr=string.split()\n",
    "    for word in splitstr:\n",
    "        if(len(word) > length):\n",
    "            length = len(word)\n",
    "    \n",
    "    return length \n",
    "\n",
    "# Driver Code\n",
    "string = \"The Quick Brown Fox\"\n",
    "print(longestWordLength(string))\n"
   ]
  },
  {
   "cell_type": "markdown",
   "id": "338854ee",
   "metadata": {},
   "source": [
    "# Replace Space with %20"
   ]
  },
  {
   "cell_type": "code",
   "execution_count": 35,
   "id": "6a902a03",
   "metadata": {},
   "outputs": [
    {
     "name": "stdout",
     "output_type": "stream",
     "text": [
      "Mr%20John%20Smith\n"
     ]
    }
   ],
   "source": [
    "str=\"Mr John Smith\"\n",
    "\n",
    "str=str.replace(\" \",'%20')\n",
    "\n",
    "print(str)\n"
   ]
  },
  {
   "cell_type": "markdown",
   "id": "eb89deb8",
   "metadata": {},
   "source": [
    "# Substrings"
   ]
  },
  {
   "cell_type": "code",
   "execution_count": 36,
   "id": "f2fa893a",
   "metadata": {},
   "outputs": [
    {
     "name": "stdout",
     "output_type": "stream",
     "text": [
      "['a', 'ab', 'abc', 'b', 'bc', 'c']\n"
     ]
    }
   ],
   "source": [
    "s = \"abc\"\n",
    "\n",
    "substrings = []\n",
    "\n",
    "for i in range(len(s)):\n",
    "    for j in range(i + 1, len(s) + 1):\n",
    "        substrings.append(s[i:j])\n",
    "\n",
    "print(substrings)"
   ]
  },
  {
   "cell_type": "markdown",
   "id": "089f0b54",
   "metadata": {},
   "source": [
    "# Reverse Each Word"
   ]
  },
  {
   "cell_type": "code",
   "execution_count": 37,
   "id": "eae7b9b8",
   "metadata": {},
   "outputs": [
    {
     "name": "stdout",
     "output_type": "stream",
     "text": [
      "olleH dlroW\n"
     ]
    }
   ],
   "source": [
    "s = \"Hello World\"\n",
    "\n",
    "words = s.split()\n",
    "\n",
    "\n",
    "a = []\n",
    "for word in words:\n",
    "  \n",
    "    a.append(word[::-1])\n",
    "\n",
    "res = \" \".join(a)\n",
    "\n",
    "print(res)"
   ]
  },
  {
   "cell_type": "markdown",
   "id": "0ffe0206",
   "metadata": {},
   "source": [
    "# Longest Common Prefix"
   ]
  },
  {
   "cell_type": "code",
   "execution_count": 39,
   "id": "9b16466c",
   "metadata": {},
   "outputs": [
    {
     "name": "stdout",
     "output_type": "stream",
     "text": [
      "fl\n"
     ]
    }
   ],
   "source": [
    "\n",
    "\n",
    "def longestCommonPrefix(arr):\n",
    "\n",
    "    \n",
    "    arr.sort()\n",
    "\n",
    "    \n",
    "    first = arr[0]\n",
    "    last = arr[-1]\n",
    "    minLength = min(len(first), len(last))\n",
    "\n",
    "    i = 0\n",
    "    \n",
    "    while i < minLength and first[i] == last[i]:\n",
    "        i += 1\n",
    "\n",
    "    \n",
    "    return first[:i]\n",
    "\n",
    "if __name__ == \"__main__\":\n",
    "    arr = [\"flower\", \"flow\", \"flight\"]\n",
    "    print( longestCommonPrefix(arr))"
   ]
  },
  {
   "cell_type": "markdown",
   "id": "e31babf0",
   "metadata": {},
   "source": [
    "# # Roatation of A String"
   ]
  },
  {
   "cell_type": "code",
   "execution_count": 41,
   "id": "fac89371",
   "metadata": {},
   "outputs": [
    {
     "name": "stdout",
     "output_type": "stream",
     "text": [
      "true\n"
     ]
    }
   ],
   "source": [
    "\n",
    "def areRotations(s1, s2):\n",
    "    n = len(s1)\n",
    "\n",
    "   \n",
    "    for _ in range(n):\n",
    "        \n",
    "        \n",
    "        if s1 == s2:\n",
    "            return True\n",
    "\n",
    "       \n",
    "        s1 = s1[-1] + s1[:-1]\n",
    "\n",
    "    return False\n",
    "\n",
    "if __name__ == \"__main__\":\n",
    "    s1 = \"aab\"\n",
    "    s2 = \"aba\"\n",
    "\n",
    "    print(\"true\" if areRotations(s1, s2) else \"false\")"
   ]
  },
  {
   "cell_type": "markdown",
   "id": "d6825b36",
   "metadata": {},
   "source": [
    "# Find the Second Most Frequent Character"
   ]
  },
  {
   "cell_type": "code",
   "execution_count": 43,
   "id": "00c2f579",
   "metadata": {},
   "outputs": [
    {
     "name": "stdout",
     "output_type": "stream",
     "text": [
      "Second most frequent char is n\n"
     ]
    }
   ],
   "source": [
    "\n",
    "def getSecondMostFreq(str) :\n",
    "\n",
    "    NO_OF_CHARS = 256\n",
    "\n",
    "    \n",
    "    count = [0] * NO_OF_CHARS\n",
    "\n",
    "  \n",
    "    for i in range(len(str)) :\n",
    "        count[ord(str[i])] += 1\n",
    "\n",
    "    first, second = 0, 0\n",
    "\n",
    "    for i in range(NO_OF_CHARS) :\n",
    "\n",
    "      \n",
    "        if count[i] > count[first] :\n",
    "\n",
    "            second = first\n",
    "            first = i\n",
    "\n",
    "        elif (count[i] > count[second] and\n",
    "            count[i] != count[first] ) :\n",
    "            \n",
    "            second = i\n",
    "\n",
    "    return chr(second)\n",
    "\n",
    "\n",
    "if __name__ == \"__main__\" :\n",
    "\n",
    "    str = \"banana\"\n",
    "    \n",
    "   \n",
    "    res = getSecondMostFreq(str)\n",
    "    if res != '\\0' :\n",
    "        print(\"Second most frequent char is\", res)\n",
    "    else :\n",
    "        print(\"No second most frequent character\")\n",
    "\n"
   ]
  },
  {
   "cell_type": "markdown",
   "id": "c2ffc0a7",
   "metadata": {},
   "source": [
    "# Uique Characters"
   ]
  },
  {
   "cell_type": "code",
   "execution_count": 45,
   "id": "732e703f",
   "metadata": {},
   "outputs": [
    {
     "name": "stdout",
     "output_type": "stream",
     "text": [
      "The String  abcded  has duplicate characters\n"
     ]
    }
   ],
   "source": [
    "def uniqueCharacters(str):\n",
    "    \n",
    "    \n",
    "    for i in range(len(str)):\n",
    "        for j in range(i + 1,len(str)): \n",
    "            if(str[i] == str[j]):\n",
    "                return False;\n",
    "\n",
    "    return True;\n",
    "\n",
    "\n",
    "\n",
    "str = \"abcded\"\n",
    "\n",
    "if(uniqueCharacters(str)):\n",
    "    print(\"The String \", str,\" has all unique characters\");\n",
    "else:\n",
    "    print(\"The String \", str, \" has duplicate characters\");"
   ]
  },
  {
   "cell_type": "markdown",
   "id": "37c99fa2",
   "metadata": {},
   "source": [
    "# Longest Palindrome"
   ]
  },
  {
   "cell_type": "code",
   "execution_count": 46,
   "id": "9d5cbcd1",
   "metadata": {},
   "outputs": [
    {
     "name": "stdout",
     "output_type": "stream",
     "text": [
      "bab\n"
     ]
    }
   ],
   "source": [
    "\n",
    "def checkPal(str, low, high):\n",
    "    while low < high:\n",
    "        if str[low] != str[high]:\n",
    "            return False\n",
    "        low += 1\n",
    "        high -= 1\n",
    "    return True\n",
    "\n",
    "\n",
    "def longestPalindrome(s):\n",
    "    \n",
    "   \n",
    "    n = len(s)\n",
    "\n",
    "   \n",
    "    maxLen = 1\n",
    "    start = 0\n",
    "\n",
    "  \n",
    "    for i in range(n):\n",
    "        for j in range(i, n):\n",
    "\n",
    "           \n",
    "            if checkPal(s, i, j) and (j - i + 1) > maxLen:\n",
    "                start = i\n",
    "                maxLen = j - i + 1\n",
    "\n",
    "    return s[start:start + maxLen]\n",
    "\n",
    "if __name__ == \"__main__\":\n",
    "    s = \"babad\"\n",
    "    print(longestPalindrome(s))"
   ]
  },
  {
   "cell_type": "markdown",
   "id": "74cd4fca",
   "metadata": {},
   "source": [
    "# Remove Duplicates"
   ]
  },
  {
   "cell_type": "code",
   "execution_count": null,
   "id": "9a9b5071",
   "metadata": {},
   "outputs": [
    {
     "name": "stdout",
     "output_type": "stream",
     "text": [
      "helo\n"
     ]
    }
   ],
   "source": [
    "def remove_duplicate(s):\n",
    "\n",
    "   \n",
    "    seen = set()\n",
    "    result = []\n",
    "    for char in s:\n",
    "          \n",
    "        if char not in seen:\n",
    "            result.append(char)\n",
    "            seen.add(char)\n",
    "    \n",
    "    \n",
    "    return ''.join(result)\n",
    "\n",
    "\n",
    "s = \"hello\"\n",
    "print(remove_duplicate(s))"
   ]
  },
  {
   "cell_type": "markdown",
   "id": "b99bcddb",
   "metadata": {},
   "source": [
    "# Sort String Alphabetically"
   ]
  },
  {
   "cell_type": "code",
   "execution_count": 48,
   "id": "f0566f0d",
   "metadata": {},
   "outputs": [
    {
     "name": "stdout",
     "output_type": "stream",
     "text": [
      "['e', 'h', 'l', 'l', 'o']\n"
     ]
    }
   ],
   "source": [
    "str=\"hello\"\n",
    "\n",
    "str=sorted(str)\n",
    "\n",
    "print(str)"
   ]
  },
  {
   "cell_type": "markdown",
   "id": "bdf56207",
   "metadata": {},
   "source": [
    "# String Smallest Window"
   ]
  },
  {
   "cell_type": "code",
   "execution_count": 52,
   "id": "9c7cefdc",
   "metadata": {},
   "outputs": [
    {
     "name": "stdout",
     "output_type": "stream",
     "text": [
      "BANC\n"
     ]
    }
   ],
   "source": [
    "def contains_all_characters(s, p):\n",
    "    count = [0] * 256\n",
    "\n",
    "    \n",
    "    for ch in p:\n",
    "        count[ord(ch)] += 1\n",
    "\n",
    "    \n",
    "    for ch in s:\n",
    "        if count[ord(ch)] > 0:\n",
    "            count[ord(ch)] -= 1\n",
    "\n",
    "    return all(c == 0 for c in count)\n",
    "\n",
    "\n",
    "def find_smallest_substring(s, p):\n",
    "    m = len(s)\n",
    "    n = len(p)\n",
    "    smallest_substring = \"\"\n",
    "    min_len = float('inf')\n",
    "\n",
    "    \n",
    "    for i in range(m):\n",
    "        for j in range(i, m):\n",
    "            substr = s[i:j + 1]\n",
    "\n",
    "           \n",
    "            if contains_all_characters(substr, p):\n",
    "                curr_len = len(substr)\n",
    "\n",
    "                \n",
    "                if curr_len < min_len:\n",
    "                    min_len = curr_len\n",
    "                    smallest_substring = substr\n",
    "\n",
    "    return smallest_substring\n",
    "\n",
    "\n",
    "if __name__ == \"__main__\":\n",
    "    s = \"ADOBECODEBANC\"\n",
    "    p = \"ABC\"\n",
    "\n",
    "    result = find_smallest_substring(s, p)\n",
    "\n",
    "    if result:\n",
    "        print(result)\n",
    "    else:\n",
    "        print(-1)"
   ]
  },
  {
   "cell_type": "markdown",
   "id": "2e9f33aa",
   "metadata": {},
   "source": [
    "# Run Length Coding"
   ]
  },
  {
   "cell_type": "code",
   "execution_count": null,
   "id": "b24bfdc7",
   "metadata": {},
   "outputs": [
    {
     "name": "stdout",
     "output_type": "stream",
     "text": [
      "w3x3w3\n"
     ]
    }
   ],
   "source": [
    "\n",
    "def runLengthEncodingIterative(input):\n",
    "    output = ''\n",
    "    \n",
    "    \n",
    "    count = 1  \n",
    "    \n",
    "    \n",
    "    for i in range(1, len(input)):\n",
    "      \n",
    "       \n",
    "        if input[i] == input[i - 1]: \n",
    "            count += 1  \n",
    "        else:\n",
    "          \n",
    "          \t\n",
    "            output += f\"{input[i - 1]}{count}\"  \n",
    "            \n",
    "            \n",
    "            count = 1  \n",
    "    \n",
    "    \n",
    "    output += f\"{input[-1]}{count}\"\n",
    "    \n",
    "    return output\n",
    "\n",
    "\n",
    "input = \"wwwxxxwww\"\n",
    "print(runLengthEncodingIterative(input))  "
   ]
  },
  {
   "cell_type": "markdown",
   "id": "f37217a7",
   "metadata": {},
   "source": [
    "# Find All Permutations of a String"
   ]
  },
  {
   "cell_type": "code",
   "execution_count": 76,
   "id": "ce238543",
   "metadata": {},
   "outputs": [
    {
     "name": "stdout",
     "output_type": "stream",
     "text": [
      "ABC ACB BAC BCA CAB CBA "
     ]
    }
   ],
   "source": [
    "\n",
    "def recurPermute(index, s, ans):\n",
    "\n",
    "    \n",
    "    if index == len(s):\n",
    "        ans.append(\"\".join(s))\n",
    "        return\n",
    "\n",
    "    for i in range(index, len(s)):\n",
    "        s[index], s[i] = s[i], s[index]\n",
    "        recurPermute(index + 1, s, ans)\n",
    "        s[index], s[i] = s[i], s[index]\n",
    "\n",
    "def findPermutation(s):\n",
    "\n",
    "    ans = []\n",
    "\n",
    "    recurPermute(0, list(s), ans)\n",
    "\n",
    "    \n",
    "    ans.sort()\n",
    "\n",
    "    return ans\n",
    "\n",
    "if __name__ == \"__main__\":\n",
    "    s = \"ABC\"\n",
    "    res = findPermutation(s)\n",
    "    for x in res:\n",
    "        print(x, end=\" \")"
   ]
  },
  {
   "cell_type": "markdown",
   "id": "e2ac81e6",
   "metadata": {},
   "source": [
    "# Count the Number of Distinct Subsequences of a String"
   ]
  },
  {
   "cell_type": "code",
   "execution_count": 81,
   "id": "df61e5ca",
   "metadata": {},
   "outputs": [
    {
     "name": "stdout",
     "output_type": "stream",
     "text": [
      "7\n"
     ]
    }
   ],
   "source": [
    "\n",
    "\n",
    "def generateSubseq(ind, cur, str, s):\n",
    "    n = len(str)\n",
    "\n",
    "   \n",
    "    if ind == n:\n",
    "        s.add(cur)\n",
    "        return\n",
    "\n",
    "    \n",
    "    generateSubseq(ind + 1, cur, str, s)\n",
    "\n",
    "   \n",
    "    cur = cur + str[ind]\n",
    "    generateSubseq(ind + 1, cur, str, s)\n",
    "\n",
    "    \n",
    "    cur = cur[:-1]\n",
    "\n",
    "\n",
    "def distinctSubseq(str):\n",
    "    \n",
    "    s = set()\n",
    "\n",
    "    \n",
    "    cur = \"\"\n",
    "\n",
    "    generateSubseq(0, cur, str, s)\n",
    "\n",
    "    return len(s)\n",
    "\n",
    "if __name__ == \"__main__\":\n",
    "    str = \"gfg\"\n",
    "    print(distinctSubseq(str))"
   ]
  },
  {
   "cell_type": "markdown",
   "id": "c3bfbedc",
   "metadata": {},
   "source": [
    "# Shorted SubString Containing all the strings"
   ]
  },
  {
   "cell_type": "code",
   "execution_count": 82,
   "id": "296558c1",
   "metadata": {},
   "outputs": [
    {
     "name": "stdout",
     "output_type": "stream",
     "text": [
      "The Shortest Superstring is: catgcatcgctaagt\n"
     ]
    }
   ],
   "source": [
    "def overlap(s1, s2):\n",
    "    \n",
    "    max_overlap = min(len(s1), len(s2))\n",
    "    for i in range(max_overlap, 0, -1):\n",
    "        if s1.endswith(s2[:i]):\n",
    "            return i\n",
    "    return 0\n",
    "\n",
    "def merge_strings(s1, s2, overlap_len):\n",
    "    \n",
    "    return s1 + s2[overlap_len:]\n",
    "\n",
    "def shortest_superstring(words):\n",
    "    \n",
    "    while len(words) > 1:\n",
    "        max_overlap = -1\n",
    "        merge_indices = None\n",
    "        merged_string = None\n",
    "        for i in range(len(words)):\n",
    "            for j in range(len(words)):\n",
    "                if i != j:\n",
    "                    curr_overlap = overlap(words[i], words[j])\n",
    "                    if curr_overlap > max_overlap:\n",
    "                        max_overlap = curr_overlap\n",
    "                        merge_indices = (i, j)\n",
    "                        merged_string = merge_strings(words[i], words[j], curr_overlap)\n",
    "        if merge_indices is not None:\n",
    "            i, j = merge_indices\n",
    "            del words[j]\n",
    "            words[i] = merged_string\n",
    "    return words[0]\n",
    "\n",
    "\n",
    "words = [\"catgc\", \"ctaagt\", \"gcta\", \"ttca\", \"atgcatc\"]\n",
    "shortest_string = shortest_superstring(words)\n",
    "print(\"The Shortest Superstring is:\", shortest_string)\n"
   ]
  },
  {
   "cell_type": "markdown",
   "id": "356b2bf2",
   "metadata": {},
   "source": [
    "# List Questions"
   ]
  },
  {
   "cell_type": "markdown",
   "id": "0e3e50f4",
   "metadata": {},
   "source": [
    "# sum of all elements\n"
   ]
  },
  {
   "cell_type": "code",
   "execution_count": 83,
   "id": "369646b2",
   "metadata": {},
   "outputs": [
    {
     "name": "stdout",
     "output_type": "stream",
     "text": [
      "15\n"
     ]
    }
   ],
   "source": [
    "arr=[1,2,3,4,5]\n",
    "n=len(arr)\n",
    "sum=0\n",
    "\n",
    "for i in range(n):\n",
    "    sum=sum+arr[i]\n",
    "    \n",
    "print(sum)    "
   ]
  },
  {
   "cell_type": "markdown",
   "id": "53928999",
   "metadata": {},
   "source": [
    "# Max Element"
   ]
  },
  {
   "cell_type": "code",
   "execution_count": 89,
   "id": "d6c234bc",
   "metadata": {},
   "outputs": [
    {
     "name": "stdout",
     "output_type": "stream",
     "text": [
      "10\n"
     ]
    }
   ],
   "source": [
    "arr=[10,2,3,4,5,]\n",
    "n=len(arr)\n",
    "max=-999999\n",
    "for i in range(n):\n",
    "    if arr[i] > max:\n",
    "       max = arr[i]\n",
    "    \n",
    "    \n",
    "print(max)    "
   ]
  },
  {
   "cell_type": "markdown",
   "id": "3c8fd718",
   "metadata": {},
   "source": [
    "# Minimum Element"
   ]
  },
  {
   "cell_type": "code",
   "execution_count": null,
   "id": "eae01b08",
   "metadata": {},
   "outputs": [
    {
     "name": "stdout",
     "output_type": "stream",
     "text": [
      "2\n"
     ]
    }
   ],
   "source": [
    "arr=[10,2,3,4,5]\n",
    "n=len(arr)\n",
    "min=999999\n",
    "for i in range(n):\n",
    "    if arr[i] < min:\n",
    "       min = arr[i]\n",
    "    \n",
    "    \n",
    "print(min)  "
   ]
  },
  {
   "cell_type": "markdown",
   "id": "ba799302",
   "metadata": {},
   "source": [
    "# Reverse A String"
   ]
  },
  {
   "cell_type": "code",
   "execution_count": 92,
   "id": "b0ce3f4a",
   "metadata": {},
   "outputs": [
    {
     "name": "stdout",
     "output_type": "stream",
     "text": [
      "[5, 4, 3, 2, 1]\n"
     ]
    }
   ],
   "source": [
    "arr=[1, 2, 3, 4, 5]\n",
    "arr.reverse()\n",
    "\n",
    "print(arr)\n",
    "\n",
    "\n"
   ]
  },
  {
   "cell_type": "markdown",
   "id": "c9cbaa45",
   "metadata": {},
   "source": [
    "# Palindrome"
   ]
  },
  {
   "cell_type": "code",
   "execution_count": null,
   "id": "2244fcc3",
   "metadata": {},
   "outputs": [
    {
     "name": "stdout",
     "output_type": "stream",
     "text": [
      "True\n"
     ]
    }
   ],
   "source": [
    "a = [1, 2, 3, 2, 1]\n",
    "\n",
    "\n",
    "is_pal = a == list(reversed(a))\n",
    "print(is_pal)  "
   ]
  },
  {
   "cell_type": "markdown",
   "id": "97b4fb6f",
   "metadata": {},
   "source": [
    "# Count the Frequency of Elements in a List"
   ]
  },
  {
   "cell_type": "code",
   "execution_count": null,
   "id": "52ad0e8e",
   "metadata": {},
   "outputs": [
    {
     "name": "stdout",
     "output_type": "stream",
     "text": [
      "Counter({4: 4, 3: 3, 2: 2, 1: 1})\n"
     ]
    }
   ],
   "source": [
    "\n",
    "\n",
    "from collections import Counter\n",
    "\n",
    "n = [1, 2, 2, 3, 3, 3, 4, 4, 4, 4]\n",
    "\n",
    "f = Counter(n)  \n",
    "\n",
    "print(f)"
   ]
  },
  {
   "cell_type": "markdown",
   "id": "7994f98b",
   "metadata": {},
   "source": [
    "# Second Largest"
   ]
  },
  {
   "cell_type": "code",
   "execution_count": 96,
   "id": "0a88fb38",
   "metadata": {},
   "outputs": [
    {
     "name": "stdout",
     "output_type": "stream",
     "text": [
      "45\n"
     ]
    }
   ],
   "source": [
    "a = [10, 20, 4, 45, 99]\n",
    "\n",
    "\n",
    "a.sort(reverse=True)\n",
    "\n",
    "\n",
    "print(a[1])"
   ]
  },
  {
   "cell_type": "markdown",
   "id": "5837bd90",
   "metadata": {},
   "source": [
    "# Merge tow sorted lists"
   ]
  },
  {
   "cell_type": "code",
   "execution_count": 97,
   "id": "84d2bd34",
   "metadata": {},
   "outputs": [
    {
     "name": "stdout",
     "output_type": "stream",
     "text": [
      "[1, 2, 3, 4, 5, 6]\n"
     ]
    }
   ],
   "source": [
    "a = [1, 3, 5]\n",
    "b = [2, 4, 6]\n",
    "\n",
    "c = sorted(a + b)\n",
    "print(c)"
   ]
  },
  {
   "cell_type": "markdown",
   "id": "461b7433",
   "metadata": {},
   "source": [
    "# Remove duplicate"
   ]
  },
  {
   "cell_type": "code",
   "execution_count": 98,
   "id": "e0f0ac19",
   "metadata": {},
   "outputs": [
    {
     "name": "stdout",
     "output_type": "stream",
     "text": [
      "[1, 2, 3, 4, 5]\n"
     ]
    }
   ],
   "source": [
    "a = [1, 2, 2, 3, 4, 4, 5]\n",
    "\n",
    "\n",
    "a = list(set(a))\n",
    "\n",
    "print(a)"
   ]
  },
  {
   "cell_type": "markdown",
   "id": "a2614e8d",
   "metadata": {},
   "source": [
    "# Rotate by K positions"
   ]
  },
  {
   "cell_type": "code",
   "execution_count": null,
   "id": "0b5b38ec",
   "metadata": {},
   "outputs": [
    {
     "name": "stdout",
     "output_type": "stream",
     "text": [
      "4 5 6 1 2 3 "
     ]
    }
   ],
   "source": [
    "def rotateclockwise(arr, k):\n",
    "    n = len(arr)\n",
    "    \n",
    "   \n",
    "    k = k % n\n",
    "\n",
    "    \n",
    "    res = [0] * n\n",
    "\n",
    "    for i in range(n):\n",
    "        if i < k:\n",
    "            \n",
    "            res[i] = arr[n + i - k]  \n",
    "        else:\n",
    "            \n",
    "            res[i] = arr[i - k]      \n",
    "\n",
    "    \n",
    "    for i in range(n):\n",
    "        arr[i] = res[i]\n",
    "\n",
    "\n",
    "if __name__ == \"__main__\":\n",
    "    arr = [1, 2, 3, 4, 5, 6]\n",
    "    k = 2\n",
    "    rotateclockwise(arr, k)\n",
    "    for it in arr:\n",
    "        print(it, end=\" \")"
   ]
  },
  {
   "cell_type": "markdown",
   "id": "f9309d9e",
   "metadata": {},
   "source": [
    "# Find Intersection"
   ]
  },
  {
   "cell_type": "code",
   "execution_count": 107,
   "id": "d33b34bb",
   "metadata": {},
   "outputs": [
    {
     "name": "stdout",
     "output_type": "stream",
     "text": [
      "[9, 26, 11, 28]\n"
     ]
    }
   ],
   "source": [
    "a = [4, 9, 1, 17, 11, 26, 28, 54, 69]\n",
    "b = [9, 9, 74, 21, 45, 11, 63, 28, 26]\n",
    "\n",
    "res = list(set(a) & set(b))\n",
    "print(res)"
   ]
  },
  {
   "cell_type": "markdown",
   "id": "5dd39508",
   "metadata": {},
   "source": [
    "# Union"
   ]
  },
  {
   "cell_type": "code",
   "execution_count": 108,
   "id": "99e5f11e",
   "metadata": {},
   "outputs": [
    {
     "name": "stdout",
     "output_type": "stream",
     "text": [
      "[1, 4, 69, 9, 74, 11, 45, 17, 21, 54, 26, 28, 63]\n"
     ]
    }
   ],
   "source": [
    "a = [4, 9, 1, 17, 11, 26, 28, 54, 69]\n",
    "b = [9, 9, 74, 21, 45, 11, 63, 28, 26]\n",
    "\n",
    "res = list(set(a) | set(b))\n",
    "print(res)"
   ]
  },
  {
   "cell_type": "markdown",
   "id": "7382b0a7",
   "metadata": {},
   "source": [
    "# Find the Difference Between Two Lists"
   ]
  },
  {
   "cell_type": "code",
   "execution_count": 109,
   "id": "740aca0c",
   "metadata": {},
   "outputs": [
    {
     "name": "stdout",
     "output_type": "stream",
     "text": [
      "[1, 4, 69, 17, 54]\n"
     ]
    }
   ],
   "source": [
    "a = [4, 9, 1, 17, 11, 26, 28, 54, 69]\n",
    "b = [9, 9, 74, 21, 45, 11, 63, 28, 26]\n",
    "\n",
    "res = list(set(a) - set(b))\n",
    "print(res)"
   ]
  },
  {
   "cell_type": "markdown",
   "id": "e5293feb",
   "metadata": {},
   "source": [
    "# Mode"
   ]
  },
  {
   "cell_type": "code",
   "execution_count": 111,
   "id": "2fdf9aab",
   "metadata": {},
   "outputs": [
    {
     "name": "stdout",
     "output_type": "stream",
     "text": [
      "9\n"
     ]
    }
   ],
   "source": [
    "from statistics import mode\n",
    "\n",
    "b = [9, 9, 74, 21, 45, 11, 63, 28, 26]\n",
    "\n",
    "a=mode(b)\n",
    "\n",
    "print(a)"
   ]
  },
  {
   "cell_type": "markdown",
   "id": "d0739bea",
   "metadata": {},
   "source": [
    "# Flatten a nested list"
   ]
  },
  {
   "cell_type": "code",
   "execution_count": 112,
   "id": "ed2d1ee0",
   "metadata": {},
   "outputs": [
    {
     "name": "stdout",
     "output_type": "stream",
     "text": [
      "[1, 2, 3, 4, 5]\n"
     ]
    }
   ],
   "source": [
    "arr=[[1, 2], [3, 4], [5]]\n",
    "\n",
    "temparr =[]\n",
    "k=0\n",
    "for subarr in arr:\n",
    "    for j in subarr:\n",
    "        temparr.append(j)\n",
    "        \n",
    "        \n",
    "print(temparr)"
   ]
  },
  {
   "cell_type": "markdown",
   "id": "5db0d441",
   "metadata": {},
   "source": [
    "# Find Pairs in a List That Sum to a Target Value"
   ]
  },
  {
   "cell_type": "code",
   "execution_count": 115,
   "id": "70910262",
   "metadata": {},
   "outputs": [
    {
     "data": {
      "text/plain": [
       "[(1, 5), (2, 4)]"
      ]
     },
     "execution_count": 115,
     "metadata": {},
     "output_type": "execute_result"
    }
   ],
   "source": [
    "def pairsum(list, target):\n",
    "    result = []\n",
    "    loop = 1\n",
    "    for x in list:\n",
    "        for y in list:\n",
    "            if x + y == target:\n",
    "                result.append((x, y))\n",
    "        list = list[loop:]\n",
    "        loop += 1\n",
    "    return result\n",
    "\n",
    "list=[1, 2, 3, 4, 5]\n",
    "target=6\n",
    "pairsum(list,target)\n"
   ]
  },
  {
   "cell_type": "markdown",
   "id": "28fa2167",
   "metadata": {},
   "source": [
    "# Find the Product of All Elements Except Self"
   ]
  },
  {
   "cell_type": "code",
   "execution_count": 118,
   "id": "fe290a03",
   "metadata": {},
   "outputs": [
    {
     "name": "stdout",
     "output_type": "stream",
     "text": [
      "[24, 12, 8, 6]\n"
     ]
    }
   ],
   "source": [
    "arr=[1, 2, 3, 4]\n",
    "n=len(arr)\n",
    "res=[1]*n\n",
    "prefix=1\n",
    "for i in range(n):\n",
    "    res[i]=prefix\n",
    "    prefix= prefix*arr[i]\n",
    "    \n",
    "suffix=1\n",
    "for i in range(n-1,-1,-1):\n",
    "    res[i]*=suffix\n",
    "    suffix= suffix*arr[i]\n",
    "    \n",
    "print(res)    \n",
    "    \n",
    "    "
   ]
  },
  {
   "cell_type": "markdown",
   "id": "d3775d45",
   "metadata": {},
   "source": [
    "# Longest Sequence"
   ]
  },
  {
   "cell_type": "code",
   "execution_count": 125,
   "id": "b277590c",
   "metadata": {},
   "outputs": [
    {
     "name": "stdout",
     "output_type": "stream",
     "text": [
      "4\n"
     ]
    }
   ],
   "source": [
    "nums = [100, 4, 200, 1, 3, 2]\n",
    "if not nums:\n",
    "    print(0)\n",
    "else:\n",
    "    nums.sort()\n",
    "    longest = 1\n",
    "    current_streak = 1\n",
    "    for i in range(1, len(nums)):\n",
    "        if nums[i] == nums[i - 1]:\n",
    "            continue\n",
    "        elif nums[i] == nums[i - 1] + 1:\n",
    "            current_streak += 1\n",
    "        else:\n",
    "            if current_streak > longest:\n",
    "                longest = current_streak\n",
    "            current_streak = 1\n",
    "    if current_streak > longest:\n",
    "        longest = current_streak\n",
    "    print(longest)\n"
   ]
  },
  {
   "cell_type": "markdown",
   "id": "33fd11ad",
   "metadata": {},
   "source": [
    "# Sublist"
   ]
  },
  {
   "cell_type": "code",
   "execution_count": null,
   "id": "6cf403b3",
   "metadata": {},
   "outputs": [
    {
     "name": "stdout",
     "output_type": "stream",
     "text": [
      "True\n"
     ]
    }
   ],
   "source": [
    "a = [5, 6, 3, 8, 2, 1, 7, 1]\n",
    "b = [8, 2, 1] \n",
    "a_str = ','.join(map(str, a))\n",
    "b_str = ','.join(map(str, b))\n",
    "res = a_str.find(b_str) != -1\n",
    "print(res)"
   ]
  },
  {
   "cell_type": "markdown",
   "id": "2a954ff3",
   "metadata": {},
   "source": [
    "# Find the Kth Largest Element in a List"
   ]
  },
  {
   "cell_type": "code",
   "execution_count": 136,
   "id": "1860ddb9",
   "metadata": {},
   "outputs": [
    {
     "name": "stdout",
     "output_type": "stream",
     "text": [
      "[1, 1, 2, 3, 5, 6, 7, 8]\n",
      "[8, 7, 6, 5, 3, 2, 1, 1]\n",
      "3\n"
     ]
    }
   ],
   "source": [
    "a = [5, 6, 3, 8, 2, 1, 7, 1]\n",
    "k=4\n",
    "a.sort()\n",
    "print(a)\n",
    "a.sort(reverse=True)\n",
    "print(a)\n",
    "print(k-1)"
   ]
  },
  {
   "cell_type": "markdown",
   "id": "d722fade",
   "metadata": {},
   "source": [
    "# Find All Duplicates in a List"
   ]
  },
  {
   "cell_type": "code",
   "execution_count": null,
   "id": "ff6d3c05",
   "metadata": {},
   "outputs": [
    {
     "name": "stdout",
     "output_type": "stream",
     "text": [
      "[5, 6, 3, 8, 2, 1, 7]\n"
     ]
    }
   ],
   "source": [
    "\n",
    "a = [5, 6, 3, 8, 2, 1, 7, 1]\n",
    "a = list(dict.fromkeys(a))\n",
    "print(a)\n"
   ]
  },
  {
   "cell_type": "markdown",
   "id": "eff2255a",
   "metadata": {},
   "source": [
    "# Partition a List into Even and Odd Elements"
   ]
  },
  {
   "cell_type": "code",
   "execution_count": 140,
   "id": "f51bd27c",
   "metadata": {},
   "outputs": [
    {
     "name": "stdout",
     "output_type": "stream",
     "text": [
      "even: [6, 8, 2]\n",
      "odd: [5, 3, 1, 7]\n"
     ]
    }
   ],
   "source": [
    "a=[5, 6, 3, 8, 2, 1, 7]\n",
    "b=[]\n",
    "c=[]\n",
    "for i in a:\n",
    "    if i%2==0:\n",
    "        b.append(i)\n",
    "    else:\n",
    "        c.append(i)\n",
    "        \n",
    "print(\"even:\",b)\n",
    "print(\"odd:\",c)\n",
    " \n",
    " "
   ]
  },
  {
   "cell_type": "markdown",
   "id": "2f5386eb",
   "metadata": {},
   "source": [
    "# Find the First Non-Repeating Element in a List"
   ]
  },
  {
   "cell_type": "code",
   "execution_count": 141,
   "id": "2f53779c",
   "metadata": {},
   "outputs": [
    {
     "name": "stdout",
     "output_type": "stream",
     "text": [
      "6\n"
     ]
    }
   ],
   "source": [
    "\n",
    "arr = [9, 4, 9, 6, 7, 4]\n",
    "n = len(arr)\n",
    "\n",
    "def firstNonRepeating(arr, n):\n",
    "\n",
    "    \n",
    "    for i in range(n):\n",
    "        j = 0\n",
    "       \n",
    "        while(j < n):\n",
    "            if (i != j and arr[i] == arr[j]):\n",
    "                break\n",
    "            j += 1\n",
    "        \n",
    "        if (j == n):\n",
    "            return arr[i]\n",
    "\n",
    "    return -1\n",
    "\n",
    "print(firstNonRepeating(arr, n))\n",
    "\n"
   ]
  },
  {
   "cell_type": "code",
   "execution_count": 142,
   "id": "d894ccc5",
   "metadata": {},
   "outputs": [
    {
     "name": "stdout",
     "output_type": "stream",
     "text": [
      "Original List: [76, 23, 45, 12, 54, 9]\n",
      "Sorted List [9, 12, 23, 45, 54, 76]\n"
     ]
    }
   ],
   "source": [
    "l1=[76,23,45,12,54,9] \n",
    "print(\"Original List:\", l1)\n",
    "for i in range(0, len(l1)):\n",
    "    for j in range(i+1, len(l1)):\n",
    "        if l1[i] >= l1[j]:\n",
    "            \n",
    "            temp = l1[i]\n",
    "            l1[i] = l1[j]\n",
    "            l1[j] = temp\n",
    "print(\"Sorted List\", l1)"
   ]
  },
  {
   "cell_type": "markdown",
   "id": "bd90987b",
   "metadata": {},
   "source": [
    "# Dictionary"
   ]
  },
  {
   "cell_type": "markdown",
   "id": "da53d83d",
   "metadata": {},
   "source": [
    "# Merge Two Lists"
   ]
  },
  {
   "cell_type": "code",
   "execution_count": 144,
   "id": "49b5ce4e",
   "metadata": {},
   "outputs": [
    {
     "name": "stdout",
     "output_type": "stream",
     "text": [
      "{'a': 1, 'b': 2}\n"
     ]
    }
   ],
   "source": [
    "\n",
    "keys = ['a', 'b']\n",
    "values = [1, 2]\n",
    "res = dict(zip(keys, values))\n",
    "print(res)"
   ]
  },
  {
   "cell_type": "markdown",
   "id": "3b47be95",
   "metadata": {},
   "source": [
    "# Merge Two Dictionaries"
   ]
  },
  {
   "cell_type": "code",
   "execution_count": 145,
   "id": "7c539bad",
   "metadata": {},
   "outputs": [
    {
     "name": "stdout",
     "output_type": "stream",
     "text": [
      "{'x': 1, 'y': 3, 'z': 4}\n"
     ]
    }
   ],
   "source": [
    "d1 = {'x': 1, 'y': 2}\n",
    "d2 = {'y': 3, 'z': 4}\n",
    "\n",
    "d1.update(d2)\n",
    "print(d1)"
   ]
  },
  {
   "cell_type": "markdown",
   "id": "e3a16fa1",
   "metadata": {},
   "source": [
    "# Check if Key Exists"
   ]
  },
  {
   "cell_type": "code",
   "execution_count": 158,
   "id": "41539b89",
   "metadata": {},
   "outputs": [
    {
     "name": "stdout",
     "output_type": "stream",
     "text": [
      "True\n"
     ]
    }
   ],
   "source": [
    "d1 = {'x': 1, 'y': 2}\n",
    "\n",
    "if \"y\" in d1:\n",
    "    print(\"True\")\n",
    "else:\n",
    "    print(\"False\")"
   ]
  },
  {
   "cell_type": "markdown",
   "id": "a807439d",
   "metadata": {},
   "source": [
    "# Frequency of Elements"
   ]
  },
  {
   "cell_type": "code",
   "execution_count": 159,
   "id": "103aa516",
   "metadata": {},
   "outputs": [
    {
     "name": "stdout",
     "output_type": "stream",
     "text": [
      "{1: 1, 2: 2, 3: 1}\n"
     ]
    }
   ],
   "source": [
    "mylist=[1,2,2,3]\n",
    "freq_dic={}\n",
    "for i in mylist:\n",
    "    if i in freq_dic:\n",
    "        freq_dic[i]+=1\n",
    "    else:\n",
    "        freq_dic[i]=1\n",
    "        \n",
    "print(freq_dic)            "
   ]
  },
  {
   "cell_type": "markdown",
   "id": "2b20e500",
   "metadata": {},
   "source": [
    "# reverse keys and values"
   ]
  },
  {
   "cell_type": "code",
   "execution_count": null,
   "id": "74d34f44",
   "metadata": {},
   "outputs": [
    {
     "data": {
      "text/plain": [
       "{1: 'a', 2: 'b'}"
      ]
     },
     "execution_count": 160,
     "metadata": {},
     "output_type": "execute_result"
    }
   ],
   "source": [
    "my_map = { 'a': 1, 'b':2 }\n",
    "dict(map(reversed, my_map.items()))\n"
   ]
  },
  {
   "cell_type": "markdown",
   "id": "6eb59f0e",
   "metadata": {},
   "source": [
    "#  Dictionary with Maximum Value\n"
   ]
  },
  {
   "cell_type": "code",
   "execution_count": 171,
   "id": "1674dfe3",
   "metadata": {},
   "outputs": [
    {
     "name": "stdout",
     "output_type": "stream",
     "text": [
      "The key wiht highest value: J\n"
     ]
    }
   ],
   "source": [
    "\n",
    "d = {'A':100, 'B':1292, 'J': 210000, 'H' : 88}\n",
    "res = max(d, key=d.get)\n",
    "print(\"The key wiht highest value:\",res)\n"
   ]
  },
  {
   "cell_type": "markdown",
   "id": "35b3b29d",
   "metadata": {},
   "source": [
    "# Remove Key from Dictionary"
   ]
  },
  {
   "cell_type": "markdown",
   "id": "b67f7a62",
   "metadata": {},
   "source": []
  },
  {
   "cell_type": "code",
   "execution_count": 173,
   "id": "52d01112",
   "metadata": {},
   "outputs": [
    {
     "name": "stdout",
     "output_type": "stream",
     "text": [
      "{'b': 2}\n"
     ]
    }
   ],
   "source": [
    "d = { 'a': 1, 'b':2 }\n",
    "key='a'\n",
    "\n",
    "del d[key]\n",
    "\n",
    "print(d)\n",
    "    "
   ]
  },
  {
   "cell_type": "markdown",
   "id": "151014ed",
   "metadata": {},
   "source": [
    "# Dictionary from string"
   ]
  },
  {
   "cell_type": "code",
   "execution_count": null,
   "id": "a1915c10",
   "metadata": {},
   "outputs": [
    {
     "name": "stdout",
     "output_type": "stream",
     "text": [
      "{'h': 1, 'e': 1, 'l': 2, 'o': 1}\n"
     ]
    }
   ],
   "source": [
    "\n",
    "s = \"hello\"\n",
    "dicx = {} \n",
    "  \n",
    "for i in s: \n",
    "    if i in dicx: \n",
    "        dicx[i] += 1\n",
    "    else: \n",
    "        dicx[i] = 1\n",
    "print(dicx)"
   ]
  },
  {
   "cell_type": "markdown",
   "id": "cbd9c6c8",
   "metadata": {},
   "source": [
    "# Update Value in Dictionary"
   ]
  },
  {
   "cell_type": "code",
   "execution_count": 185,
   "id": "5a1fb8ba",
   "metadata": {},
   "outputs": [
    {
     "name": "stdout",
     "output_type": "stream",
     "text": [
      "{'a': 1, 'b': 2, 'c': 100}\n"
     ]
    }
   ],
   "source": [
    "d = { 'a': 1, 'b':2 }\n",
    "d.update(c=100)\n",
    "\n",
    "print(d)\n",
    "\n"
   ]
  },
  {
   "cell_type": "code",
   "execution_count": 191,
   "id": "43a98d5a",
   "metadata": {},
   "outputs": [
    {
     "name": "stdout",
     "output_type": "stream",
     "text": [
      "Converted into tuples [('saad', 10), ('reyyan', 9), ('qasim', 15)]\n",
      "{'reyyan': 9, 'saad': 10, 'qasim': 15}\n"
     ]
    }
   ],
   "source": [
    "d = {'saad': 10, 'reyyan': 9, 'qasim': 15}\n",
    "items = list(d.items())\n",
    "n = len(items)\n",
    "print(\"Converted into tuples\",items)\n",
    "for i in range(n):\n",
    "    min_idx = i\n",
    "    for j in range(i + 1, n):\n",
    "        if items[j][1] < items[min_idx][1]:\n",
    "            min_idx = j\n",
    "    \n",
    "    items[i], items[min_idx] = items[min_idx], items[i]\n",
    "sorted_dict = {}\n",
    "for key, value in items:\n",
    "    sorted_dict[key] = value\n",
    "print(sorted_dict)\n"
   ]
  },
  {
   "cell_type": "markdown",
   "id": "49336ac2",
   "metadata": {},
   "source": [
    "# dicionary Intersection"
   ]
  },
  {
   "cell_type": "code",
   "execution_count": 194,
   "id": "13e202ea",
   "metadata": {},
   "outputs": [
    {
     "name": "stdout",
     "output_type": "stream",
     "text": [
      "{'b': 2, 'c': 3}\n"
     ]
    }
   ],
   "source": [
    "dict1 = {'a': 1, 'b': 2, 'c': 3}\n",
    "dict2 = {'b': 4, 'c': 5, 'd': 6}\n",
    "intersection = {k: dict1[k] for k in dict1 if k in dict2}\n",
    "print(intersection)\n"
   ]
  },
  {
   "cell_type": "markdown",
   "id": "841f0895",
   "metadata": {},
   "source": [
    "# Filter"
   ]
  },
  {
   "cell_type": "code",
   "execution_count": 199,
   "id": "add75048",
   "metadata": {},
   "outputs": [
    {
     "name": "stdout",
     "output_type": "stream",
     "text": [
      "{'a': 5, 'c': 8}\n"
     ]
    }
   ],
   "source": [
    "dict={'a':5, 'b':2, 'c':8}\n",
    "filtered = {}\n",
    "for k, v in dict.items():\n",
    "    if v > 4:\n",
    "        filtered[k] = v\n",
    "\n",
    "print(filtered)\n"
   ]
  },
  {
   "cell_type": "markdown",
   "id": "8d26c2de",
   "metadata": {},
   "source": [
    "# Dictionary from List of Tuples"
   ]
  },
  {
   "cell_type": "code",
   "execution_count": 201,
   "id": "a783324e",
   "metadata": {},
   "outputs": [
    {
     "name": "stdout",
     "output_type": "stream",
     "text": [
      "{'a': [1, 3], 'b': [2]}\n"
     ]
    }
   ],
   "source": [
    "tuple_list=[('a',1), ('b',2), ('a',3)]\n",
    "result = {}\n",
    "for key, value in tuple_list:\n",
    "    if key in result:\n",
    "        result[key].append(value)\n",
    "    else:\n",
    "        result[key] = [value]\n",
    "print(result)\n",
    "\n"
   ]
  },
  {
   "cell_type": "markdown",
   "id": "63b15676",
   "metadata": {},
   "source": [
    "# Increment Dictionary Values"
   ]
  },
  {
   "cell_type": "code",
   "execution_count": null,
   "id": "7b7a38b5",
   "metadata": {},
   "outputs": [
    {
     "name": "stdout",
     "output_type": "stream",
     "text": [
      "After increment: {'a': [6, 8], 'b': [7]}\n"
     ]
    }
   ],
   "source": [
    "tuple_list = [('a', 1), ('b', 2), ('a', 3)]\n",
    "num = 5\n",
    "result={}\n",
    "for key in result:\n",
    "    result[key] = [v + num for v in result[key]]\n",
    "print(\"after increment:\", result)\n",
    "\n"
   ]
  },
  {
   "cell_type": "markdown",
   "id": "680165d1",
   "metadata": {},
   "source": [
    "\n"
   ]
  },
  {
   "cell_type": "code",
   "execution_count": 209,
   "id": "90cba43f",
   "metadata": {},
   "outputs": [
    {
     "name": "stdout",
     "output_type": "stream",
     "text": [
      "{1: 1}\n",
      "{1: 1, 2: 1}\n",
      "{1: 1, 2: 1, 3: 1}\n",
      "{1: 1, 2: 2, 3: 1}\n",
      "{1: 1, 2: 2, 3: 1, 4: 1}\n",
      "{1: 1, 2: 2, 3: 1, 4: 1, 5: 1}\n",
      "{1: 2, 2: 2, 3: 1, 4: 1, 5: 1}\n",
      "{1: 2, 2: 2, 3: 1, 4: 1, 5: 1, 6: 1}\n",
      "{1: 2, 2: 3, 3: 1, 4: 1, 5: 1, 6: 1}\n",
      "[1, 2]\n"
     ]
    }
   ],
   "source": [
    "my_list = [1, 2, 3, 2, 4, 5, 1, 6, 2]\n",
    "count_dict = {}\n",
    "for item in my_list:\n",
    "    if item in count_dict:\n",
    "        count_dict[item] += 1\n",
    "        print(count_dict)\n",
    "    else:\n",
    "        count_dict[item] = 1\n",
    "        print(count_dict)\n",
    "duplicates = [key for key, count in count_dict.items() if count > 1]\n",
    "\n",
    "print(duplicates)"
   ]
  },
  {
   "cell_type": "markdown",
   "id": "4280997f",
   "metadata": {},
   "source": [
    "# Merge Dictionaries Summing Values"
   ]
  },
  {
   "cell_type": "code",
   "execution_count": 230,
   "id": "7875694d",
   "metadata": {},
   "outputs": [
    {
     "name": "stdout",
     "output_type": "stream",
     "text": [
      "{'a': 5, 'b': 3, 'c': 1}\n"
     ]
    }
   ],
   "source": [
    "# **Input:** `{'a':2, 'b':3}, {'a':3, 'c':1}`  \n",
    "# **Output:** `{'a':5, 'b':3, 'c':1}`\n",
    "\n",
    "d1 = {'a': 2, 'b': 3}\n",
    "d2 = {'a': 3, 'c': 1}\n",
    "\n",
    "for key in d2:\n",
    "    if key in d1:\n",
    "        d1[key] += d2[key]\n",
    "    else:\n",
    "        d1[key] = d2[key]\n",
    "\n",
    "print(d1)\n",
    "\n"
   ]
  },
  {
   "cell_type": "markdown",
   "id": "60e23d1d",
   "metadata": {},
   "source": [
    "# function to convert a dictionary of lists into a dictionary of sums."
   ]
  },
  {
   "cell_type": "code",
   "execution_count": 236,
   "id": "5ee4f0be",
   "metadata": {},
   "outputs": [
    {
     "name": "stdout",
     "output_type": "stream",
     "text": [
      "{'a': 6, 'b': 9}\n"
     ]
    }
   ],
   "source": [
    "# **Input:** `{'a':[1,2,3], 'b':[4,5]}`  \n",
    "# **Output:** `{'a':6, 'b':9}`\n",
    "\n",
    "d={'a':[1,2,3], 'b':[4,5]}\n",
    "sum_dict={}\n",
    "for i in d.items():\n",
    "    sum_dict[i[0]]=sum(i[1])\n",
    "    \n",
    "print(sum_dict)\n",
    "\n"
   ]
  },
  {
   "cell_type": "code",
   "execution_count": null,
   "id": "7f1e64a4",
   "metadata": {},
   "outputs": [],
   "source": []
  },
  {
   "cell_type": "code",
   "execution_count": null,
   "id": "7eb9b3d0",
   "metadata": {},
   "outputs": [],
   "source": []
  }
 ],
 "metadata": {
  "kernelspec": {
   "display_name": "ml1",
   "language": "python",
   "name": "python3"
  },
  "language_info": {
   "codemirror_mode": {
    "name": "ipython",
    "version": 3
   },
   "file_extension": ".py",
   "mimetype": "text/x-python",
   "name": "python",
   "nbconvert_exporter": "python",
   "pygments_lexer": "ipython3",
   "version": "3.13.5"
  }
 },
 "nbformat": 4,
 "nbformat_minor": 5
}
