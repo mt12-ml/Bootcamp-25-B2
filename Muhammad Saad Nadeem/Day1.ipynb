{
 "cells": [
  {
   "cell_type": "markdown",
   "id": "8ccfb551",
   "metadata": {},
   "source": [
    "# Reverse a String\n"
   ]
  },
  {
   "cell_type": "code",
   "execution_count": 2,
   "id": "703a2834",
   "metadata": {},
   "outputs": [
    {
     "name": "stdout",
     "output_type": "stream",
     "text": [
      "olleh\n"
     ]
    }
   ],
   "source": [
    "\n",
    "my_string = input(\"Write a string:\\n\")\n",
    "reversed_string = \"\"\n",
    "def reverseString(my_string, reversed_string):\n",
    "    for char in my_string:\n",
    "        reversed_string = char + reversed_string\n",
    "    print(reversed_string) \n",
    "\n",
    "reverseString(my_string,reversed_string)"
   ]
  },
  {
   "cell_type": "markdown",
   "id": "14d64f35",
   "metadata": {},
   "source": [
    "# Count Vowels"
   ]
  },
  {
   "cell_type": "code",
   "execution_count": null,
   "id": "1458196b",
   "metadata": {},
   "outputs": [
    {
     "name": "stdout",
     "output_type": "stream",
     "text": [
      "5\n"
     ]
    }
   ],
   "source": [
    "s = \"Data Science\"\n",
    "count = 0\n",
    "vowels = ['a', 'e', 'i', 'o', 'u']\n",
    "for x in s:\n",
    "    if x in vowels:\n",
    "        count += 1\n",
    "        \n",
    "print(count)"
   ]
  },
  {
   "cell_type": "markdown",
   "id": "7888da1b",
   "metadata": {},
   "source": [
    "# Sum of list"
   ]
  },
  {
   "cell_type": "code",
   "execution_count": 10,
   "id": "d8ff57fd",
   "metadata": {},
   "outputs": [
    {
     "name": "stdout",
     "output_type": "stream",
     "text": [
      "SUM IS:  15\n"
     ]
    }
   ],
   "source": [
    "list=[1,2,3,4,5]\n",
    "\n",
    "SumList= sum(list)\n",
    "\n",
    "print(\"SUM IS: \",SumList)"
   ]
  },
  {
   "cell_type": "markdown",
   "id": "f6183622",
   "metadata": {},
   "source": [
    "# Palindrome"
   ]
  },
  {
   "cell_type": "code",
   "execution_count": 12,
   "id": "dea9a3da",
   "metadata": {},
   "outputs": [
    {
     "name": "stdout",
     "output_type": "stream",
     "text": [
      "It is a palindrome\n"
     ]
    }
   ],
   "source": [
    "s = \"maham\" \n",
    "rev = \"\"  \n",
    "\n",
    "for char in s:\n",
    "    rev = char + rev\n",
    "\n",
    "if s == rev:\n",
    "    print(\"It is a palindrome\")\n",
    "else:\n",
    "    print(\"It is not a palindrome\")\n"
   ]
  },
  {
   "cell_type": "markdown",
   "id": "7538189b",
   "metadata": {},
   "source": [
    "# Remove Duplicates"
   ]
  },
  {
   "cell_type": "code",
   "execution_count": 14,
   "id": "84f1a03a",
   "metadata": {},
   "outputs": [
    {
     "name": "stdout",
     "output_type": "stream",
     "text": [
      "[1, 3, 2, 4]\n"
     ]
    }
   ],
   "source": [
    "arr= [1, 3, 2, 1, 3, 4]\n",
    "temparr=[]\n",
    "\n",
    "for i in arr:\n",
    "    if i not in temparr:\n",
    "        temparr.append(i)\n",
    "        \n",
    "print(temparr)        "
   ]
  },
  {
   "cell_type": "code",
   "execution_count": 25,
   "id": "ee6818f5",
   "metadata": {},
   "outputs": [
    {
     "name": "stdout",
     "output_type": "stream",
     "text": [
      "{'apple': 2, 'banana': 1, 'orange': 1}\n"
     ]
    }
   ],
   "source": [
    "str_input = \"apple banana apple orange\"\n",
    "word_count = {}\n",
    "\n",
    "\n",
    "str_input = str_input.lower()  \n",
    "words = str_input.split()      \n",
    "\n",
    "for w in words:\n",
    "    if w in word_count:\n",
    "        word_count[w] += 1  \n",
    "    else:\n",
    "        word_count[w] = 1   \n",
    "\n",
    "print(word_count)"
   ]
  },
  {
   "cell_type": "markdown",
   "id": "f953921c",
   "metadata": {},
   "source": [
    "# List of even squares"
   ]
  },
  {
   "cell_type": "code",
   "execution_count": 28,
   "id": "826a7a17",
   "metadata": {},
   "outputs": [
    {
     "name": "stdout",
     "output_type": "stream",
     "text": [
      "[4, 16]\n"
     ]
    }
   ],
   "source": [
    "arr = [1, 2, 3, 4, 5]\n",
    "temparr = [] \n",
    "\n",
    "for i in arr:\n",
    "    if i % 2 == 0:  \n",
    "        temparr.append(i * i) \n",
    "\n",
    "print(temparr)"
   ]
  },
  {
   "cell_type": "markdown",
   "id": "73db94fd",
   "metadata": {},
   "source": [
    "# Flatten Nested List"
   ]
  },
  {
   "cell_type": "code",
   "execution_count": 36,
   "id": "61080d1b",
   "metadata": {},
   "outputs": [
    {
     "name": "stdout",
     "output_type": "stream",
     "text": [
      "[1, 2, 3, 4, 5]\n"
     ]
    }
   ],
   "source": [
    "arr=[[1, 2], [3, 4], [5]]\n",
    "\n",
    "temparr =[]\n",
    "k=0\n",
    "for subarr in arr:\n",
    "    for j in subarr:\n",
    "        temparr.append(j)\n",
    "        \n",
    "        \n",
    "print(temparr)        "
   ]
  },
  {
   "cell_type": "markdown",
   "id": "162c2edc",
   "metadata": {},
   "source": [
    "# Group Words by Length"
   ]
  },
  {
   "cell_type": "code",
   "execution_count": 37,
   "id": "21beaa7a",
   "metadata": {},
   "outputs": [
    {
     "name": "stdout",
     "output_type": "stream",
     "text": [
      "{1: ['a'], 2: ['to'], 3: ['tea', 'ted', 'ten']}\n"
     ]
    }
   ],
   "source": [
    "dic=[\"a\", \"to\", \"tea\", \"ted\", \"ten\"]\n",
    "tempdic={}\n",
    "\n",
    "for word in dic:\n",
    "        length = len(word)\n",
    "        if length not in tempdic:\n",
    "            tempdic[length] = []\n",
    "        tempdic[length].append(word)\n",
    "\n",
    "\n",
    "print(tempdic)"
   ]
  },
  {
   "cell_type": "markdown",
   "id": "8e07c7eb",
   "metadata": {},
   "source": []
  },
  {
   "cell_type": "markdown",
   "id": "bc6b1386",
   "metadata": {},
   "source": [
    " # Fibonacci Generator"
   ]
  },
  {
   "cell_type": "markdown",
   "id": "b7a6db49",
   "metadata": {},
   "source": []
  },
  {
   "cell_type": "code",
   "execution_count": 5,
   "id": "58ed2a8f",
   "metadata": {},
   "outputs": [
    {
     "name": "stdout",
     "output_type": "stream",
     "text": [
      "0 1 1 2 3 5 "
     ]
    }
   ],
   "source": [
    "num= int(input(\"Input a number for fibonacci sequence: \"))\n",
    "\n",
    "def fib(num):\n",
    "    if num <= 1:\n",
    "        return num\n",
    "    return fib(num - 1) + fib(num - 2)\n",
    "\n",
    "for i in range(num):\n",
    "    print(fib(i), end=' ')\n",
    "\n",
    "    "
   ]
  },
  {
   "cell_type": "markdown",
   "id": "bf5eec44",
   "metadata": {},
   "source": []
  },
  {
   "cell_type": "markdown",
   "id": "39480691",
   "metadata": {},
   "source": [
    "\n",
    "# Merge Dictionaries by Summing Values "
   ]
  },
  {
   "cell_type": "code",
   "execution_count": null,
   "id": "e3c0bab6",
   "metadata": {},
   "outputs": [
    {
     "name": "stdout",
     "output_type": "stream",
     "text": [
      "Counter({'a': 7, 'c': 4, 'b': 3})\n"
     ]
    }
   ],
   "source": [
    "\n",
    "from collections import Counter\n",
    "\n",
    "\n",
    "\n",
    "dic1={'a': 5, 'b': 3}\n",
    "dic2={'a': 2, 'c': 4}\n",
    "\n",
    "        \n",
    "Counter_dict = Counter(dic1) + Counter(dic2)\n",
    "print(Counter_dict)"
   ]
  },
  {
   "cell_type": "markdown",
   "id": "979ab0ad",
   "metadata": {},
   "source": [
    "# Custom Sorting"
   ]
  },
  {
   "cell_type": "code",
   "execution_count": 15,
   "id": "982a70f9",
   "metadata": {},
   "outputs": [
    {
     "name": "stdout",
     "output_type": "stream",
     "text": [
      "[('b', 1), ('c', 2), ('a', 3)]\n"
     ]
    }
   ],
   "source": [
    "a=[('a', 3), ('b', 1), ('c', 2)]\n",
    "\n",
    "a.sort(key=lambda x:x[1])\n",
    "\n",
    "print(a)"
   ]
  },
  {
   "cell_type": "code",
   "execution_count": null,
   "id": "75ce2b6f",
   "metadata": {},
   "outputs": [],
   "source": []
  }
 ],
 "metadata": {
  "kernelspec": {
   "display_name": "ml1",
   "language": "python",
   "name": "python3"
  },
  "language_info": {
   "codemirror_mode": {
    "name": "ipython",
    "version": 3
   },
   "file_extension": ".py",
   "mimetype": "text/x-python",
   "name": "python",
   "nbconvert_exporter": "python",
   "pygments_lexer": "ipython3",
   "version": "3.13.5"
  }
 },
 "nbformat": 4,
 "nbformat_minor": 5
}
