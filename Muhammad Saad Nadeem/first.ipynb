{
 "cells": [
  {
   "cell_type": "code",
   "execution_count": null,
   "id": "6fdd312f",
   "metadata": {},
   "outputs": [],
   "source": [
    "import cv2\n",
    "import numpy as np\n",
    "\n",
    "img = cv2.imread('sign.png')\n",
    "print\n",
    "white_mask = cv2.inRange(img, np.array([200, 200, 200]), np.array([255, 255, 255]))\n",
    "result = cv2.cvtColor(img, cv2.COLOR_BGR2BGRA)\n",
    "\n",
    "result[white_mask > 0] = [0, 0, 0, 0]\n",
    "\n",
    "cv2.imshow('Original', img)\n",
    "cv2.imshow('Background Removed', result)\n",
    "\n",
    "cv2.imwrite('result.png', result)\n",
    "\n",
    "cv2.waitKey()\n",
    "cv2.destroyAllWindows()\n"
   ]
  },
  {
   "cell_type": "code",
   "execution_count": null,
   "id": "ec1b1f9b",
   "metadata": {},
   "outputs": [
    {
     "name": "stdout",
     "output_type": "stream",
     "text": [
      "Clicked at (resized): (538, 369)\n",
      "Clicked at (resized): (688, 435)\n"
     ]
    }
   ],
   "source": [
    "import cv2\n",
    "\n",
    "img = cv2.imread('id-card.jpg')\n",
    "scale_percent = 50 \n",
    "width = int(img.shape[1] * scale_percent / 100)\n",
    "height = int(img.shape[0] * scale_percent / 100)\n",
    "dim = (width, height)\n",
    "resized = cv2.resize(img, dim, interpolation=cv2.INTER_AREA)\n",
    "# cv2.imwrite('resized_id_card.jpg', resized)\n",
    "\n",
    "def click_event(event, x, y, flags, param):\n",
    "    if event == cv2.EVENT_LBUTTONDOWN:\n",
    "        original_x = int(x / scale_percent * 100)\n",
    "        original_y = int(y / scale_percent * 100)\n",
    "        print(f\"Clicked at (resized): ({x}, {y})\")\n",
    "\n",
    "        font = cv2.FONT_HERSHEY_SIMPLEX\n",
    "        cv2.putText(resized, f\"({x},{y})\", (x, y), font, 0.5, (255, 0, 0), 2)\n",
    "        cv2.imshow('image', resized)\n",
    "\n",
    "cv2.imshow('image', resized)\n",
    "cv2.setMouseCallback('image', click_event)\n",
    "cv2.waitKey(0)\n",
    "cv2.destroyAllWindows()\n"
   ]
  },
  {
   "cell_type": "code",
   "execution_count": null,
   "id": "4518bb47",
   "metadata": {},
   "outputs": [],
   "source": [
    "\n",
    "import cv2\n",
    "import numpy as np\n",
    "\n",
    "image = cv2.imread('resized_id_card.jpg')\n",
    "mask = np.zeros(image.shape[:2], dtype=np.uint8)\n",
    "\n",
    "# Region to inpaint (previous signature region)\n",
    "cv2.rectangle(mask, (540, 366), (660, 437), 255, -1)\n",
    "inpainted_image = cv2.inpaint(image, mask, inpaintRadius=3, flags=cv2.INPAINT_TELEA)\n",
    "\n",
    "cv2.imshow('Original Image', image)\n",
    "cv2.imshow('Mask', mask)\n",
    "cv2.imshow('Inpainted Image', inpainted_image)\n",
    "cv2.imwrite('new_img.png', inpainted_image)\n",
    "\n",
    "cv2.waitKey(0)\n",
    "cv2.destroyAllWindows()\n"
   ]
  },
  {
   "cell_type": "code",
   "execution_count": 1,
   "id": "b847833e",
   "metadata": {},
   "outputs": [],
   "source": [
    "import cv2\n",
    "import numpy as np\n",
    "\n",
    "x_pos, y_pos = 500, 400\n",
    "\n",
    "background = cv2.imread('new_img.png')\n",
    "overlay = cv2.imread('result.png', cv2.IMREAD_UNCHANGED)\n",
    "\n",
    "b, g, r, a = cv2.split(overlay)\n",
    "alpha_factor = 0.95  \n",
    "a = (a * alpha_factor).astype(np.uint8)\n",
    "overlay = cv2.merge([b, g, r, a])\n",
    "\n",
    "bg_h, bg_w = background.shape[:2]\n",
    "\n",
    "scale_factor = 2.0  \n",
    "new_w = int(overlay.shape[1] * scale_factor)\n",
    "new_h = int(overlay.shape[0] * scale_factor)\n",
    "\n",
    "new_w = min(new_w, bg_w - x_pos)\n",
    "new_h = min(new_h, bg_h - y_pos)\n",
    "\n",
    "overlay_resized = cv2.resize(overlay, (new_w, new_h), interpolation=cv2.INTER_AREA)\n",
    "\n",
    "for y in range(new_h):\n",
    "    for x in range(new_w):\n",
    "        if overlay_resized[y, x, 3] > 0:\n",
    "            alpha = overlay_resized[y, x, 3] / 255\n",
    "            bg_color = background[y + y_pos, x + x_pos]\n",
    "            overlay_color = overlay_resized[y, x, :3]\n",
    "            background[y + y_pos, x + x_pos] = bg_color * (1 - alpha) + overlay_color * alpha\n",
    "\n",
    "\n",
    "cv2.imshow('Combined Image', background)\n",
    "cv2.imwrite('final_id_sign.jpg', background)\n",
    "cv2.waitKey(0)\n",
    "cv2.destroyAllWindows()\n"
   ]
  },
  {
   "cell_type": "code",
   "execution_count": null,
   "id": "af8ab191",
   "metadata": {},
   "outputs": [],
   "source": []
  }
 ],
 "metadata": {
  "kernelspec": {
   "display_name": "ml1",
   "language": "python",
   "name": "python3"
  },
  "language_info": {
   "codemirror_mode": {
    "name": "ipython",
    "version": 3
   },
   "file_extension": ".py",
   "mimetype": "text/x-python",
   "name": "python",
   "nbconvert_exporter": "python",
   "pygments_lexer": "ipython3",
   "version": "3.13.5"
  }
 },
 "nbformat": 4,
 "nbformat_minor": 5
}
