{
 "cells": [
  {
   "cell_type": "code",
   "execution_count": null,
   "id": "ded564e6-09d7-4b10-a30d-1fd11a3b3b22",
   "metadata": {},
   "outputs": [],
   "source": []
  },
  {
   "cell_type": "code",
   "execution_count": 1,
   "id": "1183483c-42c9-45c8-9389-1e52bba38259",
   "metadata": {},
   "outputs": [
    {
     "data": {
      "text/plain": [
       "'Reverse a String\\nTask: Write a function that takes a string and returns it reversed.\\nInput: \"hello\"\\nOutput: \"olleh\"\\n'"
      ]
     },
     "execution_count": 1,
     "metadata": {},
     "output_type": "execute_result"
    }
   ],
   "source": [
    "\n",
    "'''Reverse a String\n",
    "Task: Write a function that takes a string and returns it reversed.\n",
    "Input: \"hello\"\n",
    "Output: \"olleh\"\n",
    "'''"
   ]
  },
  {
   "cell_type": "code",
   "execution_count": null,
   "id": "b66e7533-c56a-4f54-af82-ce169b5d839c",
   "metadata": {},
   "outputs": [
    {
     "data": {
      "text/plain": [
       "'olleh'"
      ]
     },
     "execution_count": 1,
     "metadata": {},
     "output_type": "execute_result"
    }
   ],
   "source": [
    "def reverse(x):\n",
    "    x = x[::-1]\n",
    "    return x \n",
    "reverse(\"hello\")"
   ]
  },
  {
   "cell_type": "code",
   "execution_count": null,
   "id": "89bb29e8-60c9-407d-b57f-004174e83688",
   "metadata": {},
   "outputs": [],
   "source": [
    "\n",
    "# Count Vowels\n",
    "# Task: Count the number of vowels in a given lowercase string.\n",
    "# Input: \"data science\"\n",
    "# Output: 5\n"
   ]
  },
  {
   "cell_type": "code",
   "execution_count": 10,
   "id": "e0a7213b-1b90-4cb6-be72-61fd6cd361f4",
   "metadata": {},
   "outputs": [
    {
     "data": {
      "text/plain": [
       "3"
      ]
     },
     "execution_count": 10,
     "metadata": {},
     "output_type": "execute_result"
    }
   ],
   "source": [
    "def count_vowels(x):\n",
    "    v = ['a','e','i','o','u']\n",
    "    count = 0\n",
    "    for i in v :\n",
    "        if i in x :\n",
    "            count +=1\n",
    "    return count\n",
    "count_vowels(\"data science\")"
   ]
  },
  {
   "cell_type": "code",
   "execution_count": null,
   "id": "69897ddc-f3e6-49c9-8056-80548e78802c",
   "metadata": {},
   "outputs": [],
   "source": [
    "\n",
    "# Sum of List\n",
    "# Task: Return the sum of all numbers in a given list.\n",
    "# Input: [1, 2, 3, 4, 5]\n",
    "# Output: 15\n"
   ]
  },
  {
   "cell_type": "code",
   "execution_count": 14,
   "id": "4cd26186-fe9d-4058-94a5-c68a0b3ab9b3",
   "metadata": {},
   "outputs": [
    {
     "data": {
      "text/plain": [
       "17"
      ]
     },
     "execution_count": 14,
     "metadata": {},
     "output_type": "execute_result"
    }
   ],
   "source": [
    "def sum_ls(x):\n",
    "    sum = 0\n",
    "    for i in x:\n",
    "        sum +=i\n",
    "    return sum\n",
    "sum_ls([1,2,3,5,6])"
   ]
  },
  {
   "cell_type": "code",
   "execution_count": null,
   "id": "91412f9b-0d58-422a-9afa-28b9f62bc568",
   "metadata": {},
   "outputs": [],
   "source": []
  },
  {
   "cell_type": "code",
   "execution_count": null,
   "id": "e74f93d4-98a8-4121-a496-5ad60a4c2606",
   "metadata": {},
   "outputs": [],
   "source": [
    "\n",
    "'''Check Palindrome\n",
    "Task: Return True if the given string is a palindrome, otherwise False.\n",
    "Input: \"madam\"\n",
    "Output: True\n",
    "'''"
   ]
  },
  {
   "cell_type": "code",
   "execution_count": 15,
   "id": "4f6e4be3-3272-4eff-a8e5-c1b8310ece43",
   "metadata": {},
   "outputs": [
    {
     "data": {
      "text/plain": [
       "True"
      ]
     },
     "execution_count": 15,
     "metadata": {},
     "output_type": "execute_result"
    }
   ],
   "source": [
    "def check_palindrome(x):\n",
    "    if  x == x[::-1]:\n",
    "        return True\n",
    "    else:\n",
    "        return False\n",
    "check_palindrome('madam')\n",
    "    "
   ]
  },
  {
   "cell_type": "code",
   "execution_count": null,
   "id": "a5e05de0-8554-4151-8c5a-f26e811e606a",
   "metadata": {},
   "outputs": [],
   "source": [
    "\n",
    "'''Remove Duplicates from List\n",
    "Task: Remove duplicates from a list while preserving order.\n",
    "Input: [1, 3, 2, 1, 3, 4]\n",
    "Output: [1, 3, 2, 4]'''\n"
   ]
  },
  {
   "cell_type": "code",
   "execution_count": 19,
   "id": "59df84ae-2f24-4565-8c18-e25563ea319c",
   "metadata": {},
   "outputs": [
    {
     "data": {
      "text/plain": [
       "[1, 2, 3]"
      ]
     },
     "execution_count": 19,
     "metadata": {},
     "output_type": "execute_result"
    }
   ],
   "source": [
    "def remove_duplicates(x):\n",
    "    new_ls = set(x)\n",
    "    return list(new_ls)\n",
    "remove_duplicates([1,2,3])"
   ]
  },
  {
   "cell_type": "code",
   "execution_count": null,
   "id": "9a42408b-0505-40fd-8c59-44b397bc4fbd",
   "metadata": {},
   "outputs": [],
   "source": [
    "'''\n",
    "Word Frequency Counter\n",
    "Task: Count the frequency of each word in a string and return a dictionary.\n",
    "Input: \"apple banana apple orange\"\n",
    "Output: {'apple': 2, 'banana': 1, 'orange': 1}'''\n"
   ]
  },
  {
   "cell_type": "code",
   "execution_count": 6,
   "id": "8644b9b7-4709-4c08-bbec-18f738efba70",
   "metadata": {},
   "outputs": [
    {
     "name": "stdout",
     "output_type": "stream",
     "text": [
      "{'apple': 2, 'banana': 1, 'orange': 1}\n"
     ]
    }
   ],
   "source": [
    "def fre_counter(x):\n",
    "    s  = x.split()\n",
    "    freq= {}\n",
    "    for i in s :\n",
    "        freq[i] = freq.get(i,0) + 1\n",
    "    print(freq)\n",
    "fre_counter(\"apple banana apple orange\")\n",
    "\n",
    "    "
   ]
  },
  {
   "cell_type": "code",
   "execution_count": 21,
   "id": "4dd36627-2e02-4089-982c-29dfd159e8ba",
   "metadata": {},
   "outputs": [
    {
     "data": {
      "text/plain": [
       "'\\nList of Even Squares\\nTask: Return a list of squares of even numbers from a given list.\\nInput: [1, 2, 3, 4, 5]\\nOutput: [4, 16]\\n'"
      ]
     },
     "execution_count": 21,
     "metadata": {},
     "output_type": "execute_result"
    }
   ],
   "source": [
    "'''\n",
    "List of Even Squares\n",
    "Task: Return a list of squares of even numbers from a given list.\n",
    "Input: [1, 2, 3, 4, 5]\n",
    "Output: [4, 16]\n",
    "'''"
   ]
  },
  {
   "cell_type": "code",
   "execution_count": 20,
   "id": "155a36e4-922f-45e4-84d4-f45c27e4012d",
   "metadata": {},
   "outputs": [
    {
     "data": {
      "text/plain": [
       "[4, 16]"
      ]
     },
     "execution_count": 20,
     "metadata": {},
     "output_type": "execute_result"
    }
   ],
   "source": [
    "def sq_num(x):\n",
    "    even_ls=[]\n",
    "    for i in x :\n",
    "        if i %2 == 0:\n",
    "            even_ls.append(i**2)\n",
    "    return even_ls\n",
    "sq_num([1,2,3,4,5])"
   ]
  },
  {
   "cell_type": "code",
   "execution_count": null,
   "id": "3f2f1a1a-3e58-493a-8242-363bb1a04efd",
   "metadata": {},
   "outputs": [],
   "source": []
  },
  {
   "cell_type": "code",
   "execution_count": null,
   "id": "9d3fbc28-a3f5-4192-9144-0aea26686ff3",
   "metadata": {},
   "outputs": [],
   "source": [
    "'''\n",
    "Flatten Nested List\n",
    "Task: Flatten a 2D list into a 1D list.\n",
    "Input: [[1, 2], [3, 4], [5]]\n",
    "Output: [1, 2, 3, 4, 5]\n",
    "'''"
   ]
  },
  {
   "cell_type": "code",
   "execution_count": 7,
   "id": "1fd277b2-c308-45f9-b961-5e16e1508536",
   "metadata": {},
   "outputs": [
    {
     "data": {
      "text/plain": [
       "[1, 2, 3, 4, 5]"
      ]
     },
     "execution_count": 7,
     "metadata": {},
     "output_type": "execute_result"
    }
   ],
   "source": [
    "def flatten_list(x):\n",
    "    flat_list = []\n",
    "    for sublist in x:\n",
    "        for item in sublist:\n",
    "            flat_list.append(item)\n",
    "    return flat_list\n",
    "flatten_list([[1, 2], [3, 4], [5]])"
   ]
  },
  {
   "cell_type": "code",
   "execution_count": 8,
   "id": "1c24534e-5cb9-47c4-bf1f-603448014652",
   "metadata": {},
   "outputs": [
    {
     "data": {
      "text/plain": [
       "'\\nGroup Words by Length\\nTask: Group words from a list into a dictionary based on their length.\\nInput: [\"a\", \"to\", \"tea\", \"ted\", \"ten\"]\\nOutput: {1: [\\'a\\'], 2: [\\'to\\'], 3: [\\'tea\\', \\'ted\\', \\'ten\\']}\\n'"
      ]
     },
     "execution_count": 8,
     "metadata": {},
     "output_type": "execute_result"
    }
   ],
   "source": [
    "'''\n",
    "Group Words by Length\n",
    "Task: Group words from a list into a dictionary based on their length.\n",
    "Input: [\"a\", \"to\", \"tea\", \"ted\", \"ten\"]\n",
    "Output: {1: ['a'], 2: ['to'], 3: ['tea', 'ted', 'ten']}\n",
    "'''"
   ]
  },
  {
   "cell_type": "code",
   "execution_count": 11,
   "id": "b2345cd0-8bf2-4bea-b5f1-6b9cff4045c6",
   "metadata": {},
   "outputs": [
    {
     "name": "stdout",
     "output_type": "stream",
     "text": [
      "{1: ['a'], 2: ['to'], 3: ['tea', 'ted', 'ten']}\n"
     ]
    }
   ],
   "source": [
    "ls = [\"a\", \"to\", \"tea\", \"ted\", \"ten\"]\n",
    "def group_words_by_length(words):\n",
    "    length_dict = {} \n",
    "    for word in words:\n",
    "        length = len(word)\n",
    "        if length not in length_dict:\n",
    "            length_dict[length] = []\n",
    "        length_dict[length].append(word)\n",
    "    return length_dict\n",
    "print(group_words_by_length(ls))"
   ]
  },
  {
   "cell_type": "code",
   "execution_count": null,
   "id": "74be34a2-d67f-4962-8839-d12de16b1d8b",
   "metadata": {},
   "outputs": [],
   "source": [
    "\n",
    "# Fibonacci Generator\n",
    "# Task: Write a generator that yields the first n Fibonacci numbers.\n",
    "# Input: n = 6\n",
    "# Output: [0, 1, 1, 2, 3, 5]\n"
   ]
  },
  {
   "cell_type": "code",
   "execution_count": 14,
   "id": "ce83fa52-e2fa-4816-9c88-b42a3909d13d",
   "metadata": {},
   "outputs": [
    {
     "data": {
      "text/plain": [
       "[0, 1, 1, 2, 3, 5, 8, 13]"
      ]
     },
     "execution_count": 14,
     "metadata": {},
     "output_type": "execute_result"
    }
   ],
   "source": [
    "def fibbonacci(n):\n",
    "    a= 0\n",
    "    b= 1\n",
    "    fib_sequence = []\n",
    "    for _ in  range(n):\n",
    "        fib_sequence.append(a)\n",
    "        a, b = b, a + b\n",
    "    return fib_sequence\n",
    "fibbonacci(8)\n"
   ]
  },
  {
   "cell_type": "code",
   "execution_count": null,
   "id": "d26027e1-d22d-451c-b5e4-9f40566ff164",
   "metadata": {},
   "outputs": [],
   "source": []
  },
  {
   "cell_type": "code",
   "execution_count": null,
   "id": "cca77f92-e968-4c32-93f8-082400bc79e0",
   "metadata": {},
   "outputs": [],
   "source": [
    "\n",
    "'''Merge Dictionaries by Summing Values\n",
    "Task: Merge two dictionaries by summing values of common keys.\n",
    "Input: {'a': 5, 'b': 3}, {'a': 2, 'c': 4}\n",
    "Output: {'a': 7, 'b': 3, 'c': 4}\n",
    "'''\n",
    "\n"
   ]
  },
  {
   "cell_type": "code",
   "execution_count": null,
   "id": "4faa17ee-59fe-4561-bb83-894c7950271d",
   "metadata": {},
   "outputs": [
    {
     "data": {
      "text/plain": [
       "{'a': 7, 'b': 3, 'c': 4}"
      ]
     },
     "execution_count": 18,
     "metadata": {},
     "output_type": "execute_result"
    }
   ],
   "source": [
    "def merg_dicts(dict1, dict2):\n",
    "    for key, value in dict2.items():\n",
    "        if key in dict1:\n",
    "            dict1[key] += value  \n",
    "        else:\n",
    "            dict1[key] = value  \n",
    "    return dict1\n",
    "merg_dicts({'a': 5, 'b': 3}, {'a': 2, 'c': 4})"
   ]
  },
  {
   "cell_type": "code",
   "execution_count": null,
   "id": "8de00d3b-63e4-4e8b-932e-c4e49c610ea4",
   "metadata": {},
   "outputs": [],
   "source": [
    "\n",
    "'''Custom Sorting\n",
    "Task: Sort a list of tuples based on the second element in descending order.\n",
    "Input: [('a', 3), ('b', 1), ('c', 2)]\n",
    "Output: [('a', 3), ('c', 2), ('b', 1)]'''"
   ]
  },
  {
   "cell_type": "code",
   "execution_count": 20,
   "id": "9e69ad5e-8bd4-4d57-bf05-14b73fb82979",
   "metadata": {},
   "outputs": [
    {
     "data": {
      "text/plain": [
       "[('a', 3), ('c', 2), ('b', 1)]"
      ]
     },
     "execution_count": 20,
     "metadata": {},
     "output_type": "execute_result"
    }
   ],
   "source": [
    "def sort_list_tuples(ls):\n",
    "    sorted_ls = sorted(ls, key=lambda x: x[1], reverse=True)\n",
    "    return sorted_ls\n",
    "sort_list_tuples([('a', 3), ('b', 1), ('c', 2)])"
   ]
  },
  {
   "cell_type": "code",
   "execution_count": 26,
   "id": "beaef0ba-deae-4e6f-aa25-73fd14f18a72",
   "metadata": {},
   "outputs": [
    {
     "name": "stdout",
     "output_type": "stream",
     "text": [
      "a 3\n",
      "b 1\n",
      "c 2\n"
     ]
    }
   ],
   "source": [
    "ls = [('a', 3), ('b', 1), ('c', 2)]\n",
    "for i in ls:\n",
    "    print(i[0], i[1])"
   ]
  },
  {
   "cell_type": "code",
   "execution_count": null,
   "id": "d903f7f1",
   "metadata": {},
   "outputs": [],
   "source": []
  }
 ],
 "metadata": {
  "kernelspec": {
   "display_name": "Python 3",
   "language": "python",
   "name": "python3"
  },
  "language_info": {
   "codemirror_mode": {
    "name": "ipython",
    "version": 3
   },
   "file_extension": ".py",
   "mimetype": "text/x-python",
   "name": "python",
   "nbconvert_exporter": "python",
   "pygments_lexer": "ipython3",
   "version": "3.12.1"
  }
 },
 "nbformat": 4,
 "nbformat_minor": 5
}
