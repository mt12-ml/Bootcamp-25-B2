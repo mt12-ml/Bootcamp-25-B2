{
 "cells": [
  {
   "cell_type": "markdown",
   "id": "ae0ad9d2-1f51-46a1-8ed2-2b00ed414cc6",
   "metadata": {},
   "source": [
    "# 1. Reverse a String\n",
    "## Problem Statement:\n",
    "Write a function to reverse a given string.\n",
    "\n",
    "## Example 1:\n",
    "**Input:** `\"hello\"`  \n",
    "**Output:** `\"olleh\"`\n",
    "\n",
    "## Example 2:\n",
    "**Input:** `\"world\"`  \n",
    "**Output:** `\"dlrow\"`\n"
   ]
  },
  {
   "cell_type": "code",
   "execution_count": 18,
   "id": "e1435aa7-457c-4b05-ad71-fc7204bb88d7",
   "metadata": {},
   "outputs": [
    {
     "name": "stdout",
     "output_type": "stream",
     "text": [
      "Reversed string of word 'Data' is:  ataD\n"
     ]
    }
   ],
   "source": [
    "word = input(\"Enter word: \")\n",
    "def reverse_string(x):\n",
    "    print(f\"Reversed string of word '{x}' is: \",x[::-1])\n",
    "reverse_string(word)\n"
   ]
  },
  {
   "cell_type": "markdown",
   "id": "5a3927f5-6184-40a6-b3f8-34cd08ef19a1",
   "metadata": {},
   "source": [
    "# 2. Check if a String is a Palindrome\n",
    "## Problem Statement:\n",
    "Write a function to check if a string is a palindrome (same forward and backward).\n",
    "\n",
    "## Example 1:\n",
    "**Input:** `\"madam\"`  \n",
    "**Output:** `True`\n",
    "\n",
    "## Example 2:\n",
    "**Input:** `\"hello\"`  \n",
    "**Output:** `False`\n"
   ]
  },
  {
   "cell_type": "code",
   "execution_count": 99,
   "id": "e10e83ef-aacb-4764-9c1a-dc28c3d0b3df",
   "metadata": {},
   "outputs": [
    {
     "data": {
      "text/plain": [
       "True"
      ]
     },
     "execution_count": 99,
     "metadata": {},
     "output_type": "execute_result"
    }
   ],
   "source": [
    "palindrome = input(\"Enter a Word: \")\n",
    "def pldrom(x):\n",
    "    if x== x[::-1]:\n",
    "        return True\n",
    "    else:\n",
    "        return False\n",
    "pldrom(palindrome)\n",
    "        "
   ]
  },
  {
   "cell_type": "markdown",
   "id": "58b59720-7688-43eb-b24d-d886c3b3c809",
   "metadata": {},
   "source": [
    "# 3. Count the Number of Vowels in a String\n",
    "## Problem Statement:\n",
    "Write a function to count the number of vowels in a given string.\n",
    "\n",
    "## Example 1:\n",
    "**Input:** `\"apple\"`  \n",
    "**Output:** `2`\n",
    "\n",
    "## Example 2:\n",
    "**Input:** `\"banana\"`  \n",
    "**Output:** `3`\n"
   ]
  },
  {
   "cell_type": "code",
   "execution_count": 42,
   "id": "cc7ada12-76e0-4759-87ee-31224446fdd7",
   "metadata": {},
   "outputs": [
    {
     "data": {
      "text/plain": [
       "(\"The vowel count  in word 'Guhlam' is: \", 2)"
      ]
     },
     "execution_count": 42,
     "metadata": {},
     "output_type": "execute_result"
    }
   ],
   "source": [
    "def counting_vowels(x):\n",
    "    def isVowel(ch):\n",
    "        return ch.upper() in ['A', 'E', 'I', 'O', 'U']\n",
    "    count = 0\n",
    "    for i in range(len(x)):\n",
    "        if isVowel(x[i]):\n",
    "            count +=1\n",
    "    return f\"The vowel count  in word '{x}' is: \",count\n",
    "\n",
    "\n",
    "input_word = input(\"Enter a Word :\")\n",
    "counting_vowels(input_word)                "
   ]
  },
  {
   "cell_type": "markdown",
   "id": "abcbec6f-e9e9-4238-8130-b4313c2357cc",
   "metadata": {},
   "source": [
    "# 4. Remove All Whitespace from a String\n",
    "## Problem Statement:\n",
    "Write a function that removes all whitespace characters from a string.\n",
    "\n",
    "## Example 1:\n",
    "**Input:** `\"hello world\"`  \n",
    "**Output:** `\"helloworld\"`\n",
    "\n",
    "## Example 2:\n",
    "**Input:** `\" Python  is  fun \"`  \n",
    "**Output:** `\"Pythonisfun\"`\n"
   ]
  },
  {
   "cell_type": "code",
   "execution_count": 63,
   "id": "59152c0f-cc53-4319-8b61-7bfa739a35a9",
   "metadata": {},
   "outputs": [
    {
     "name": "stdout",
     "output_type": "stream",
     "text": [
      "Input String is: hello     its     mee    Ghulam    Ahmad\n"
     ]
    },
    {
     "data": {
      "text/plain": [
       "'output is: helloitsmeeGhulamAhmad'"
      ]
     },
     "execution_count": 63,
     "metadata": {},
     "output_type": "execute_result"
    }
   ],
   "source": [
    "def whitespaceremoval(x):\n",
    "    a = x.split()\n",
    "    x = \"\".join(a)\n",
    "    return f\"output is: {x}\"\n",
    "\n",
    "input_word = input(\"Input here : \")\n",
    "print(f\"Input String is: {input_word}\")\n",
    "whitespaceremoval(input_word)"
   ]
  },
  {
   "cell_type": "markdown",
   "id": "7a8010ed-0bbf-42c3-82c3-46b175c6e8af",
   "metadata": {},
   "source": [
    "# 5. Find the First Non-Repeating Character in a String\n",
    "## Problem Statement:\n",
    "Write a function to find the first non-repeating character in a given string.\n",
    "\n",
    "## Example 1:\n",
    "**Input:** `\"swiss\"`  \n",
    "**Output:** `\"w\"`\n",
    "\n",
    "## Example 2:\n",
    "**Input:** `\"racecar\"`  \n",
    "**Output:** `\"e\"`\n"
   ]
  },
  {
   "cell_type": "code",
   "execution_count": 91,
   "id": "4aca409d-99fa-43bc-814c-9d93d54507ad",
   "metadata": {},
   "outputs": [
    {
     "name": "stdout",
     "output_type": "stream",
     "text": [
      "h\n"
     ]
    }
   ],
   "source": [
    "def findingnonrepeatingchar(word):\n",
    "    word = word.lower()\n",
    "    x = len(word)\n",
    "    for i in range(x):\n",
    "       flag= False\n",
    "       for j in range(x):\n",
    "           if i!=j and word[i]==word[j]:\n",
    "               flag = True \n",
    "               break\n",
    "       if flag == False:\n",
    "            print(word[i])\n",
    "            break\n",
    "        \n",
    "    if flag== True:\n",
    "        print(f\"No non repeating Charater in word: {word}\")\n",
    "findingnonrepeatingchar(\"Ahmad\")"
   ]
  },
  {
   "cell_type": "markdown",
   "id": "d3b7ea00-ba1f-46ed-b122-bb6b7cac074f",
   "metadata": {},
   "source": [
    "# 6. Check if Two Strings are Anagrams\n",
    "## Problem Statement:\n",
    "Write a function to check if two strings are anagrams.\n",
    "\n",
    "## Example 1:\n",
    "**Input:** `\"listen\", \"silent\"`  \n",
    "**Output:** `True`\n",
    "\n",
    "## Example 2:\n",
    "**Input:** `\"hello\", \"world\"`  \n",
    "**Output:** `False`\n"
   ]
  },
  {
   "cell_type": "code",
   "execution_count": 102,
   "id": "3b2c05e5-a7df-476b-9061-f7df9c3539d2",
   "metadata": {},
   "outputs": [
    {
     "name": "stdout",
     "output_type": "stream",
     "text": [
      "The words: listen and silent are anagrams\n"
     ]
    }
   ],
   "source": [
    "def findanagram(x, y):\n",
    "    if sorted(x) == sorted(y):\n",
    "        print(f\"The words: {x} and {y} are anagrams\")\n",
    "    else:\n",
    "        print(f\"The Words: {x} and {y} are not anagrams\")\n",
    "\n",
    "findanagram(\"listen\", \"silent\")"
   ]
  },
  {
   "cell_type": "code",
   "execution_count": null,
   "id": "921ee110-5557-4d6e-a669-dc81ca237bcb",
   "metadata": {},
   "outputs": [],
   "source": []
  },
  {
   "cell_type": "markdown",
   "id": "3989dfe4-ab68-419d-9042-877f37ede653",
   "metadata": {},
   "source": [
    "# 7. Convert a String to Uppercase\n",
    "## Problem Statement:\n",
    "Write a function to convert a string to uppercase.\n",
    "\n",
    "## Example 1:\n",
    "**Input:** `\"python\"`  \n",
    "**Output:** `\"PYTHON\"`\n",
    "\n",
    "## Example 2:\n",
    "**Input:** `\"Hello World\"`  \n",
    "**Output:** `\"HELLO WORLD\"`\n"
   ]
  },
  {
   "cell_type": "code",
   "execution_count": 104,
   "id": "163d0c7c-d95c-48f5-9f57-a6415fe19099",
   "metadata": {},
   "outputs": [
    {
     "data": {
      "text/plain": [
       "'Uppercase of the word is: AHMAD'"
      ]
     },
     "execution_count": 104,
     "metadata": {},
     "output_type": "execute_result"
    }
   ],
   "source": [
    "def uppercase(x):\n",
    "    x = x.upper()\n",
    "    return f\"Uppercase of the word is: {x}\"\n",
    "uppercase(\"ahmad\")"
   ]
  },
  {
   "cell_type": "markdown",
   "id": "d9101758-0867-41e5-b4a0-a71db20536ae",
   "metadata": {},
   "source": [
    "# 8. Find the Most Frequent Character in a String\n",
    "## Problem Statement:\n",
    "Write a function to find the most frequently occurring character in a string.\n",
    "\n",
    "## Example 1:\n",
    "**Input:** `\"banana\"`  \n",
    "**Output:** `\"a\"`\n",
    "\n",
    "## Example 2:\n",
    "**Input:** `\"mississippi\"`  \n",
    "**Output:** `\"i\"`\n"
   ]
  },
  {
   "cell_type": "code",
   "execution_count": 85,
   "id": "9cb62d0a-3b5d-4271-8091-ad6e666acd2a",
   "metadata": {},
   "outputs": [
    {
     "name": "stdout",
     "output_type": "stream",
     "text": [
      "a\n"
     ]
    }
   ],
   "source": [
    "def findingfrequentchar(word):\n",
    "    word = word.lower()\n",
    "    x = len(word)\n",
    "    for i in range(x):\n",
    "       flag= False\n",
    "       for j in range(x):\n",
    "           if i!=j and word[i]==word[j]:\n",
    "               flag = True \n",
    "               break\n",
    "       if flag == True:\n",
    "            print(word[i])\n",
    "            break\n",
    "        \n",
    "    if flag== False:\n",
    "        print(f\"The word have no frequent: {word}\")\n",
    "findingfrequentchar(\"banana\")"
   ]
  },
  {
   "cell_type": "markdown",
   "id": "b23de210-f0d4-4e2d-ab9a-aa853e471a15",
   "metadata": {},
   "source": [
    "# 9. Check if a String Contains Only Digits\n",
    "## Problem Statement:\n",
    "Write a function to check if a string contains only digits.\n",
    "\n",
    "## Example 1:\n",
    "**Input:** `\"12345\"`  \n",
    "**Output:** `True`\n",
    "\n",
    "## Example 2:\n",
    "**Input:** `\"12a45\"`  \n",
    "**Output:** `False`\n"
   ]
  },
  {
   "cell_type": "code",
   "execution_count": 112,
   "id": "419f05a0-3648-4ef3-badf-0cdd35869ec1",
   "metadata": {},
   "outputs": [],
   "source": [
    "def checkingstringofdigits(x):\n",
    "    a=x.isnumeric()\n",
    "    if a== True:\n",
    "        print(f\"The String {x} contain all the Digits\")\n",
    "    else:\n",
    "        return \"its doesnt contain any digits\"\n",
    "    return None"
   ]
  },
  {
   "cell_type": "code",
   "execution_count": 114,
   "id": "8c3e49f1-defd-4b0d-8321-6517e6917795",
   "metadata": {},
   "outputs": [
    {
     "name": "stdout",
     "output_type": "stream",
     "text": [
      "The String 12345678 contain all the Digits\n"
     ]
    }
   ],
   "source": [
    "checkingstringofdigits(\"12345678\")"
   ]
  },
  {
   "cell_type": "markdown",
   "id": "f9d2b183-d1aa-446d-a449-90d3375f7c53",
   "metadata": {},
   "source": [
    "# 10. Find the Length of the Longest Word in a Sentence\n",
    "## Problem Statement:\n",
    "Write a function to find the length of the longest word in a sentence.\n",
    "\n",
    "## Example 1:\n",
    "**Input:** `\"The quick brown fox\"`  \n",
    "**Output:** `5`\n",
    "\n",
    "## Example 2:\n",
    "**Input:** `\"A journey of a thousand miles\"`  \n",
    "**Output:** `8`\n"
   ]
  },
  {
   "cell_type": "code",
   "execution_count": 135,
   "id": "8e6cfaf3",
   "metadata": {},
   "outputs": [
    {
     "name": "stdout",
     "output_type": "stream",
     "text": [
      "\n"
     ]
    },
    {
     "data": {
      "text/plain": [
       "('The Longest word is:', 'quick')"
      ]
     },
     "execution_count": 135,
     "metadata": {},
     "output_type": "execute_result"
    }
   ],
   "source": [
    "def find_longest_word(word_list):  \n",
    "    longest_word =''  \n",
    "    print(longest_word)\n",
    "    size = 0   \n",
    "    for word in word_list:    \n",
    "        if len(word) > size:\n",
    "            longest_word = word\n",
    "            size = len(word)\n",
    "    return \"The Longest word is:\", longest_word\n",
    "sentence = \"The quick brwon fox\" \n",
    "word_list = sentence.split()  \n",
    "find_longest_word(word_list)  "
   ]
  },
  {
   "cell_type": "markdown",
   "id": "3499119b-b83a-4e89-b68e-db215e943998",
   "metadata": {},
   "source": [
    "# 11. Replace Spaces with '%20' (URL Encoding)\n",
    "## Problem Statement:\n",
    "Write a function to replace all spaces in a string with `%20`.\n",
    "\n",
    "## Example 1:\n",
    "**Input:** `\"Mr John Smith\"`  \n",
    "**Output:** `\"Mr%20John%20Smith\"`\n",
    "\n",
    "## Example 2:\n",
    "**Input:** `\"Hello World\"`  \n",
    "**Output:** `\"Hello%20World\"`\n"
   ]
  },
  {
   "cell_type": "code",
   "execution_count": 144,
   "id": "c1b7b110-7076-4e47-9690-b99de5ffd695",
   "metadata": {},
   "outputs": [
    {
     "name": "stdout",
     "output_type": "stream",
     "text": [
      "i%20%20am%20%20%20Ahmad\n"
     ]
    }
   ],
   "source": [
    "def replacingspacesinstring(x):\n",
    "    y = x.split(\" \")\n",
    "    y = \"%20\".join(y) \n",
    "    print(y)\n",
    "replacingspacesinstring(\"i  am   Ahmad\")"
   ]
  },
  {
   "cell_type": "markdown",
   "id": "59196fe4-763d-4d23-a941-6f17ce59481a",
   "metadata": {},
   "source": [
    "# 12. Find All Substrings of a String\n",
    "## Problem Statement:\n",
    "Write a function to return all substrings of a given string.\n",
    "\n",
    "## Example 1:\n",
    "**Input:** `\"abc\"`  \n",
    "**Output:** `[\"a\", \"b\", \"c\", \"ab\", \"bc\", \"abc\"]`\n",
    "\n",
    "## Example 2:\n",
    "**Input:** `\"xyz\"`  \n",
    "**Output:** `[\"x\", \"y\", \"z\", \"xy\", \"yz\", \"xyz\"]`\n"
   ]
  },
  {
   "cell_type": "code",
   "execution_count": 46,
   "id": "993ed2a1-22ea-41ab-aeec-da5d494b8561",
   "metadata": {},
   "outputs": [
    {
     "name": "stdout",
     "output_type": "stream",
     "text": [
      "['a', 'ab', 'abc', 'b', 'bc', 'c']\n"
     ]
    }
   ],
   "source": [
    "def get_all_substrings(s):\n",
    "    substrings = []\n",
    "    n = len(s)\n",
    "    for i in range(n):\n",
    "        for j in range(i + 1, n+1):\n",
    "            substrings.append(s[i:j])\n",
    "    return substrings\n",
    "\n",
    "my_string = \"abc\"\n",
    "all_subs = get_all_substrings(my_string)\n",
    "print(all_subs)"
   ]
  },
  {
   "cell_type": "markdown",
   "id": "08cca7f3-0462-4e37-883e-4850ac7d9b4a",
   "metadata": {},
   "source": [
    "# 13. Reverse Each Word in a Sentence\n",
    "## Problem Statement:\n",
    "Write a function to reverse each word in a sentence while maintaining word order.\n",
    "\n",
    "## Example 1:\n",
    "**Input:** `\"hello world\"`  \n",
    "**Output:** `\"olleh dlrow\"`\n",
    "\n",
    "## Example 2:\n",
    "**Input:** `\"Python is fun\"`  \n",
    "**Output:** `\"nohtyP si nuf\"`\n"
   ]
  },
  {
   "cell_type": "code",
   "execution_count": null,
   "id": "53eab569-3ea4-4e48-a585-6f729c5e2c69",
   "metadata": {},
   "outputs": [
    {
     "data": {
      "text/plain": [
       "'olleH dlroW'"
      ]
     },
     "execution_count": 199,
     "metadata": {},
     "output_type": "execute_result"
    }
   ],
   "source": [
    "def reversestringinsentence(sentence):\n",
    "    words = sentence.split()\n",
    "    reversed_words = []\n",
    "    for word in words:\n",
    "        reversed_words.append(word[::-1])\n",
    "    reversed_sentence = ' '.join(reversed_words)\n",
    "    return reversed_sentence\n",
    "\n",
    "sentence = \"Hello World\"\n",
    "reversestringinsentence(sentence)"
   ]
  },
  {
   "cell_type": "markdown",
   "id": "c52682bf-2f05-4515-acce-192b91883858",
   "metadata": {},
   "source": [
    "# 14. Find the Longest Common Prefix of a List of Strings\n",
    "## Problem Statement:\n",
    "Write a function to find the longest common prefix among a list of strings.\n",
    "\n",
    "## Example 1:\n",
    "**Input:** `[\"flower\", \"flow\", \"flight\"]`  \n",
    "**Output:** `\"fl\"`\n",
    "\n",
    "## Example 2:\n",
    "**Input:** `[\"dog\", \"racecar\", \"car\"]`  \n",
    "**Output:** `\"\"`\n"
   ]
  },
  {
   "cell_type": "code",
   "execution_count": 1,
   "id": "c326e4fd-7ad6-4d3e-9bd9-f5b28114eeff",
   "metadata": {},
   "outputs": [
    {
     "data": {
      "text/plain": [
       "'fl'"
      ]
     },
     "execution_count": 1,
     "metadata": {},
     "output_type": "execute_result"
    }
   ],
   "source": [
    "def longest_common_prefix(strs):\n",
    "    prefix = strs[0]\n",
    "    for string in strs[1:]:\n",
    "        while not string.startswith(prefix):\n",
    "            prefix = prefix[:-1]\n",
    "            if not prefix:\n",
    "                return \"\"\n",
    "    return prefix\n",
    "\n",
    "longest_common_prefix([\"flower\", \"flow\", \"flight\"])"
   ]
  },
  {
   "cell_type": "markdown",
   "id": "b90c467f-001e-4a93-bfff-08bba1a3f703",
   "metadata": {},
   "source": [
    "# 15. Check if a String is a Rotation of Another String\n",
    "## Problem Statement:\n",
    "Write a function to check if one string is a rotation of another.\n",
    "\n",
    "## Example 1:\n",
    "**Input:** `\"waterbottle\", \"erbottlewat\"`  \n",
    "**Output:** `True`\n",
    "\n",
    "## Example 2:\n",
    "**Input:** `\"hello\", \"lohel\"`  \n",
    "**Output:** `True`\n"
   ]
  },
  {
   "cell_type": "code",
   "execution_count": 44,
   "id": "16a9c069",
   "metadata": {},
   "outputs": [
    {
     "data": {
      "text/plain": [
       "True"
      ]
     },
     "execution_count": 44,
     "metadata": {},
     "output_type": "execute_result"
    }
   ],
   "source": [
    "def areRotations(s1, s2):\n",
    "    n = len(s1)\n",
    "    for _ in range(n):\n",
    "        if s1 == s2:\n",
    "            return True\n",
    "        s1 = s1[-1] + s1[:-1]\n",
    "    return False\n",
    "\n",
    "s1 = \"hello\"\n",
    "s2 = \"lohel\"\n",
    "areRotations(s1,s2)"
   ]
  },
  {
   "cell_type": "markdown",
   "id": "06d7a3d1-e01d-483d-95a9-30330f21440c",
   "metadata": {},
   "source": [
    "# 16. Find the Second Most Frequent Character in a String\n",
    "## Problem Statement:\n",
    "Write a function to find the second most frequent character in a string.\n",
    "\n",
    "## Example 1:\n",
    "**Input:** `\"banana\"`  \n",
    "**Output:** `\"n\"`\n",
    "\n",
    "## Example 2:\n",
    "**Input:** `\"mississippi\"`  \n",
    "**Output:** `\"s\"`\n"
   ]
  },
  {
   "cell_type": "code",
   "execution_count": 73,
   "id": "65a91520-9d70-4dc4-990a-931223a98b52",
   "metadata": {},
   "outputs": [
    {
     "name": "stdout",
     "output_type": "stream",
     "text": [
      "The second most frequent character: ['p'] with count 2\n"
     ]
    }
   ],
   "source": [
    "def find_second_most_frequent_char_no_module(word):\n",
    "    word = word.lower()\n",
    "    char_counts = {} \n",
    "    for i in word:\n",
    "        char_counts[i] = char_counts.get(i, 0) + 1\n",
    "    if len(char_counts) < 2:\n",
    "        if len(char_counts) == 1:\n",
    "            return f\"Only one unique character '{list(char_counts.keys())[0]}'.\"\n",
    "        else:\n",
    "            return \"The string is empty.\"\n",
    "    items = list(char_counts.items())\n",
    "    items.sort(key=lambda item: item[1], reverse=True)\n",
    "    highest_freq = items[0][1]\n",
    "    second_highest_freq = -1\n",
    "    for i in range(1, len(items)):\n",
    "        current_freq = items[i][1]\n",
    "        if current_freq < highest_freq:\n",
    "            second_highest_freq = current_freq\n",
    "            break \n",
    "    if second_highest_freq == -1:\n",
    "        return \"All characters have the same frequency.\"\n",
    "    second_most_frequent_chars = []\n",
    "    for char, count in items:\n",
    "        if count == second_highest_freq:\n",
    "            second_most_frequent_chars.append(char)\n",
    "    return f\"The second most frequent character: {(second_most_frequent_chars)} with count {second_highest_freq}\"\n",
    "print(f\"{find_second_most_frequent_char_no_module('mississippi')}\")"
   ]
  },
  {
   "cell_type": "markdown",
   "id": "d262dac7-f41e-400d-bfd0-ea5057f5c922",
   "metadata": {},
   "source": [
    "# 17. Check if a String is Made of Unique Characters\n",
    "## Problem Statement:\n",
    "Write a function to check if a string contains only unique characters.\n",
    "\n",
    "## Example 1:\n",
    "**Input:** `\"abcdef\"`  \n",
    "**Output:** `True`\n",
    "\n",
    "## Example 2:\n",
    "**Input:** `\"aabbcc\"`  \n",
    "**Output:** `False`\n"
   ]
  },
  {
   "cell_type": "code",
   "execution_count": 86,
   "id": "253be31b-7673-4b81-95e9-cb1cd09c48fb",
   "metadata": {},
   "outputs": [
    {
     "name": "stdout",
     "output_type": "stream",
     "text": [
      "True\n"
     ]
    }
   ],
   "source": [
    "def unique_char(word):\n",
    "    word = word.lower()\n",
    "    x = len(word)\n",
    "    for i in range(x):\n",
    "       flag= False\n",
    "       for j in range(x):\n",
    "           if i!=j and word[i]==word[j]:\n",
    "               flag = True \n",
    "               break\n",
    "       if flag == False:\n",
    "            print(\"True\")\n",
    "            break\n",
    "        \n",
    "    if flag== True:\n",
    "        print(\"False\")\n",
    "        \n",
    "unique_char(\"abcdef\")"
   ]
  },
  {
   "cell_type": "markdown",
   "id": "739f0939-b81a-45d4-8cd2-d0659268711c",
   "metadata": {},
   "source": [
    "# 18. Find the Longest Palindromic Substring\n",
    "## Problem Statement:\n",
    "Write a function to find the longest palindromic substring.\n",
    "\n",
    "## Example 1:\n",
    "**Input:** `\"babad\"`  \n",
    "**Output:** `\"bab\"`\n",
    "\n",
    "## Example 2:\n",
    "**Input:** `\"cbbd\"`  \n",
    "**Output:** `\"bb\"`\n"
   ]
  },
  {
   "cell_type": "code",
   "execution_count": 104,
   "id": "dd923018-aa4a-4cb2-98e0-6628d8b3b400",
   "metadata": {},
   "outputs": [
    {
     "data": {
      "text/plain": [
       "'bab'"
      ]
     },
     "execution_count": 104,
     "metadata": {},
     "output_type": "execute_result"
    }
   ],
   "source": [
    "# we are using previous above function of getting substrings:\n",
    "string_1='babad'\n",
    "def checking_longest_palidrome_in_subsrting(x):\n",
    "    all_subs = get_all_substrings(x)\n",
    "    longest_palindrome = \"\"\n",
    "    for i in all_subs:\n",
    "        if pldrom(i):\n",
    "            if len(i) > len(longest_palindrome):\n",
    "                longest_palindrome = i\n",
    "    return longest_palindrome\n",
    "\n",
    "checking_longest_palidrome_in_subsrting(string_1)\n",
    "\n"
   ]
  },
  {
   "cell_type": "markdown",
   "id": "9e48cf7b-b799-4574-984c-51fc15661b16",
   "metadata": {},
   "source": [
    "# 19. Remove Duplicate Characters from a String\n",
    "## Problem Statement:\n",
    "Write a function to remove duplicate characters from a string.\n",
    "\n",
    "## Example 1:\n",
    "**Input:** `\"hello\"`  \n",
    "**Output:** `\"helo\"`\n",
    "\n",
    "## Example 2:\n",
    "**Input:** `\"mississippi\"`  \n",
    "**Output:** `\"misp\"`\n"
   ]
  },
  {
   "cell_type": "code",
   "execution_count": null,
   "id": "932536b6-b58c-47d8-897e-10aba10d5654",
   "metadata": {},
   "outputs": [
    {
     "name": "stdout",
     "output_type": "stream",
     "text": [
      "Original string: mississippi\n",
      "String with unique characters: misp\n"
     ]
    }
   ],
   "source": [
    "def remove_duplicate_characters(input_string):\n",
    "    x=dict.fromkeys(input_string)\n",
    "    y=\"\".join(x)\n",
    "    return y\n",
    "original_string = \"mississippi\"\n",
    "unique_string = remove_duplicate_characters(original_string)\n",
    "print(f\"String with unique characters: {unique_string}\")"
   ]
  },
  {
   "cell_type": "markdown",
   "id": "a9abec9d-c0c3-4425-a1c6-e42342e3757a",
   "metadata": {},
   "source": [
    "# 20. Sort a String Alphabetically\n",
    "## Problem Statement:\n",
    "Write a function to sort the characters of a string alphabetically.\n",
    "\n",
    "## Example 1:\n",
    "**Input:** `\"hello\"`  \n",
    "**Output:** `\"ehllo\"`\n",
    "\n",
    "## Example 2:\n",
    "**Input:** `\"python\"`  \n",
    "**Output:** `\"hnopty\"`\n"
   ]
  },
  {
   "cell_type": "code",
   "execution_count": 112,
   "id": "9b881c5a-7e0c-4785-a2d6-f700725fad3d",
   "metadata": {},
   "outputs": [
    {
     "data": {
      "text/plain": [
       "'hnopty'"
      ]
     },
     "execution_count": 112,
     "metadata": {},
     "output_type": "execute_result"
    }
   ],
   "source": [
    "def sort_char(x):\n",
    "    s = sorted(x)\n",
    "    s=\"\".join(s)\n",
    "    return s\n",
    "a='python'\n",
    "sort_char(a)"
   ]
  },
  {
   "cell_type": "markdown",
   "id": "f267b2f8-c7f6-4295-a7b0-c89af5cf5807",
   "metadata": {},
   "source": [
    "# 21. Find the Smallest Window in a String Containing All Characters of Another String\n",
    "## Problem Statement:\n",
    "Write a function to find the smallest window in a string that contains all characters of another string.\n",
    "\n",
    "## Example 1:\n",
    "**Input:** `\"ADOBECODEBANC\", \"ABC\"`  \n",
    "**Output:** `\"BANC\"`\n",
    "\n",
    "## Example 2:\n",
    "**Input:** `\"aabbcc\", \"abc\"`  \n",
    "**Output:** `\"abc\"`\n"
   ]
  },
  {
   "cell_type": "code",
   "execution_count": 113,
   "id": "8145837e-3cc3-43a5-9875-f955033aaf09",
   "metadata": {},
   "outputs": [
    {
     "name": "stdout",
     "output_type": "stream",
     "text": [
      "toprac\n"
     ]
    }
   ],
   "source": [
    "def contains_all_characters(s, p):\n",
    "    count = [0] * 256\n",
    "\n",
    "    # Count the frequency of each character\n",
    "    # in the pattern\n",
    "    for ch in p:\n",
    "        count[ord(ch)] += 1\n",
    "\n",
    "    # For each character in the substring,\n",
    "    # decrement its count\n",
    "    for ch in s:\n",
    "        if count[ord(ch)] > 0:\n",
    "            count[ord(ch)] -= 1\n",
    "\n",
    "    # If all counts in the count array are zero,\n",
    "    # substring contains all characters of the pattern\n",
    "    return all(c == 0 for c in count)\n",
    "\n",
    "\n",
    "def find_smallest_substring(s, p):\n",
    "    m = len(s)\n",
    "    n = len(p)\n",
    "    smallest_substring = \"\"\n",
    "    min_len = float('inf')\n",
    "\n",
    "    # Generate all substrings of the given string\n",
    "    for i in range(m):\n",
    "        for j in range(i, m):\n",
    "            substr = s[i:j + 1]\n",
    "\n",
    "            # Check if the substring contains all\n",
    "            # characters of the pattern\n",
    "            if contains_all_characters(substr, p):\n",
    "                curr_len = len(substr)\n",
    "\n",
    "                # Update the smallest_substring if the\n",
    "                # current substring is smaller\n",
    "                if curr_len < min_len:\n",
    "                    min_len = curr_len\n",
    "                    smallest_substring = substr\n",
    "\n",
    "    return smallest_substring\n",
    "\n",
    "\n",
    "if __name__ == \"__main__\":\n",
    "    s = \"timetopractice\"\n",
    "    p = \"toc\"\n",
    "\n",
    "    result = find_smallest_substring(s, p)\n",
    "\n",
    "    if result:\n",
    "        print(result)\n",
    "    else:\n",
    "        print(-1)"
   ]
  },
  {
   "cell_type": "markdown",
   "id": "823be7b2-27f6-40df-82b2-f1f2b69bc1cb",
   "metadata": {},
   "source": [
    "# 22. Implement Run-Length Encoding\n",
    "## Problem Statement:\n",
    "Write a function to perform run-length encoding on a string.\n",
    "\n",
    "## Example 1:\n",
    "**Input:** `\"aaabbc\"`  \n",
    "**Output:** `\"3a2b1c\"`\n",
    "\n",
    "## Example 2:\n",
    "**Input:** `\"wwwwaaadexxxxxx\"`  \n",
    "**Output:** `\"4w3a1d1e6x\"`\n"
   ]
  },
  {
   "cell_type": "code",
   "execution_count": null,
   "id": "e127c6b1-57fd-40cb-aac5-9e07cef586d2",
   "metadata": {},
   "outputs": [
    {
     "data": {
      "text/plain": [
       "'w4a3d1e1x6'"
      ]
     },
     "execution_count": 5,
     "metadata": {},
     "output_type": "execute_result"
    }
   ],
   "source": [
    "def run_length_encoding(x):\n",
    "    output = ''\n",
    "    count = 1  \n",
    "    for i in range(1, len(x)):\n",
    "        if x[i] == x[i - 1]: \n",
    "            count += 1 \n",
    "        else:\n",
    "            output += f\"{x[i - 1]}{count}\"  \n",
    "            count = 1  \n",
    "    output += f\"{x[-1]}{count}\"\n",
    "    return output\n",
    "string_1 = \"wwwwaaadexxxxxx\"\n",
    "run_length_encoding(string_1)"
   ]
  },
  {
   "cell_type": "markdown",
   "id": "fbe98b17-13c7-4f56-93db-d8056113af31",
   "metadata": {},
   "source": [
    "# 23. Find All Permutations of a String\n",
    "## Problem Statement:\n",
    "Write a function to generate all permutations of a given string.\n",
    "\n",
    "## Example 1:\n",
    "**Input:** `\"abc\"`  \n",
    "**Output:** `[\"abc\", \"acb\", \"bac\", \"bca\", \"cab\", \"cba\"]`\n",
    "\n",
    "## Example 2:\n",
    "**Input:** `\"ab\"`  \n",
    "**Output:** `[\"ab\", \"ba\"]`\n"
   ]
  },
  {
   "cell_type": "code",
   "execution_count": 1,
   "id": "101a8feb-61e0-4a97-a122-f5de229e6817",
   "metadata": {},
   "outputs": [
    {
     "name": "stdout",
     "output_type": "stream",
     "text": [
      "['abc', 'acb', 'bac', 'bca', 'cab', 'cba']\n"
     ]
    }
   ],
   "source": [
    "def get_permutations(s):\n",
    "    if len(s) == 0:\n",
    "        return ['']\n",
    "    perms = []\n",
    "    for i in range(len(s)):\n",
    "        ch = s[i]\n",
    "        remaining = s[:i] + s[i+1:]\n",
    "        for perm in get_permutations(remaining):\n",
    "            perms.append(ch + perm)\n",
    "    return perms\n",
    "\n",
    "s = \"abc\"\n",
    "all_perms = get_permutations(s)\n",
    "print(all_perms)\n"
   ]
  },
  {
   "cell_type": "code",
   "execution_count": null,
   "id": "ff510bea-3648-446b-93c8-aa5246b38c50",
   "metadata": {},
   "outputs": [],
   "source": []
  },
  {
   "cell_type": "markdown",
   "id": "1064221e-a51f-46b1-afea-c37505d3b68b",
   "metadata": {},
   "source": [
    "# 24. Count the Number of Distinct Subsequences of a String\n",
    "## Problem Statement:\n",
    "Write a function to count the number of distinct subsequences of a string.\n",
    "\n",
    "## Example 1:\n",
    "**Input:** `\"abc\"`  \n",
    "**Output:** `7`\n",
    "\n",
    "## Example 2:\n",
    "**Input:** `\"aaa\"`  \n",
    "**Output:** `3`\n"
   ]
  },
  {
   "cell_type": "code",
   "execution_count": 3,
   "id": "fb9c8ffe-7045-446c-9033-c88601f25969",
   "metadata": {},
   "outputs": [
    {
     "name": "stdout",
     "output_type": "stream",
     "text": [
      "7\n",
      "3\n"
     ]
    }
   ],
   "source": [
    "def count_distinct_subsequences(s):\n",
    "    n = len(s)\n",
    "    dp = [0] * (n + 1)\n",
    "    dp[0] = 1  # Base case: empty subsequence\n",
    "\n",
    "    last_occurrence = {}\n",
    "\n",
    "    for i in range(1, n + 1):\n",
    "        dp[i] = 2 * dp[i - 1]\n",
    "\n",
    "        ch = s[i - 1]\n",
    "        if ch in last_occurrence:\n",
    "            dp[i] -= dp[last_occurrence[ch] - 1]\n",
    "\n",
    "        last_occurrence[ch] = i\n",
    "\n",
    "    return dp[n] - 1  # Exclude the empty subsequence\n",
    "print(count_distinct_subsequences(\"abc\"))  # Output: 7\n",
    "print(count_distinct_subsequences(\"aaa\"))  # Output: 3\n"
   ]
  },
  {
   "cell_type": "markdown",
   "id": "2fd59b75-b80f-466c-9517-34c927e66134",
   "metadata": {},
   "source": [
    "# 25. Find the Shortest Superstring That Contains All Given Strings as Subsequences\n",
    "## Problem Statement:\n",
    "Write a function to find the shortest superstring that contains all given strings as subsequences.\n",
    "\n",
    "## Example 1:\n",
    "**Input:** `[\"catg\", \"ctaagt\", \"gcta\", \"ttca\", \"atgcatc\"]`  \n",
    "**Output:** `\"gctaagttcatgcatc\"`\n",
    "\n",
    "## Example 2:\n",
    "**Input:** `[\"abc\", \"bca\", \"cab\"]`  \n",
    "**Output:** `\"abcab\"`\n"
   ]
  },
  {
   "cell_type": "code",
   "execution_count": null,
   "id": "c4340296-fcc3-45e5-a27c-8706d0c53502",
   "metadata": {},
   "outputs": [],
   "source": []
  },
  {
   "cell_type": "code",
   "execution_count": null,
   "id": "74cff6c2-11a5-42c4-9a16-f649cd8c7e10",
   "metadata": {},
   "outputs": [],
   "source": []
  }
 ],
 "metadata": {
  "kernelspec": {
   "display_name": "Python 3",
   "language": "python",
   "name": "python3"
  },
  "language_info": {
   "codemirror_mode": {
    "name": "ipython",
    "version": 3
   },
   "file_extension": ".py",
   "mimetype": "text/x-python",
   "name": "python",
   "nbconvert_exporter": "python",
   "pygments_lexer": "ipython3",
   "version": "3.12.1"
  }
 },
 "nbformat": 4,
 "nbformat_minor": 5
}
