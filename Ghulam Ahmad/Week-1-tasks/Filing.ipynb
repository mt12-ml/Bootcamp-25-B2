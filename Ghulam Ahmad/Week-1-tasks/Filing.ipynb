{
 "cells": [
  {
   "cell_type": "markdown",
   "id": "64d0c9e3-3656-4283-99df-33c0316c7908",
   "metadata": {
    "jp-MarkdownHeadingCollapsed": true
   },
   "source": [
    "# os module – File & Directory Operations\n",
    "\n",
    "**Q:1 Create, Read, Rename, Remove files and folder**\n",
    "\n",
    "**Q:1 Get the current working directory and navigate to a sibling directory**\n",
    "\n",
    "**Q:2 Recursively list all files in a directory using only os.**\n",
    "\n",
    "**Q:3 Check if a given path is a file, directory, or doesn't exist.**\n",
    "\n",
    "**Q:4 Create a deeply nested folder structure like**\n",
    "\n",
    "**Q:5 Delete all empty directories from a given folder tree.**\n",
    "\n",
    "**Q:6 Count the number of .txt files in a directory using os.listdir().**\n",
    "\n",
    "**Q:7 Move files from one folder to another, creating the destination if needed.**\n",
    "\n",
    "**Q:8 Rename all .log files to .log.bak within a folder.**\n",
    "\n",
    "**Q:9 Print the total size of all files in a directory in MB.**\n",
    "\n",
    "**Q:10 Print the directory tree with indentation (like the tree command).**\n",
    "\n",
    "**Q:11 Write a function that synchronizes the structure of two directory trees (mirror mode).**\n",
    "\n",
    "**Q:12 Implement a safe folder deletion function that first moves the folder to a Trash directory.**\n",
    "\n",
    "**Q13: Find and print the most recently modified file in a directory recursively.**\n",
    "\n",
    "**Q:14 Generate a directory report (file count, total size, subfolders) in JSON format.**\n",
    "\n",
    "**Q:15 Track changes (additions/removals) in a directory over time using file snapshots.**\n",
    "\n"
   ]
  },
  {
   "cell_type": "code",
   "execution_count": 27,
   "id": "0cb604f0-de66-4950-b150-3ea858f1ba9c",
   "metadata": {},
   "outputs": [],
   "source": [
    "import os \n",
    "os.makedirs('os-working', exist_ok=True)\n",
    "with open(os.path.join('os-working', 'file.txt'), 'w') as f:\n",
    "    f.write('Hello, world!')\n",
    "import os\n",
    "os.rename(os.path.join('os-working', 'file.txt'), os.path.join('os-working', 'renamed.txt'))\n"
   ]
  },
  {
   "cell_type": "code",
   "execution_count": 12,
   "id": "d3de0b42-c67e-49e2-b0d9-225e9d3f9a91",
   "metadata": {},
   "outputs": [],
   "source": [
    "os.remove(os.path.join('os-working', 'renamed.txt'))"
   ]
  },
  {
   "cell_type": "code",
   "execution_count": 19,
   "id": "9375de53-f7e0-4781-a449-6ad8eab91288",
   "metadata": {},
   "outputs": [
    {
     "name": "stdout",
     "output_type": "stream",
     "text": [
      "Current working directory: c:\\My-Data\\2nd-week-tasks\n"
     ]
    }
   ],
   "source": [
    "cwd = os.getcwd()\n",
    "print(f\"Current working directory: {cwd}\")"
   ]
  },
  {
   "cell_type": "code",
   "execution_count": 20,
   "id": "6aff88b7-92de-4cf0-9452-cd880199e516",
   "metadata": {},
   "outputs": [
    {
     "name": "stdout",
     "output_type": "stream",
     "text": [
      "Parent directory path: c:\\My-Data\n",
      "Sibling directory path: c:\\My-Data\\Ghulam_Ahmad\n"
     ]
    }
   ],
   "source": [
    "parent = os.path.dirname(cwd)\n",
    "print(\"Parent directory path:\", parent)\n",
    "sibling = os.path.join(parent, 'Ghulam_Ahmad')\n",
    "print(\"Sibling directory path:\", sibling)"
   ]
  },
  {
   "cell_type": "code",
   "execution_count": 30,
   "id": "a504a41f-193c-4ea9-849a-58df15a77f9b",
   "metadata": {},
   "outputs": [
    {
     "name": "stdout",
     "output_type": "stream",
     "text": [
      "This is a file.\n"
     ]
    }
   ],
   "source": [
    "path = \"os-working/renamed.txt\"\n",
    "if os.path.isfile(path):\n",
    "    print(\"This is a file.\")\n",
    "elif os.path.isdir(path):\n",
    "    print(\"This is a directory.\")\n",
    "else:\n",
    "    print(\"This is neither a file nor a directory.\")\n"
   ]
  },
  {
   "cell_type": "code",
   "execution_count": null,
   "id": "73e2337b-6b7b-49fe-9931-d7c591bc141b",
   "metadata": {},
   "outputs": [
    {
     "name": "stdout",
     "output_type": "stream",
     "text": [
      "Nested Folders created successfully.\n"
     ]
    }
   ],
   "source": [
    "os.makedirs('os-working/folder1/folder2', exist_ok=True)\n",
    "print(\"Nested Folders created successfully.\")"
   ]
  },
  {
   "cell_type": "code",
   "execution_count": null,
   "id": "26b0a2bb-3b00-4100-b845-86d5624a98c7",
   "metadata": {},
   "outputs": [
    {
     "name": "stdout",
     "output_type": "stream",
     "text": [
      "Checking directory: .\\os-working\\folder1\\folder2\n",
      "Removed empty directory: .\\os-working\\folder1\\folder2\n",
      "Checking directory: .\\os-working\\folder1\n",
      "Removed empty directory: .\\os-working\\folder1\n",
      "Checking directory: .\\os-working\n"
     ]
    }
   ],
   "source": [
    "for root, dirs, files in os.walk('.', topdown=False):\n",
    "    for d in dirs:\n",
    "        full_path = os.path.join(root, d)\n",
    "        print(\"Checking directory:\", full_path)\n",
    "        if not os.listdir(full_path):\n",
    "            os.rmdir(full_path)\n",
    "            print(\"Removed empty directory:\", full_path)"
   ]
  },
  {
   "cell_type": "code",
   "execution_count": 65,
   "id": "04406f76-8c61-422d-b1dc-082d6b359127",
   "metadata": {},
   "outputs": [
    {
     "name": "stdout",
     "output_type": "stream",
     "text": [
      "Number of .txt files in 'os-working': 1\n"
     ]
    }
   ],
   "source": [
    "count = 0\n",
    "for file in os.listdir('os-working'):\n",
    "        if file.endswith('.txt'):\n",
    "            count += 1\n",
    "print(f\"Number of .txt files in 'os-working': {count}\")\n"
   ]
  },
  {
   "cell_type": "code",
   "execution_count": null,
   "id": "1a2e636e-228e-43e5-8c2a-27b465e9f994",
   "metadata": {},
   "outputs": [
    {
     "name": "stdout",
     "output_type": "stream",
     "text": [
      "Files moved to dest_folder.\n"
     ]
    }
   ],
   "source": [
    "import shutil\n",
    "source_folder = 'os-working'\n",
    "for f in os.listdir(source_folder):\n",
    "    src_file = os.path.join(source_folder, f)\n",
    "    dst_file = os.path.join('os-2-working', f)\n",
    "    shutil.move(src_file, dst_file)\n",
    "print(\"Files moved to dest_folder.\")"
   ]
  },
  {
   "cell_type": "code",
   "execution_count": 75,
   "id": "ae90520a-7168-4c28-ba04-e38cf6969d2c",
   "metadata": {},
   "outputs": [
    {
     "name": "stdout",
     "output_type": "stream",
     "text": [
      "Renamed main.log to main.log.bak\n"
     ]
    }
   ],
   "source": [
    "for f in os.listdir('os-2-working'):\n",
    "    if f.endswith('.log'):\n",
    "        os.rename( os.path.join('os-2-working', f), os.path.join('os-2-working', f + '.bak'))\n",
    "        print(f\"Renamed {f} to {f + '.bak'}\")"
   ]
  },
  {
   "cell_type": "code",
   "execution_count": 81,
   "id": "0ab3825a-334a-4720-a341-f0ea1543e7d0",
   "metadata": {},
   "outputs": [
    {
     "name": "stdout",
     "output_type": "stream",
     "text": [
      "Size of 1_result.jpg: 108478.00 MB\n",
      "Size of Filing.ipynb: 23864.00 MB\n",
      "Size of Numpy.ipynb: 36186.00 MB\n",
      "Size of Rain.txt: 514.00 MB\n",
      "Size of task-2.txt: 475.00 MB\n"
     ]
    }
   ],
   "source": [
    "for f in os.listdir('.'):\n",
    "    if os.path.isfile(os.path.join('.', f)):\n",
    "        file_size = os.path.getsize(os.path.join('.', f))/ 1024*1024   # Convert to MB\n",
    "        print(f\"Size of {f}: {file_size:.2f} MB\")"
   ]
  },
  {
   "cell_type": "code",
   "execution_count": 85,
   "id": "96b7d7a2-9ca3-41b0-9a2d-1c25512f9d40",
   "metadata": {},
   "outputs": [
    {
     "name": "stdout",
     "output_type": "stream",
     "text": [
      "|-- 1_result.jpg\n",
      "|-- Filing.ipynb\n",
      "|-- Numpy.ipynb\n",
      "|-- os-2-working\n",
      "    |-- main.log.bak\n",
      "    |-- main.py\n",
      "    |-- renamed.txt\n",
      "|-- os-working\n",
      "|-- Rain.txt\n",
      "|-- task-2.txt\n"
     ]
    }
   ],
   "source": [
    "# Print the directory tree with indentation (like the tree command).\n",
    "def print_tree(path, indent=''):\n",
    "    for item in os.listdir(path):\n",
    "        full_path = os.path.join(path, item)\n",
    "        print(indent + '|-- ' + item)\n",
    "        if os.path.isdir(full_path):\n",
    "            print_tree(full_path, indent + '    ')\n",
    "print_tree('.')"
   ]
  },
  {
   "cell_type": "code",
   "execution_count": null,
   "id": "e93ae0bf-78d0-4fb0-8a3e-df9e29b0596c",
   "metadata": {},
   "outputs": [],
   "source": []
  },
  {
   "cell_type": "markdown",
   "id": "5791d390-e204-4c7a-8169-792bf6d02fd1",
   "metadata": {
    "jp-MarkdownHeadingCollapsed": true
   },
   "source": [
    "\n",
    "# glob module – Pattern Matching\n",
    "\n",
    "**Q:1 List all .csv and .json files in the current directory.**\n",
    "\n",
    "**Q:2 Recursively find all .jpg files in nested folders.**\n",
    "\n",
    "**Q:3 Use glob to count files grouped by extension.**\n",
    "\n",
    "**Q:4 Find files with names matching pattern report_*.txt.**\n",
    "\n",
    "**Q:5 Replace spaces with underscores in filenames found via glob.**\n",
    "\n",
    "**Q:6 Return all files with a date in the format 2025-06-*.log.**\n",
    "\n",
    "**Q:7 List all files with numeric names only (e.g., 123.txt).**\n",
    "\n",
    "**Q:8 Use glob to sort files by last modified time.**\n",
    "\n",
    "**Q:9 Find all .txt files larger than 100KB using glob and os.**\n",
    "\n",
    "**Q:10 Batch rename files with a custom suffix _archived.**\n",
    "\n",
    "**Q:11 Create a utility that indexes all media files and stores the paths in a SQLite DB.**\n",
    "\n",
    "**Q:12 Find duplicate filenames (regardless of path) across a directory tree.**\n",
    "\n",
    "**Q:13 Generate a file manifest with relative paths and hash (MD5) of contents.**\n",
    "\n",
    "**Q14: Use glob patterns dynamically to extract weekly reports (e.g., week_01.json, week_02.json).**\n",
    "\n",
    "**Q:15 Write a recursive file crawler that ignores folders listed in a .ignore file.**\n"
   ]
  },
  {
   "cell_type": "code",
   "execution_count": 98,
   "id": "e086f083-8cf2-409a-99bc-423710252c8b",
   "metadata": {},
   "outputs": [
    {
     "name": "stdout",
     "output_type": "stream",
     "text": [
      "CSV files: ['main.csv']\n",
      "JSON files: ['main.json']\n"
     ]
    }
   ],
   "source": [
    "import glob\n",
    "csv_files = glob.glob(\"*.csv\")\n",
    "json_files = glob.glob(\"*.json\")\n",
    "print(\"CSV files:\", csv_files)\n",
    "print(\"JSON files:\", json_files)"
   ]
  },
  {
   "cell_type": "code",
   "execution_count": 106,
   "id": "645efcb6-eb26-4e68-b757-768e461d75d2",
   "metadata": {},
   "outputs": [
    {
     "name": "stdout",
     "output_type": "stream",
     "text": [
      "JPG files: ['1_result.jpg', 'os-2-working\\\\2.jpg']\n"
     ]
    }
   ],
   "source": [
    "x = glob.glob(\"**/*.jpg\", recursive=True)\n",
    "print(\"JPG files:\", x)"
   ]
  },
  {
   "cell_type": "code",
   "execution_count": 112,
   "id": "6581ba6c-a002-4d46-91bd-1f7953f24f03",
   "metadata": {},
   "outputs": [
    {
     "name": "stdout",
     "output_type": "stream",
     "text": [
      "Number of .txt files: 9\n"
     ]
    }
   ],
   "source": [
    "count = 0\n",
    "for f in os.listdir('.'):\n",
    "    if file.endswith('.txt'):\n",
    "        count += 1\n",
    "print(f\"Number of .txt files: {count}\")"
   ]
  },
  {
   "cell_type": "code",
   "execution_count": 115,
   "id": "a5ddb88a-132e-44ad-98a7-ef2889b90fc4",
   "metadata": {},
   "outputs": [
    {
     "name": "stdout",
     "output_type": "stream",
     "text": [
      "['report_.txt']\n"
     ]
    }
   ],
   "source": [
    "files = glob.glob(\"report_*.txt\")\n",
    "print(files)"
   ]
  },
  {
   "cell_type": "code",
   "execution_count": null,
   "id": "ce6944a2-6a7e-4f31-a1d3-ea519703ddf0",
   "metadata": {},
   "outputs": [],
   "source": [
    "for f in glob.glob('.'):\n",
    "    new = f.replace(' ', '_')\n",
    "    os.rename(f, new)\n"
   ]
  },
  {
   "cell_type": "code",
   "execution_count": 116,
   "id": "e02f22be-8e15-4438-b6f0-89171f2cbd55",
   "metadata": {},
   "outputs": [],
   "source": [
    "import os\n",
    "\n",
    "for file in glob.glob(\"* *\"):\n",
    "    new_name = file.replace(\" \", \"_\")\n",
    "    os.rename(file, new_name)\n"
   ]
  },
  {
   "cell_type": "code",
   "execution_count": 117,
   "id": "1347debe-d3e6-435c-9419-7c83319ea167",
   "metadata": {},
   "outputs": [
    {
     "name": "stdout",
     "output_type": "stream",
     "text": [
      "['2025-06-1.log', '2025-06-2.log']\n"
     ]
    }
   ],
   "source": [
    "files = glob.glob(\"2025-06-*.log\")\n",
    "print(files)"
   ]
  },
  {
   "cell_type": "code",
   "execution_count": 119,
   "id": "3a4d87d4-a7ea-4926-b1f6-98b57ef14353",
   "metadata": {},
   "outputs": [
    {
     "name": "stdout",
     "output_type": "stream",
     "text": [
      "['Rain.txt', 'task-2.txt', 'Numpy.ipynb', '1_result.jpg', 'os-working', 'main.csv', 'main.json', 'os-2-working', 'report_.txt', '2025-06-2.log', '2025-06-1.log', 'Filing.ipynb']\n"
     ]
    }
   ],
   "source": [
    "import os\n",
    "\n",
    "files = glob.glob(\"*\")\n",
    "files.sort(key=os.path.getmtime)\n",
    "print(files)"
   ]
  },
  {
   "cell_type": "code",
   "execution_count": 126,
   "id": "e6c8c4f5-ccca-4503-ab99-41e81d18576b",
   "metadata": {},
   "outputs": [
    {
     "name": "stdout",
     "output_type": "stream",
     "text": [
      "1751285626.0250368\n"
     ]
    }
   ],
   "source": [
    "print(os.path.getmtime('Filing.ipynb'))"
   ]
  },
  {
   "cell_type": "code",
   "execution_count": 131,
   "id": "7ee706df-4370-4da5-a142-b95c9437caca",
   "metadata": {},
   "outputs": [
    {
     "name": "stdout",
     "output_type": "stream",
     "text": [
      "File: Rain.txt, Size: 0.50 KB\n",
      "File: report_.txt, Size: 0.00 KB\n",
      "File: task-2.txt, Size: 0.46 KB\n"
     ]
    }
   ],
   "source": [
    "txt_files = glob.glob('*.txt')\n",
    "for file in txt_files:\n",
    "    if os.path.getsize(file) > 100 * 1024:  \n",
    "        print(f\"Large file: {file}, Size: {os.path.getsize(file) / 1024:.2f} KB\")\n",
    "    else:\n",
    "        print(f\"File: {file}, Size: {os.path.getsize(file) / 1024:.2f} KB\")"
   ]
  },
  {
   "cell_type": "code",
   "execution_count": null,
   "id": "e9009881-91b6-499d-be9e-5b00becf893f",
   "metadata": {},
   "outputs": [
    {
     "name": "stdout",
     "output_type": "stream",
     "text": [
      "Base name: 1_result, Extension: .jpg\n",
      "Base name: 2025-06-1, Extension: .log\n",
      "Base name: 2025-06-2, Extension: .log\n",
      "Base name: Filing, Extension: .ipynb\n",
      "Base name: main, Extension: .csv\n",
      "Base name: main, Extension: .json\n",
      "Base name: Numpy, Extension: .ipynb\n",
      "Base name: Rain, Extension: .txt\n",
      "Base name: report_, Extension: .txt\n",
      "Base name: task-2, Extension: .txt\n"
     ]
    }
   ],
   "source": [
    "for file in glob.glob(\"*.*\"):\n",
    "    base, ext = os.path.splitext(file)\n",
    "    print(f\"Base name: {base}, Extension: {ext}\")\n",
    "    new_name = f\"{base}_archived{ext}\"\n",
    "    os.rename(file, new_name)\n"
   ]
  },
  {
   "cell_type": "code",
   "execution_count": null,
   "id": "6bf8902d-f3a0-48ad-becb-b99163059561",
   "metadata": {},
   "outputs": [],
   "source": []
  },
  {
   "cell_type": "code",
   "execution_count": null,
   "id": "04b33b98-b54f-4513-a552-da8cdd53c97c",
   "metadata": {},
   "outputs": [],
   "source": []
  },
  {
   "cell_type": "code",
   "execution_count": null,
   "id": "c5eca2f0-33d0-4cff-bc46-04ef2ec87b31",
   "metadata": {},
   "outputs": [],
   "source": []
  },
  {
   "cell_type": "markdown",
   "id": "11836593-dc92-44d0-953c-46ac17571473",
   "metadata": {
    "jp-MarkdownHeadingCollapsed": true
   },
   "source": [
    "\n",
    "# File Handling – Text & Binary Files\n",
    "\n",
    "**Q:1 Count the number of lines in a file without loading it entirely.**\n",
    "\n",
    "**Q:2 Replace a specific word in a file and save it to a new file.**\n",
    "\n",
    "**Q:3 Append data to an existing file with a timestamp.**\n",
    "\n",
    "**Q:4 Read and print the first 10 lines of a file.**\n",
    "\n",
    "**Q:5 Write a list of dictionaries as CSV manually (without csv module).**\n",
    "\n",
    "**Q:6 Copy a binary file in chunks (e.g., image or PDF).**\n",
    "\n",
    "**Q:7 Write a function to compare two files and print the differing lines.**\n",
    "\n",
    "**Q:8 Safely read a file that may not exist using try-except.**\n",
    "\n",
    "**Q:9 Read a file using a specific encoding (e.g., UTF-16).**\n",
    "\n",
    "**Q:10 Detect and skip empty lines when reading a file.**\n",
    "\n",
    "**Q:11 Implement a log rotation mechanism: create log.txt, log_1.txt, etc. when size exceeds 1MB.**\n",
    "\n",
    "**Q:12 Build a file-based key-value store using JSON per line.**\n",
    "\n",
    "**Q:13 Implement version control: on every write, back up the previous version with a timestamp.**\n",
    "\n",
    "**Q:14 Create a reader that detects encoding using chardet or fallback encoding.**\n",
    "\n",
    "**Q:15 Convert a large log file into separate files per date based on timestamps in each line.**\n"
   ]
  },
  {
   "cell_type": "code",
   "execution_count": null,
   "id": "cd9fca21-d1a6-43c9-a323-ac90a2d11f00",
   "metadata": {},
   "outputs": [],
   "source": []
  },
  {
   "cell_type": "code",
   "execution_count": null,
   "id": "973c8888-d4f2-4ef3-a557-935b1c0153f9",
   "metadata": {},
   "outputs": [],
   "source": []
  },
  {
   "cell_type": "code",
   "execution_count": null,
   "id": "0366559c-111f-43cd-b9cf-d5a0a57951ac",
   "metadata": {},
   "outputs": [],
   "source": []
  },
  {
   "cell_type": "code",
   "execution_count": null,
   "id": "5aeb7999-c659-452c-a71f-7f49ca9f1893",
   "metadata": {},
   "outputs": [],
   "source": []
  },
  {
   "cell_type": "code",
   "execution_count": null,
   "id": "53751a3c-9427-4fe1-97b4-ecc3646dd2b6",
   "metadata": {},
   "outputs": [],
   "source": []
  },
  {
   "cell_type": "code",
   "execution_count": null,
   "id": "f66f88dd-9e32-44fa-acc1-d5099df1cfea",
   "metadata": {},
   "outputs": [],
   "source": []
  },
  {
   "cell_type": "code",
   "execution_count": null,
   "id": "03611855-540e-4c06-b88a-9818bd7c4e1f",
   "metadata": {},
   "outputs": [],
   "source": []
  },
  {
   "cell_type": "code",
   "execution_count": null,
   "id": "cd9c5d25-b370-48a7-b94d-5d0cf1c2747e",
   "metadata": {},
   "outputs": [],
   "source": []
  },
  {
   "cell_type": "code",
   "execution_count": null,
   "id": "e0ec443e-67c2-4aae-bf45-61348919674a",
   "metadata": {},
   "outputs": [],
   "source": []
  },
  {
   "cell_type": "code",
   "execution_count": null,
   "id": "9711969f-5301-4867-b7b9-dba59247ca48",
   "metadata": {},
   "outputs": [],
   "source": []
  },
  {
   "cell_type": "code",
   "execution_count": null,
   "id": "432c9462-d5ca-4f95-953c-15c9c7136de9",
   "metadata": {},
   "outputs": [],
   "source": []
  },
  {
   "cell_type": "code",
   "execution_count": null,
   "id": "80361657-7f56-4534-b5f6-b7eee56ecc67",
   "metadata": {},
   "outputs": [],
   "source": []
  },
  {
   "cell_type": "code",
   "execution_count": null,
   "id": "9a72e9a6-e186-4d1d-b8b5-f52b3b781d59",
   "metadata": {},
   "outputs": [],
   "source": []
  },
  {
   "cell_type": "code",
   "execution_count": null,
   "id": "9876fee2-bf07-4bc1-aee4-e7720ee401bd",
   "metadata": {},
   "outputs": [],
   "source": []
  },
  {
   "cell_type": "code",
   "execution_count": null,
   "id": "3c941d47-d2a4-473e-b853-798bccd0d1d2",
   "metadata": {},
   "outputs": [],
   "source": []
  },
  {
   "cell_type": "markdown",
   "id": "49b7b4dc-a5af-49a8-b1a6-2629376ed791",
   "metadata": {
    "jp-MarkdownHeadingCollapsed": true
   },
   "source": [
    "\n",
    "# JSON Handling – json module\n",
    "\n",
    "**Q:1 Load JSON from a file and print a nested field (e.g., data[\"user\"][\"name\"]).**\n",
    "\n",
    "**Q:2 Write a Python dict to a file with pretty formatting.**\n",
    "\n",
    "**Q:3 Merge multiple JSON objects into a single file.**\n",
    "\n",
    "**Q:4 Convert a JSON array into CSV format.**\n",
    "\n",
    "**Q:5 Update a nested key inside a loaded JSON.**\n",
    "\n",
    "**Q:6 Create a function to pretty-print JSON from string input.**\n",
    "\n",
    "**Q:7 Safely load malformed JSON with exception handling.**\n",
    "\n",
    "**Q:8 Remove a key from each item in a JSON list and re-save.**\n",
    "\n",
    "**Q:9 Convert an object with datetime to a JSON string using a custom encoder.**\n",
    "\n",
    "**Q:10 Search for all values associated with a key in nested JSON.**\n",
    "\n",
    "**Q:11 Write a function to flatten deeply nested JSON into a flat dictionary.**\n",
    "\n",
    "**Q:12 Build a recursive JSON validator for required schema keys.**\n",
    "\n",
    "**Q:13 Convert a nested JSON into a pandas DataFrame with normalized columns.**\n",
    "\n",
    "**Q:14 Create a diff tool that compares two JSON files and shows key-level changes.**\n",
    "\n",
    "**Q:15 Handle and fix trailing commas in malformed JSON before parsing.**\n",
    "\n"
   ]
  },
  {
   "cell_type": "code",
   "execution_count": 28,
   "id": "96ed1e4b-4790-418d-ba76-3fd3697603c6",
   "metadata": {},
   "outputs": [
    {
     "name": "stdout",
     "output_type": "stream",
     "text": [
      "Ahmad Raza\n",
      "ahmad@example.com\n"
     ]
    }
   ],
   "source": [
    "import json\n",
    "with open('main.json', 'r') as f:\n",
    "    data = json.load(f)\n",
    "    print(data[\"user\"][\"name\"])\n",
    "    print(data['user']['email'])\n"
   ]
  },
  {
   "cell_type": "code",
   "execution_count": 33,
   "id": "a945a883-853d-412f-b1eb-4696b812d624",
   "metadata": {},
   "outputs": [],
   "source": [
    "settings = {\n",
    "    \"volume\": 75\n",
    "}\n",
    "def save_pretty_json(data, filename):\n",
    "    with open(filename, 'w') as f:\n",
    "        json.dump(data, f,indent=4)\n",
    "save_pretty_json(settings, 'config.json')"
   ]
  },
  {
   "cell_type": "code",
   "execution_count": null,
   "id": "bea19279-5e6b-4e2b-8b55-5f1afa5bf4d4",
   "metadata": {},
   "outputs": [],
   "source": [
    "def merge_json_files(file_list, output_file):\n",
    "    merged = []\n",
    "    for fname in file_list:\n",
    "        with open(fname, 'r') as f:\n",
    "            merged.append(json.load(f))\n",
    "    with open(output_file, 'w') as out:\n",
    "        json.dump(merged, out, indent=4)"
   ]
  },
  {
   "cell_type": "code",
   "execution_count": null,
   "id": "47d69ea5-4a78-48b2-83e2-c02b21be9c58",
   "metadata": {},
   "outputs": [],
   "source": []
  },
  {
   "cell_type": "code",
   "execution_count": null,
   "id": "44ca8311-ecec-4810-a343-fef73c3fdda4",
   "metadata": {},
   "outputs": [],
   "source": []
  },
  {
   "cell_type": "code",
   "execution_count": null,
   "id": "0ea9a5f6-031c-49d3-bbc5-165459650667",
   "metadata": {},
   "outputs": [],
   "source": []
  },
  {
   "cell_type": "code",
   "execution_count": null,
   "id": "c29b99d1-d6e9-4fca-9c86-c9c62cb3d03b",
   "metadata": {},
   "outputs": [],
   "source": []
  },
  {
   "cell_type": "code",
   "execution_count": null,
   "id": "b3708f19-a270-4366-bd8e-6044a70d2989",
   "metadata": {},
   "outputs": [],
   "source": []
  },
  {
   "cell_type": "code",
   "execution_count": null,
   "id": "c4462486-b8a9-492b-8c85-415a6869ac9d",
   "metadata": {},
   "outputs": [],
   "source": []
  },
  {
   "cell_type": "code",
   "execution_count": null,
   "id": "b5a38e81-21a8-4534-bf38-b56e602348cb",
   "metadata": {},
   "outputs": [],
   "source": []
  },
  {
   "cell_type": "code",
   "execution_count": null,
   "id": "edeaed10-eec5-450f-a8bb-ab3d9c200aa8",
   "metadata": {},
   "outputs": [],
   "source": []
  },
  {
   "cell_type": "code",
   "execution_count": null,
   "id": "719153bf-475c-404e-ab37-4df1bae3355d",
   "metadata": {},
   "outputs": [],
   "source": []
  },
  {
   "cell_type": "code",
   "execution_count": null,
   "id": "e3306548-70c6-4a3b-8977-93d0f632d2e7",
   "metadata": {},
   "outputs": [],
   "source": []
  },
  {
   "cell_type": "code",
   "execution_count": null,
   "id": "c22e231e-9fd0-41ea-a70d-0d0095e4665e",
   "metadata": {},
   "outputs": [],
   "source": []
  },
  {
   "cell_type": "code",
   "execution_count": null,
   "id": "a9fb0524-fa1d-4cc8-99e6-c52f55e6f085",
   "metadata": {},
   "outputs": [],
   "source": []
  },
  {
   "cell_type": "markdown",
   "id": "3083804d-5685-4ed0-852d-40333ae26433",
   "metadata": {
    "jp-MarkdownHeadingCollapsed": true
   },
   "source": [
    "    \n",
    "# Regular Expressions – re module\n",
    "\n",
    "**Q:1 Extract email addresses from a string using re.findall().**\n",
    "\n",
    "**Q:2 Validate a US phone number using regex.**\n",
    "\n",
    "**Q:3 Extract hashtags from a tweet-like string.**\n",
    "\n",
    "**Q:4 Replace all numbers with # in a paragraph.**\n",
    "\n",
    "**Q:5 Match filenames with extension .pdf, .docx, or .xlsx.**\n",
    "\n",
    "**Q:6 Split a paragraph into sentences using regex.**\n",
    "\n",
    "**Q:7 Match a date in the format DD-MM-YYYY or YYYY/MM/DD.**\n",
    "\n",
    "**Q:8 Extract quoted strings from text (e.g., \"like this\").**\n",
    "\n",
    "**Q:9 Clean a text by removing special characters except alphanumerics and spaces.**\n",
    "\n",
    "**Q:10 Capture repeated words like the the, is is in a sentence.**\n",
    "\n",
    "**Q:11 Write a regex that extracts values from key-value pairs (key: value) even if keys contain spaces.**\n",
    "\n",
    "**Q:12 Extract nested parentheses using recursive regex (advanced feature).**\n",
    "\n",
    "**Q:13 Create a regex to detect and fix malformed URLs in a text block.**\n",
    "\n",
    "**Q:14 Build a pattern to extract address-like strings (e.g., 123 Main St, City, ZIP).**\n",
    "\n",
    "**Q:15 Tokenize a log line into timestamp, level, and message using regex groups.**"
   ]
  },
  {
   "cell_type": "code",
   "execution_count": 1,
   "id": "f26db1f6-d95e-4acf-9865-f30af739bdec",
   "metadata": {},
   "outputs": [
    {
     "name": "stdout",
     "output_type": "stream",
     "text": [
      "['ghulam.ahmad.uet@gmail.com']\n"
     ]
    }
   ],
   "source": [
    "import re\n",
    "mail='ghulam.ahmad.uet@gmail.com'\n",
    "def extract_emails(text):\n",
    "    return re.findall(r'\\b[\\w.-]+@[\\w.-]+\\.\\w+\\b', text)\n",
    "print(extract_emails(mail))"
   ]
  },
  {
   "cell_type": "code",
   "execution_count": 8,
   "id": "9df5434d-35b9-4115-b333-ace145a2bdda",
   "metadata": {},
   "outputs": [
    {
     "data": {
      "text/plain": [
       "True"
      ]
     },
     "execution_count": 8,
     "metadata": {},
     "output_type": "execute_result"
    }
   ],
   "source": [
    "def is_valid_us_phone(number):\n",
    "    return bool(re.fullmatch(r'\\(?\\d{4}\\)?[-.\\s]?\\d{5}[-.\\s]?\\d{1}', number))\n",
    "is_valid_us_phone(\"0305-40487-3\")"
   ]
  },
  {
   "cell_type": "code",
   "execution_count": 12,
   "id": "661df70d-da86-4263-9964-a6ac85f13087",
   "metadata": {},
   "outputs": [
    {
     "data": {
      "text/plain": [
       "['#oppenhiemer']"
      ]
     },
     "execution_count": 12,
     "metadata": {},
     "output_type": "execute_result"
    }
   ],
   "source": [
    "def extract_hashtags(text):\n",
    "    return re.findall(r'#\\w+', text)\n",
    "\n",
    "extract_hashtags('#oppenhiemer')"
   ]
  },
  {
   "cell_type": "code",
   "execution_count": 14,
   "id": "b0d06c91-2baa-4cc3-b919-d5b66e479ce1",
   "metadata": {},
   "outputs": [
    {
     "data": {
      "text/plain": [
       "'numbers are #-#-#'"
      ]
     },
     "execution_count": 14,
     "metadata": {},
     "output_type": "execute_result"
    }
   ],
   "source": [
    "def replace_numbers(text):\n",
    "    return re.sub(r'\\d+', '#', text)\n",
    "replace_numbers('numbers are 123-456-7890')"
   ]
  },
  {
   "cell_type": "code",
   "execution_count": 15,
   "id": "47b77dc7-10d4-4dd3-bff1-96221bf711cb",
   "metadata": {},
   "outputs": [
    {
     "name": "stdout",
     "output_type": "stream",
     "text": [
      "['pdf', 'xlsx', 'docx']\n"
     ]
    }
   ],
   "source": [
    "def find_filenames(text):\n",
    "    return re.findall(r'\\b\\w+\\.(pdf|docx|xlsx)\\b', text)\n",
    "text = \"Here are some files: report.pdf, data.xlsx, notes.docx\"\n",
    "print(find_filenames(text))"
   ]
  },
  {
   "cell_type": "code",
   "execution_count": 18,
   "id": "56308ae4-1cba-4d32-93a3-6c0b6ec54047",
   "metadata": {},
   "outputs": [
    {
     "data": {
      "text/plain": [
       "['Hello world!', 'How are you?', \"I hope you're doing well.\"]"
      ]
     },
     "execution_count": 18,
     "metadata": {},
     "output_type": "execute_result"
    }
   ],
   "source": [
    "def split_into_sentences(text):\n",
    "    return re.split(r'(?<=[.!?])\\s+', text)\n",
    "text = \"Hello world! How are you? I hope you're doing well.\"\n",
    "split_into_sentences(text)"
   ]
  },
  {
   "cell_type": "code",
   "execution_count": 19,
   "id": "506b8c6c-eb88-4d2a-9ca9-a1f1fb3ace9f",
   "metadata": {},
   "outputs": [
    {
     "data": {
      "text/plain": [
       "['12-05-2023', '2023/05/13']"
      ]
     },
     "execution_count": 19,
     "metadata": {},
     "output_type": "execute_result"
    }
   ],
   "source": [
    "def find_dates(text):\n",
    "    return re.findall(r'\\b(?:\\d{2}-\\d{2}-\\d{4}|\\d{4}/\\d{2}/\\d{2})\\b', text)\n",
    "find_dates(\"Today's date is 12-05-2023 and tomorrow's date is 2023/05/13.\")"
   ]
  },
  {
   "cell_type": "code",
   "execution_count": 20,
   "id": "8ae3d300-1edc-48ed-8989-5a324c4e6a5c",
   "metadata": {},
   "outputs": [
    {
     "name": "stdout",
     "output_type": "stream",
     "text": [
      "['Hello, world!']\n"
     ]
    }
   ],
   "source": [
    "def extract_quoted(text):\n",
    "    return re.findall(r'\"(.*?)\"', text)\n",
    "text = 'He said, \"Hello, world!\" and then left.'\n",
    "print(extract_quoted(text))"
   ]
  },
  {
   "cell_type": "code",
   "execution_count": 24,
   "id": "a2451580-9fd8-4352-95dc-712a1bc956f5",
   "metadata": {},
   "outputs": [
    {
     "data": {
      "text/plain": [
       "'The is a test Lets clean it up'"
      ]
     },
     "execution_count": 24,
     "metadata": {},
     "output_type": "execute_result"
    }
   ],
   "source": [
    "def clean_text(text):\n",
    "    return re.sub(r'[^\\w\\s]', '', text)\n",
    "clean_text(\"The is a test! Let's clean it up.\")"
   ]
  },
  {
   "cell_type": "code",
   "execution_count": 26,
   "id": "8ddb494a-144b-4a43-8213-519acf6e04a2",
   "metadata": {},
   "outputs": [
    {
     "data": {
      "text/plain": [
       "['test', 'find', 'words']"
      ]
     },
     "execution_count": 26,
     "metadata": {},
     "output_type": "execute_result"
    }
   ],
   "source": [
    "def find_repeated_words(text):\n",
    "    return re.findall(r'\\b(\\w+)\\s+\\1\\b', text, re.IGNORECASE)\n",
    "text = \"This is a test test to find find repeated words words.\"\n",
    "find_repeated_words(text)"
   ]
  },
  {
   "cell_type": "code",
   "execution_count": null,
   "id": "1f66d7a7-5d04-41d0-b569-28c958a0c8c3",
   "metadata": {},
   "outputs": [],
   "source": []
  }
 ],
 "metadata": {
  "kernelspec": {
   "display_name": "Python 3",
   "language": "python",
   "name": "python3"
  },
  "language_info": {
   "codemirror_mode": {
    "name": "ipython",
    "version": 3
   },
   "file_extension": ".py",
   "mimetype": "text/x-python",
   "name": "python",
   "nbconvert_exporter": "python",
   "pygments_lexer": "ipython3",
   "version": "3.12.1"
  }
 },
 "nbformat": 4,
 "nbformat_minor": 5
}
