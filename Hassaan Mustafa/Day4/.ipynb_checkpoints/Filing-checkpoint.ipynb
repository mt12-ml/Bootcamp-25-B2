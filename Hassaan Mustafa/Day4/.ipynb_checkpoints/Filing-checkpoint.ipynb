{
 "cells": [
  {
   "cell_type": "markdown",
   "id": "64d0c9e3-3656-4283-99df-33c0316c7908",
   "metadata": {},
   "source": [
    "# os module – File & Directory Operations\n",
    "\n",
    "**Q:1 Create, Read, Rename, Remove files and folder**\n",
    "\n",
    "**Q:1 Get the current working directory and navigate to a sibling directory**\n",
    "\n",
    "**Q:2 Recursively list all files in a directory using only os.**\n",
    "\n",
    "**Q:3 Check if a given path is a file, directory, or doesn't exist.**\n",
    "\n",
    "**Q:4 Create a deeply nested folder structure like**\n",
    "\n",
    "**Q:5 Delete all empty directories from a given folder tree.**\n",
    "\n",
    "**Q:6 Count the number of .txt files in a directory using os.listdir().**\n",
    "\n",
    "**Q:7 Move files from one folder to another, creating the destination if needed.**\n",
    "\n",
    "**Q:8 Rename all .log files to .log.bak within a folder.**\n",
    "\n",
    "**Q:9 Print the total size of all files in a directory in MB.**\n",
    "\n",
    "**Q:10 Print the directory tree with indentation (like the tree command).**\n",
    "\n",
    "**Q:11 Write a function that synchronizes the structure of two directory trees (mirror mode).**\n",
    "\n",
    "**Q:12 Implement a safe folder deletion function that first moves the folder to a Trash directory.**\n",
    "\n",
    "**Q13: Find and print the most recently modified file in a directory recursively.**\n",
    "\n",
    "**Q:14 Generate a directory report (file count, total size, subfolders) in JSON format.**\n",
    "\n",
    "**Q:15 Track changes (additions/removals) in a directory over time using file snapshots.**\n",
    "\n"
   ]
  },
  {
   "cell_type": "code",
   "execution_count": 2,
   "id": "0cb604f0-de66-4950-b150-3ea858f1ba9c",
   "metadata": {},
   "outputs": [
    {
     "name": "stdout",
     "output_type": "stream",
     "text": [
      "['.ipynb_checkpoints', 'ananas.js', 'apple.js', 'banana.js', 'Filing.ipynb', 'glob_and_os.ipynb', 'img.jpg', 'main.py', 'name.txt']\n",
      "Hello there.\n"
     ]
    }
   ],
   "source": [
    "#Q:1 Create, Read, Rename, Remove files and folder\n",
    "\n",
    "import os\n",
    "# create a file\n",
    "with open(\"name.txt\", \"w\") as file:\n",
    "    file.write(\"Hello there.\")\n",
    "file.close()\n",
    "print(os.listdir())\n",
    "\n",
    "# read a file\n",
    "content = open(\"name.txt\", \"r\")\n",
    "file_content = content.read()\n",
    "print(file_content)\n",
    "\n",
    "#remove a file\n",
    "#print(\"\\nNow removing file....\")\n",
    "#os.remove(\"name.txt\")\n",
    "#print(os.listdir())\n",
    "#os.rmdir(\"empyty_directory\") # removes all empty directories"
   ]
  },
  {
   "cell_type": "code",
   "execution_count": null,
   "id": "d3de0b42-c67e-49e2-b0d9-225e9d3f9a91",
   "metadata": {},
   "outputs": [],
   "source": [
    "#Q:2 Get the current working directory and navigate to a sibling directory\n",
    "curr_dir = os.getcwd()\n",
    "print(\"Current Working Directory: \",curr_dir)\n",
    "\n",
    "parent_dir = os.path.dirname(curr_dir)\n",
    "print(\"Parent Directory\", parent_dir)\n",
    "\n",
    "os.listdir(parent_dir)\n",
    "sib_dir = \"Day 3\"\n",
    "\n",
    "sib_dir_path = os.path.join(parent_dir, sib_dir)\n",
    "print(\"Sibling Directory Path\", sib_dir_path)\n",
    "\n",
    "os.chdir(sib_dir_path)\n",
    "print(os.getcwd())\n",
    "print(os.listdir())"
   ]
  },
  {
   "cell_type": "code",
   "execution_count": 3,
   "id": "9375de53-f7e0-4781-a449-6ad8eab91288",
   "metadata": {},
   "outputs": [],
   "source": [
    "# Q3: Recursively list all files in a directory using only os."
   ]
  },
  {
   "cell_type": "code",
   "execution_count": null,
   "id": "6aff88b7-92de-4cf0-9452-cd880199e516",
   "metadata": {},
   "outputs": [],
   "source": []
  },
  {
   "cell_type": "code",
   "execution_count": null,
   "id": "1fe3144f-c8f8-464b-b0b0-c83a0079d9b4",
   "metadata": {},
   "outputs": [],
   "source": []
  },
  {
   "cell_type": "code",
   "execution_count": null,
   "id": "a504a41f-193c-4ea9-849a-58df15a77f9b",
   "metadata": {},
   "outputs": [],
   "source": []
  },
  {
   "cell_type": "code",
   "execution_count": null,
   "id": "73e2337b-6b7b-49fe-9931-d7c591bc141b",
   "metadata": {},
   "outputs": [],
   "source": []
  },
  {
   "cell_type": "code",
   "execution_count": null,
   "id": "7b41c41b-7da5-45e5-bfdd-476e72724bcb",
   "metadata": {},
   "outputs": [],
   "source": []
  },
  {
   "cell_type": "code",
   "execution_count": null,
   "id": "26b0a2bb-3b00-4100-b845-86d5624a98c7",
   "metadata": {},
   "outputs": [],
   "source": []
  },
  {
   "cell_type": "code",
   "execution_count": null,
   "id": "04406f76-8c61-422d-b1dc-082d6b359127",
   "metadata": {},
   "outputs": [],
   "source": []
  },
  {
   "cell_type": "code",
   "execution_count": null,
   "id": "1a2e636e-228e-43e5-8c2a-27b465e9f994",
   "metadata": {},
   "outputs": [],
   "source": []
  },
  {
   "cell_type": "code",
   "execution_count": null,
   "id": "ae90520a-7168-4c28-ba04-e38cf6969d2c",
   "metadata": {},
   "outputs": [],
   "source": []
  },
  {
   "cell_type": "code",
   "execution_count": null,
   "id": "0ab3825a-334a-4720-a341-f0ea1543e7d0",
   "metadata": {},
   "outputs": [],
   "source": []
  },
  {
   "cell_type": "code",
   "execution_count": null,
   "id": "96b7d7a2-9ca3-41b0-9a2d-1c25512f9d40",
   "metadata": {},
   "outputs": [],
   "source": []
  },
  {
   "cell_type": "code",
   "execution_count": null,
   "id": "e93ae0bf-78d0-4fb0-8a3e-df9e29b0596c",
   "metadata": {},
   "outputs": [],
   "source": []
  },
  {
   "cell_type": "markdown",
   "id": "5791d390-e204-4c7a-8169-792bf6d02fd1",
   "metadata": {
    "jp-MarkdownHeadingCollapsed": true
   },
   "source": [
    "\n",
    "# glob module – Pattern Matching\n",
    "\n",
    "**Q:1 List all .csv and .json files in the current directory.**\n",
    "\n",
    "**Q:2 Recursively find all .jpg files in nested folders.**\n",
    "\n",
    "**Q:3 Use glob to count files grouped by extension.**\n",
    "\n",
    "**Q:4 Find files with names matching pattern report_*.txt.**\n",
    "\n",
    "**Q:5 Replace spaces with underscores in filenames found via glob.**\n",
    "\n",
    "**Q:6 Return all files with a date in the format 2025-06-*.log.**\n",
    "\n",
    "**Q:7 List all files with numeric names only (e.g., 123.txt).**\n",
    "\n",
    "**Q:8 Use glob to sort files by last modified time.**\n",
    "\n",
    "**Q:9 Find all .txt files larger than 100KB using glob and os.**\n",
    "\n",
    "**Q:10 Batch rename files with a custom suffix _archived.**\n",
    "\n",
    "**Q:11 Create a utility that indexes all media files and stores the paths in a SQLite DB.**\n",
    "\n",
    "**Q:12 Find duplicate filenames (regardless of path) across a directory tree.**\n",
    "\n",
    "**Q:13 Generate a file manifest with relative paths and hash (MD5) of contents.**\n",
    "\n",
    "**Q14: Use glob patterns dynamically to extract weekly reports (e.g., week_01.json, week_02.json).**\n",
    "\n",
    "**Q:15 Write a recursive file crawler that ignores folders listed in a .ignore file.**\n"
   ]
  },
  {
   "cell_type": "code",
   "execution_count": null,
   "id": "e086f083-8cf2-409a-99bc-423710252c8b",
   "metadata": {},
   "outputs": [],
   "source": []
  },
  {
   "cell_type": "code",
   "execution_count": null,
   "id": "645efcb6-eb26-4e68-b757-768e461d75d2",
   "metadata": {},
   "outputs": [],
   "source": []
  },
  {
   "cell_type": "code",
   "execution_count": null,
   "id": "7960eb22-6d5a-478d-ae2b-7313d61d601f",
   "metadata": {},
   "outputs": [],
   "source": []
  },
  {
   "cell_type": "code",
   "execution_count": null,
   "id": "6581ba6c-a002-4d46-91bd-1f7953f24f03",
   "metadata": {},
   "outputs": [],
   "source": []
  },
  {
   "cell_type": "code",
   "execution_count": null,
   "id": "a5ddb88a-132e-44ad-98a7-ef2889b90fc4",
   "metadata": {},
   "outputs": [],
   "source": []
  },
  {
   "cell_type": "code",
   "execution_count": null,
   "id": "ce6944a2-6a7e-4f31-a1d3-ea519703ddf0",
   "metadata": {},
   "outputs": [],
   "source": []
  },
  {
   "cell_type": "code",
   "execution_count": null,
   "id": "e02f22be-8e15-4438-b6f0-89171f2cbd55",
   "metadata": {},
   "outputs": [],
   "source": []
  },
  {
   "cell_type": "code",
   "execution_count": null,
   "id": "1347debe-d3e6-435c-9419-7c83319ea167",
   "metadata": {},
   "outputs": [],
   "source": []
  },
  {
   "cell_type": "code",
   "execution_count": null,
   "id": "3a4d87d4-a7ea-4926-b1f6-98b57ef14353",
   "metadata": {},
   "outputs": [],
   "source": []
  },
  {
   "cell_type": "code",
   "execution_count": null,
   "id": "e6c8c4f5-ccca-4503-ab99-41e81d18576b",
   "metadata": {},
   "outputs": [],
   "source": []
  },
  {
   "cell_type": "code",
   "execution_count": null,
   "id": "7ee706df-4370-4da5-a142-b95c9437caca",
   "metadata": {},
   "outputs": [],
   "source": []
  },
  {
   "cell_type": "code",
   "execution_count": null,
   "id": "e9009881-91b6-499d-be9e-5b00becf893f",
   "metadata": {},
   "outputs": [],
   "source": []
  },
  {
   "cell_type": "code",
   "execution_count": null,
   "id": "6bf8902d-f3a0-48ad-becb-b99163059561",
   "metadata": {},
   "outputs": [],
   "source": []
  },
  {
   "cell_type": "code",
   "execution_count": null,
   "id": "04b33b98-b54f-4513-a552-da8cdd53c97c",
   "metadata": {},
   "outputs": [],
   "source": []
  },
  {
   "cell_type": "code",
   "execution_count": null,
   "id": "c5eca2f0-33d0-4cff-bc46-04ef2ec87b31",
   "metadata": {},
   "outputs": [],
   "source": []
  },
  {
   "cell_type": "markdown",
   "id": "11836593-dc92-44d0-953c-46ac17571473",
   "metadata": {
    "jp-MarkdownHeadingCollapsed": true
   },
   "source": [
    "\n",
    "# File Handling – Text & Binary Files\n",
    "\n",
    "**Q:1 Count the number of lines in a file without loading it entirely.**\n",
    "\n",
    "**Q:2 Replace a specific word in a file and save it to a new file.**\n",
    "\n",
    "**Q:3 Append data to an existing file with a timestamp.**\n",
    "\n",
    "**Q:4 Read and print the first 10 lines of a file.**\n",
    "\n",
    "**Q:5 Write a list of dictionaries as CSV manually (without csv module).**\n",
    "\n",
    "**Q:6 Copy a binary file in chunks (e.g., image or PDF).**\n",
    "\n",
    "**Q:7 Write a function to compare two files and print the differing lines.**\n",
    "\n",
    "**Q:8 Safely read a file that may not exist using try-except.**\n",
    "\n",
    "**Q:9 Read a file using a specific encoding (e.g., UTF-16).**\n",
    "\n",
    "**Q:10 Detect and skip empty lines when reading a file.**\n",
    "\n",
    "**Q:11 Implement a log rotation mechanism: create log.txt, log_1.txt, etc. when size exceeds 1MB.**\n",
    "\n",
    "**Q:12 Build a file-based key-value store using JSON per line.**\n",
    "\n",
    "**Q:13 Implement version control: on every write, back up the previous version with a timestamp.**\n",
    "\n",
    "**Q:14 Create a reader that detects encoding using chardet or fallback encoding.**\n",
    "\n",
    "**Q:15 Convert a large log file into separate files per date based on timestamps in each line.**\n"
   ]
  },
  {
   "cell_type": "code",
   "execution_count": null,
   "id": "cd9fca21-d1a6-43c9-a323-ac90a2d11f00",
   "metadata": {},
   "outputs": [],
   "source": []
  },
  {
   "cell_type": "code",
   "execution_count": null,
   "id": "973c8888-d4f2-4ef3-a557-935b1c0153f9",
   "metadata": {},
   "outputs": [],
   "source": []
  },
  {
   "cell_type": "code",
   "execution_count": null,
   "id": "0366559c-111f-43cd-b9cf-d5a0a57951ac",
   "metadata": {},
   "outputs": [],
   "source": []
  },
  {
   "cell_type": "code",
   "execution_count": null,
   "id": "5aeb7999-c659-452c-a71f-7f49ca9f1893",
   "metadata": {},
   "outputs": [],
   "source": []
  },
  {
   "cell_type": "code",
   "execution_count": null,
   "id": "53751a3c-9427-4fe1-97b4-ecc3646dd2b6",
   "metadata": {},
   "outputs": [],
   "source": []
  },
  {
   "cell_type": "code",
   "execution_count": null,
   "id": "f66f88dd-9e32-44fa-acc1-d5099df1cfea",
   "metadata": {},
   "outputs": [],
   "source": []
  },
  {
   "cell_type": "code",
   "execution_count": null,
   "id": "03611855-540e-4c06-b88a-9818bd7c4e1f",
   "metadata": {},
   "outputs": [],
   "source": []
  },
  {
   "cell_type": "code",
   "execution_count": null,
   "id": "cd9c5d25-b370-48a7-b94d-5d0cf1c2747e",
   "metadata": {},
   "outputs": [],
   "source": []
  },
  {
   "cell_type": "code",
   "execution_count": null,
   "id": "e0ec443e-67c2-4aae-bf45-61348919674a",
   "metadata": {},
   "outputs": [],
   "source": []
  },
  {
   "cell_type": "code",
   "execution_count": null,
   "id": "9711969f-5301-4867-b7b9-dba59247ca48",
   "metadata": {},
   "outputs": [],
   "source": []
  },
  {
   "cell_type": "code",
   "execution_count": null,
   "id": "432c9462-d5ca-4f95-953c-15c9c7136de9",
   "metadata": {},
   "outputs": [],
   "source": []
  },
  {
   "cell_type": "code",
   "execution_count": null,
   "id": "80361657-7f56-4534-b5f6-b7eee56ecc67",
   "metadata": {},
   "outputs": [],
   "source": []
  },
  {
   "cell_type": "code",
   "execution_count": null,
   "id": "9a72e9a6-e186-4d1d-b8b5-f52b3b781d59",
   "metadata": {},
   "outputs": [],
   "source": []
  },
  {
   "cell_type": "code",
   "execution_count": null,
   "id": "9876fee2-bf07-4bc1-aee4-e7720ee401bd",
   "metadata": {},
   "outputs": [],
   "source": []
  },
  {
   "cell_type": "code",
   "execution_count": null,
   "id": "3c941d47-d2a4-473e-b853-798bccd0d1d2",
   "metadata": {},
   "outputs": [],
   "source": []
  },
  {
   "cell_type": "markdown",
   "id": "49b7b4dc-a5af-49a8-b1a6-2629376ed791",
   "metadata": {
    "jp-MarkdownHeadingCollapsed": true
   },
   "source": [
    "\n",
    "# JSON Handling – json module\n",
    "\n",
    "**Q:1 Load JSON from a file and print a nested field (e.g., data[\"user\"][\"name\"]).**\n",
    "\n",
    "**Q:2 Write a Python dict to a file with pretty formatting.**\n",
    "\n",
    "**Q:3 Merge multiple JSON objects into a single file.**\n",
    "\n",
    "**Q:4 Convert a JSON array into CSV format.**\n",
    "\n",
    "**Q:5 Update a nested key inside a loaded JSON.**\n",
    "\n",
    "**Q:6 Create a function to pretty-print JSON from string input.**\n",
    "\n",
    "**Q:7 Safely load malformed JSON with exception handling.**\n",
    "\n",
    "**Q:8 Remove a key from each item in a JSON list and re-save.**\n",
    "\n",
    "**Q:9 Convert an object with datetime to a JSON string using a custom encoder.**\n",
    "\n",
    "**Q:10 Search for all values associated with a key in nested JSON.**\n",
    "\n",
    "**Q:11 Write a function to flatten deeply nested JSON into a flat dictionary.**\n",
    "\n",
    "**Q:12 Build a recursive JSON validator for required schema keys.**\n",
    "\n",
    "**Q:13 Convert a nested JSON into a pandas DataFrame with normalized columns.**\n",
    "\n",
    "**Q:14 Create a diff tool that compares two JSON files and shows key-level changes.**\n",
    "\n",
    "**Q:15 Handle and fix trailing commas in malformed JSON before parsing.**\n",
    "\n"
   ]
  },
  {
   "cell_type": "code",
   "execution_count": null,
   "id": "96ed1e4b-4790-418d-ba76-3fd3697603c6",
   "metadata": {},
   "outputs": [],
   "source": []
  },
  {
   "cell_type": "code",
   "execution_count": null,
   "id": "a945a883-853d-412f-b1eb-4696b812d624",
   "metadata": {},
   "outputs": [],
   "source": []
  },
  {
   "cell_type": "code",
   "execution_count": null,
   "id": "bea19279-5e6b-4e2b-8b55-5f1afa5bf4d4",
   "metadata": {},
   "outputs": [],
   "source": []
  },
  {
   "cell_type": "code",
   "execution_count": null,
   "id": "47d69ea5-4a78-48b2-83e2-c02b21be9c58",
   "metadata": {},
   "outputs": [],
   "source": []
  },
  {
   "cell_type": "code",
   "execution_count": null,
   "id": "44ca8311-ecec-4810-a343-fef73c3fdda4",
   "metadata": {},
   "outputs": [],
   "source": []
  },
  {
   "cell_type": "code",
   "execution_count": null,
   "id": "0ea9a5f6-031c-49d3-bbc5-165459650667",
   "metadata": {},
   "outputs": [],
   "source": []
  },
  {
   "cell_type": "code",
   "execution_count": null,
   "id": "c29b99d1-d6e9-4fca-9c86-c9c62cb3d03b",
   "metadata": {},
   "outputs": [],
   "source": []
  },
  {
   "cell_type": "code",
   "execution_count": null,
   "id": "b3708f19-a270-4366-bd8e-6044a70d2989",
   "metadata": {},
   "outputs": [],
   "source": []
  },
  {
   "cell_type": "code",
   "execution_count": null,
   "id": "c4462486-b8a9-492b-8c85-415a6869ac9d",
   "metadata": {},
   "outputs": [],
   "source": []
  },
  {
   "cell_type": "code",
   "execution_count": null,
   "id": "b5a38e81-21a8-4534-bf38-b56e602348cb",
   "metadata": {},
   "outputs": [],
   "source": []
  },
  {
   "cell_type": "code",
   "execution_count": null,
   "id": "edeaed10-eec5-450f-a8bb-ab3d9c200aa8",
   "metadata": {},
   "outputs": [],
   "source": []
  },
  {
   "cell_type": "code",
   "execution_count": null,
   "id": "719153bf-475c-404e-ab37-4df1bae3355d",
   "metadata": {},
   "outputs": [],
   "source": []
  },
  {
   "cell_type": "code",
   "execution_count": null,
   "id": "e3306548-70c6-4a3b-8977-93d0f632d2e7",
   "metadata": {},
   "outputs": [],
   "source": []
  },
  {
   "cell_type": "code",
   "execution_count": null,
   "id": "c22e231e-9fd0-41ea-a70d-0d0095e4665e",
   "metadata": {},
   "outputs": [],
   "source": []
  },
  {
   "cell_type": "code",
   "execution_count": null,
   "id": "a9fb0524-fa1d-4cc8-99e6-c52f55e6f085",
   "metadata": {},
   "outputs": [],
   "source": []
  },
  {
   "cell_type": "markdown",
   "id": "3083804d-5685-4ed0-852d-40333ae26433",
   "metadata": {
    "jp-MarkdownHeadingCollapsed": true
   },
   "source": [
    "    \n",
    "# Regular Expressions – re module\n",
    "\n",
    "**Q:1 Extract email addresses from a string using re.findall().**\n",
    "\n",
    "**Q:2 Validate a US phone number using regex.**\n",
    "\n",
    "**Q:3 Extract hashtags from a tweet-like string.**\n",
    "\n",
    "**Q:4 Replace all numbers with # in a paragraph.**\n",
    "\n",
    "**Q:5 Match filenames with extension .pdf, .docx, or .xlsx.**\n",
    "\n",
    "**Q:6 Split a paragraph into sentences using regex.**\n",
    "\n",
    "**Q:7 Match a date in the format DD-MM-YYYY or YYYY/MM/DD.**\n",
    "\n",
    "**Q:8 Extract quoted strings from text (e.g., \"like this\").**\n",
    "\n",
    "**Q:9 Clean a text by removing special characters except alphanumerics and spaces.**\n",
    "\n",
    "**Q:10 Capture repeated words like the the, is is in a sentence.**\n",
    "\n",
    "**Q:11 Write a regex that extracts values from key-value pairs (key: value) even if keys contain spaces.**\n",
    "\n",
    "**Q:12 Extract nested parentheses using recursive regex (advanced feature).**\n",
    "\n",
    "**Q:13 Create a regex to detect and fix malformed URLs in a text block.**\n",
    "\n",
    "**Q:14 Build a pattern to extract address-like strings (e.g., 123 Main St, City, ZIP).**\n",
    "\n",
    "**Q:15 Tokenize a log line into timestamp, level, and message using regex groups.**"
   ]
  },
  {
   "cell_type": "code",
   "execution_count": null,
   "id": "f26db1f6-d95e-4acf-9865-f30af739bdec",
   "metadata": {},
   "outputs": [],
   "source": []
  },
  {
   "cell_type": "code",
   "execution_count": null,
   "id": "9df5434d-35b9-4115-b333-ace145a2bdda",
   "metadata": {},
   "outputs": [],
   "source": []
  },
  {
   "cell_type": "code",
   "execution_count": null,
   "id": "661df70d-da86-4263-9964-a6ac85f13087",
   "metadata": {},
   "outputs": [],
   "source": []
  },
  {
   "cell_type": "code",
   "execution_count": null,
   "id": "b0d06c91-2baa-4cc3-b919-d5b66e479ce1",
   "metadata": {},
   "outputs": [],
   "source": []
  },
  {
   "cell_type": "code",
   "execution_count": null,
   "id": "47b77dc7-10d4-4dd3-bff1-96221bf711cb",
   "metadata": {},
   "outputs": [],
   "source": []
  },
  {
   "cell_type": "code",
   "execution_count": null,
   "id": "56308ae4-1cba-4d32-93a3-6c0b6ec54047",
   "metadata": {},
   "outputs": [],
   "source": []
  },
  {
   "cell_type": "code",
   "execution_count": null,
   "id": "506b8c6c-eb88-4d2a-9ca9-a1f1fb3ace9f",
   "metadata": {},
   "outputs": [],
   "source": []
  },
  {
   "cell_type": "code",
   "execution_count": null,
   "id": "8ae3d300-1edc-48ed-8989-5a324c4e6a5c",
   "metadata": {},
   "outputs": [],
   "source": []
  },
  {
   "cell_type": "code",
   "execution_count": null,
   "id": "a2451580-9fd8-4352-95dc-712a1bc956f5",
   "metadata": {},
   "outputs": [],
   "source": []
  },
  {
   "cell_type": "code",
   "execution_count": null,
   "id": "8ddb494a-144b-4a43-8213-519acf6e04a2",
   "metadata": {},
   "outputs": [],
   "source": []
  },
  {
   "cell_type": "code",
   "execution_count": null,
   "id": "1f66d7a7-5d04-41d0-b569-28c958a0c8c3",
   "metadata": {},
   "outputs": [],
   "source": []
  }
 ],
 "metadata": {
  "kernelspec": {
   "display_name": "Python 3 (ipykernel)",
   "language": "python",
   "name": "python3"
  },
  "language_info": {
   "codemirror_mode": {
    "name": "ipython",
    "version": 3
   },
   "file_extension": ".py",
   "mimetype": "text/x-python",
   "name": "python",
   "nbconvert_exporter": "python",
   "pygments_lexer": "ipython3",
   "version": "3.13.5"
  }
 },
 "nbformat": 4,
 "nbformat_minor": 5
}
