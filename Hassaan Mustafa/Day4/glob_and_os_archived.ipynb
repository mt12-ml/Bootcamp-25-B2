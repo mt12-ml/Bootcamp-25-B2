{
 "cells": [
  {
   "cell_type": "markdown",
   "id": "79754bb8-29cd-4ad8-ac9c-911abdffefaf",
   "metadata": {},
   "source": [
    "# Day 4 Begins"
   ]
  },
  {
   "cell_type": "markdown",
   "id": "7d5a2ed8-8d81-49f2-bb88-f69ab1271d4e",
   "metadata": {},
   "source": [
    "## Basic glob"
   ]
  },
  {
   "cell_type": "code",
   "execution_count": 1,
   "id": "3055d945-2cc7-497d-9425-f9fe781d35f9",
   "metadata": {
    "editable": true,
    "slideshow": {
     "slide_type": ""
    },
    "tags": []
   },
   "outputs": [],
   "source": [
    "import glob"
   ]
  },
  {
   "cell_type": "code",
   "execution_count": 2,
   "id": "145a2533-9f8c-44fc-9ab4-be7468b7d9e4",
   "metadata": {},
   "outputs": [
    {
     "name": "stdout",
     "output_type": "stream",
     "text": [
      "['apple.js']\n",
      "['ananas.js', 'banana.js']\n"
     ]
    }
   ],
   "source": [
    "# ? matches any character\n",
    "print(glob.glob(\"???le.js\"))\n",
    "print(glob.glob(\"??????.js\"))"
   ]
  },
  {
   "cell_type": "code",
   "execution_count": 3,
   "id": "afc7f0a9-e508-40c7-9acf-e4a997ffd0da",
   "metadata": {},
   "outputs": [
    {
     "name": "stdout",
     "output_type": "stream",
     "text": [
      "['ananas.js', 'apple.js', 'banana.js']\n",
      "['glob_and_os.ipynb']\n",
      "[]\n",
      "['ananas.js', 'apple.js', 'banana.js', 'glob_and_os.ipynb']\n",
      "['ananas.js', 'apple.js', 'banana.js', 'glob_and_os.ipynb']\n"
     ]
    }
   ],
   "source": [
    "# * finds all\n",
    "print(glob.glob(\"*.js\"))\n",
    "print(glob.glob(\"*.ipynb\"))\n",
    "print(glob.glob(\"*.py\"))\n",
    "print(glob.glob(\"*.*\"))\n",
    "print(glob.glob(\"*\"))"
   ]
  },
  {
   "cell_type": "code",
   "execution_count": 4,
   "id": "7f8e2d19-4bbb-4f29-9ba0-ac74cc9e511a",
   "metadata": {},
   "outputs": [
    {
     "name": "stdout",
     "output_type": "stream",
     "text": [
      "['ananas.js', 'apple.js']\n",
      "['ananas.js', 'apple.js', 'banana.js']\n",
      "['ananas.js', 'apple.js', 'banana.js']\n"
     ]
    }
   ],
   "source": [
    "# [] allow us to search for specific indexes or characters   OR   matches any character in the sequence\n",
    "\n",
    "print(glob.glob(\"[avd]*.js\")) #searches for a,v, and d as first characters in file name for js files\n",
    "print(glob.glob(\"[ba]*.js\")) #searches for a,v, and d as first characters in file name for js files\n",
    "\n",
    "print(glob.glob(\"[!zf]*.js\")) #searches for all characters except z and f as first characters in file name for js files"
   ]
  },
  {
   "cell_type": "markdown",
   "id": "26dea99c-90e6-4e85-badd-f7ce42466f92",
   "metadata": {},
   "source": [
    "## Recursion in glob"
   ]
  },
  {
   "cell_type": "code",
   "execution_count": 10,
   "id": "cf02533f-9fcd-407e-b425-1d1ef00b15a5",
   "metadata": {},
   "outputs": [
    {
     "name": "stdout",
     "output_type": "stream",
     "text": [
      "['ananas.js', 'apple.js', 'banana.js', '.ipynb_checkpoints\\\\apple-checkpoint.js']\n",
      "['banana.js']\n"
     ]
    }
   ],
   "source": [
    "print(glob.glob(\"**/*.js\", root_dir = \"C:/Users/ADMIN/Desktop/Bootcamp/Day 4\", recursive = True, include_hidden = True)) # searches all folders recursively\n",
    "print(glob.glob(\"**/[b]*.js\", root_dir = \"C:/Users/ADMIN/Desktop/Bootcamp/Day 4\", recursive = True, include_hidden = True))"
   ]
  },
  {
   "cell_type": "markdown",
   "id": "4ee89287-a678-4fca-993b-2c40b1dc4937",
   "metadata": {},
   "source": [
    "The problem however is that glob.glob can get really slow as it loads alot of files into memory in the same time \n",
    "so the array uses alot of memory. So, we need to use Generators."
   ]
  },
  {
   "cell_type": "code",
   "execution_count": 20,
   "id": "417b93de-a127-4cf1-83a8-299c09de93e8",
   "metadata": {},
   "outputs": [
    {
     "name": "stdout",
     "output_type": "stream",
     "text": [
      "0:ananas.js\n",
      "1:apple.js\n",
      "2:banana.js\n"
     ]
    }
   ],
   "source": [
    "globs = glob.iglob(\"**/*.js\", root_dir = \"C:/Users/ADMIN/Desktop/Bootcamp/Day 4\", recursive = True) #using iteration aka Generator\n",
    "#print(globs.__next__())\n",
    "\n",
    "for i, file in enumerate(globs):\n",
    "    print(i, file, sep = \":\")"
   ]
  },
  {
   "cell_type": "markdown",
   "id": "e85dfab6-5add-4ed8-b927-daf7d16e2133",
   "metadata": {},
   "source": [
    "# Time for OS"
   ]
  },
  {
   "cell_type": "code",
   "execution_count": 21,
   "id": "19d39c35-d265-4983-95d5-7672c689ca82",
   "metadata": {},
   "outputs": [],
   "source": [
    "import os"
   ]
  },
  {
   "cell_type": "code",
   "execution_count": 22,
   "id": "a2bcf858-3336-4479-9c62-f4a6a0a1c826",
   "metadata": {},
   "outputs": [
    {
     "data": {
      "text/plain": [
       "'C:\\\\Users\\\\ADMIN\\\\Desktop\\\\Bootcamp\\\\Day 4'"
      ]
     },
     "execution_count": 22,
     "metadata": {},
     "output_type": "execute_result"
    }
   ],
   "source": [
    "os.getcwd()"
   ]
  }
 ],
 "metadata": {
  "kernelspec": {
   "display_name": "ml1",
   "language": "python",
   "name": "python3"
  },
  "language_info": {
   "codemirror_mode": {
    "name": "ipython",
    "version": 3
   },
   "file_extension": ".py",
   "mimetype": "text/x-python",
   "name": "python",
   "nbconvert_exporter": "python",
   "pygments_lexer": "ipython3",
   "version": "3.13.5"
  }
 },
 "nbformat": 4,
 "nbformat_minor": 5
}
