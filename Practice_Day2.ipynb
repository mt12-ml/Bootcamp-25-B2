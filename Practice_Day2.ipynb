{
 "cells": [
  {
   "cell_type": "code",
   "execution_count": null,
   "id": "710e2146",
   "metadata": {},
   "outputs": [],
   "source": [
    "Task: Group words that are anagrams of each other.\n",
    "Input: [\"bat\", \"tab\", \"tap\", \"pat\", \"cat\"]\n",
    "Output: [[\"bat\", \"tab\"], [\"tap\", \"pat\"], [\"cat\"]]"
   ]
  },
  {
   "cell_type": "code",
   "execution_count": 2,
   "id": "754664ef",
   "metadata": {},
   "outputs": [
    {
     "name": "stdout",
     "output_type": "stream",
     "text": [
      "[['bat', 'tab'], ['tac', 'cat'], ['tap', 'pat']]\n"
     ]
    }
   ],
   "source": [
    "def group_words(words):\n",
    "    groups = []\n",
    "    for word in words:\n",
    "        for group in groups:\n",
    "            if group[0] == word[::-1]:\n",
    "                group.append(word)\n",
    "                break\n",
    "        else:\n",
    "            groups.append([word])\n",
    "    return groups\n",
    "words = [\"bat\", \"tac\",\"tab\", \"tap\", \"pat\", \"cat\"]\n",
    "groups = group_words(words)\n",
    "print(groups)\n"
   ]
  },
  {
   "cell_type": "code",
   "execution_count": null,
   "id": "06a4fc31",
   "metadata": {},
   "outputs": [],
   "source": [
    "Task: Transpose a 2D matrix using pure Python (without NumPy).\n",
    "Input: [[1, 2, 3], [4, 5, 6]]\n",
    "Output: [[1, 4], [2, 5], [3, 6]]"
   ]
  },
  {
   "cell_type": "code",
   "execution_count": 13,
   "id": "87d88732",
   "metadata": {},
   "outputs": [
    {
     "name": "stdout",
     "output_type": "stream",
     "text": [
      "[[1, 4, 7, 1], [2, 5, 8, 4], [3, 6, 9, 7]]\n"
     ]
    }
   ],
   "source": [
    "def transpose(matrix):\n",
    "    rows = len(matrix)\n",
    "    cols = len(matrix[0])\n",
    "    trans = [[0 for i in range(rows)] for j in range(cols)]\n",
    "    for i in range(cols):\n",
    "        for j in range(rows):\n",
    "            trans[i][j] = matrix[j][i]\n",
    "    return trans\n",
    "            \n",
    "    \n",
    "matrix = [[1, 2, 3], [4, 5, 6], [7, 8, 9], [1, 4, 7]]\n",
    "print(transpose(matrix))"
   ]
  },
  {
   "cell_type": "code",
   "execution_count": null,
   "id": "28bab69f",
   "metadata": {},
   "outputs": [],
   "source": [
    "Create an iterator that returns prime numbers up to n.\n",
    "Input: n = 10\n",
    "Output: [2, 3, 5, 7]"
   ]
  },
  {
   "cell_type": "code",
   "execution_count": 15,
   "id": "d2c23309",
   "metadata": {},
   "outputs": [
    {
     "name": "stdout",
     "output_type": "stream",
     "text": [
      "[2, 3, 5, 7]\n"
     ]
    }
   ],
   "source": [
    "def prime_numbers(n):\n",
    "    primes = []\n",
    "    for i in range(2,n+1):\n",
    "        if prime(i):\n",
    "            primes.append(i)\n",
    "    return primes\n",
    "def prime(n):\n",
    "    for i in range(2,n//2+1):\n",
    "        if n % i == 0:\n",
    "            return False\n",
    "    return True\n",
    "print(prime_numbers(10))"
   ]
  },
  {
   "cell_type": "code",
   "execution_count": null,
   "id": "e9d45d54",
   "metadata": {},
   "outputs": [],
   "source": []
  }
 ],
 "metadata": {
  "kernelspec": {
   "display_name": "Python 3 (ipykernel)",
   "language": "python",
   "name": "python3"
  },
  "language_info": {
   "codemirror_mode": {
    "name": "ipython",
    "version": 3
   },
   "file_extension": ".py",
   "mimetype": "text/x-python",
   "name": "python",
   "nbconvert_exporter": "python",
   "pygments_lexer": "ipython3",
   "version": "3.11.5"
  }
 },
 "nbformat": 4,
 "nbformat_minor": 5
}
