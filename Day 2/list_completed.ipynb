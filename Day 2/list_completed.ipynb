{
 "cells": [
  {
   "cell_type": "markdown",
   "id": "3f9994f8-82f8-4450-b588-4dcbc466cc3e",
   "metadata": {},
   "source": [
    "# 1. Find the Sum of All Elements in a List\n",
    "## Problem Statement:\n",
    "Write a function to return the sum of all elements in a list.\n",
    "\n",
    "## Example 1:\n",
    "**Input:** `[1, 2, 3, 4, 5]`  \n",
    "**Output:** `15`\n",
    "\n",
    "## Example 2:\n",
    "**Input:** `[10, -2, 3]`  \n",
    "**Output:** `11`\n"
   ]
  },
  {
   "cell_type": "code",
   "execution_count": 1,
   "id": "22ab5186-6302-4f99-94f7-26e1243b2b23",
   "metadata": {},
   "outputs": [
    {
     "data": {
      "text/plain": [
       "15"
      ]
     },
     "execution_count": 1,
     "metadata": {},
     "output_type": "execute_result"
    }
   ],
   "source": [
    "def sum_elements (x):\n",
    "    sum = 0\n",
    "    for element in x:\n",
    "        sum += element\n",
    "    return sum\n",
    "sum_elements ([1,2,3,4,5])"
   ]
  },
  {
   "cell_type": "markdown",
   "id": "d23b0919-b937-4ffa-9f69-e0a58e4822c8",
   "metadata": {},
   "source": [
    "# 2. Find the Maximum Element in a List\n",
    "## Problem Statement:\n",
    "Write a function to find the maximum element in a list.\n",
    "\n",
    "## Example 1:\n",
    "**Input:** `[3, 5, 1, 9, 2]`  \n",
    "**Output:** `9`\n",
    "\n",
    "## Example 2:\n",
    "**Input:** `[10, 22, 5, 8]`  \n",
    "**Output:** `22`\n"
   ]
  },
  {
   "cell_type": "code",
   "execution_count": 5,
   "id": "7d7b3e2d-d3e0-40ea-a276-6546d8d5a6dc",
   "metadata": {},
   "outputs": [
    {
     "data": {
      "text/plain": [
       "22"
      ]
     },
     "execution_count": 5,
     "metadata": {},
     "output_type": "execute_result"
    }
   ],
   "source": [
    "def list_max (x):\n",
    "    max = float ('-inf')\n",
    "    for element in x:\n",
    "        if element > max:\n",
    "            max = element\n",
    "    return max\n",
    "list_max ([10,22,5,8])"
   ]
  },
  {
   "cell_type": "markdown",
   "id": "3a468705-92a6-48b7-8cf4-f45d18a23a82",
   "metadata": {},
   "source": [
    "# 3. Find the Minimum Element in a List\n",
    "## Problem Statement:\n",
    "Write a function to find the minimum element in a list.\n",
    "\n",
    "## Example 1:\n",
    "**Input:** `[4, 7, 1, 9]`  \n",
    "**Output:** `1`\n",
    "\n",
    "## Example 2:\n",
    "**Input:** `[10, 15, 3, 8]`  \n",
    "**Output:** `3`\n"
   ]
  },
  {
   "cell_type": "code",
   "execution_count": 18,
   "id": "4d12cc30-d2d0-4d11-a297-c9abdd2841e8",
   "metadata": {},
   "outputs": [
    {
     "data": {
      "text/plain": [
       "5"
      ]
     },
     "execution_count": 18,
     "metadata": {},
     "output_type": "execute_result"
    }
   ],
   "source": [
    "def list_min (x):\n",
    "    min = float ('inf')\n",
    "    for element in x:\n",
    "        if element < min:\n",
    "            min = element\n",
    "    return min\n",
    "list_min ([10,22,5,8])"
   ]
  },
  {
   "cell_type": "markdown",
   "id": "c40f3f67-f422-4be3-bf91-2a8ae2176b24",
   "metadata": {},
   "source": [
    "# 4. Reverse a List\n",
    "## Problem Statement:\n",
    "Write a function to reverse a given list.\n",
    "\n",
    "## Example 1:\n",
    "**Input:** `[1, 2, 3, 4, 5]`  \n",
    "**Output:** `[5, 4, 3, 2, 1]`\n",
    "\n",
    "## Example 2:\n",
    "**Input:** `[\"a\", \"b\", \"c\", \"d\"]`  \n",
    "**Output:** `[\"d\", \"c\", \"b\", \"a\"]`\n"
   ]
  },
  {
   "cell_type": "code",
   "execution_count": 37,
   "id": "ad8b815d-4d1b-42f8-8201-3012cbb10791",
   "metadata": {},
   "outputs": [
    {
     "name": "stdout",
     "output_type": "stream",
     "text": [
      "['a', 5, 4, 3, 2, 1]\n",
      "[5, 4, 3, 2, 1]\n"
     ]
    }
   ],
   "source": [
    "def reverse_list (x):\n",
    "    reversed =[]\n",
    "    for i in range (len(x)-1,-1,-1):\n",
    "        reversed.append(x[i])\n",
    "    return reversed\n",
    "\n",
    "print (reverse_list ([1,2,3,4,5,\"a\"]))\n",
    "\n",
    "y = [1,2,3,4,5]\n",
    "print (list(reversed(y)))"
   ]
  },
  {
   "cell_type": "markdown",
   "id": "1ce0dcfb-6e54-4ef6-935e-322632660d42",
   "metadata": {},
   "source": [
    "# 5. Check if a List is Palindromic\n",
    "## Problem Statement:\n",
    "Write a function to check if a list is the same forward and backward.\n",
    "\n",
    "## Example 1:\n",
    "**Input:** `[1, 2, 3, 2, 1]`  \n",
    "**Output:** `True`\n",
    "\n",
    "## Example 2:\n",
    "**Input:** `[1, 2, 3, 4, 5]`  \n",
    "**Output:** `False`\n"
   ]
  },
  {
   "cell_type": "code",
   "execution_count": 41,
   "id": "c21305ce-5efc-4f55-aed4-f2ecb507d12a",
   "metadata": {},
   "outputs": [
    {
     "data": {
      "text/plain": [
       "True"
      ]
     },
     "execution_count": 41,
     "metadata": {},
     "output_type": "execute_result"
    }
   ],
   "source": [
    "def is_palindrome (x):\n",
    "    reverse = x[::-1]\n",
    "    if reverse == x:\n",
    "        return True\n",
    "    else:\n",
    "        return False\n",
    "\n",
    "is_palindrome ([1,2,3,2,1,])"
   ]
  },
  {
   "cell_type": "markdown",
   "id": "4e03ac95-a619-4d71-bc19-4d8aa7ebc779",
   "metadata": {},
   "source": [
    "# 6. Count the Frequency of Elements in a List\n",
    "## Problem Statement:\n",
    "Write a function to count the occurrences of each element in a list.\n",
    "\n",
    "## Example 1:\n",
    "**Input:** `[1, 2, 2, 3, 3, 3]`  \n",
    "**Output:** `{1: 1, 2: 2, 3: 3}`\n",
    "\n",
    "## Example 2:\n",
    "**Input:** `[\"a\", \"b\", \"a\", \"c\", \"c\", \"c\"]`  \n",
    "**Output:** `{\"a\": 2, \"b\": 1, \"c\": 3}`\n"
   ]
  },
  {
   "cell_type": "code",
   "execution_count": 57,
   "id": "c1c47cee-c97a-4c7b-b61d-4451912705e9",
   "metadata": {},
   "outputs": [
    {
     "data": {
      "text/plain": [
       "{1: 1, 2: 3, 3: 2}"
      ]
     },
     "execution_count": 57,
     "metadata": {},
     "output_type": "execute_result"
    }
   ],
   "source": [
    "a = [1,2,2,2,3,3]\n",
    "\n",
    "def freq_count (x):\n",
    "    count = {}\n",
    "    for element in x:\n",
    "        count[element] = count.get(element,0) + 1\n",
    "    return count\n",
    "\n",
    "freq_count (a)"
   ]
  },
  {
   "cell_type": "code",
   "execution_count": null,
   "id": "9f64c11f-e701-43a7-bcf3-1b06a72a16bc",
   "metadata": {},
   "outputs": [],
   "source": []
  },
  {
   "cell_type": "markdown",
   "id": "c351ff0a-2f61-478c-87bd-d71170cc4dd0",
   "metadata": {},
   "source": [
    "# 7. Find the Second Largest Number in a List\n",
    "## Problem Statement:\n",
    "Write a function to find the second largest number in a list.\n",
    "\n",
    "## Example 1:\n",
    "**Input:** `[10, 20, 4, 45, 99]`  \n",
    "**Output:** `45`\n",
    "\n",
    "## Example 2:\n",
    "**Input:** `[3, 5, 7, 7, 8]`  \n",
    "**Output:** `7`\n"
   ]
  },
  {
   "cell_type": "code",
   "execution_count": 62,
   "id": "13703cf5-889b-4ac1-81a9-223d367d8494",
   "metadata": {},
   "outputs": [
    {
     "name": "stdout",
     "output_type": "stream",
     "text": [
      "7\n"
     ]
    }
   ],
   "source": [
    "def second_largest (x):\n",
    "    first = second = float ('-inf')\n",
    "    for num in x:\n",
    "        if num > first:\n",
    "            second = first\n",
    "            first = num\n",
    "        elif first > num > second:\n",
    "            second = num\n",
    "    return second\n",
    "\n",
    "x = [3,5,7,7,8]\n",
    "print (second_largest(x))"
   ]
  },
  {
   "cell_type": "markdown",
   "id": "9c6d8daa-7f46-4bf2-a414-04a077cdb99a",
   "metadata": {},
   "source": [
    "# 8. Merge Two Sorted Lists\n",
    "## Problem Statement:\n",
    "Write a function to merge two sorted lists into a single sorted list.\n",
    "\n",
    "## Example 1:\n",
    "**Input:** `[1, 3, 5]`, `[2, 4, 6]`  \n",
    "**Output:** `[1, 2, 3, 4, 5, 6]`\n",
    "\n",
    "## Example 2:\n",
    "**Input:** `[0, 2, 8]`, `[1, 3, 7]`  \n",
    "**Output:** `[0, 1, 2, 3, 7, 8]`\n"
   ]
  },
  {
   "cell_type": "code",
   "execution_count": null,
   "id": "f8feaf49-483c-47d9-9d0e-412e9df946d2",
   "metadata": {},
   "outputs": [
    {
     "data": {
      "text/plain": [
       "[0, 1, 2, 3, 7, 8, 10, 11]"
      ]
     },
     "execution_count": 45,
     "metadata": {},
     "output_type": "execute_result"
    }
   ],
   "source": [
    "def merged_sorted_lists (x1,x2):\n",
    "    merged = []\n",
    "    i = j = 0\n",
    "    while (i < len(x1)) and (j < len(x2)):\n",
    "        if x1[i] <= x2[j]:\n",
    "            merged.append(x1[i])\n",
    "            i = i + 1\n",
    "        else:\n",
    "            merged.append(x2[j])\n",
    "            j = j + 1\n",
    "    if j < len(x2):\n",
    "        merged.extend(x2[j:])\n",
    "    if i < len(x1):\n",
    "        merged.extend(x1[i:])\n",
    "\n",
    "    return merged\n",
    "\n",
    "merged_sorted_lists([0,2,8,10],[1,3,7,11])\n",
    "    "
   ]
  },
  {
   "cell_type": "code",
   "execution_count": 24,
   "id": "644ee2d9-46dd-4e2a-915a-b19a638b97e7",
   "metadata": {},
   "outputs": [
    {
     "data": {
      "text/plain": [
       "[1, 2, 3, 4, 5, 7, 11]"
      ]
     },
     "execution_count": 24,
     "metadata": {},
     "output_type": "execute_result"
    }
   ],
   "source": [
    "# merge sort algorithm \n",
    "def merge_sort(array):\n",
    "\n",
    "    def merge (left, right):\n",
    "        merged = []\n",
    "        i=j=0\n",
    "        while (i<len(left)) and (j<len(right)):\n",
    "            if left[i] <= right[j]:\n",
    "                merged.append(left[i])\n",
    "                i += 1\n",
    "            else:\n",
    "                merged.append(right[j])\n",
    "                j += 1\n",
    "        if j<len(right):\n",
    "            merged.extend (right[j:])\n",
    "        if i<len(left):\n",
    "            merged.extend (left[i:])\n",
    "        return merged\n",
    "        \n",
    "    if len(array) < 2:\n",
    "        return array\n",
    "    mid = len(array) //2\n",
    "    left_half = merge_sort(array[:mid])\n",
    "    right_half = merge_sort (array[mid:])\n",
    "\n",
    "    return merge (left_half, right_half)\n",
    "\n",
    "merge_sort ([11,2,5,4,3,7,1])\n",
    "\n"
   ]
  },
  {
   "cell_type": "markdown",
   "id": "905fc429-4a5a-4455-9d5e-a761ea93bb8a",
   "metadata": {},
   "source": [
    "# 9. Remove Duplicates from a List\n",
    "## Problem Statement:\n",
    "Write a function to remove duplicate elements from a list while maintaining order.\n",
    "\n",
    "## Example 1:\n",
    "**Input:** `[1, 2, 2, 3, 4, 4, 5]`  \n",
    "**Output:** `[1, 2, 3, 4, 5]`\n",
    "\n",
    "## Example 2:\n",
    "**Input:** `[\"a\", \"b\", \"a\", \"c\", \"c\", \"d\"]`  \n",
    "**Output:** `[\"a\", \"b\", \"c\", \"d\"]`\n"
   ]
  },
  {
   "cell_type": "code",
   "execution_count": 74,
   "id": "bd3ce823-9e58-43ff-b60f-82e28f00fd19",
   "metadata": {},
   "outputs": [
    {
     "data": {
      "text/plain": [
       "[1, 2, 3, 4, 5]"
      ]
     },
     "execution_count": 74,
     "metadata": {},
     "output_type": "execute_result"
    }
   ],
   "source": [
    "def remove_duplicates (x):\n",
    "    element_set = set()\n",
    "    new_list = []\n",
    "    for element in x:\n",
    "        if element not in element_set:\n",
    "            element_set.add(element)\n",
    "            new_list.append(element)\n",
    "    return new_list\n",
    "\n",
    "remove_duplicates ([1,2,2,3,4,4,5])"
   ]
  },
  {
   "cell_type": "code",
   "execution_count": null,
   "id": "acc566d7-e9c0-4a76-8062-f91d0f1e57be",
   "metadata": {},
   "outputs": [],
   "source": []
  },
  {
   "cell_type": "markdown",
   "id": "8fd83067-65a1-4859-8a82-ec7309c8bc79",
   "metadata": {},
   "source": [
    "# 10. Rotate a List by k Positions\n",
    "## Problem Statement:\n",
    "Write a function to rotate a list by `k` positions to the right.\n",
    "\n",
    "## Example 1:\n",
    "**Input:** `[1, 2, 3, 4, 5]`, `k=2`  \n",
    "**Output:** `[4, 5, 1, 2, 3]`\n",
    "\n",
    "## Example 2:\n",
    "**Input:** `[10, 20, 30, 40, 50]`, `k=3`  \n",
    "**Output:** `[30, 40, 50, 10, 20]`\n"
   ]
  },
  {
   "cell_type": "code",
   "execution_count": null,
   "id": "ee0fcda9-c7a0-4ce1-a03b-6925c8020b19",
   "metadata": {},
   "outputs": [
    {
     "data": {
      "text/plain": [
       "[30, 40, 50, 10, 20]"
      ]
     },
     "execution_count": 79,
     "metadata": {},
     "output_type": "execute_result"
    }
   ],
   "source": [
    "def right_rotate_list (_list, k):\n",
    "    for _ in range (k):\n",
    "        _list.insert (0,_list.pop())\n",
    "    return _list\n",
    "\n",
    "right_rotate_list([10,20,30,40,50],3)"
   ]
  },
  {
   "cell_type": "markdown",
   "id": "94b7d159-63f7-4efb-a0ae-d5734e84272e",
   "metadata": {},
   "source": [
    "# 11. Find the Intersection of Two Lists\n",
    "## Problem Statement:\n",
    "Write a function to find the common elements between two lists.\n",
    "\n",
    "## Example 1:\n",
    "**Input:** `[1, 2, 3, 4]`, `[3, 4, 5, 6]`  \n",
    "**Output:** `[3, 4]`\n",
    "\n",
    "## Example 2:\n",
    "**Input:** `[\"apple\", \"banana\", \"cherry\"]`, `[\"banana\", \"cherry\", \"date\"]`  \n",
    "**Output:** `[\"banana\", \"cherry\"]`\n"
   ]
  },
  {
   "cell_type": "code",
   "execution_count": 82,
   "id": "2fba381c-645b-4788-bd52-8baae6cd8c82",
   "metadata": {},
   "outputs": [
    {
     "name": "stdout",
     "output_type": "stream",
     "text": [
      "[3, 4]\n",
      "['banana', 'cherry']\n"
     ]
    }
   ],
   "source": [
    "def list_intersection (x1,x2):\n",
    "    intersection = []\n",
    "    for element in x1:\n",
    "        if (element in x1) and (element in x2):\n",
    "            intersection.append(element)\n",
    "    return intersection\n",
    "\n",
    "print (list_intersection ([1,2,3,4],[3,4,5,6]))\n",
    "print (list_intersection (['apple','banana','cherry'],['banana','cherry','date']))\n"
   ]
  },
  {
   "cell_type": "markdown",
   "id": "d21374ba-1837-4c2d-88f3-493c9dcfb804",
   "metadata": {},
   "source": [
    "# 12. Find the Union of Two Lists\n",
    "## Problem Statement:\n",
    "Write a function to return the union of two lists (without duplicates).\n",
    "\n",
    "## Example 1:\n",
    "**Input:** `[1, 2, 3]`, `[3, 4, 5]`  \n",
    "**Output:** `[1, 2, 3, 4, 5]`\n",
    "\n",
    "## Example 2:\n",
    "**Input:** `[\"a\", \"b\", \"c\"]`, `[\"b\", \"c\", \"d\"]`  \n",
    "**Output:** `[\"a\", \"b\", \"c\", \"d\"]`\n"
   ]
  },
  {
   "cell_type": "code",
   "execution_count": 91,
   "id": "b9c68bb7-b138-4a77-a73d-108977bce975",
   "metadata": {},
   "outputs": [
    {
     "data": {
      "text/plain": [
       "[1, 2, 3, 4, 5]"
      ]
     },
     "execution_count": 91,
     "metadata": {},
     "output_type": "execute_result"
    }
   ],
   "source": [
    "# using sets\n",
    "def list_union (x1,x2):\n",
    "    return list (set(x1+x2))\n",
    "list_union ([1,2,3],[3,4,5])"
   ]
  },
  {
   "cell_type": "code",
   "execution_count": 85,
   "id": "21512ffe",
   "metadata": {},
   "outputs": [
    {
     "data": {
      "text/plain": [
       "[1, 2, 2, 3, 4, 5]"
      ]
     },
     "execution_count": 85,
     "metadata": {},
     "output_type": "execute_result"
    }
   ],
   "source": [
    "a = [1,2,2,3]\n",
    "b = [4,5]\n",
    "a+b"
   ]
  },
  {
   "cell_type": "code",
   "execution_count": null,
   "id": "6264bf87-40a2-40db-945f-8c3995c782c8",
   "metadata": {},
   "outputs": [],
   "source": []
  },
  {
   "cell_type": "markdown",
   "id": "e335d83d-180c-428b-b297-911ff99846fb",
   "metadata": {},
   "source": [
    "# 13. Find the Difference Between Two Lists\n",
    "## Problem Statement:\n",
    "Write a function to return elements present in the first list but not in the second.\n",
    "\n",
    "## Example 1:\n",
    "**Input:** `[1, 2, 3, 4]`, `[2, 4, 6]`  \n",
    "**Output:** `[1, 3]`\n",
    "\n",
    "## Example 2:\n",
    "**Input:** `[\"cat\", \"dog\", \"rabbit\"]`, `[\"dog\", \"rabbit\"]`  \n",
    "**Output:** `[\"cat\"]`\n"
   ]
  },
  {
   "cell_type": "code",
   "execution_count": 96,
   "id": "07389d4c-44da-45b0-bab6-ab2e638be814",
   "metadata": {},
   "outputs": [
    {
     "data": {
      "text/plain": [
       "[1, 3, 6]"
      ]
     },
     "execution_count": 96,
     "metadata": {},
     "output_type": "execute_result"
    }
   ],
   "source": [
    "def list_diff(x1, x2):\n",
    "    return list(set(x1).symmetric_difference(set(x2)))\n",
    "\n",
    "list_diff ([1,2,3,4],[2,4,6])"
   ]
  },
  {
   "cell_type": "code",
   "execution_count": null,
   "id": "dde54afd-9351-4698-9603-7d98450d7eeb",
   "metadata": {},
   "outputs": [],
   "source": []
  },
  {
   "cell_type": "markdown",
   "id": "19e90ba4-7144-45ea-880d-f31d4c01fbde",
   "metadata": {},
   "source": [
    "# 14. Find the Mode of a List\n",
    "## Problem Statement:\n",
    "Write a function to return the most frequently occurring element in a list.\n",
    "\n",
    "## Example 1:\n",
    "**Input:** `[1, 2, 2, 3, 3, 3]`  \n",
    "**Output:** `3`\n",
    "\n",
    "## Example 2:\n",
    "**Input:** `[\"apple\", \"banana\", \"apple\", \"cherry\", \"apple\"]`  \n",
    "**Output:** `\"apple\"`\n"
   ]
  },
  {
   "cell_type": "code",
   "execution_count": 3,
   "id": "bfc0ae57-4b69-401b-9c06-1f7896081fc7",
   "metadata": {},
   "outputs": [
    {
     "data": {
      "text/plain": [
       "'apple'"
      ]
     },
     "execution_count": 3,
     "metadata": {},
     "output_type": "execute_result"
    }
   ],
   "source": [
    "def list_mode (x):\n",
    "    count = {}\n",
    "    for element in x:\n",
    "        count[element] = count.get(element,0)+1\n",
    "    for item, freq in count.items():\n",
    "        if freq == max(count.values()):\n",
    "            return item\n",
    "    \n",
    "list_mode ([\"apple\", \"banana\", \"apple\", \"cherry\", \"apple\"])"
   ]
  },
  {
   "cell_type": "code",
   "execution_count": 11,
   "id": "d0e0abaf-a368-4db5-b6ff-262d1367c125",
   "metadata": {},
   "outputs": [
    {
     "data": {
      "text/plain": [
       "1"
      ]
     },
     "execution_count": 11,
     "metadata": {},
     "output_type": "execute_result"
    }
   ],
   "source": [
    "from collections import Counter\n",
    "\n",
    "def most_frequent_element(lst):\n",
    "    if not lst:\n",
    "        return None  # handle empty list\n",
    "    counts = Counter(lst)\n",
    "    return counts.most_common()[0][0]\n",
    "\n",
    "most_frequent_element ([1,1,1,2,2,3])\n"
   ]
  },
  {
   "cell_type": "markdown",
   "id": "8008537d-35c3-498b-9d8f-f412c3ee331a",
   "metadata": {},
   "source": [
    "# 15. Flatten a Nested List\n",
    "## Problem Statement:\n",
    "Write a function to flatten a nested list into a single list.\n",
    "\n",
    "## Example 1:\n",
    "**Input:** `[[1, 2, [3]], 4]`  \n",
    "**Output:** `[1, 2, 3, 4]`\n",
    "\n",
    "## Example 2:\n",
    "**Input:** `[[\"a\", [\"b\", \"c\"]], \"d\"]`  \n",
    "**Output:** `[\"a\", \"b\", \"c\", \"d\"]`\n"
   ]
  },
  {
   "cell_type": "code",
   "execution_count": 18,
   "id": "6edccc26-3633-42b6-bd2e-032ce68236f6",
   "metadata": {},
   "outputs": [
    {
     "data": {
      "text/plain": [
       "[1, 2, 3, 5, 4]"
      ]
     },
     "execution_count": 18,
     "metadata": {},
     "output_type": "execute_result"
    }
   ],
   "source": [
    "def flatten_nested_list (x):\n",
    "    new_list = []\n",
    "    for element in x:\n",
    "        if isinstance (element,list):\n",
    "            new_list.extend (flatten_nested_list(element))\n",
    "        else:\n",
    "            new_list.append(element)\n",
    "    \n",
    "    return new_list\n",
    "\n",
    "flatten_nested_list ([[1, 2, [3,5]], 4])\n",
    "\n",
    "    "
   ]
  },
  {
   "cell_type": "code",
   "execution_count": null,
   "id": "75cefb05-db24-4683-a911-9594ac598682",
   "metadata": {},
   "outputs": [],
   "source": []
  },
  {
   "cell_type": "markdown",
   "id": "e1aae028-80b8-4a5f-b481-8afb6fc767e2",
   "metadata": {},
   "source": [
    "# 16. Find Pairs in a List That Sum to a Target Value\n",
    "## Problem Statement:\n",
    "Write a function to find all pairs in a list that sum to a given target.\n",
    "\n",
    "## Example 1:\n",
    "**Input:** `[1, 2, 3, 4, 5]`, `target=6`  \n",
    "**Output:** `[(1, 5), (2, 4)]`\n",
    "\n",
    "## Example 2:\n",
    "**Input:** `[2, 4, 6, 8]`, `target=10`  \n",
    "**Output:** `[(2, 8), (4, 6)]`\n"
   ]
  },
  {
   "cell_type": "code",
   "execution_count": 31,
   "id": "35f3cb07-6370-4b58-ac70-149c425ede93",
   "metadata": {},
   "outputs": [
    {
     "name": "stdout",
     "output_type": "stream",
     "text": [
      "[(1, 5), (2, 4)]\n",
      "[(2, 8), (4, 6)]\n"
     ]
    }
   ],
   "source": [
    "def find_pairs (lst, target):\n",
    "    pairs = []\n",
    "    for i in range (len(lst)):\n",
    "        for j in range (i+1,len(lst)):\n",
    "            if lst[i] + lst[j] == target:\n",
    "                pairs.append((lst[i],lst[j]))\n",
    "\n",
    "    return pairs if pairs else None\n",
    "\n",
    "print (find_pairs ([1,2,3,4,5],6))\n",
    "print (find_pairs ([2,4,6,8],10))\n",
    "\n"
   ]
  },
  {
   "cell_type": "code",
   "execution_count": null,
   "id": "a95297a6-5358-4814-a21f-0e10c6df6212",
   "metadata": {},
   "outputs": [],
   "source": []
  },
  {
   "cell_type": "markdown",
   "id": "361f2030-2016-4608-bc25-29af4908b376",
   "metadata": {},
   "source": [
    "# 17. Find the Product of All Elements Except Self\n",
    "## Problem Statement:\n",
    "Write a function that returns a list where each index contains the product of all numbers except the number at that index.\n",
    "\n",
    "## Example 1:\n",
    "**Input:** `[1, 2, 3, 4]`  \n",
    "**Output:** `[24, 12, 8, 6]`\n",
    "\n",
    "## Example 2:\n",
    "**Input:** `[5, 6, 7]`  \n",
    "**Output:** `[42, 35, 30]`\n"
   ]
  },
  {
   "cell_type": "code",
   "execution_count": 42,
   "id": "933f3985-7aa4-4cc5-9c26-45f4b46586e9",
   "metadata": {},
   "outputs": [
    {
     "data": {
      "text/plain": [
       "[24, 12, 8, 6]"
      ]
     },
     "execution_count": 42,
     "metadata": {},
     "output_type": "execute_result"
    }
   ],
   "source": [
    "def special_product (x):\n",
    "    products = []\n",
    "    for i in range (len(x)):\n",
    "        product = 1\n",
    "        for j in range (len(x)):\n",
    "            if i != j:\n",
    "                product = product * x[j]\n",
    "        products.append(product)\n",
    "    return products\n",
    "special_product ([1,2,3,4])"
   ]
  },
  {
   "cell_type": "code",
   "execution_count": 64,
   "id": "29d2d922-479e-43b6-861d-6c471e4989c0",
   "metadata": {},
   "outputs": [
    {
     "data": {
      "text/plain": [
       "[24, 12, 8, 6]"
      ]
     },
     "execution_count": 64,
     "metadata": {},
     "output_type": "execute_result"
    }
   ],
   "source": [
    "def special_product_2 (x):\n",
    "    product = 1\n",
    "    for i in range (len(x)):\n",
    "        product *= x[i]\n",
    "    products = [product] * len(x)\n",
    "    for index, element  in enumerate (x):\n",
    "        products[index] = int (products[index] / element)\n",
    "    return products\n",
    " \n",
    "special_product_2 ([1,2,3,4])"
   ]
  },
  {
   "cell_type": "markdown",
   "id": "129ff3e8-fc93-4856-8cc9-5b49f84704cc",
   "metadata": {},
   "source": [
    "# 18. Find the Longest Consecutive Sequence in a List\n",
    "## Problem Statement:\n",
    "Write a function to find the longest sequence of consecutive numbers in a list.\n",
    "\n",
    "## Example 1:\n",
    "**Input:** `[100, 4, 200, 1, 3, 2]`  \n",
    "**Output:** `4  (sequence: [1, 2, 3, 4])`\n",
    "\n",
    "## Example 2:\n",
    "**Input:** `[10, 11, 12, 50, 51, 52]`  \n",
    "**Output:** `3  (sequence: [10, 11, 12])`\n"
   ]
  },
  {
   "cell_type": "code",
   "execution_count": null,
   "id": "74775c8c-6eba-4628-b4aa-685ff18ec326",
   "metadata": {},
   "outputs": [],
   "source": [
    "# was doing this \n",
    "def longest_sequence (x):\n",
    "    sequence = {}\n",
    "    for i, element in x:\n",
    "        if x[i+1] == x[i]+1:\n",
    "            sequence[x[i],x[i+1]] = sequence.get([x[i],x[i+1],1])+1\n"
   ]
  },
  {
   "cell_type": "code",
   "execution_count": 67,
   "id": "1e8e6260-8f83-467c-b9dd-10497f63e640",
   "metadata": {},
   "outputs": [
    {
     "name": "stdout",
     "output_type": "stream",
     "text": [
      "{(1, 2, 3, 4): 5, (1, 3, 2, 4): 6}\n"
     ]
    }
   ],
   "source": [
    "sequence = {}\n",
    "sequence[1,2,3,4] = 5\n",
    "sequence [1,3,2,4] = 6\n",
    "print (sequence)"
   ]
  },
  {
   "cell_type": "markdown",
   "id": "d78db306-86d8-466d-809e-4a501d84b7e3",
   "metadata": {},
   "source": [
    "# 19. Check if a List Contains a Sublist\n",
    "## Problem Statement:\n",
    "Write a function to check if a list contains a given sublist.\n",
    "\n",
    "## Example 1:\n",
    "**Input:** `[1, 2, 3, 4, 5]`, `[3, 4]`  \n",
    "**Output:** `True`\n",
    "\n",
    "## Example 2:\n",
    "**Input:** `[10, 20, 30, 40]`, `[20, 50]`  \n",
    "**Output:** `False`\n"
   ]
  },
  {
   "cell_type": "code",
   "execution_count": 135,
   "id": "f4981789-b06f-4f01-9d60-33aee6a9fc61",
   "metadata": {},
   "outputs": [
    {
     "name": "stdout",
     "output_type": "stream",
     "text": [
      "False\n",
      "True\n"
     ]
    }
   ],
   "source": [
    "def has_sublist (_list, sub_list):\n",
    "    if sub_list[0] not in _list:\n",
    "        return False\n",
    "    else:\n",
    "        index =_list.index(sub_list[0])\n",
    "        for i in range (1,len(sub_list)):\n",
    "            if _list[index+i] != sub_list[i]:\n",
    "                return False\n",
    "        return True\n",
    "    \n",
    "print (has_sublist([10,20,30,40],[20,50]))\n",
    "print (has_sublist([1,2,3,4,5],[3,4]))\n"
   ]
  },
  {
   "cell_type": "code",
   "execution_count": 123,
   "id": "dbe70fad-c011-4a2b-8610-257686b41eb7",
   "metadata": {},
   "outputs": [
    {
     "name": "stdout",
     "output_type": "stream",
     "text": [
      "1\n",
      "2\n"
     ]
    }
   ],
   "source": [
    "for i in range (1,3):\n",
    "    print (i)"
   ]
  },
  {
   "cell_type": "markdown",
   "id": "9f92a78f-50c6-4244-89cb-44cf6d00da88",
   "metadata": {},
   "source": [
    "# 20. Find the Kth Largest Element in a List\n",
    "## Problem Statement:\n",
    "Write a function to find the `k`th largest element in a list.\n",
    "\n",
    "## Example 1:\n",
    "**Input:** `[3, 2, 1, 5, 6, 4]`, `k=2`  \n",
    "**Output:** `5`\n",
    "\n",
    "## Example 2:\n",
    "**Input:** `[10, 20, 30, 40, 50]`, `k=3`  \n",
    "**Output:** `30`\n"
   ]
  },
  {
   "cell_type": "code",
   "execution_count": null,
   "id": "b7752ce5-63b2-414f-b2bc-5f64a1f804e4",
   "metadata": {},
   "outputs": [
    {
     "data": {
      "text/plain": [
       "11"
      ]
     },
     "execution_count": 80,
     "metadata": {},
     "output_type": "execute_result"
    }
   ],
   "source": [
    "# using heaps\n",
    "import heapq\n",
    "\n",
    "def find_kth_largest(nums, k):\n",
    "    return heapq.nlargest(k, nums)[-1]\n",
    "\n",
    "find_kth_largest ([15,11,7,19,5,3],3)\n",
    "\n"
   ]
  },
  {
   "cell_type": "code",
   "execution_count": 86,
   "id": "fa2f5091",
   "metadata": {},
   "outputs": [
    {
     "name": "stdout",
     "output_type": "stream",
     "text": [
      "19\n"
     ]
    }
   ],
   "source": [
    "# using built-in sort\n",
    "\n",
    "def find_kth_largest_2 (_list,k):\n",
    "    _list.sort(reverse =True)\n",
    "    return _list[k-1]\n",
    "\n",
    "print (find_kth_largest_2([15,11,7,19,5,3],1))"
   ]
  },
  {
   "cell_type": "code",
   "execution_count": 104,
   "id": "e9af5c07-635e-4d89-bbde-8d499d856896",
   "metadata": {},
   "outputs": [
    {
     "name": "stdout",
     "output_type": "stream",
     "text": [
      "num = 15\n",
      "[]\n",
      "min_heap after pushing: [15]\n",
      "num = 11\n",
      "[15]\n",
      "min_heap after pushing: [11, 15]\n",
      "num = 7\n",
      "[11, 15]\n",
      "min_heap after pushing: [7, 15, 11]\n",
      "num = 19\n",
      "[7, 15, 11]\n",
      "min_heap after pushing: [7, 15, 11, 19]\n",
      "num = 5\n",
      "[7, 15, 11, 19]\n",
      "min_heap after pushing: [5, 7, 11, 19, 15]\n",
      "min heap after popping :[7, 15, 11, 19]\n",
      "num = 3\n",
      "[7, 15, 11, 19]\n",
      "min_heap after pushing: [3, 7, 11, 19, 15]\n",
      "min heap after popping :[7, 15, 11, 19]\n"
     ]
    },
    {
     "data": {
      "text/plain": [
       "7"
      ]
     },
     "execution_count": 104,
     "metadata": {},
     "output_type": "execute_result"
    }
   ],
   "source": [
    "import heapq\n",
    "\n",
    "def kth_largest_heap(nums, k):\n",
    "    min_heap = []\n",
    "    for num in nums:\n",
    "        print (f\"num = {num}\")\n",
    "        print (min_heap)\n",
    "        heapq.heappush(min_heap, num)\n",
    "        print (f\"min_heap after pushing: {min_heap}\")\n",
    "        if len(min_heap) > k:\n",
    "            heapq.heappop(min_heap)\n",
    "            print (f\"min heap after popping :{min_heap}\")\n",
    "    return min_heap[0]\n",
    "\n",
    "kth_largest_heap ([15,11,7,19,5,3],4)\n"
   ]
  },
  {
   "cell_type": "markdown",
   "id": "af5120a1-17b0-4d4c-880e-34835e12e1bb",
   "metadata": {},
   "source": [
    "# 21. Find All Duplicates in a List\n",
    "## Problem Statement:\n",
    "Write a function to return a list of all duplicate elements.\n",
    "\n",
    "## Example 1:\n",
    "**Input:** `[1, 2, 3, 4, 2, 3, 5]`  \n",
    "**Output:** `[2, 3]`\n",
    "\n",
    "## Example 2:\n",
    "**Input:** `[10, 10, 20, 30, 30]`  \n",
    "**Output:** `[10, 30]`\n"
   ]
  },
  {
   "cell_type": "code",
   "execution_count": 85,
   "id": "611db358-0cf5-4c2c-b63a-331be040255e",
   "metadata": {},
   "outputs": [
    {
     "data": {
      "text/plain": [
       "[1, 2, 3]"
      ]
     },
     "execution_count": 85,
     "metadata": {},
     "output_type": "execute_result"
    }
   ],
   "source": [
    "def duplicates (x):\n",
    "    freq  = {}\n",
    "    duplicated = []\n",
    "    for number in x:\n",
    "        if number in freq:\n",
    "            freq[number] += freq[number] + 1\n",
    "        else:\n",
    "            freq[number] = 1\n",
    "    for key, value in freq.items():\n",
    "        if value > 1:\n",
    "            duplicated.append(key)\n",
    "    return duplicated\n",
    "\n",
    "duplicates ([1,2,3,4,2,3,5,1])\n",
    "\n",
    "\n",
    "\n"
   ]
  },
  {
   "cell_type": "markdown",
   "id": "b179dc25-37ab-471a-a357-6c90633751e6",
   "metadata": {},
   "source": [
    "# 22. Partition a List into Even and Odd Elements\n",
    "## Problem Statement:\n",
    "Write a function to split a list into two separate lists, one containing even numbers and the other containing odd numbers.\n",
    "\n",
    "## Example 1:\n",
    "**Input:** `[1, 2, 3, 4, 5]`  \n",
    "**Output:** `([2, 4], [1, 3, 5])`\n",
    "\n",
    "## Example 2:\n",
    "**Input:** `[10, 15, 20, 25]`  \n",
    "**Output:** `([10, 20], [15, 25])`\n"
   ]
  },
  {
   "cell_type": "code",
   "execution_count": 74,
   "id": "06437acb-825d-49d7-ae88-da2883ebd696",
   "metadata": {},
   "outputs": [
    {
     "data": {
      "text/plain": [
       "([2, 4, 6], [1, 3, 5, 7])"
      ]
     },
     "execution_count": 74,
     "metadata": {},
     "output_type": "execute_result"
    }
   ],
   "source": [
    "def even_odd_partition (x):\n",
    "    even = [number for number in x if number%2 == 0]\n",
    "    odd = [number for number in x if number%2 != 0]\n",
    "    return even,odd\n",
    "\n",
    "even_odd_partition ([1,2,3,4,5,6,7])\n"
   ]
  },
  {
   "cell_type": "markdown",
   "id": "b92d2695-51ec-4780-88f2-23f8f5591479",
   "metadata": {},
   "source": [
    "# 23. Find the First Non-Repeating Element in a List\n",
    "## Problem Statement:\n",
    "Write a function to find the first element that does not repeat.\n",
    "\n",
    "## Example 1:\n",
    "**Input:** `[4, 5, 1, 2, 0, 4]`  \n",
    "**Output:** `5`\n",
    "\n",
    "## Example 2:\n",
    "**Input:** `[10, 20, 10, 30, 20]`  \n",
    "**Output:** `30`\n"
   ]
  },
  {
   "cell_type": "code",
   "execution_count": 86,
   "id": "b9dfd48e-7d1f-4fdc-a66c-b260167a145c",
   "metadata": {},
   "outputs": [
    {
     "data": {
      "text/plain": [
       "30"
      ]
     },
     "execution_count": 86,
     "metadata": {},
     "output_type": "execute_result"
    }
   ],
   "source": [
    "def first_unique (x):\n",
    "    freq = {}\n",
    "    for number in x:\n",
    "        if number in freq:\n",
    "            freq[number] += freq[number]+1\n",
    "        else:\n",
    "            freq[number] = 1\n",
    "    for number in x:\n",
    "        if freq[number] == 1:\n",
    "            return number\n",
    "first_unique ([10,20,10,30,20])"
   ]
  },
  {
   "cell_type": "code",
   "execution_count": null,
   "id": "9796f7dd-192a-478d-84be-f06898fc96c8",
   "metadata": {},
   "outputs": [],
   "source": []
  },
  {
   "cell_type": "markdown",
   "id": "6fb71179-2ae6-456d-b25a-db10c57e5429",
   "metadata": {},
   "source": [
    "# 24. Sort a List Without Using Built-in Sort\n",
    "## Problem Statement:\n",
    "Write a function to sort a list in ascending order without using Python’s built-in sort.\n",
    "\n",
    "## Example 1:\n",
    "**Input:** `[3, 1, 4, 1, 5, 9]`  \n",
    "**Output:** `[1, 1, 3, 4, 5, 9]`\n",
    "\n",
    "## Example 2:\n",
    "**Input:** `[10, 5, 2, 8]`  \n",
    "**Output:** `[2, 5, 8, 10]`\n"
   ]
  },
  {
   "cell_type": "code",
   "execution_count": 26,
   "id": "0ad5b31f-b1c3-4273-bc7a-98c47b958911",
   "metadata": {},
   "outputs": [
    {
     "data": {
      "text/plain": [
       "[1, 1, 3, 4, 5, 9]"
      ]
     },
     "execution_count": 26,
     "metadata": {},
     "output_type": "execute_result"
    }
   ],
   "source": [
    "# bubble sort\n",
    "def bubble_sort (x):\n",
    "    for i in range (len(x)):\n",
    "        for j in range (i+1,len(x)):\n",
    "            if x[i] > x[j]:\n",
    "                x[i],x[j] = x[j],x[i]\n",
    "    return x\n",
    "\n",
    "bubble_sort ([3,1,4,1,5,9])\n",
    "\n"
   ]
  },
  {
   "cell_type": "code",
   "execution_count": 25,
   "id": "12685e9a-841e-4b2b-8cfb-7131b1e3c6f1",
   "metadata": {},
   "outputs": [
    {
     "data": {
      "text/plain": [
       "[1, 2, 3, 4, 5, 7, 11]"
      ]
     },
     "execution_count": 25,
     "metadata": {},
     "output_type": "execute_result"
    }
   ],
   "source": [
    "# merge sort \n",
    "def merge_sort(array):\n",
    "\n",
    "    def merge (left, right):\n",
    "        merged = []\n",
    "        i=j=0\n",
    "        while (i<len(left)) and (j<len(right)):\n",
    "            if left[i] <= right[j]:\n",
    "                merged.append(left[i])\n",
    "                i += 1\n",
    "            else:\n",
    "                merged.append(right[j])\n",
    "                j += 1\n",
    "        if j<len(right):\n",
    "            merged.extend (right[j:])\n",
    "        if i<len(left):\n",
    "            merged.extend (left[i:])\n",
    "        return merged\n",
    "        \n",
    "    if len(array) < 2:\n",
    "        return array\n",
    "    mid = len(array) //2\n",
    "    left_half = merge_sort(array[:mid])\n",
    "    right_half = merge_sort (array[mid:])\n",
    "\n",
    "    return merge (left_half, right_half)\n",
    "\n",
    "merge_sort ([11,2,5,4,3,7,1])\n",
    "\n"
   ]
  },
  {
   "cell_type": "code",
   "execution_count": 16,
   "id": "ea91735f",
   "metadata": {},
   "outputs": [
    {
     "name": "stdout",
     "output_type": "stream",
     "text": [
      "[1, 2, 3, 4, 4, 5, 6]\n"
     ]
    }
   ],
   "source": [
    "a = [1,2,3,4]\n",
    "b =[4,5,6]\n",
    "c = a+b\n",
    "print (c)"
   ]
  },
  {
   "cell_type": "markdown",
   "id": "37658f34-5781-4e84-b348-48b1c8f350cc",
   "metadata": {},
   "source": [
    "# 25. Find All Triplets That Sum to Zero\n",
    "## Problem Statement:\n",
    "Write a function to find all triplets in a list that sum to zero.\n",
    "\n",
    "## Example 1:\n",
    "**Input:** `[-1, 0, 1, 2, -1, -4]`  \n",
    "**Output:** `[[-1, -1, 2], [-1, 0, 1]]`\n",
    "\n",
    "## Example 2:\n",
    "**Input:** `[1, -2, 1, 0, 5]`  \n",
    "**Output:** `[[-2, 1, 1]]`\n"
   ]
  },
  {
   "cell_type": "code",
   "execution_count": 3,
   "id": "defa0f94-4681-499b-8aeb-8fc381308d05",
   "metadata": {},
   "outputs": [
    {
     "data": {
      "text/plain": [
       "[(1, 2, 3),\n",
       " (1, 2, 4),\n",
       " (1, 2, 5),\n",
       " (1, 3, 4),\n",
       " (1, 3, 5),\n",
       " (1, 4, 5),\n",
       " (2, 3, 4),\n",
       " (2, 3, 5),\n",
       " (2, 4, 5),\n",
       " (3, 4, 5)]"
      ]
     },
     "execution_count": 3,
     "metadata": {},
     "output_type": "execute_result"
    }
   ],
   "source": [
    "def triplets (x):\n",
    "    triplets = []\n",
    "    for i in range (len(x)):\n",
    "        for j in range (i+1,len(x)):\n",
    "            for k in range (j+1,len(x)):\n",
    "                triplet = (x[i],x[j],x[k])\n",
    "                triplets.append(triplet)\n",
    "    return triplets\n",
    "\n",
    "triplets ([1,2,3,4,5])"
   ]
  },
  {
   "cell_type": "code",
   "execution_count": 7,
   "id": "cce128fa-a380-467e-9251-b0449833e334",
   "metadata": {},
   "outputs": [
    {
     "data": {
      "text/plain": [
       "[(-1, 0, 1),\n",
       " (-1, 2, -1),\n",
       " (-1, 6, -5),\n",
       " (-1, -2, 3),\n",
       " (0, 1, -1),\n",
       " (0, 2, -2),\n",
       " (1, -4, 3),\n",
       " (2, 3, -5),\n",
       " (-1, 6, -5),\n",
       " (-1, -2, 3),\n",
       " (-4, 6, -2),\n",
       " (7, -2, -5)]"
      ]
     },
     "execution_count": 7,
     "metadata": {},
     "output_type": "execute_result"
    }
   ],
   "source": [
    "def zer_sum_triplets (x):\n",
    "    triplets = []\n",
    "    for i in range (len(x)):\n",
    "        for j in range (i+1,len(x)):\n",
    "            for k in range (j+1,len(x)):\n",
    "                if x[i]+x[j]+x[k] == 0:\n",
    "                    triplets.append((x[i],x[j],x[k]))\n",
    "    return triplets\n",
    "\n",
    "zer_sum_triplets ([-1, 0, 1, 2, -1, -4, 6, 7, -2, 3, 10, -5])"
   ]
  },
  {
   "cell_type": "code",
   "execution_count": null,
   "id": "55f0be4a-a7a1-4d9e-8388-6112e2968e43",
   "metadata": {},
   "outputs": [],
   "source": []
  }
 ],
 "metadata": {
  "kernelspec": {
   "display_name": "base",
   "language": "python",
   "name": "python3"
  },
  "language_info": {
   "codemirror_mode": {
    "name": "ipython",
    "version": 3
   },
   "file_extension": ".py",
   "mimetype": "text/x-python",
   "name": "python",
   "nbconvert_exporter": "python",
   "pygments_lexer": "ipython3",
   "version": "3.12.4"
  }
 },
 "nbformat": 4,
 "nbformat_minor": 5
}
