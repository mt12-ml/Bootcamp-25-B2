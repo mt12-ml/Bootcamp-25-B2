{
 "cells": [
  {
   "cell_type": "markdown",
   "id": "ae0ad9d2-1f51-46a1-8ed2-2b00ed414cc6",
   "metadata": {},
   "source": [
    "# 1. Reverse a String\n",
    "## Problem Statement:\n",
    "Write a function to reverse a given string.\n",
    "\n",
    "## Example 1:\n",
    "**Input:** `\"hello\"`  \n",
    "**Output:** `\"olleh\"`\n",
    "\n",
    "## Example 2:\n",
    "**Input:** `\"world\"`  \n",
    "**Output:** `\"dlrow\"`\n"
   ]
  },
  {
   "cell_type": "code",
   "execution_count": 1,
   "id": "e1435aa7-457c-4b05-ad71-fc7204bb88d7",
   "metadata": {},
   "outputs": [
    {
     "data": {
      "text/plain": [
       "'olleh'"
      ]
     },
     "execution_count": 1,
     "metadata": {},
     "output_type": "execute_result"
    }
   ],
   "source": [
    "def string_reverse (x):\n",
    "    return x[::-1]\n",
    "string_reverse('hello')"
   ]
  },
  {
   "cell_type": "code",
   "execution_count": null,
   "id": "1f15a4a5-58a6-4b21-b178-575c8b4790f2",
   "metadata": {},
   "outputs": [],
   "source": []
  },
  {
   "cell_type": "markdown",
   "id": "5a3927f5-6184-40a6-b3f8-34cd08ef19a1",
   "metadata": {},
   "source": [
    "# 2. Check if a String is a Palindrome\n",
    "## Problem Statement:\n",
    "Write a function to check if a string is a palindrome (same forward and backward).\n",
    "\n",
    "## Example 1:\n",
    "**Input:** `\"madam\"`  \n",
    "**Output:** `True`\n",
    "\n",
    "## Example 2:\n",
    "**Input:** `\"hello\"`  \n",
    "**Output:** `False`\n"
   ]
  },
  {
   "cell_type": "code",
   "execution_count": 7,
   "id": "e10e83ef-aacb-4764-9c1a-dc28c3d0b3df",
   "metadata": {},
   "outputs": [
    {
     "data": {
      "text/plain": [
       "True"
      ]
     },
     "execution_count": 7,
     "metadata": {},
     "output_type": "execute_result"
    }
   ],
   "source": [
    "def is_palindrome (x):\n",
    "    reversed = x[::-1]\n",
    "    if reversed == x:\n",
    "        return True\n",
    "    else:\n",
    "        return False\n",
    "is_palindrome (\"madam\")"
   ]
  },
  {
   "cell_type": "markdown",
   "id": "58b59720-7688-43eb-b24d-d886c3b3c809",
   "metadata": {},
   "source": [
    "# 3. Count the Number of Vowels in a String\n",
    "## Problem Statement:\n",
    "Write a function to count the number of vowels in a given string.\n",
    "\n",
    "## Example 1:\n",
    "**Input:** `\"apple\"`  \n",
    "**Output:** `2`\n",
    "\n",
    "## Example 2:\n",
    "**Input:** `\"banana\"`  \n",
    "**Output:** `3`\n"
   ]
  },
  {
   "cell_type": "code",
   "execution_count": 17,
   "id": "cc7ada12-76e0-4759-87ee-31224446fdd7",
   "metadata": {},
   "outputs": [
    {
     "name": "stdout",
     "output_type": "stream",
     "text": [
      "i love machine learnin: 9 vowels\n",
      "banana : 3 vowels\n"
     ]
    }
   ],
   "source": [
    "def count_vowels (string:str):\n",
    "    count = 0\n",
    "    for character in string:\n",
    "        if character in ['a','e','i','o','u']:\n",
    "            count += 1\n",
    "    return count\n",
    "    \n",
    "print (f\"i love machine learnin: {count_vowels('i love machine learning')} vowels\")\n",
    "print (f\"banana : {count_vowels('banana')} vowels\")"
   ]
  },
  {
   "cell_type": "code",
   "execution_count": null,
   "id": "6ad075be-9c42-41d2-be73-ac5760653656",
   "metadata": {},
   "outputs": [],
   "source": []
  },
  {
   "cell_type": "markdown",
   "id": "abcbec6f-e9e9-4238-8130-b4313c2357cc",
   "metadata": {},
   "source": [
    "# 4. Remove All Whitespace from a String\n",
    "## Problem Statement:\n",
    "Write a function that removes all whitespace characters from a string.\n",
    "\n",
    "## Example 1:\n",
    "**Input:** `\"hello world\"`  \n",
    "**Output:** `\"helloworld\"`\n",
    "\n",
    "## Example 2:\n",
    "**Input:** `\" Python  is  fun \"`  \n",
    "**Output:** `\"Pythonisfun\"`\n"
   ]
  },
  {
   "cell_type": "code",
   "execution_count": 21,
   "id": "59152c0f-cc53-4319-8b61-7bfa739a35a9",
   "metadata": {},
   "outputs": [
    {
     "name": "stdout",
     "output_type": "stream",
     "text": [
      "pythonisfun\n",
      "helloworld\n"
     ]
    }
   ],
   "source": [
    "def remove_whitespace (x):\n",
    "    return ''.join(x.split())\n",
    "\n",
    "print (remove_whitespace (\"python is fun\"))\n",
    "print (remove_whitespace (\"hello world\"))"
   ]
  },
  {
   "cell_type": "code",
   "execution_count": null,
   "id": "c0feb715-5555-4882-b4d5-862addfc2e83",
   "metadata": {},
   "outputs": [],
   "source": []
  },
  {
   "cell_type": "markdown",
   "id": "7a8010ed-0bbf-42c3-82c3-46b175c6e8af",
   "metadata": {},
   "source": [
    "# 5. Find the First Non-Repeating Character in a String\n",
    "## Problem Statement:\n",
    "Write a function to find the first non-repeating character in a given string.\n",
    "\n",
    "## Example 1:\n",
    "**Input:** `\"swiss\"`  \n",
    "**Output:** `\"w\"`\n",
    "\n",
    "## Example 2:\n",
    "**Input:** `\"racecar\"`  \n",
    "**Output:** `\"e\"`\n"
   ]
  },
  {
   "cell_type": "code",
   "execution_count": 27,
   "id": "4aca409d-99fa-43bc-814c-9d93d54507ad",
   "metadata": {},
   "outputs": [
    {
     "name": "stdout",
     "output_type": "stream",
     "text": [
      "e\n",
      "w\n"
     ]
    }
   ],
   "source": [
    "def first_nrc (x):\n",
    "    count = {}\n",
    "    for char in x:\n",
    "        count[char] = count.get(char,0)+1\n",
    "    for char in x:\n",
    "        if count[char] == 1:\n",
    "            return char\n",
    "    return None\n",
    "\n",
    "print (first_nrc (\"racecar\"))\n",
    "print (first_nrc (\"swiss\"))\n",
    "        "
   ]
  },
  {
   "cell_type": "code",
   "execution_count": null,
   "id": "728943f8-b9cd-45ca-9c54-4698ea06ade7",
   "metadata": {},
   "outputs": [],
   "source": []
  },
  {
   "cell_type": "markdown",
   "id": "d3b7ea00-ba1f-46ed-b122-bb6b7cac074f",
   "metadata": {},
   "source": [
    "# 6. Check if Two Strings are Anagrams\n",
    "## Problem Statement:\n",
    "Write a function to check if two strings are anagrams.\n",
    "\n",
    "## Example 1:\n",
    "**Input:** `\"listen\", \"silent\"`  \n",
    "**Output:** `True`\n",
    "\n",
    "## Example 2:\n",
    "**Input:** `\"hello\", \"world\"`  \n",
    "**Output:** `False`\n"
   ]
  },
  {
   "cell_type": "code",
   "execution_count": 35,
   "id": "3b2c05e5-a7df-476b-9061-f7df9c3539d2",
   "metadata": {},
   "outputs": [
    {
     "name": "stdout",
     "output_type": "stream",
     "text": [
      "True\n",
      "False\n",
      "True\n"
     ]
    }
   ],
   "source": [
    "def are_anagrams (x1,x2):\n",
    "    if ''.join(sorted(x1)) == ''.join(sorted(x2)):\n",
    "        return True\n",
    "    else:\n",
    "        return False\n",
    "        \n",
    "print (are_anagrams (\"listen\",\"silent\"))\n",
    "print (are_anagrams (\"hello\",\"world\"))\n",
    "print (are_anagrams (\"wod\",\"dow\"))"
   ]
  },
  {
   "cell_type": "markdown",
   "id": "3989dfe4-ab68-419d-9042-877f37ede653",
   "metadata": {},
   "source": [
    "# 7. Convert a String to Uppercase\n",
    "## Problem Statement:\n",
    "Write a function to convert a string to uppercase.\n",
    "\n",
    "## Example 1:\n",
    "**Input:** `\"python\"`  \n",
    "**Output:** `\"PYTHON\"`\n",
    "\n",
    "## Example 2:\n",
    "**Input:** `\"Hello World\"`  \n",
    "**Output:** `\"HELLO WORLD\"`\n"
   ]
  },
  {
   "cell_type": "code",
   "execution_count": 37,
   "id": "163d0c7c-d95c-48f5-9f57-a6415fe19099",
   "metadata": {},
   "outputs": [
    {
     "name": "stdout",
     "output_type": "stream",
     "text": [
      "PYTHON\n",
      "HELLO WORLD\n"
     ]
    }
   ],
   "source": [
    "def uppercase (x):\n",
    "    return x.upper()\n",
    "\n",
    "print (uppercase (\"python\"))\n",
    "print (uppercase (\"hello world\"))"
   ]
  },
  {
   "cell_type": "code",
   "execution_count": null,
   "id": "aaf4bac8-2992-489f-90fe-a6321edc64c4",
   "metadata": {},
   "outputs": [],
   "source": []
  },
  {
   "cell_type": "markdown",
   "id": "d9101758-0867-41e5-b4a0-a71db20536ae",
   "metadata": {},
   "source": [
    "# 8. Find the Most Frequent Character in a String\n",
    "## Problem Statement:\n",
    "Write a function to find the most frequently occurring character in a string.\n",
    "\n",
    "## Example 1:\n",
    "**Input:** `\"banana\"`  \n",
    "**Output:** `\"a\"`\n",
    "\n",
    "## Example 2:\n",
    "**Input:** `\"mississippi\"`  \n",
    "**Output:** `\"i\"`\n"
   ]
  },
  {
   "cell_type": "code",
   "execution_count": 50,
   "id": "9cb62d0a-3b5d-4271-8091-ad6e666acd2a",
   "metadata": {},
   "outputs": [
    {
     "data": {
      "text/plain": [
       "['a']"
      ]
     },
     "execution_count": 50,
     "metadata": {},
     "output_type": "execute_result"
    }
   ],
   "source": [
    "def most_freq_char (x):\n",
    "    count = {}\n",
    "    for char in x:\n",
    "        count[char] = count.get(char,0) + 1\n",
    "    max_count = max(count.values())\n",
    "    most_frequent_characters = [char for char, freq in count.items() if freq  == max_count]\n",
    "    return most_frequent_characters\n",
    "    \n",
    "most_freq_char (\"banana\")"
   ]
  },
  {
   "cell_type": "code",
   "execution_count": null,
   "id": "8934605e-f2d2-49ab-a77e-2fb406d85d79",
   "metadata": {},
   "outputs": [],
   "source": []
  },
  {
   "cell_type": "markdown",
   "id": "b23de210-f0d4-4e2d-ab9a-aa853e471a15",
   "metadata": {},
   "source": [
    "# 9. Check if a String Contains Only Digits\n",
    "## Problem Statement:\n",
    "Write a function to check if a string contains only digits.\n",
    "\n",
    "## Example 1:\n",
    "**Input:** `\"12345\"`  \n",
    "**Output:** `True`\n",
    "\n",
    "## Example 2:\n",
    "**Input:** `\"12a45\"`  \n",
    "**Output:** `False`\n"
   ]
  },
  {
   "cell_type": "code",
   "execution_count": 53,
   "id": "419f05a0-3648-4ef3-badf-0cdd35869ec1",
   "metadata": {},
   "outputs": [
    {
     "name": "stdout",
     "output_type": "stream",
     "text": [
      "True\n",
      "False\n"
     ]
    }
   ],
   "source": [
    "def only_digits (x):\n",
    "    return x.isdigit()\n",
    "    \n",
    "print (only_digits (\"12345\"))\n",
    "print (only_digits (\"123a45\"))"
   ]
  },
  {
   "cell_type": "code",
   "execution_count": null,
   "id": "8c3e49f1-defd-4b0d-8321-6517e6917795",
   "metadata": {},
   "outputs": [],
   "source": []
  },
  {
   "cell_type": "markdown",
   "id": "f9d2b183-d1aa-446d-a449-90d3375f7c53",
   "metadata": {},
   "source": [
    "# 10. Find the Length of the Longest Word in a Sentence\n",
    "## Problem Statement:\n",
    "Write a function to find the length of the longest word in a sentence.\n",
    "\n",
    "## Example 1:\n",
    "**Input:** `\"The quick brown fox\"`  \n",
    "**Output:** `5`\n",
    "\n",
    "## Example 2:\n",
    "**Input:** `\"A journey of a thousand miles\"`  \n",
    "**Output:** `8`\n"
   ]
  },
  {
   "cell_type": "code",
   "execution_count": 62,
   "id": "0ed5e962-f5dd-4e91-85e2-0cd0e9fcdf84",
   "metadata": {},
   "outputs": [
    {
     "data": {
      "text/plain": [
       "8"
      ]
     },
     "execution_count": 62,
     "metadata": {},
     "output_type": "execute_result"
    }
   ],
   "source": [
    "def longest_word (sentence):\n",
    "    \n",
    "    words = sentence.split()\n",
    "    word_lengths = {}\n",
    "    \n",
    "    for word in words:\n",
    "        word_lengths[word] = len(word)\n",
    "        \n",
    "    max_length = max(word_lengths.values())\n",
    "    \n",
    "    return max_length\n",
    "\n",
    "longest_word (\"a journeys of a thousand miles\")  \n",
    "    "
   ]
  },
  {
   "cell_type": "code",
   "execution_count": null,
   "id": "6a62f30a-81ee-405a-89c5-560f88ed25fe",
   "metadata": {},
   "outputs": [],
   "source": []
  },
  {
   "cell_type": "markdown",
   "id": "3499119b-b83a-4e89-b68e-db215e943998",
   "metadata": {},
   "source": [
    "# 11. Replace Spaces with '%20' (URL Encoding)\n",
    "## Problem Statement:\n",
    "Write a function to replace all spaces in a string with `%20`.\n",
    "\n",
    "## Example 1:\n",
    "**Input:** `\"Mr John Smith\"`  \n",
    "**Output:** `\"Mr%20John%20Smith\"`\n",
    "\n",
    "## Example 2:\n",
    "**Input:** `\"Hello World\"`  \n",
    "**Output:** `\"Hello%20World\"`\n"
   ]
  },
  {
   "cell_type": "code",
   "execution_count": 63,
   "id": "c1b7b110-7076-4e47-9690-b99de5ffd695",
   "metadata": {},
   "outputs": [
    {
     "data": {
      "text/plain": [
       "'Mr%20John%20Smith'"
      ]
     },
     "execution_count": 63,
     "metadata": {},
     "output_type": "execute_result"
    }
   ],
   "source": [
    "def replace_spaces(s):\n",
    "    return s.replace(\" \", \"%20\")\n",
    "\n",
    "replace_spaces (\"Mr John Smith\")\n"
   ]
  },
  {
   "cell_type": "code",
   "execution_count": null,
   "id": "b94611fe-6fb7-4edf-9954-176d45889f5b",
   "metadata": {},
   "outputs": [],
   "source": []
  },
  {
   "cell_type": "markdown",
   "id": "59196fe4-763d-4d23-a941-6f17ce59481a",
   "metadata": {},
   "source": [
    "# 12. Find All Substrings of a String\n",
    "## Problem Statement:\n",
    "Write a function to return all substrings of a given string.\n",
    "\n",
    "## Example 1:\n",
    "**Input:** `\"abc\"`  \n",
    "**Output:** `[\"a\", \"b\", \"c\", \"ab\", \"bc\", \"abc\"]`\n",
    "\n",
    "## Example 2:\n",
    "**Input:** `\"xyz\"`  \n",
    "**Output:** `[\"x\", \"y\", \"z\", \"xy\", \"yz\", \"xyz\"]`\n"
   ]
  },
  {
   "cell_type": "code",
   "execution_count": 65,
   "id": "743c4c58-3950-427f-8c0b-bd4e3eda5fa8",
   "metadata": {},
   "outputs": [
    {
     "data": {
      "text/plain": [
       "['a', 'ab', 'abc', 'b', 'bc', 'c']"
      ]
     },
     "execution_count": 65,
     "metadata": {},
     "output_type": "execute_result"
    }
   ],
   "source": [
    "def get_all_substrings(s):\n",
    "    \n",
    "    substrings = []\n",
    "    n = len(s)\n",
    "    \n",
    "    for i in range(n):\n",
    "        for j in range(i + 1, n + 1):\n",
    "            substrings.append(s[i:j])\n",
    "    \n",
    "    return substrings\n",
    "\n",
    "get_all_substrings (\"abc\")"
   ]
  },
  {
   "cell_type": "code",
   "execution_count": null,
   "id": "993ed2a1-22ea-41ab-aeec-da5d494b8561",
   "metadata": {},
   "outputs": [],
   "source": []
  },
  {
   "cell_type": "markdown",
   "id": "08cca7f3-0462-4e37-883e-4850ac7d9b4a",
   "metadata": {},
   "source": [
    "# 13. Reverse Each Word in a Sentence\n",
    "## Problem Statement:\n",
    "Write a function to reverse each word in a sentence while maintaining word order.\n",
    "\n",
    "## Example 1:\n",
    "**Input:** `\"hello world\"`  \n",
    "**Output:** `\"olleh dlrow\"`\n",
    "\n",
    "## Example 2:\n",
    "**Input:** `\"Python is fun\"`  \n",
    "**Output:** `\"nohtyP si nuf\"`\n"
   ]
  },
  {
   "cell_type": "code",
   "execution_count": 81,
   "id": "53eab569-3ea4-4e48-a585-6f729c5e2c69",
   "metadata": {},
   "outputs": [
    {
     "data": {
      "text/plain": [
       "'olleh dlrow '"
      ]
     },
     "execution_count": 81,
     "metadata": {},
     "output_type": "execute_result"
    }
   ],
   "source": [
    "def reverse_words (sentence):\n",
    "    reversed_sentence = \"\"\n",
    "    words = sentence.split()\n",
    "    for word in words:\n",
    "        reversed_sentence = reversed_sentence + word[::-1] + \" \"\n",
    "    return reversed_sentence\n",
    "    \n",
    "reverse_words (\"hello world\")"
   ]
  },
  {
   "cell_type": "code",
   "execution_count": null,
   "id": "72bba1ec-96c7-41b3-976f-f8dbdbc8cec9",
   "metadata": {},
   "outputs": [],
   "source": []
  },
  {
   "cell_type": "markdown",
   "id": "c52682bf-2f05-4515-acce-192b91883858",
   "metadata": {},
   "source": [
    "# 14. Find the Longest Common Prefix of a List of Strings\n",
    "## Problem Statement:\n",
    "Write a function to find the longest common prefix among a list of strings.\n",
    "\n",
    "## Example 1:\n",
    "**Input:** `[\"flower\", \"flow\", \"flight\"]`  \n",
    "**Output:** `\"fl\"`\n",
    "\n",
    "## Example 2:\n",
    "**Input:** `[\"dog\", \"racecar\", \"car\"]`  \n",
    "**Output:** `\"\"`\n"
   ]
  },
  {
   "cell_type": "code",
   "execution_count": 85,
   "id": "c326e4fd-7ad6-4d3e-9bd9-f5b28114eeff",
   "metadata": {},
   "outputs": [
    {
     "data": {
      "text/plain": [
       "'fl'"
      ]
     },
     "execution_count": 85,
     "metadata": {},
     "output_type": "execute_result"
    }
   ],
   "source": [
    "def longest_common_prefix(strs):\n",
    "    if not strs:\n",
    "        return \"\"\n",
    "        \n",
    "    prefix = strs[0]\n",
    "\n",
    "    for s in strs[1:]:\n",
    "        while not s.startswith(prefix):\n",
    "            prefix = prefix[:-1]\n",
    "            if not prefix:\n",
    "                return \"\"\n",
    "    \n",
    "    return prefix\n",
    "\n",
    "longest_common_prefix ([\"flower\",\"flow\",\"flight\"])"
   ]
  },
  {
   "cell_type": "code",
   "execution_count": null,
   "id": "353a8f44-2487-4cc5-8c4a-0e24e8148a22",
   "metadata": {},
   "outputs": [],
   "source": []
  },
  {
   "cell_type": "markdown",
   "id": "b90c467f-001e-4a93-bfff-08bba1a3f703",
   "metadata": {},
   "source": [
    "# 15. Check if a String is a Rotation of Another String\n",
    "## Problem Statement:\n",
    "Write a function to check if one string is a rotation of another.\n",
    "\n",
    "## Example 1:\n",
    "**Input:** `\"waterbottle\", \"erbottlewat\"`  \n",
    "**Output:** `True`\n",
    "\n",
    "## Example 2:\n",
    "**Input:** `\"hello\", \"lohel\"`  \n",
    "**Output:** `True`\n"
   ]
  },
  {
   "cell_type": "code",
   "execution_count": 88,
   "id": "dcf4c6e8-8192-4cff-8d48-9226448d0ff2",
   "metadata": {},
   "outputs": [
    {
     "data": {
      "text/plain": [
       "True"
      ]
     },
     "execution_count": 88,
     "metadata": {},
     "output_type": "execute_result"
    }
   ],
   "source": [
    "def is_rotation(s1, s2):\n",
    "    if len(s1) != len(s2):\n",
    "        return False\n",
    "    return s2 in (s1 + s1)\n",
    "\n",
    "is_rotation (\"waterbottle\",\"erbottlewat\")"
   ]
  },
  {
   "cell_type": "code",
   "execution_count": null,
   "id": "f8e70c6b-a474-4c93-82fc-e39811a5f637",
   "metadata": {},
   "outputs": [],
   "source": []
  },
  {
   "cell_type": "markdown",
   "id": "06d7a3d1-e01d-483d-95a9-30330f21440c",
   "metadata": {},
   "source": [
    "# 16. Find the Second Most Frequent Character in a String\n",
    "## Problem Statement:\n",
    "Write a function to find the second most frequent character in a string.\n",
    "\n",
    "## Example 1:\n",
    "**Input:** `\"banana\"`  \n",
    "**Output:** `\"n\"`\n",
    "\n",
    "## Example 2:\n",
    "**Input:** `\"mississippi\"`  \n",
    "**Output:** `\"s\"`\n"
   ]
  },
  {
   "cell_type": "code",
   "execution_count": 93,
   "id": "65a91520-9d70-4dc4-990a-931223a98b52",
   "metadata": {},
   "outputs": [
    {
     "data": {
      "text/plain": [
       "'n'"
      ]
     },
     "execution_count": 93,
     "metadata": {},
     "output_type": "execute_result"
    }
   ],
   "source": [
    "def second_most_frequent_char(s):\n",
    "    \n",
    "    freq = {}\n",
    "    for char in s:\n",
    "        if char in freq:\n",
    "            freq[char] += 1\n",
    "        else:\n",
    "            freq[char] = 1\n",
    "\n",
    "    sorted_chars = sorted(freq.items(), key=lambda x: x[1], reverse=True)\n",
    "\n",
    "    if len(sorted_chars) < 2:\n",
    "        return None  \n",
    "\n",
    "    return sorted_chars[1][0]\n",
    "\n",
    "second_most_frequent_char (\"banana\")"
   ]
  },
  {
   "cell_type": "code",
   "execution_count": null,
   "id": "2fba47a2-7db0-4fc0-9895-e157412acb93",
   "metadata": {},
   "outputs": [],
   "source": []
  },
  {
   "cell_type": "markdown",
   "id": "d262dac7-f41e-400d-bfd0-ea5057f5c922",
   "metadata": {},
   "source": [
    "# 17. Check if a String is Made of Unique Characters\n",
    "## Problem Statement:\n",
    "Write a function to check if a string contains only unique characters.\n",
    "\n",
    "## Example 1:\n",
    "**Input:** `\"abcdef\"`  \n",
    "**Output:** `True`\n",
    "\n",
    "## Example 2:\n",
    "**Input:** `\"aabbcc\"`  \n",
    "**Output:** `False`\n"
   ]
  },
  {
   "cell_type": "code",
   "execution_count": 96,
   "id": "253be31b-7673-4b81-95e9-cb1cd09c48fb",
   "metadata": {},
   "outputs": [
    {
     "data": {
      "text/plain": [
       "True"
      ]
     },
     "execution_count": 96,
     "metadata": {},
     "output_type": "execute_result"
    }
   ],
   "source": [
    "def has_unique_characters(s):\n",
    "    return len(set(s)) == len(s)\n",
    "\n",
    "has_unique_characters (\"abcdef\")"
   ]
  },
  {
   "cell_type": "code",
   "execution_count": null,
   "id": "80463995-b332-445c-9ed8-201e2e2caf7f",
   "metadata": {},
   "outputs": [],
   "source": []
  },
  {
   "cell_type": "markdown",
   "id": "739f0939-b81a-45d4-8cd2-d0659268711c",
   "metadata": {},
   "source": [
    "# 18. Find the Longest Palindromic Substring\n",
    "## Problem Statement:\n",
    "Write a function to find the longest palindromic substring.\n",
    "\n",
    "## Example 1:\n",
    "**Input:** `\"babad\"`  \n",
    "**Output:** `\"bab\"`\n",
    "\n",
    "## Example 2:\n",
    "**Input:** `\"cbbd\"`  \n",
    "**Output:** `\"bb\"`\n"
   ]
  },
  {
   "cell_type": "code",
   "execution_count": 99,
   "id": "dd923018-aa4a-4cb2-98e0-6628d8b3b400",
   "metadata": {},
   "outputs": [
    {
     "data": {
      "text/plain": [
       "'bab'"
      ]
     },
     "execution_count": 99,
     "metadata": {},
     "output_type": "execute_result"
    }
   ],
   "source": [
    "def longest_palindromic_substring(s):\n",
    "\n",
    "    T = '#'.join('^{}$'.format(s))  \n",
    "    n = len(T)\n",
    "    P = [0] * n  \n",
    "    center = right = 0\n",
    "\n",
    "    for i in range(1, n - 1):\n",
    "        mirror = 2 * center - i \n",
    "\n",
    "        if i < right:\n",
    "            P[i] = min(right - i, P[mirror])\n",
    "        \n",
    "        while T[i + P[i] + 1] == T[i - P[i] - 1]:\n",
    "            P[i] += 1\n",
    "        \n",
    "        if i + P[i] > right:\n",
    "            center, right = i, i + P[i]\n",
    "\n",
    "    max_len = max(P)\n",
    "    center_index = P.index(max_len)\n",
    "    start = (center_index - max_len) // 2  \n",
    "    return s[start: start + max_len]\n",
    "\n",
    "longest_palindromic_substring (\"babad\")\n"
   ]
  },
  {
   "cell_type": "code",
   "execution_count": null,
   "id": "02c1d0bc-c2b1-433e-a610-4d621d65e934",
   "metadata": {},
   "outputs": [],
   "source": []
  },
  {
   "cell_type": "markdown",
   "id": "9e48cf7b-b799-4574-984c-51fc15661b16",
   "metadata": {},
   "source": [
    "# 19. Remove Duplicate Characters from a String\n",
    "## Problem Statement:\n",
    "Write a function to remove duplicate characters from a string.\n",
    "\n",
    "## Example 1:\n",
    "**Input:** `\"hello\"`  \n",
    "**Output:** `\"helo\"`\n",
    "\n",
    "## Example 2:\n",
    "**Input:** `\"mississippi\"`  \n",
    "**Output:** `\"misp\"`\n"
   ]
  },
  {
   "cell_type": "code",
   "execution_count": 100,
   "id": "932536b6-b58c-47d8-897e-10aba10d5654",
   "metadata": {},
   "outputs": [
    {
     "data": {
      "text/plain": [
       "'helo'"
      ]
     },
     "execution_count": 100,
     "metadata": {},
     "output_type": "execute_result"
    }
   ],
   "source": [
    "def remove_duplicates(s):\n",
    "    seen = set()\n",
    "    result = \"\"\n",
    "    for char in s:\n",
    "        if char not in seen:\n",
    "            seen.add(char)\n",
    "            result += char\n",
    "    return result\n",
    "\n",
    "remove_duplicates (\"hello\")"
   ]
  },
  {
   "cell_type": "code",
   "execution_count": null,
   "id": "ec288297-0e2a-4465-898b-39c002bed301",
   "metadata": {},
   "outputs": [],
   "source": []
  },
  {
   "cell_type": "markdown",
   "id": "a9abec9d-c0c3-4425-a1c6-e42342e3757a",
   "metadata": {},
   "source": [
    "# 20. Sort a String Alphabetically\n",
    "## Problem Statement:\n",
    "Write a function to sort the characters of a string alphabetically.\n",
    "\n",
    "## Example 1:\n",
    "**Input:** `\"hello\"`  \n",
    "**Output:** `\"ehllo\"`\n",
    "\n",
    "## Example 2:\n",
    "**Input:** `\"python\"`  \n",
    "**Output:** `\"hnopty\"`\n"
   ]
  },
  {
   "cell_type": "code",
   "execution_count": 103,
   "id": "9b881c5a-7e0c-4785-a2d6-f700725fad3d",
   "metadata": {},
   "outputs": [
    {
     "data": {
      "text/plain": [
       "'ehllo'"
      ]
     },
     "execution_count": 103,
     "metadata": {},
     "output_type": "execute_result"
    }
   ],
   "source": [
    "def alphabetical_sorting (x):\n",
    "    return ''.join(sorted (x))\n",
    "    \n",
    "alphabetical_sorting (\"hello\")"
   ]
  },
  {
   "cell_type": "code",
   "execution_count": null,
   "id": "4f23c52f-0cb4-4dc7-a06d-be464656fda3",
   "metadata": {},
   "outputs": [],
   "source": []
  },
  {
   "cell_type": "markdown",
   "id": "f267b2f8-c7f6-4295-a7b0-c89af5cf5807",
   "metadata": {},
   "source": [
    "# 21. Find the Smallest Window in a String Containing All Characters of Another String\n",
    "## Problem Statement:\n",
    "Write a function to find the smallest window in a string that contains all characters of another string.\n",
    "\n",
    "## Example 1:\n",
    "**Input:** `\"ADOBECODEBANC\", \"ABC\"`  \n",
    "**Output:** `\"BANC\"`\n",
    "\n",
    "## Example 2:\n",
    "**Input:** `\"aabbcc\", \"abc\"`  \n",
    "**Output:** `\"abc\"`\n"
   ]
  },
  {
   "cell_type": "code",
   "execution_count": 105,
   "id": "8145837e-3cc3-43a5-9875-f955033aaf09",
   "metadata": {},
   "outputs": [
    {
     "data": {
      "text/plain": [
       "'BANC'"
      ]
     },
     "execution_count": 105,
     "metadata": {},
     "output_type": "execute_result"
    }
   ],
   "source": [
    "def min_window(s, t):\n",
    "    from collections import Counter\n",
    "\n",
    "    if not s or not t:\n",
    "        return \"\"\n",
    "\n",
    "    target_count = Counter(t)\n",
    "    required = len(target_count)\n",
    "\n",
    "    left = 0\n",
    "    formed = 0\n",
    "    window_count = {}\n",
    "    min_len = float('inf')\n",
    "    min_window_start = 0\n",
    "\n",
    "    for right in range(len(s)):\n",
    "        char = s[right]\n",
    "        window_count[char] = window_count.get(char, 0) + 1\n",
    "\n",
    "        if char in target_count and window_count[char] == target_count[char]:\n",
    "            formed += 1\n",
    "\n",
    "        while formed == required:\n",
    "            if right - left + 1 < min_len:\n",
    "                min_len = right - left + 1\n",
    "                min_window_start = left\n",
    "\n",
    "            left_char = s[left]\n",
    "            window_count[left_char] -= 1\n",
    "            if left_char in target_count and window_count[left_char] < target_count[left_char]:\n",
    "                formed -= 1\n",
    "            left += 1\n",
    "\n",
    "    if min_len == float('inf'):\n",
    "        return \"\"\n",
    "    else:\n",
    "        return s[min_window_start:min_window_start + min_len]\n",
    "min_window (\"ADOBECODEBANC\", \"ABC\")\n"
   ]
  },
  {
   "cell_type": "code",
   "execution_count": null,
   "id": "08fc97e2-2eee-4b3f-850c-59e547121d25",
   "metadata": {},
   "outputs": [],
   "source": []
  },
  {
   "cell_type": "markdown",
   "id": "823be7b2-27f6-40df-82b2-f1f2b69bc1cb",
   "metadata": {},
   "source": [
    "# 22. Implement Run-Length Encoding\n",
    "## Problem Statement:\n",
    "Write a function to perform run-length encoding on a string.\n",
    "\n",
    "## Example 1:\n",
    "**Input:** `\"aaabbc\"`  \n",
    "**Output:** `\"3a2b1c\"`\n",
    "\n",
    "## Example 2:\n",
    "**Input:** `\"wwwwaaadexxxxxx\"`  \n",
    "**Output:** `\"4w3a1d1e6x\"`\n"
   ]
  },
  {
   "cell_type": "code",
   "execution_count": 106,
   "id": "e127c6b1-57fd-40cb-aac5-9e07cef586d2",
   "metadata": {},
   "outputs": [
    {
     "data": {
      "text/plain": [
       "'3a2b1c'"
      ]
     },
     "execution_count": 106,
     "metadata": {},
     "output_type": "execute_result"
    }
   ],
   "source": [
    "def run_length_encode(s):\n",
    "    if not s:\n",
    "        return \"\"\n",
    "\n",
    "    result = \"\"\n",
    "    count = 1\n",
    "\n",
    "    for i in range(1, len(s)):\n",
    "        if s[i] == s[i - 1]:\n",
    "            count += 1\n",
    "        else:\n",
    "            result += str(count) + s[i - 1]\n",
    "            count = 1\n",
    "\n",
    "    # Add the last group\n",
    "    result += str(count) + s[-1]\n",
    "    return result\n",
    "\n",
    "run_length_encode (\"aaabbc\")"
   ]
  },
  {
   "cell_type": "code",
   "execution_count": null,
   "id": "3470d46e-444c-43be-b517-730824de2300",
   "metadata": {},
   "outputs": [],
   "source": []
  },
  {
   "cell_type": "markdown",
   "id": "fbe98b17-13c7-4f56-93db-d8056113af31",
   "metadata": {},
   "source": [
    "# 23. Find All Permutations of a String\n",
    "## Problem Statement:\n",
    "Write a function to generate all permutations of a given string.\n",
    "\n",
    "## Example 1:\n",
    "**Input:** `\"abc\"`  \n",
    "**Output:** `[\"abc\", \"acb\", \"bac\", \"bca\", \"cab\", \"cba\"]`\n",
    "\n",
    "## Example 2:\n",
    "**Input:** `\"ab\"`  \n",
    "**Output:** `[\"ab\", \"ba\"]`\n"
   ]
  },
  {
   "cell_type": "code",
   "execution_count": 108,
   "id": "101a8feb-61e0-4a97-a122-f5de229e6817",
   "metadata": {},
   "outputs": [
    {
     "data": {
      "text/plain": [
       "['abc', 'acb', 'bac', 'bca', 'cab', 'cba']"
      ]
     },
     "execution_count": 108,
     "metadata": {},
     "output_type": "execute_result"
    }
   ],
   "source": [
    "def get_permutations(s):\n",
    "    if len(s) <= 1:\n",
    "        return [s]\n",
    "\n",
    "    permutations = []\n",
    "    for i, char in enumerate(s):\n",
    "        remaining = s[:i] + s[i+1:]\n",
    "        for perm in get_permutations(remaining):\n",
    "            permutations.append(char + perm)\n",
    "\n",
    "    return permutations\n",
    "\n",
    "get_permutations (\"abc\")"
   ]
  },
  {
   "cell_type": "code",
   "execution_count": null,
   "id": "ff510bea-3648-446b-93c8-aa5246b38c50",
   "metadata": {},
   "outputs": [],
   "source": []
  },
  {
   "cell_type": "markdown",
   "id": "1064221e-a51f-46b1-afea-c37505d3b68b",
   "metadata": {},
   "source": [
    "# 24. Count the Number of Distinct Subsequences of a String\n",
    "## Problem Statement:\n",
    "Write a function to count the number of distinct subsequences of a string.\n",
    "\n",
    "## Example 1:\n",
    "**Input:** `\"abc\"`  \n",
    "**Output:** `7`\n",
    "\n",
    "## Example 2:\n",
    "**Input:** `\"aaa\"`  \n",
    "**Output:** `3`\n"
   ]
  },
  {
   "cell_type": "code",
   "execution_count": 109,
   "id": "fb9c8ffe-7045-446c-9033-c88601f25969",
   "metadata": {},
   "outputs": [
    {
     "data": {
      "text/plain": [
       "7"
      ]
     },
     "execution_count": 109,
     "metadata": {},
     "output_type": "execute_result"
    }
   ],
   "source": [
    "def count_distinct_subsequences(s):\n",
    "    n = len(s)\n",
    "    dp = [0] * (n + 1)\n",
    "    dp[0] = 1  \n",
    "\n",
    "    last_seen = {} \n",
    "\n",
    "    for i in range(1, n + 1):\n",
    "        dp[i] = 2 * dp[i - 1]  \n",
    "\n",
    "        char = s[i - 1]\n",
    "        if char in last_seen:\n",
    "            dp[i] -= dp[last_seen[char] - 1]  \n",
    "\n",
    "        last_seen[char] = i\n",
    "\n",
    "    return dp[n] - 1 \n",
    "\n",
    "count_distinct_subsequences (\"abc\")"
   ]
  },
  {
   "cell_type": "code",
   "execution_count": null,
   "id": "9740cb31-5aa2-431e-9c3d-9822cf1521ac",
   "metadata": {},
   "outputs": [],
   "source": []
  },
  {
   "cell_type": "markdown",
   "id": "2fd59b75-b80f-466c-9517-34c927e66134",
   "metadata": {},
   "source": [
    "# 25. Find the Shortest Superstring That Contains All Given Strings as Subsequences\n",
    "## Problem Statement:\n",
    "Write a function to find the shortest superstring that contains all given strings as subsequences.\n",
    "\n",
    "## Example 1:\n",
    "**Input:** `[\"catg\", \"ctaagt\", \"gcta\", \"ttca\", \"atgcatc\"]`  \n",
    "**Output:** `\"gctaagttcatgcatc\"`\n",
    "\n",
    "## Example 2:\n",
    "**Input:** `[\"abc\", \"bca\", \"cab\"]`  \n",
    "**Output:** `\"abcab\"`\n"
   ]
  },
  {
   "cell_type": "code",
   "execution_count": 112,
   "id": "c4340296-fcc3-45e5-a27c-8706d0c53502",
   "metadata": {},
   "outputs": [
    {
     "data": {
      "text/plain": [
       "'gctaagttcatgcatc'"
      ]
     },
     "execution_count": 112,
     "metadata": {},
     "output_type": "execute_result"
    }
   ],
   "source": [
    "def shortest_superstring(strings):\n",
    "    from itertools import product\n",
    "\n",
    "    n = len(strings)\n",
    "\n",
    "    # Step 1: Precompute the overlap between every pair\n",
    "    def overlap(a, b):\n",
    "        max_olap = 0\n",
    "        min_len = min(len(a), len(b))\n",
    "        for i in range(1, min_len + 1):\n",
    "            if a[-i:] == b[:i]:\n",
    "                max_olap = i\n",
    "        return max_olap\n",
    "\n",
    "    overlaps = [[0]*n for _ in range(n)]\n",
    "    for i, j in product(range(n), repeat=2):\n",
    "        if i != j:\n",
    "            overlaps[i][j] = overlap(strings[i], strings[j])\n",
    "\n",
    "    # Step 2: DP[mask][i] = shortest superstring ending with strings[i] using mask\n",
    "    dp = [[\"\"] * n for _ in range(1 << n)]\n",
    "    for i in range(n):\n",
    "        dp[1 << i][i] = strings[i]\n",
    "\n",
    "    for mask in range(1 << n):\n",
    "        for last in range(n):\n",
    "            if not (mask & (1 << last)):\n",
    "                continue\n",
    "            for nxt in range(n):\n",
    "                if mask & (1 << nxt):\n",
    "                    continue\n",
    "                new_mask = mask | (1 << nxt)\n",
    "                olap = overlaps[last][nxt]\n",
    "                candidate = dp[mask][last] + strings[nxt][olap:]\n",
    "                if dp[new_mask][nxt] == \"\" or len(candidate) < len(dp[new_mask][nxt]):\n",
    "                    dp[new_mask][nxt] = candidate\n",
    "\n",
    "    # Step 3: Return the shortest among all superstrings\n",
    "    full_mask = (1 << n) - 1\n",
    "    return min(dp[full_mask], key=len)\n",
    "\n",
    "shortest_superstring ( [\"catg\", \"ctaagt\", \"gcta\", \"ttca\", \"atgcatc\"])\n"
   ]
  },
  {
   "cell_type": "code",
   "execution_count": null,
   "id": "74cff6c2-11a5-42c4-9a16-f649cd8c7e10",
   "metadata": {},
   "outputs": [],
   "source": []
  }
 ],
 "metadata": {
  "kernelspec": {
   "display_name": "Python 3 (ipykernel)",
   "language": "python",
   "name": "python3"
  },
  "language_info": {
   "codemirror_mode": {
    "name": "ipython",
    "version": 3
   },
   "file_extension": ".py",
   "mimetype": "text/x-python",
   "name": "python",
   "nbconvert_exporter": "python",
   "pygments_lexer": "ipython3",
   "version": "3.12.4"
  }
 },
 "nbformat": 4,
 "nbformat_minor": 5
}
