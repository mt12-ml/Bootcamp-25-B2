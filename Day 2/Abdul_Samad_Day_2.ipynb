{
 "cells": [
  {
   "cell_type": "markdown",
   "id": "7dd1b283-8fa1-4343-95c7-5efb9ccd6b7e",
   "metadata": {},
   "source": [
    "Task: Group words that are anagrams of each other.\r\n",
    "Input: [\"bat\", \"tab\", \"tap\", \"pat\", \"cat\"]\r\n",
    "Output: [[\"bat\", \"tab\"], [\"tap\", \"pat\"], [\"cat\"]]\r\n",
    "-------------------------------------------------\r\n",
    "Task: Transpose a 2D matrix using pure Python (without NumPy).\r\n",
    "Input: [[1, 2, 3], [4, 5, 6]]\r\n",
    "Output: [[1, 4], [2, 5], [3, 6]]\r\n",
    "-------------------------------------------------\r\n",
    "Task: Create an iterator that returns prime numbers up to n.\r\n",
    "Input: n = 10\r\n",
    "Output: [2, 3, 5, 7]\r\n"
   ]
  },
  {
   "cell_type": "code",
   "execution_count": 16,
   "id": "8c573f4d-b617-449c-91c5-36a082d50881",
   "metadata": {},
   "outputs": [
    {
     "data": {
      "text/plain": [
       "[['bat', 'tab'], ['tap', 'pat'], ['cat']]"
      ]
     },
     "execution_count": 16,
     "metadata": {},
     "output_type": "execute_result"
    }
   ],
   "source": [
    "# task 1\n",
    "\n",
    "from collections import defaultdict\n",
    "\n",
    "def group_anagrams(words):\n",
    "    anagram_groups = defaultdict(list)\n",
    "\n",
    "    for word in words:\n",
    "        key = ''.join(sorted(word))  # Same key for all anagrams\n",
    "        anagram_groups[key].append(word)\n",
    "        \n",
    "    return list(anagram_groups.values())\n",
    "\n",
    "group_anagrams( [\"bat\", \"tab\", \"tap\", \"pat\", \"cat\"])\n"
   ]
  },
  {
   "cell_type": "code",
   "execution_count": 21,
   "id": "63716173-c6ae-4c90-add2-c78098ff3a65",
   "metadata": {},
   "outputs": [
    {
     "data": {
      "text/plain": [
       "[[1, 4], [2, 5], [3, 6]]"
      ]
     },
     "execution_count": 21,
     "metadata": {},
     "output_type": "execute_result"
    }
   ],
   "source": [
    "def transpose_matrix(matrix):\n",
    "    return [list(row) for row in zip(*matrix)]\n",
    "\n",
    "transpose_matrix([[1, 2, 3], [4, 5, 6]])"
   ]
  },
  {
   "cell_type": "code",
   "execution_count": 24,
   "id": "03bf8524-e09c-4427-83dd-4eb283426ed5",
   "metadata": {},
   "outputs": [
    {
     "name": "stdout",
     "output_type": "stream",
     "text": [
      "[2, 3, 5, 7]\n"
     ]
    }
   ],
   "source": [
    "def prime_iterator(n):\n",
    "    def is_prime(x):\n",
    "        if x < 2:\n",
    "            return False\n",
    "        for i in range(2, int(x ** 0.5) + 1):\n",
    "            if x % i == 0:\n",
    "                return False\n",
    "        return True\n",
    "\n",
    "    for num in range(2, n + 1):\n",
    "        if is_prime(num):\n",
    "            yield num\n",
    "\n",
    "n = 10\n",
    "primes = list(prime_iterator(n))\n",
    "print(primes)\n"
   ]
  },
  {
   "cell_type": "code",
   "execution_count": null,
   "id": "2637c386-4ce1-4bf1-bee9-0b84f908bd28",
   "metadata": {},
   "outputs": [],
   "source": []
  }
 ],
 "metadata": {
  "kernelspec": {
   "display_name": "Python 3 (ipykernel)",
   "language": "python",
   "name": "python3"
  },
  "language_info": {
   "codemirror_mode": {
    "name": "ipython",
    "version": 3
   },
   "file_extension": ".py",
   "mimetype": "text/x-python",
   "name": "python",
   "nbconvert_exporter": "python",
   "pygments_lexer": "ipython3",
   "version": "3.12.4"
  }
 },
 "nbformat": 4,
 "nbformat_minor": 5
}
