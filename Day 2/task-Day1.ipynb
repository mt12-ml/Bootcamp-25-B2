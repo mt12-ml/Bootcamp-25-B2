{
 "cells": [
  {
   "cell_type": "code",
   "execution_count": null,
   "id": "ded564e6-09d7-4b10-a30d-1fd11a3b3b22",
   "metadata": {},
   "outputs": [],
   "source": []
  },
  {
   "cell_type": "code",
   "execution_count": null,
   "id": "1183483c-42c9-45c8-9389-1e52bba38259",
   "metadata": {},
   "outputs": [],
   "source": [
    "\n",
    "Reverse a String\n",
    "Task: Write a function that takes a string and returns it reversed.\n",
    "Input: \"hello\"\n",
    "Output: \"olleh\"\n"
   ]
  },
  {
   "cell_type": "code",
   "execution_count": 13,
   "id": "b66e7533-c56a-4f54-af82-ce169b5d839c",
   "metadata": {},
   "outputs": [
    {
     "name": "stdout",
     "output_type": "stream",
     "text": [
      "olleh\n"
     ]
    }
   ],
   "source": [
    "string = \"hello\"\n",
    "def reverse_str(string):\n",
    "    return (string[::-1])\n",
    "print(reverse_str(string))"
   ]
  },
  {
   "cell_type": "code",
   "execution_count": null,
   "id": "2c33e166-d977-4b77-b26f-652d8aabd3f1",
   "metadata": {},
   "outputs": [],
   "source": []
  },
  {
   "cell_type": "code",
   "execution_count": null,
   "id": "89bb29e8-60c9-407d-b57f-004174e83688",
   "metadata": {},
   "outputs": [],
   "source": [
    "\n",
    "Count Vowels\n",
    "Task: Count the number of vowels in a given lowercase string.\n",
    "Input: \"data science\"\n",
    "Output: 5\n"
   ]
  },
  {
   "cell_type": "code",
   "execution_count": 14,
   "id": "e0a7213b-1b90-4cb6-be72-61fd6cd361f4",
   "metadata": {},
   "outputs": [
    {
     "name": "stdout",
     "output_type": "stream",
     "text": [
      "5\n"
     ]
    }
   ],
   "source": [
    "string = \"data science\"\n",
    "def count_vowels(string):\n",
    "    c = 0\n",
    "    vowels = [\"a\",\"e\",\"i\",\"o\",\"u\"]\n",
    "    for s in string:\n",
    "        if s in vowels:\n",
    "            c += 1\n",
    "    print(c)\n",
    "count_vowels(string)"
   ]
  },
  {
   "cell_type": "code",
   "execution_count": null,
   "id": "df1524cc-9b19-4c77-9489-d4954a87d710",
   "metadata": {},
   "outputs": [],
   "source": []
  },
  {
   "cell_type": "code",
   "execution_count": null,
   "id": "69897ddc-f3e6-49c9-8056-80548e78802c",
   "metadata": {},
   "outputs": [],
   "source": [
    "\n",
    "Sum of List\n",
    "Task: Return the sum of all numbers in a given list.\n",
    "Input: [1, 2, 3, 4, 5]\n",
    "Output: 15\n"
   ]
  },
  {
   "cell_type": "code",
   "execution_count": 16,
   "id": "4cd26186-fe9d-4058-94a5-c68a0b3ab9b3",
   "metadata": {},
   "outputs": [
    {
     "name": "stdout",
     "output_type": "stream",
     "text": [
      "15\n"
     ]
    }
   ],
   "source": [
    "lst = [1,2,3,4,5]\n",
    "def sum_list(lst):\n",
    "    s = 0\n",
    "    for x in lst:\n",
    "        s += x\n",
    "    print(s)\n",
    "sum_list(lst)"
   ]
  },
  {
   "cell_type": "code",
   "execution_count": null,
   "id": "91412f9b-0d58-422a-9afa-28b9f62bc568",
   "metadata": {},
   "outputs": [],
   "source": []
  },
  {
   "cell_type": "code",
   "execution_count": null,
   "id": "e74f93d4-98a8-4121-a496-5ad60a4c2606",
   "metadata": {},
   "outputs": [],
   "source": [
    "\n",
    "Check Palindrome\n",
    "Task: Return True if the given string is a palindrome, otherwise False.\n",
    "Input: \"madam\"\n",
    "Output: True\n"
   ]
  },
  {
   "cell_type": "code",
   "execution_count": 7,
   "id": "4f6e4be3-3272-4eff-a8e5-c1b8310ece43",
   "metadata": {},
   "outputs": [
    {
     "name": "stdout",
     "output_type": "stream",
     "text": [
      "True\n",
      "False\n"
     ]
    }
   ],
   "source": [
    "st = \"madam\"\n",
    "st1 = \"hamza\"\n",
    "def check_palindrome(st):\n",
    "    if st == st[::-1]:\n",
    "        return True\n",
    "    return False\n",
    "print(check_palindrome(st))\n",
    "print(check_palindrome(st1))\n"
   ]
  },
  {
   "cell_type": "code",
   "execution_count": null,
   "id": "1a6ed159-fab0-458f-a5c0-4b1ab7d88ea7",
   "metadata": {},
   "outputs": [],
   "source": []
  },
  {
   "cell_type": "code",
   "execution_count": null,
   "id": "a5e05de0-8554-4151-8c5a-f26e811e606a",
   "metadata": {},
   "outputs": [],
   "source": [
    "\n",
    "Remove Duplicates from List\n",
    "Task: Remove duplicates from a list while preserving order.\n",
    "Input: [1, 3, 2, 1, 3, 4]\n",
    "Output: [1, 3, 2, 4]\n"
   ]
  },
  {
   "cell_type": "code",
   "execution_count": 17,
   "id": "59df84ae-2f24-4565-8c18-e25563ea319c",
   "metadata": {},
   "outputs": [
    {
     "name": "stdout",
     "output_type": "stream",
     "text": [
      "[1, 3, 2, 4]\n"
     ]
    }
   ],
   "source": [
    "lst = [1,3,2,1,3,4]\n",
    "def remove_dup(lst):\n",
    "    new_lst = []\n",
    "    for x in lst:\n",
    "        if x not in new_lst:\n",
    "            new_lst.append(x)\n",
    "    return new_lst\n",
    "print(remove_dup(lst))"
   ]
  },
  {
   "cell_type": "code",
   "execution_count": null,
   "id": "2a76caf8-a071-45df-ba77-fc16001fac02",
   "metadata": {},
   "outputs": [],
   "source": []
  },
  {
   "cell_type": "code",
   "execution_count": null,
   "id": "9a42408b-0505-40fd-8c59-44b397bc4fbd",
   "metadata": {},
   "outputs": [],
   "source": [
    "\n",
    "Word Frequency Counter\n",
    "Task: Count the frequency of each word in a string and return a dictionary.\n",
    "Input: \"apple banana apple orange\"\n",
    "Output: {'apple': 2, 'banana': 1, 'orange': 1}\n"
   ]
  },
  {
   "cell_type": "code",
   "execution_count": 18,
   "id": "8644b9b7-4709-4c08-bbec-18f738efba70",
   "metadata": {},
   "outputs": [
    {
     "name": "stdout",
     "output_type": "stream",
     "text": [
      "{'apple': 2, 'banana': 1, 'orange': 1}\n"
     ]
    }
   ],
   "source": [
    "string = \"apple banana apple orange\"\n",
    "def count_freq(string):\n",
    "    dct = {}\n",
    "    new_str = string.split()\n",
    "    \n",
    "    for s in new_str:\n",
    "        if s in dct.keys():\n",
    "            dct[s] += 1\n",
    "        else:\n",
    "            dct[s] = 1\n",
    "            \n",
    "    return dct\n",
    "print(count_freq(string))"
   ]
  },
  {
   "cell_type": "code",
   "execution_count": null,
   "id": "c8d74d2d-6589-4ec2-b245-d610b275cdf0",
   "metadata": {},
   "outputs": [],
   "source": []
  },
  {
   "cell_type": "code",
   "execution_count": null,
   "id": "4dd36627-2e02-4089-982c-29dfd159e8ba",
   "metadata": {},
   "outputs": [],
   "source": [
    "\n",
    "List of Even Squares\n",
    "Task: Return a list of squares of even numbers from a given list.\n",
    "Input: [1, 2, 3, 4, 5]\n",
    "Output: [4, 16]\n"
   ]
  },
  {
   "cell_type": "code",
   "execution_count": 19,
   "id": "155a36e4-922f-45e4-84d4-f45c27e4012d",
   "metadata": {},
   "outputs": [
    {
     "name": "stdout",
     "output_type": "stream",
     "text": [
      "[4, 16]\n"
     ]
    }
   ],
   "source": [
    "def even_nums(lst):\n",
    "    evens = []\n",
    "    for x in lst:\n",
    "        if x % 2==0:\n",
    "            evens.append(x*x)\n",
    "    return evens\n",
    "lst = [1,2,3,4,5]\n",
    "print(even_nums(lst))"
   ]
  },
  {
   "cell_type": "code",
   "execution_count": null,
   "id": "3f2f1a1a-3e58-493a-8242-363bb1a04efd",
   "metadata": {},
   "outputs": [],
   "source": []
  },
  {
   "cell_type": "code",
   "execution_count": null,
   "id": "9d3fbc28-a3f5-4192-9144-0aea26686ff3",
   "metadata": {},
   "outputs": [],
   "source": [
    "\n",
    "Flatten Nested List\n",
    "Task: Flatten a 2D list into a 1D list.\n",
    "Input: [[1, 2], [3, 4], [5]]\n",
    "Output: [1, 2, 3, 4, 5]\n"
   ]
  },
  {
   "cell_type": "code",
   "execution_count": 22,
   "id": "1fd277b2-c308-45f9-b961-5e16e1508536",
   "metadata": {},
   "outputs": [
    {
     "name": "stdout",
     "output_type": "stream",
     "text": [
      "[1, 2, 3, 4, 5]\n"
     ]
    }
   ],
   "source": [
    "lst = [[1, 2], [3, 4], [5]]\n",
    "def flatten_list(lst):\n",
    "    new_lst = []\n",
    "    for i in range(len(lst)):\n",
    "        for j in range(len(lst[i])):\n",
    "            new_lst.append(lst[i][j])\n",
    "    return new_lst\n",
    "print(flatten_list(lst))"
   ]
  },
  {
   "cell_type": "code",
   "execution_count": null,
   "id": "3a7499a2-0b17-4823-93c4-b6c895fd988b",
   "metadata": {},
   "outputs": [],
   "source": []
  },
  {
   "cell_type": "code",
   "execution_count": null,
   "id": "1c24534e-5cb9-47c4-bf1f-603448014652",
   "metadata": {},
   "outputs": [],
   "source": [
    "\n",
    "Group Words by Length\n",
    "Task: Group words from a list into a dictionary based on their length.\n",
    "Input: [\"a\", \"to\", \"tea\", \"ted\", \"ten\"]\n",
    "Output: {1: ['a'], 2: ['to'], 3: ['tea', 'ted', 'ten']}\n"
   ]
  },
  {
   "cell_type": "code",
   "execution_count": 56,
   "id": "b2345cd0-8bf2-4bea-b5f1-6b9cff4045c6",
   "metadata": {},
   "outputs": [
    {
     "name": "stdout",
     "output_type": "stream",
     "text": [
      "{1: ['a'], 2: ['to'], 3: ['tea', 'ted', 'ten'], 4: ['four'], 5: ['fives']}\n"
     ]
    }
   ],
   "source": [
    "def group_words(words):\n",
    "    dct = {}\n",
    "    for word in words:\n",
    "        n = len(word)\n",
    "        if n in dct.keys():\n",
    "            dct[n].append(word)\n",
    "        else:\n",
    "            dct[n] = [word]\n",
    "    return dct\n",
    "words = [\"a\", \"to\", \"tea\", \"ted\", \"four\", \"ten\", \"fives\"]\n",
    "print(group_words(words))\n",
    "        "
   ]
  },
  {
   "cell_type": "code",
   "execution_count": null,
   "id": "054e53c0-1d35-4db0-b9f2-13f918533376",
   "metadata": {},
   "outputs": [],
   "source": []
  },
  {
   "cell_type": "code",
   "execution_count": null,
   "id": "74be34a2-d67f-4962-8839-d12de16b1d8b",
   "metadata": {},
   "outputs": [],
   "source": [
    "\n",
    "Fibonacci Generator\n",
    "Task: Write a generator that yields the first n Fibonacci numbers.\n",
    "Input: n = 6\n",
    "Output: [0, 1, 1, 2, 3, 5]\n"
   ]
  },
  {
   "cell_type": "code",
   "execution_count": 48,
   "id": "ce83fa52-e2fa-4816-9c88-b42a3909d13d",
   "metadata": {},
   "outputs": [
    {
     "name": "stdout",
     "output_type": "stream",
     "text": [
      "[0, 1, 1, 2, 3, 5]\n",
      "[0, 1, 1, 2, 3, 5, 8, 13]\n"
     ]
    }
   ],
   "source": [
    "def fib(n):\n",
    "    fib = [0,1]\n",
    "    for i in range(1,n-1):\n",
    "        new = fib[i-1] + fib[i]\n",
    "        fib.append(new)\n",
    "    return fib\n",
    "print(fib(6))\n",
    "print(fib(8))"
   ]
  },
  {
   "cell_type": "code",
   "execution_count": null,
   "id": "9f8ee42f",
   "metadata": {},
   "outputs": [],
   "source": []
  },
  {
   "cell_type": "markdown",
   "id": "59c425b6",
   "metadata": {},
   "source": []
  },
  {
   "cell_type": "code",
   "execution_count": null,
   "id": "cca77f92-e968-4c32-93f8-082400bc79e0",
   "metadata": {},
   "outputs": [],
   "source": [
    "\n",
    "Merge Dictionaries by Summing Values\n",
    "Task: Merge two dictionaries by summing values of common keys.\n",
    "Input: {'a': 5, 'b': 3}, {'a': 2, 'c': 4}\n",
    "Output: {'a': 7, 'b': 3, 'c': 4}\n",
    "\n",
    "\n"
   ]
  },
  {
   "cell_type": "code",
   "execution_count": 39,
   "id": "4faa17ee-59fe-4561-bb83-894c7950271d",
   "metadata": {},
   "outputs": [
    {
     "name": "stdout",
     "output_type": "stream",
     "text": [
      "{'a': 7, 'b': 3, 'c': 4}\n"
     ]
    }
   ],
   "source": [
    "def merge_dict(d1,d2):\n",
    "    dct = {}\n",
    "    for key in d1.keys():\n",
    "        if key in d2.keys():\n",
    "            dct[key] = d1[key] + d2[key]\n",
    "        else:\n",
    "            dct[key] = d1[key]\n",
    "    for key in d2.keys():\n",
    "        if key not in d1.keys():\n",
    "            dct[key] = d2[key]\n",
    "    return dct\n",
    "d1 = {'a': 5, 'b': 3}\n",
    "d2 = {'a': 2, 'c': 4}\n",
    "print(merge_dict(d1,d2))"
   ]
  },
  {
   "cell_type": "code",
   "execution_count": null,
   "id": "5b85b6fa-85de-4108-8511-ac510c089250",
   "metadata": {},
   "outputs": [],
   "source": []
  },
  {
   "cell_type": "code",
   "execution_count": null,
   "id": "8de00d3b-63e4-4e8b-932e-c4e49c610ea4",
   "metadata": {},
   "outputs": [],
   "source": [
    "\n",
    "Custom Sorting\n",
    "Task: Sort a list of tuples based on the second element in descending order.\n",
    "Input: [('a', 3), ('b', 1), ('c', 2)]\n",
    "Output: [('a', 3), ('c', 2), ('b', 1)]"
   ]
  },
  {
   "cell_type": "code",
   "execution_count": 54,
   "id": "9e69ad5e-8bd4-4d57-bf05-14b73fb82979",
   "metadata": {},
   "outputs": [
    {
     "name": "stdout",
     "output_type": "stream",
     "text": [
      "[('a', 3), ('c', 2), ('b', 1)]\n"
     ]
    }
   ],
   "source": [
    "def sort_lst(lst):\n",
    "    lst = sorted(lst, key=lambda x:x[1])\n",
    "    return lst[::-1]\n",
    "lst  = [('a', 3), ('b', 1), ('c', 2)]\n",
    "print(sort_lst(lst))"
   ]
  },
  {
   "cell_type": "code",
   "execution_count": null,
   "id": "e8e8c0e9-11c7-4a4a-bb6e-776c3d0626e2",
   "metadata": {},
   "outputs": [],
   "source": []
  },
  {
   "cell_type": "code",
   "execution_count": null,
   "id": "beaef0ba-deae-4e6f-aa25-73fd14f18a72",
   "metadata": {},
   "outputs": [],
   "source": [
    "Given n non-negative integers representing an elevation map where the width of each bar is 1, compute how much water it can trap after raining.\n",
    "Example 1:\n",
    "Input: height = [0,1,0,2,1,0,1,3,2,1,2,1]\n",
    "Output: 6\n",
    "Explanation: The above elevation map (black section) is represented by array [0,1,0,2,1,0,1,3,2,1,2,1]. In this case, 6 units of rain water (blue section) are being trapped.\n",
    "Example 2:\n",
    "Input: height = [4,2,0,3,2,5]\n",
    "Output: 9\n",
    "Constraints:\n",
    "n == height.length\n",
    "1 <= n <= 2 * 104\n",
    "0 <= height[i] <= 105\n"
   ]
  }
 ],
 "metadata": {
  "kernelspec": {
   "display_name": "Python 3 (ipykernel)",
   "language": "python",
   "name": "python3"
  },
  "language_info": {
   "codemirror_mode": {
    "name": "ipython",
    "version": 3
   },
   "file_extension": ".py",
   "mimetype": "text/x-python",
   "name": "python",
   "nbconvert_exporter": "python",
   "pygments_lexer": "ipython3",
   "version": "3.11.5"
  }
 },
 "nbformat": 4,
 "nbformat_minor": 5
}
