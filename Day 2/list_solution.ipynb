{
 "cells": [
  {
   "cell_type": "markdown",
   "id": "3f9994f8-82f8-4450-b588-4dcbc466cc3e",
   "metadata": {},
   "source": [
    "# 1. Find the Sum of All Elements in a List\n",
    "## Problem Statement:\n",
    "Write a function to return the sum of all elements in a list.\n",
    "\n",
    "## Example 1:\n",
    "**Input:** `[1, 2, 3, 4, 5]`  \n",
    "**Output:** `15`\n",
    "\n",
    "## Example 2:\n",
    "**Input:** `[10, -2, 3]`  \n",
    "**Output:** `11`\n"
   ]
  },
  {
   "cell_type": "code",
   "execution_count": 2,
   "id": "22ab5186-6302-4f99-94f7-26e1243b2b23",
   "metadata": {},
   "outputs": [
    {
     "name": "stdout",
     "output_type": "stream",
     "text": [
      "11\n"
     ]
    }
   ],
   "source": [
    "def sum_list(lst):\n",
    "    return sum(lst)\n",
    "lst = [10,-2,3]\n",
    "print(sum_list(lst))"
   ]
  },
  {
   "cell_type": "code",
   "execution_count": null,
   "id": "2bc2fb36-de41-4a06-94c8-677512a39266",
   "metadata": {},
   "outputs": [],
   "source": []
  },
  {
   "cell_type": "markdown",
   "id": "d23b0919-b937-4ffa-9f69-e0a58e4822c8",
   "metadata": {},
   "source": [
    "# 2. Find the Maximum Element in a List\n",
    "## Problem Statement:\n",
    "Write a function to find the maximum element in a list.\n",
    "\n",
    "## Example 1:\n",
    "**Input:** `[3, 5, 1, 9, 2]`  \n",
    "**Output:** `9`\n",
    "\n",
    "## Example 2:\n",
    "**Input:** `[10, 22, 5, 8]`  \n",
    "**Output:** `22`\n"
   ]
  },
  {
   "cell_type": "code",
   "execution_count": 3,
   "id": "7d7b3e2d-d3e0-40ea-a276-6546d8d5a6dc",
   "metadata": {},
   "outputs": [
    {
     "name": "stdout",
     "output_type": "stream",
     "text": [
      "22\n"
     ]
    }
   ],
   "source": [
    "def max_element(lst):\n",
    "    max = 0\n",
    "    for el in lst:\n",
    "        if max < el: max=el\n",
    "    return max\n",
    "lst = [10,22,5,8]\n",
    "print(max_element(lst))"
   ]
  },
  {
   "cell_type": "code",
   "execution_count": null,
   "id": "4a7a7213-0ca0-4435-b8bb-952896ba5291",
   "metadata": {},
   "outputs": [],
   "source": []
  },
  {
   "cell_type": "markdown",
   "id": "3a468705-92a6-48b7-8cf4-f45d18a23a82",
   "metadata": {},
   "source": [
    "# 3. Find the Minimum Element in a List\n",
    "## Problem Statement:\n",
    "Write a function to find the minimum element in a list.\n",
    "\n",
    "## Example 1:\n",
    "**Input:** `[4, 7, 1, 9]`  \n",
    "**Output:** `1`\n",
    "\n",
    "## Example 2:\n",
    "**Input:** `[10, 15, 3, 8]`  \n",
    "**Output:** `3`\n"
   ]
  },
  {
   "cell_type": "code",
   "execution_count": 7,
   "id": "4d12cc30-d2d0-4d11-a297-c9abdd2841e8",
   "metadata": {},
   "outputs": [
    {
     "name": "stdout",
     "output_type": "stream",
     "text": [
      "3\n"
     ]
    }
   ],
   "source": [
    "def min_element(lst):\n",
    "    min = lst[0]\n",
    "    for el in lst:\n",
    "        if min > el: min=el\n",
    "    return min\n",
    "lst = [10, 15, 3, 8]\n",
    "print(min_element(lst))"
   ]
  },
  {
   "cell_type": "code",
   "execution_count": null,
   "id": "8efee63d-29d3-4d2d-aa2d-10e40467a224",
   "metadata": {},
   "outputs": [],
   "source": []
  },
  {
   "cell_type": "markdown",
   "id": "c40f3f67-f422-4be3-bf91-2a8ae2176b24",
   "metadata": {},
   "source": [
    "# 4. Reverse a List\n",
    "## Problem Statement:\n",
    "Write a function to reverse a given list.\n",
    "\n",
    "## Example 1:\n",
    "**Input:** `[1, 2, 3, 4, 5]`  \n",
    "**Output:** `[5, 4, 3, 2, 1]`\n",
    "\n",
    "## Example 2:\n",
    "**Input:** `[\"a\", \"b\", \"c\", \"d\"]`  \n",
    "**Output:** `[\"d\", \"c\", \"b\", \"a\"]`\n"
   ]
  },
  {
   "cell_type": "code",
   "execution_count": 8,
   "id": "ad8b815d-4d1b-42f8-8201-3012cbb10791",
   "metadata": {},
   "outputs": [
    {
     "name": "stdout",
     "output_type": "stream",
     "text": [
      "[5, 4, 3, 2, 1]\n"
     ]
    }
   ],
   "source": [
    "def reverse_list(lst):\n",
    "    return lst[::-1]\n",
    "lst = [1,2,3,4,5]\n",
    "print(reverse_list(lst))"
   ]
  },
  {
   "cell_type": "code",
   "execution_count": null,
   "id": "f4974012-8b9f-4d79-9a93-c49021d42fce",
   "metadata": {},
   "outputs": [],
   "source": []
  },
  {
   "cell_type": "markdown",
   "id": "1ce0dcfb-6e54-4ef6-935e-322632660d42",
   "metadata": {},
   "source": [
    "# 5. Check if a List is Palindromic\n",
    "## Problem Statement:\n",
    "Write a function to check if a list is the same forward and backward.\n",
    "\n",
    "## Example 1:\n",
    "**Input:** `[1, 2, 3, 2, 1]`  \n",
    "**Output:** `True`\n",
    "\n",
    "## Example 2:\n",
    "**Input:** `[1, 2, 3, 4, 5]`  \n",
    "**Output:** `False`\n"
   ]
  },
  {
   "cell_type": "code",
   "execution_count": 14,
   "id": "c21305ce-5efc-4f55-aed4-f2ecb507d12a",
   "metadata": {},
   "outputs": [
    {
     "name": "stdout",
     "output_type": "stream",
     "text": [
      "False\n"
     ]
    }
   ],
   "source": [
    "def is_palindrome(arr):\n",
    "    right = len(arr)-1\n",
    "    for i in range(len(arr)//2):\n",
    "        if arr[i] != arr[right]: return False\n",
    "        right -= 1\n",
    "    return True\n",
    "arr = [1, 2, 3, 2, 1]\n",
    "a2 = [1, 2, 3, 4, 5]\n",
    "print(is_palindrome(a2))"
   ]
  },
  {
   "cell_type": "code",
   "execution_count": null,
   "id": "37b1b813-c8ca-460d-8eaa-45ea822ef16f",
   "metadata": {},
   "outputs": [],
   "source": []
  },
  {
   "cell_type": "markdown",
   "id": "4e03ac95-a619-4d71-bc19-4d8aa7ebc779",
   "metadata": {},
   "source": [
    "# 6. Count the Frequency of Elements in a List\n",
    "## Problem Statement:\n",
    "Write a function to count the occurrences of each element in a list.\n",
    "\n",
    "## Example 1:\n",
    "**Input:** `[1, 2, 2, 3, 3, 3]`  \n",
    "**Output:** `{1: 1, 2: 2, 3: 3}`\n",
    "\n",
    "## Example 2:\n",
    "**Input:** `[\"a\", \"b\", \"a\", \"c\", \"c\", \"c\"]`  \n",
    "**Output:** `{\"a\": 2, \"b\": 1, \"c\": 3}`\n"
   ]
  },
  {
   "cell_type": "code",
   "execution_count": 17,
   "id": "c1c47cee-c97a-4c7b-b61d-4451912705e9",
   "metadata": {},
   "outputs": [
    {
     "name": "stdout",
     "output_type": "stream",
     "text": [
      "{1: 1, 2: 2, 3: 3}\n",
      "{'a': 2, 'b': 1, 'c': 3}\n"
     ]
    }
   ],
   "source": [
    "def count_occurences(a):\n",
    "    d1 = {}\n",
    "    for i in range(len(a)):\n",
    "        if a[i] in d1.keys(): d1[a[i]] += 1\n",
    "        else: d1[a[i]] = 1\n",
    "    return d1\n",
    "a = [1,2,2,3,3,3]\n",
    "a1 = [\"a\", \"b\", \"a\", \"c\", \"c\", \"c\"]\n",
    "print(count_occurences(a))\n",
    "print(count_occurences(a1))"
   ]
  },
  {
   "cell_type": "code",
   "execution_count": null,
   "id": "9f64c11f-e701-43a7-bcf3-1b06a72a16bc",
   "metadata": {},
   "outputs": [],
   "source": []
  },
  {
   "cell_type": "markdown",
   "id": "c351ff0a-2f61-478c-87bd-d71170cc4dd0",
   "metadata": {},
   "source": [
    "# 7. Find the Second Largest Number in a List\n",
    "## Problem Statement:\n",
    "Write a function to find the second largest number in a list.\n",
    "\n",
    "## Example 1:\n",
    "**Input:** `[10, 20, 4, 45, 99]`  \n",
    "**Output:** `45`\n",
    "\n",
    "## Example 2:\n",
    "**Input:** `[3, 5, 7, 7, 8]`  \n",
    "**Output:** `7`\n"
   ]
  },
  {
   "cell_type": "code",
   "execution_count": 25,
   "id": "13703cf5-889b-4ac1-81a9-223d367d8494",
   "metadata": {},
   "outputs": [
    {
     "name": "stdout",
     "output_type": "stream",
     "text": [
      "45\n",
      "7\n"
     ]
    }
   ],
   "source": [
    "def second_max(a):\n",
    "    max = 0\n",
    "    sec_max = 0\n",
    "    for x in a:\n",
    "        if x >= max:\n",
    "            sec_max = max\n",
    "            max = x\n",
    "        elif sec_max < x:\n",
    "            sec_max = x\n",
    "    return sec_max\n",
    "a = [10,20,4,45,99]\n",
    "a1  =[3,5,7,7,8]\n",
    "print(second_max(a))\n",
    "print(second_max(a1))"
   ]
  },
  {
   "cell_type": "code",
   "execution_count": null,
   "id": "d3456d5c-8c55-4b11-a484-edf8bff42fe9",
   "metadata": {},
   "outputs": [],
   "source": []
  },
  {
   "cell_type": "markdown",
   "id": "9c6d8daa-7f46-4bf2-a414-04a077cdb99a",
   "metadata": {},
   "source": [
    "# 8. Merge Two Sorted Lists\n",
    "## Problem Statement:\n",
    "Write a function to merge two sorted lists into a single sorted list.\n",
    "\n",
    "## Example 1:\n",
    "**Input:** `[1, 3, 5]`, `[2, 4, 6]`  \n",
    "**Output:** `[1, 2, 3, 4, 5, 6]`\n",
    "\n",
    "## Example 2:\n",
    "**Input:** `[0, 2, 8]`, `[1, 3, 7]`  \n",
    "**Output:** `[0, 1, 2, 3, 7, 8]`\n"
   ]
  },
  {
   "cell_type": "code",
   "execution_count": 30,
   "id": "f8feaf49-483c-47d9-9d0e-412e9df946d2",
   "metadata": {},
   "outputs": [
    {
     "name": "stdout",
     "output_type": "stream",
     "text": [
      "[1, 2, 3, 4, 5, 6]\n",
      "[0, 1, 2, 3, 7, 8]\n"
     ]
    }
   ],
   "source": [
    "def merge_arrays(a1,a2):\n",
    "    i,j = 0,0\n",
    "    new = []\n",
    "    while i < len(a1) and j < len(a2):\n",
    "        if a1[i] < a2[j]:\n",
    "            new.append(a1[i])\n",
    "            i += 1\n",
    "        else:\n",
    "            new.append(a2[j])\n",
    "            j += 1\n",
    "    while i<len(a1):\n",
    "        new.append(a1[i])\n",
    "        i += 1\n",
    "    while j<len(a2):\n",
    "        new.append(a2[j])\n",
    "        j += 1\n",
    "    return new\n",
    "a1,a2 = [1, 3, 5], [2, 4, 6]\n",
    "a3,a4 = [0, 2, 8], [1, 3, 7]\n",
    "print(merge_arrays(a1,a2))\n",
    "print(merge_arrays(a3,a4))"
   ]
  },
  {
   "cell_type": "code",
   "execution_count": null,
   "id": "644ee2d9-46dd-4e2a-915a-b19a638b97e7",
   "metadata": {},
   "outputs": [],
   "source": []
  },
  {
   "cell_type": "markdown",
   "id": "905fc429-4a5a-4455-9d5e-a761ea93bb8a",
   "metadata": {},
   "source": [
    "# 9. Remove Duplicates from a List\n",
    "## Problem Statement:\n",
    "Write a function to remove duplicate elements from a list while maintaining order.\n",
    "\n",
    "## Example 1:\n",
    "**Input:** `[1, 2, 2, 3, 4, 4, 5]`  \n",
    "**Output:** `[1, 2, 3, 4, 5]`\n",
    "\n",
    "## Example 2:\n",
    "**Input:** `[\"a\", \"b\", \"a\", \"c\", \"c\", \"d\"]`  \n",
    "**Output:** `[\"a\", \"b\", \"c\", \"d\"]`\n"
   ]
  },
  {
   "cell_type": "code",
   "execution_count": 33,
   "id": "bd3ce823-9e58-43ff-b60f-82e28f00fd19",
   "metadata": {},
   "outputs": [
    {
     "name": "stdout",
     "output_type": "stream",
     "text": [
      "['a', 'b', 'c', 'd']\n"
     ]
    }
   ],
   "source": [
    "lst = [\"a\", \"b\", \"a\", \"c\", \"c\", \"d\"]\n",
    "def remove_dup(lst):\n",
    "    new_lst = []\n",
    "    for x in lst:\n",
    "        if x not in new_lst:\n",
    "            new_lst.append(x)\n",
    "    return new_lst\n",
    "print(remove_dup(lst))"
   ]
  },
  {
   "cell_type": "code",
   "execution_count": null,
   "id": "acc566d7-e9c0-4a76-8062-f91d0f1e57be",
   "metadata": {},
   "outputs": [],
   "source": []
  },
  {
   "cell_type": "markdown",
   "id": "8fd83067-65a1-4859-8a82-ec7309c8bc79",
   "metadata": {},
   "source": [
    "# 10. Rotate a List by k Positions\n",
    "## Problem Statement:\n",
    "Write a function to rotate a list by `k` positions to the right.\n",
    "\n",
    "## Example 1:\n",
    "**Input:** `[1, 2, 3, 4, 5]`, `k=2`  \n",
    "**Output:** `[4, 5, 1, 2, 3]`\n",
    "\n",
    "## Example 2:\n",
    "**Input:** `[10, 20, 30, 40, 50]`, `k=3`  \n",
    "**Output:** `[30, 40, 50, 10, 20]`\n"
   ]
  },
  {
   "cell_type": "code",
   "execution_count": 39,
   "id": "ee0fcda9-c7a0-4ce1-a03b-6925c8020b19",
   "metadata": {},
   "outputs": [
    {
     "name": "stdout",
     "output_type": "stream",
     "text": [
      "[4, 5, 1, 2, 3]\n",
      "[30, 40, 50, 10, 20]\n"
     ]
    }
   ],
   "source": [
    "def rotate_list(lst,k):\n",
    "    return lst[-k:] + lst[:len(lst)-k]\n",
    "lst = [1, 2, 3, 4, 5]\n",
    "lst1 = [10, 20, 30, 40, 50]\n",
    "print(rotate_list(lst,2))\n",
    "print(rotate_list(lst1,3))"
   ]
  },
  {
   "cell_type": "code",
   "execution_count": null,
   "id": "3071afc2-ed0d-4f51-9910-6c8d06bfc1c5",
   "metadata": {},
   "outputs": [],
   "source": []
  },
  {
   "cell_type": "markdown",
   "id": "94b7d159-63f7-4efb-a0ae-d5734e84272e",
   "metadata": {},
   "source": [
    "# 11. Find the Intersection of Two Lists\n",
    "## Problem Statement:\n",
    "Write a function to find the common elements between two lists.\n",
    "\n",
    "## Example 1:\n",
    "**Input:** `[1, 2, 3, 4]`, `[3, 4, 5, 6]`  \n",
    "**Output:** `[3, 4]`\n",
    "\n",
    "## Example 2:\n",
    "**Input:** `[\"apple\", \"banana\", \"cherry\"]`, `[\"banana\", \"cherry\", \"date\"]`  \n",
    "**Output:** `[\"banana\", \"cherry\"]`\n"
   ]
  },
  {
   "cell_type": "code",
   "execution_count": 42,
   "id": "2fba381c-645b-4788-bd52-8baae6cd8c82",
   "metadata": {},
   "outputs": [
    {
     "name": "stdout",
     "output_type": "stream",
     "text": [
      "[3, 4]\n",
      "['banana', 'cherry']\n"
     ]
    }
   ],
   "source": [
    "def common_element(a1,a2):\n",
    "    common = []\n",
    "    for a in a1:\n",
    "        for b in a2:\n",
    "            if a==b:\n",
    "                common.append(a)\n",
    "                break\n",
    "    return common\n",
    "a1,a2 = [1, 2, 3, 4], [3, 4, 5, 6]\n",
    "a3,a4 = [\"apple\", \"banana\", \"cherry\"], [\"banana\", \"cherry\", \"date\"]\n",
    "print(common_element(a1,a2))\n",
    "print(common_element(a3,a4))"
   ]
  },
  {
   "cell_type": "code",
   "execution_count": null,
   "id": "296ba470-936b-47f2-943c-b597ead49086",
   "metadata": {},
   "outputs": [],
   "source": []
  },
  {
   "cell_type": "markdown",
   "id": "d21374ba-1837-4c2d-88f3-493c9dcfb804",
   "metadata": {},
   "source": [
    "# 12. Find the Union of Two Lists\n",
    "## Problem Statement:\n",
    "Write a function to return the union of two lists (without duplicates).\n",
    "\n",
    "## Example 1:\n",
    "**Input:** `[1, 2, 3]`, `[3, 4, 5]`  \n",
    "**Output:** `[1, 2, 3, 4, 5]`\n",
    "\n",
    "## Example 2:\n",
    "**Input:** `[\"a\", \"b\", \"c\"]`, `[\"b\", \"c\", \"d\"]`  \n",
    "**Output:** `[\"a\", \"b\", \"c\", \"d\"]`\n"
   ]
  },
  {
   "cell_type": "code",
   "execution_count": 44,
   "id": "b9c68bb7-b138-4a77-a73d-108977bce975",
   "metadata": {},
   "outputs": [
    {
     "name": "stdout",
     "output_type": "stream",
     "text": [
      "[1, 2, 3, 4, 5]\n",
      "['d', 'c', 'a', 'b']\n"
     ]
    }
   ],
   "source": [
    "def union(a1,a2):\n",
    "    s = list(set(a1+a2))\n",
    "    return s\n",
    "a1,a2 = [1, 2, 3], [3, 4, 5]\n",
    "a3,a4 = [\"a\", \"b\", \"c\"], [\"b\", \"c\", \"d\"]\n",
    "print(union(a1,a2))\n",
    "print(union(a3,a4))"
   ]
  },
  {
   "cell_type": "code",
   "execution_count": null,
   "id": "6264bf87-40a2-40db-945f-8c3995c782c8",
   "metadata": {},
   "outputs": [],
   "source": []
  },
  {
   "cell_type": "markdown",
   "id": "e335d83d-180c-428b-b297-911ff99846fb",
   "metadata": {},
   "source": [
    "# 13. Find the Difference Between Two Lists\n",
    "## Problem Statement:\n",
    "Write a function to return elements present in the first list but not in the second.\n",
    "\n",
    "## Example 1:\n",
    "**Input:** `[1, 2, 3, 4]`, `[2, 4, 6]`  \n",
    "**Output:** `[1, 3]`\n",
    "\n",
    "## Example 2:\n",
    "**Input:** `[\"cat\", \"dog\", \"rabbit\"]`, `[\"dog\", \"rabbit\"]`  \n",
    "**Output:** `[\"cat\"]`\n"
   ]
  },
  {
   "cell_type": "code",
   "execution_count": 49,
   "id": "07389d4c-44da-45b0-bab6-ab2e638be814",
   "metadata": {},
   "outputs": [
    {
     "name": "stdout",
     "output_type": "stream",
     "text": [
      "[1, 3]\n",
      "['cat']\n"
     ]
    }
   ],
   "source": [
    "def difference(a1,a2):\n",
    "    s1,s2 = set(a1),set(a2)\n",
    "    return list(s1-s2)\n",
    "a1,a2 = [1, 2, 3, 4], [2, 4, 6]\n",
    "a3,a4 = [\"cat\", \"dog\", \"rabbit\"], [\"dog\", \"rabbit\"]\n",
    "print(difference(a1,a2))\n",
    "print(difference(a3,a4))"
   ]
  },
  {
   "cell_type": "code",
   "execution_count": null,
   "id": "dde54afd-9351-4698-9603-7d98450d7eeb",
   "metadata": {},
   "outputs": [],
   "source": []
  },
  {
   "cell_type": "markdown",
   "id": "19e90ba4-7144-45ea-880d-f31d4c01fbde",
   "metadata": {},
   "source": [
    "# 14. Find the Mode of a List\n",
    "## Problem Statement:\n",
    "Write a function to return the most frequently occurring element in a list.\n",
    "\n",
    "## Example 1:\n",
    "**Input:** `[1, 2, 2, 3, 3, 3]`  \n",
    "**Output:** `3`\n",
    "\n",
    "## Example 2:\n",
    "**Input:** `[\"apple\", \"banana\", \"apple\", \"cherry\", \"apple\"]`  \n",
    "**Output:** `\"apple\"`\n"
   ]
  },
  {
   "cell_type": "code",
   "execution_count": 51,
   "id": "bfc0ae57-4b69-401b-9c06-1f7896081fc7",
   "metadata": {},
   "outputs": [
    {
     "name": "stdout",
     "output_type": "stream",
     "text": [
      "3\n",
      "apple\n"
     ]
    }
   ],
   "source": [
    "def most_frequent(a):\n",
    "    d1 = {}\n",
    "    for i in range(len(a)):\n",
    "        if a[i] in d1.keys(): d1[a[i]] += 1\n",
    "        else: d1[a[i]] = 1\n",
    "    max,max_key = d1[a[0]],a[0]\n",
    "    for key in d1.keys():\n",
    "        if d1[key] > max:\n",
    "            max = d1[key]\n",
    "            max_key = key\n",
    "    return max_key\n",
    "\n",
    "a = [1,2,2,3,3,3]\n",
    "a1 = [\"apple\", \"banana\", \"apple\", \"cherry\", \"apple\"]\n",
    "print(most_frequent(a))\n",
    "print(most_frequent(a1))"
   ]
  },
  {
   "cell_type": "code",
   "execution_count": null,
   "id": "d0e0abaf-a368-4db5-b6ff-262d1367c125",
   "metadata": {},
   "outputs": [],
   "source": []
  },
  {
   "cell_type": "markdown",
   "id": "8008537d-35c3-498b-9d8f-f412c3ee331a",
   "metadata": {},
   "source": [
    "# 15. Flatten a Nested List\n",
    "## Problem Statement:\n",
    "Write a function to flatten a nested list into a single list.\n",
    "\n",
    "## Example 1:\n",
    "**Input:** `[[1, 2, [3]], 4]`  \n",
    "**Output:** `[1, 2, 3, 4]`\n",
    "\n",
    "## Example 2:\n",
    "**Input:** `[[\"a\", [\"b\", \"c\"]], \"d\"]`  \n",
    "**Output:** `[\"a\", \"b\", \"c\", \"d\"]`\n"
   ]
  },
  {
   "cell_type": "code",
   "execution_count": 61,
   "id": "6edccc26-3633-42b6-bd2e-032ce68236f6",
   "metadata": {},
   "outputs": [
    {
     "name": "stdout",
     "output_type": "stream",
     "text": [
      "[1, 2, 3, 4]\n",
      "['a', 'b', 'c', 'd']\n"
     ]
    }
   ],
   "source": [
    "def removeNestings(l):\n",
    "    for i in l:\n",
    "        if type(i) == list:\n",
    "            removeNestings(i)\n",
    "        else:\n",
    "            output.append(i)\n",
    "    return output\n",
    "l = [[1, 2, [3]], 4]\n",
    "l2 = [[\"a\", [\"b\", \"c\"]], \"d\"]\n",
    "output = []\n",
    "print(removeNestings(l))\n",
    "output = []\n",
    "print(removeNestings(l2))"
   ]
  },
  {
   "cell_type": "code",
   "execution_count": null,
   "id": "75cefb05-db24-4683-a911-9594ac598682",
   "metadata": {},
   "outputs": [],
   "source": []
  },
  {
   "cell_type": "markdown",
   "id": "e1aae028-80b8-4a5f-b481-8afb6fc767e2",
   "metadata": {},
   "source": [
    "# 16. Find Pairs in a List That Sum to a Target Value\n",
    "## Problem Statement:\n",
    "Write a function to find all pairs in a list that sum to a given target.\n",
    "\n",
    "## Example 1:\n",
    "**Input:** `[1, 2, 3, 4, 5]`, `target=6`  \n",
    "**Output:** `[(1, 5), (2, 4)]`\n",
    "\n",
    "## Example 2:\n",
    "**Input:** `[2, 4, 6, 8]`, `target=10`  \n",
    "**Output:** `[(2, 8), (4, 6)]`\n"
   ]
  },
  {
   "cell_type": "code",
   "execution_count": 65,
   "id": "35f3cb07-6370-4b58-ac70-149c425ede93",
   "metadata": {},
   "outputs": [
    {
     "name": "stdout",
     "output_type": "stream",
     "text": [
      "[(2, 8), (4, 6)]\n"
     ]
    }
   ],
   "source": [
    "def find_pairs(arr, target):\n",
    "    pairs = []\n",
    "    for i in range(len(arr)):\n",
    "        for j in range(i+1,len(arr)):\n",
    "            if arr[i] + arr[j] == target: pairs.append((arr[i],arr[j]))\n",
    "    return pairs\n",
    "a = [2, 4, 6, 8]\n",
    "\n",
    "print(find_pairs(a,10))"
   ]
  },
  {
   "cell_type": "code",
   "execution_count": null,
   "id": "a95297a6-5358-4814-a21f-0e10c6df6212",
   "metadata": {},
   "outputs": [],
   "source": []
  },
  {
   "cell_type": "markdown",
   "id": "361f2030-2016-4608-bc25-29af4908b376",
   "metadata": {},
   "source": [
    "# 17. Find the Product of All Elements Except Self\n",
    "## Problem Statement:\n",
    "Write a function that returns a list where each index contains the product of all numbers except the number at that index.\n",
    "\n",
    "## Example 1:\n",
    "**Input:** `[1, 2, 3, 4]`  \n",
    "**Output:** `[24, 12, 8, 6]`\n",
    "\n",
    "## Example 2:\n",
    "**Input:** `[5, 6, 7]`  \n",
    "**Output:** `[42, 35, 30]`\n"
   ]
  },
  {
   "cell_type": "code",
   "execution_count": 67,
   "id": "933f3985-7aa4-4cc5-9c26-45f4b46586e9",
   "metadata": {},
   "outputs": [
    {
     "name": "stdout",
     "output_type": "stream",
     "text": [
      "[42, 35, 30]\n"
     ]
    }
   ],
   "source": [
    "def find_product(a):\n",
    "    product = 1\n",
    "    for i in a:\n",
    "        product = i*product\n",
    "    products = []\n",
    "    for i in a:\n",
    "        p = product // i\n",
    "        products.append(p)\n",
    "    return products\n",
    "a = [5, 6, 7]\n",
    "print(find_product(a))"
   ]
  },
  {
   "cell_type": "code",
   "execution_count": null,
   "id": "29d2d922-479e-43b6-861d-6c471e4989c0",
   "metadata": {},
   "outputs": [],
   "source": []
  },
  {
   "cell_type": "markdown",
   "id": "129ff3e8-fc93-4856-8cc9-5b49f84704cc",
   "metadata": {},
   "source": [
    "# 18. Find the Longest Consecutive Sequence in a List\n",
    "## Problem Statement:\n",
    "Write a function to find the longest sequence of consecutive numbers in a list.\n",
    "\n",
    "## Example 1:\n",
    "**Input:** `[100, 4, 200, 1, 3, 2]`  \n",
    "**Output:** `4  (sequence: [1, 2, 3, 4])`\n",
    "\n",
    "## Example 2:\n",
    "**Input:** `[10, 11, 12, 50, 51, 52]`  \n",
    "**Output:** `3  (sequence: [10, 11, 12])`\n"
   ]
  },
  {
   "cell_type": "code",
   "execution_count": null,
   "id": "74775c8c-6eba-4628-b4aa-685ff18ec326",
   "metadata": {},
   "outputs": [],
   "source": []
  },
  {
   "cell_type": "code",
   "execution_count": null,
   "id": "1e8e6260-8f83-467c-b9dd-10497f63e640",
   "metadata": {},
   "outputs": [],
   "source": []
  },
  {
   "cell_type": "markdown",
   "id": "d78db306-86d8-466d-809e-4a501d84b7e3",
   "metadata": {},
   "source": [
    "# 19. Check if a List Contains a Sublist\n",
    "## Problem Statement:\n",
    "Write a function to check if a list contains a given sublist.\n",
    "\n",
    "## Example 1:\n",
    "**Input:** `[1, 2, 3, 4, 5]`, `[3, 4]`  \n",
    "**Output:** `True`\n",
    "\n",
    "## Example 2:\n",
    "**Input:** `[10, 20, 30, 40]`, `[20, 50]`  \n",
    "**Output:** `False`\n"
   ]
  },
  {
   "cell_type": "code",
   "execution_count": 77,
   "id": "f4981789-b06f-4f01-9d60-33aee6a9fc61",
   "metadata": {},
   "outputs": [
    {
     "name": "stdout",
     "output_type": "stream",
     "text": [
      "True\n"
     ]
    }
   ],
   "source": [
    "def check_sublist(a1,a2):\n",
    "    n = len(a2)\n",
    "    for i in range(len(a1)):\n",
    "        if a2 == a1[i:i+n]: return True\n",
    "    return False\n",
    "a1,a2 = [10, 20, 30, 40], [30,40]\n",
    "print(check_sublist(a1,a2)) "
   ]
  },
  {
   "cell_type": "code",
   "execution_count": null,
   "id": "dbe70fad-c011-4a2b-8610-257686b41eb7",
   "metadata": {},
   "outputs": [],
   "source": []
  },
  {
   "cell_type": "markdown",
   "id": "9f92a78f-50c6-4244-89cb-44cf6d00da88",
   "metadata": {},
   "source": [
    "# 20. Find the Kth Largest Element in a List\n",
    "## Problem Statement:\n",
    "Write a function to find the `k`th largest element in a list.\n",
    "\n",
    "## Example 1:\n",
    "**Input:** `[3, 2, 1, 5, 6, 4]`, `k=2`  \n",
    "**Output:** `5`\n",
    "\n",
    "## Example 2:\n",
    "**Input:** `[10, 20, 30, 40, 50]`, `k=3`  \n",
    "**Output:** `30`\n"
   ]
  },
  {
   "cell_type": "code",
   "execution_count": 113,
   "id": "b7752ce5-63b2-414f-b2bc-5f64a1f804e4",
   "metadata": {},
   "outputs": [
    {
     "name": "stdout",
     "output_type": "stream",
     "text": [
      "5\n",
      "30\n"
     ]
    }
   ],
   "source": [
    "def find_k_largest(arr,k):\n",
    "    a = sorted(arr)\n",
    "    return a[-k]\n",
    "arr = [3, 2, 1, 5, 6, 4]\n",
    "arr1 = [10, 20, 30, 40, 50]\n",
    "print(find_k_largest(arr,2))\n",
    "print(find_k_largest(arr1,3))"
   ]
  },
  {
   "cell_type": "code",
   "execution_count": null,
   "id": "e9af5c07-635e-4d89-bbde-8d499d856896",
   "metadata": {},
   "outputs": [],
   "source": []
  },
  {
   "cell_type": "markdown",
   "id": "af5120a1-17b0-4d4c-880e-34835e12e1bb",
   "metadata": {},
   "source": [
    "# 21. Find All Duplicates in a List\n",
    "## Problem Statement:\n",
    "Write a function to return a list of all duplicate elements.\n",
    "\n",
    "## Example 1:\n",
    "**Input:** `[1, 2, 3, 4, 2, 3, 5]`  \n",
    "**Output:** `[2, 3]`\n",
    "\n",
    "## Example 2:\n",
    "**Input:** `[10, 10, 20, 30, 30]`  \n",
    "**Output:** `[10, 30]`\n"
   ]
  },
  {
   "cell_type": "code",
   "execution_count": 83,
   "id": "611db358-0cf5-4c2c-b63a-331be040255e",
   "metadata": {},
   "outputs": [
    {
     "name": "stdout",
     "output_type": "stream",
     "text": [
      "[2, 3]\n",
      "[10, 30]\n"
     ]
    }
   ],
   "source": [
    "def duplicates(a):\n",
    "    d1 = {}\n",
    "    l = []\n",
    "    for i in range(len(a)):\n",
    "        if a[i] in d1.keys(): d1[a[i]] += 1\n",
    "        else: d1[a[i]] = 1\n",
    "    for key in d1.keys():\n",
    "        if d1[key] >= 2:\n",
    "            l.append(key)\n",
    "    \n",
    "    return l\n",
    "\n",
    "a = [1, 2, 3, 4, 2, 3, 5]\n",
    "a1 = [10, 10, 20, 30, 30]\n",
    "print(duplicates(a))\n",
    "print(duplicates(a1))"
   ]
  },
  {
   "cell_type": "code",
   "execution_count": null,
   "id": "8c9d8d57-70ac-4a21-a58a-71c67aa9fb16",
   "metadata": {},
   "outputs": [],
   "source": []
  },
  {
   "cell_type": "markdown",
   "id": "b179dc25-37ab-471a-a357-6c90633751e6",
   "metadata": {},
   "source": [
    "# 22. Partition a List into Even and Odd Elements\n",
    "## Problem Statement:\n",
    "Write a function to split a list into two separate lists, one containing even numbers and the other containing odd numbers.\n",
    "\n",
    "## Example 1:\n",
    "**Input:** `[1, 2, 3, 4, 5]`  \n",
    "**Output:** `([2, 4], [1, 3, 5])`\n",
    "\n",
    "## Example 2:\n",
    "**Input:** `[10, 15, 20, 25]`  \n",
    "**Output:** `([10, 20], [15, 25])`\n"
   ]
  },
  {
   "cell_type": "code",
   "execution_count": 85,
   "id": "06437acb-825d-49d7-ae88-da2883ebd696",
   "metadata": {},
   "outputs": [
    {
     "name": "stdout",
     "output_type": "stream",
     "text": [
      "([2, 4], [1, 3, 5])\n",
      "([10, 20], [15, 25])\n"
     ]
    }
   ],
   "source": [
    "def partition(a):\n",
    "    p = ([],[])\n",
    "    for x in a:\n",
    "        if x%2 == 0: p[0].append(x)\n",
    "        else: p[1].append(x)\n",
    "    return p\n",
    "a = [1, 2, 3, 4, 5]\n",
    "print(partition(a))\n",
    "a2 = [10, 15, 20, 25]\n",
    "print(partition(a2))"
   ]
  },
  {
   "cell_type": "code",
   "execution_count": null,
   "id": "973eb955-eacb-4c3b-b028-83f3496f2ffd",
   "metadata": {},
   "outputs": [],
   "source": []
  },
  {
   "cell_type": "markdown",
   "id": "b92d2695-51ec-4780-88f2-23f8f5591479",
   "metadata": {},
   "source": [
    "# 23. Find the First Non-Repeating Element in a List\n",
    "## Problem Statement:\n",
    "Write a function to find the first element that does not repeat.\n",
    "\n",
    "## Example 1:\n",
    "**Input:** `[4, 5, 1, 2, 0, 4]`  \n",
    "**Output:** `5`\n",
    "\n",
    "## Example 2:\n",
    "**Input:** `[10, 20, 10, 30, 20]`  \n",
    "**Output:** `30`\n"
   ]
  },
  {
   "cell_type": "code",
   "execution_count": 90,
   "id": "b9dfd48e-7d1f-4fdc-a66c-b260167a145c",
   "metadata": {},
   "outputs": [
    {
     "name": "stdout",
     "output_type": "stream",
     "text": [
      "4\n",
      "30\n"
     ]
    }
   ],
   "source": [
    "def first_non_repeat(arr):\n",
    "    d1 = {}\n",
    "    for i in range(len(s1)):\n",
    "        if arr[i] in d1.keys(): d1[arr[i]] += 1\n",
    "        else: d1[arr[i]] = 1\n",
    "    for key in d1.keys():\n",
    "        if d1[key] == 1:\n",
    "            return key\n",
    "    return \"All characters repeat\"\n",
    "a,a1 = [4, 5, 1, 2, 0, 4], [10, 20, 10, 30, 20]\n",
    "print(first_non_repeat(a))\n",
    "print(first_non_repeat(a1))"
   ]
  },
  {
   "cell_type": "code",
   "execution_count": null,
   "id": "9796f7dd-192a-478d-84be-f06898fc96c8",
   "metadata": {},
   "outputs": [],
   "source": []
  },
  {
   "cell_type": "markdown",
   "id": "6fb71179-2ae6-456d-b25a-db10c57e5429",
   "metadata": {},
   "source": [
    "# 24. Sort a List Without Using Built-in Sort\n",
    "## Problem Statement:\n",
    "Write a function to sort a list in ascending order without using Python’s built-in sort.\n",
    "\n",
    "## Example 1:\n",
    "**Input:** `[3, 1, 4, 1, 5, 9]`  \n",
    "**Output:** `[1, 1, 3, 4, 5, 9]`\n",
    "\n",
    "## Example 2:\n",
    "**Input:** `[10, 5, 2, 8]`  \n",
    "**Output:** `[2, 5, 8, 10]`\n"
   ]
  },
  {
   "cell_type": "code",
   "execution_count": 94,
   "id": "0ad5b31f-b1c3-4273-bc7a-98c47b958911",
   "metadata": {},
   "outputs": [
    {
     "name": "stdout",
     "output_type": "stream",
     "text": [
      "[2, 5, 8, 10]\n"
     ]
    }
   ],
   "source": [
    "def sort_list(arr):\n",
    "    for i in range(len(arr)):\n",
    "        min, min_index = arr[i],i\n",
    "        for j in range(i,len(arr)):\n",
    "            if arr[j] < min:\n",
    "                min,min_index = arr[j],j\n",
    "        arr[i],arr[min_index] = arr[min_index],arr[i]\n",
    "    return arr\n",
    "a = [10, 8, 5, 2]\n",
    "print(sort_list(a))\n",
    "                "
   ]
  },
  {
   "cell_type": "code",
   "execution_count": null,
   "id": "12685e9a-841e-4b2b-8cfb-7131b1e3c6f1",
   "metadata": {},
   "outputs": [],
   "source": []
  },
  {
   "cell_type": "markdown",
   "id": "37658f34-5781-4e84-b348-48b1c8f350cc",
   "metadata": {},
   "source": [
    "# 25. Find All Triplets That Sum to Zero\n",
    "## Problem Statement:\n",
    "Write a function to find all triplets in a list that sum to zero.\n",
    "\n",
    "## Example 1:\n",
    "**Input:** `[-1, 0, 1, 2, -1, -4]`  \n",
    "**Output:** `[[-1, -1, 2], [-1, 0, 1]]`\n",
    "\n",
    "## Example 2:\n",
    "**Input:** `[1, -2, 1, 0, 5]`  \n",
    "**Output:** `[[-2, 1, 1]]`\n"
   ]
  },
  {
   "cell_type": "code",
   "execution_count": 110,
   "id": "defa0f94-4681-499b-8aeb-8fc381308d05",
   "metadata": {},
   "outputs": [],
   "source": [
    "def find_triplets(a):\n",
    "    triplets = []\n",
    "    for i in range(len(a)):\n",
    "        for j in range(i+1,len(a)):\n",
    "            for k in range(j+1,len(a)):\n",
    "                if a[i] + a[j] + a[k] == 0:\n",
    "                    x = [a[i],a[j],a[k]]\n",
    "                    x.sort()\n",
    "                    if x not in triplets:\n",
    "                        triplets.append(x)\n",
    "    return triplets"
   ]
  },
  {
   "cell_type": "code",
   "execution_count": 111,
   "id": "cce128fa-a380-467e-9251-b0449833e334",
   "metadata": {},
   "outputs": [
    {
     "name": "stdout",
     "output_type": "stream",
     "text": [
      "[[-1, 0, 1], [-1, -1, 2]]\n",
      "[[-2, 1, 1]]\n"
     ]
    }
   ],
   "source": [
    "a,a1 = [-1, 0, 1, 2, -1, -4], [1, -2, 1, 0, 5]\n",
    "print(find_triplets(a))\n",
    "print(find_triplets(a1))"
   ]
  },
  {
   "cell_type": "code",
   "execution_count": null,
   "id": "55f0be4a-a7a1-4d9e-8388-6112e2968e43",
   "metadata": {},
   "outputs": [],
   "source": []
  }
 ],
 "metadata": {
  "kernelspec": {
   "display_name": "Python 3 (ipykernel)",
   "language": "python",
   "name": "python3"
  },
  "language_info": {
   "codemirror_mode": {
    "name": "ipython",
    "version": 3
   },
   "file_extension": ".py",
   "mimetype": "text/x-python",
   "name": "python",
   "nbconvert_exporter": "python",
   "pygments_lexer": "ipython3",
   "version": "3.11.5"
  }
 },
 "nbformat": 4,
 "nbformat_minor": 5
}
