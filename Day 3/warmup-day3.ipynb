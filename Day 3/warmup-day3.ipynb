{
 "cells": [
  {
   "cell_type": "markdown",
   "id": "16a46a3a",
   "metadata": {},
   "source": [
    "Problem Statement:\n",
    " Write a function that compresses a string using the counts of repeated characters.\n",
    " If the compressed string is not smaller than the original, return the original.\n",
    "\n",
    "\n",
    "Example:\n",
    "Input: \"aaabbccccaaa\"\n",
    "Output: \"a3b2c4a3\"\n",
    "Input: \"abc\"\n",
    "Output: \"abc\""
   ]
  },
  {
   "cell_type": "code",
   "execution_count": 14,
   "id": "a9777e1e",
   "metadata": {},
   "outputs": [
    {
     "name": "stdout",
     "output_type": "stream",
     "text": [
      "a3b2c4a3\n",
      "abc\n"
     ]
    }
   ],
   "source": [
    "def compress(s):\n",
    "    i = 0\n",
    "    st = \"\"\n",
    "    while i < len(s):\n",
    "        c = 1\n",
    "        w = s[i]\n",
    "        i += 1\n",
    "        while i < len(s) and s[i] == w:\n",
    "            c += 1\n",
    "            i += 1\n",
    "        st += f\"{w}{c}\"\n",
    "    if len(st) >= len(s): return s\n",
    "    return st\n",
    "s = \"aaabbccccaaa\"\n",
    "s1 = \"abc\"\n",
    "print(compress(s))\n",
    "print(compress(s1))"
   ]
  },
  {
   "cell_type": "markdown",
   "id": "f1f2fca0",
   "metadata": {},
   "source": [
    "Write a function to flatten a nested list of strings\n",
    "\n",
    "\n",
    "Example:\n",
    "input = [ 'nata', 'pizza' [ 'eat', 'tea' ], ['sort'] ]\n",
    "output [ nata', 'pizza' , ‘eat', 'tea', 'sort']"
   ]
  },
  {
   "cell_type": "code",
   "execution_count": 17,
   "id": "f5e7470d",
   "metadata": {},
   "outputs": [
    {
     "name": "stdout",
     "output_type": "stream",
     "text": [
      "['nata', 'pizza', 'eat', 'tea', 'sort']\n"
     ]
    }
   ],
   "source": [
    "def flatten(lst):\n",
    "    new = []\n",
    "    for i in lst:\n",
    "        if type(i) == list:\n",
    "            for j in i:\n",
    "                new.append(j)\n",
    "        else: new.append(i)\n",
    "    return new\n",
    "l =  ['nata', 'pizza', [ 'eat', 'tea' ], ['sort']]\n",
    "print(flatten(l))\n"
   ]
  },
  {
   "cell_type": "markdown",
   "id": "8fc7aa6e",
   "metadata": {},
   "source": [
    "Given a list of strings, group them into anagrams (words with the same letters in different order).\n",
    "\n",
    "Example:\n",
    "\n",
    "Input: [\"bat\", \"tab\", \"eat\", \"tea\", \"tan\", \"nat\"]\n",
    "\n",
    "\n",
    "Output: [['bat', 'tab'], ['eat', 'tea'], ['tan', 'nat']]\n",
    "--------------------------------"
   ]
  },
  {
   "cell_type": "code",
   "execution_count": 20,
   "id": "f6e42384",
   "metadata": {},
   "outputs": [
    {
     "name": "stdout",
     "output_type": "stream",
     "text": [
      "[['bat', 'tab'], ['eat', 'tea'], ['tan', 'nat']]\n"
     ]
    }
   ],
   "source": [
    "def group_words(words):\n",
    "    groups = []\n",
    "    for word in words:\n",
    "        for group in groups:\n",
    "            if anagram(group[0],word):\n",
    "                group.append(word)\n",
    "                break\n",
    "        else:\n",
    "            groups.append([word])\n",
    "    return groups\n",
    "\n",
    "def anagram(s1,s2):\n",
    "    d1,d2 = {}, {}\n",
    "    for i in range(len(s1)):\n",
    "        if s1[i] in d1.keys(): d1[s1[i]] += 1\n",
    "        else: d1[s1[i]] = 1\n",
    "        if s2[i] in d2.keys(): d2[s2[i]] += 1\n",
    "        else: d2[s2[i]] = 1\n",
    "    return d1 == d2\n",
    "\n",
    "words = [\"bat\", \"tab\", \"eat\", \"tea\", \"tan\", \"nat\"]\n",
    "groups = group_words(words)\n",
    "print(groups)"
   ]
  },
  {
   "cell_type": "markdown",
   "id": "1373d478",
   "metadata": {},
   "source": [
    "Write a function that takes a string and returns the top 3 most frequent words in it (ignoring case and punctuation).\n",
    "Example:\n",
    "\n",
    "Input: \"The quick brown fox jumps over the lazy dog. The dog barked.\"\n",
    "\n",
    "    \n",
    "Output: ['the', 'dog', 'quick']  # frequency: the(3), dog(2), quick(1)"
   ]
  },
  {
   "cell_type": "code",
   "execution_count": 34,
   "id": "78e5824f",
   "metadata": {},
   "outputs": [
    {
     "name": "stdout",
     "output_type": "stream",
     "text": [
      "['the', 'dog', 'quick']\n"
     ]
    }
   ],
   "source": [
    "def count_occurences(a):\n",
    "    d1 = {}\n",
    "    for i in range(len(a)):\n",
    "        a[i] = a[i].lower()\n",
    "        if a[i][-1] == \".\": a[i] = a[i][:-1]\n",
    "        if a[i] in d1.keys(): d1[a[i]] += 1\n",
    "        else: d1[a[i]] = 1\n",
    "    lst = list(d1.items())\n",
    "    lst = sorted(lst, key = lambda x:x[1], reverse=True)\n",
    "    return [x[0] for x in lst[:3]]\n",
    "a = \"The quick brown fox jumps over the lazy dog. The dog barked.\"\n",
    "a1 = a.split()\n",
    "print(count_occurences(a1))"
   ]
  },
  {
   "cell_type": "code",
   "execution_count": null,
   "id": "7d6046d1",
   "metadata": {},
   "outputs": [],
   "source": []
  }
 ],
 "metadata": {
  "kernelspec": {
   "display_name": "Python 3 (ipykernel)",
   "language": "python",
   "name": "python3"
  },
  "language_info": {
   "codemirror_mode": {
    "name": "ipython",
    "version": 3
   },
   "file_extension": ".py",
   "mimetype": "text/x-python",
   "name": "python",
   "nbconvert_exporter": "python",
   "pygments_lexer": "ipython3",
   "version": "3.11.5"
  }
 },
 "nbformat": 4,
 "nbformat_minor": 5
}
