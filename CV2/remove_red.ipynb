{
 "cells": [
  {
   "cell_type": "code",
   "execution_count": 2,
   "id": "9b340c5f",
   "metadata": {},
   "outputs": [],
   "source": [
    "import cv2"
   ]
  },
  {
   "cell_type": "code",
   "execution_count": 3,
   "id": "b7b876f3",
   "metadata": {},
   "outputs": [
    {
     "name": "stdout",
     "output_type": "stream",
     "text": [
      "[[[13 19 24]\n",
      "  [13 19 24]\n",
      "  [13 19 24]\n",
      "  ...\n",
      "  [13 19 24]\n",
      "  [13 19 24]\n",
      "  [13 19 24]]\n",
      "\n",
      " [[13 19 24]\n",
      "  [13 19 24]\n",
      "  [13 19 24]\n",
      "  ...\n",
      "  [13 19 24]\n",
      "  [13 19 24]\n",
      "  [13 19 24]]\n",
      "\n",
      " [[13 19 24]\n",
      "  [13 19 24]\n",
      "  [12 18 23]\n",
      "  ...\n",
      "  [12 18 23]\n",
      "  [13 19 24]\n",
      "  [13 19 24]]\n",
      "\n",
      " ...\n",
      "\n",
      " [[22 33 37]\n",
      "  [31 42 46]\n",
      "  [37 48 52]\n",
      "  ...\n",
      "  [14 12 11]\n",
      "  [13 11 10]\n",
      "  [14 12 11]]\n",
      "\n",
      " [[22 33 37]\n",
      "  [31 42 46]\n",
      "  [37 48 52]\n",
      "  ...\n",
      "  [18 16 15]\n",
      "  [15 13 12]\n",
      "  [12 10  9]]\n",
      "\n",
      " [[22 33 37]\n",
      "  [31 42 46]\n",
      "  [37 48 52]\n",
      "  ...\n",
      "  [23 21 20]\n",
      "  [17 15 14]\n",
      "  [11  9  8]]]\n"
     ]
    }
   ],
   "source": [
    "a = cv2.imread('img_1.jpg')\n",
    "print(a)"
   ]
  },
  {
   "cell_type": "code",
   "execution_count": 13,
   "id": "786a0d3c",
   "metadata": {},
   "outputs": [],
   "source": [
    "cv2.imshow('Displayed Image', a)\n",
    "cv2.waitKey(0)\n",
    "cv2.destroyAllWindows()"
   ]
  },
  {
   "cell_type": "code",
   "execution_count": 5,
   "id": "417aaca6",
   "metadata": {},
   "outputs": [],
   "source": [
    "hsv = cv2.cvtColor(a, cv2.COLOR_BGR2HSV)"
   ]
  },
  {
   "cell_type": "code",
   "execution_count": 6,
   "id": "07567080",
   "metadata": {},
   "outputs": [
    {
     "name": "stdout",
     "output_type": "stream",
     "text": [
      "[[[ 16 117  24]\n",
      "  [ 16 117  24]\n",
      "  [ 16 117  24]\n",
      "  ...\n",
      "  [ 16 117  24]\n",
      "  [ 16 117  24]\n",
      "  [ 16 117  24]]\n",
      "\n",
      " [[ 16 117  24]\n",
      "  [ 16 117  24]\n",
      "  [ 16 117  24]\n",
      "  ...\n",
      "  [ 16 117  24]\n",
      "  [ 16 117  24]\n",
      "  [ 16 117  24]]\n",
      "\n",
      " [[ 16 117  24]\n",
      "  [ 16 117  24]\n",
      "  [ 16 122  23]\n",
      "  ...\n",
      "  [ 16 122  23]\n",
      "  [ 16 117  24]\n",
      "  [ 16 117  24]]\n",
      "\n",
      " ...\n",
      "\n",
      " [[ 22 103  37]\n",
      "  [ 22  83  46]\n",
      "  [ 22  74  52]\n",
      "  ...\n",
      "  [110  55  14]\n",
      "  [110  59  13]\n",
      "  [110  55  14]]\n",
      "\n",
      " [[ 22 103  37]\n",
      "  [ 22  83  46]\n",
      "  [ 22  74  52]\n",
      "  ...\n",
      "  [110  43  18]\n",
      "  [110  51  15]\n",
      "  [110  64  12]]\n",
      "\n",
      " [[ 22 103  37]\n",
      "  [ 22  83  46]\n",
      "  [ 22  74  52]\n",
      "  ...\n",
      "  [110  33  23]\n",
      "  [110  45  17]\n",
      "  [110  70  11]]]\n"
     ]
    }
   ],
   "source": [
    "print(hsv)"
   ]
  },
  {
   "cell_type": "code",
   "execution_count": 7,
   "id": "793b4592",
   "metadata": {},
   "outputs": [],
   "source": [
    "cv2.imshow('Displayed Image', hsv)\n",
    "cv2.waitKey(0)\n",
    "cv2.destroyAllWindows()"
   ]
  },
  {
   "cell_type": "code",
   "execution_count": 9,
   "id": "178c944d",
   "metadata": {},
   "outputs": [],
   "source": [
    "import numpy as np\n",
    "lower_blue = np.array([100, 50, 50])\n",
    "upper_blue = np.array([130, 255, 255])"
   ]
  },
  {
   "cell_type": "code",
   "execution_count": 10,
   "id": "e4f52c72",
   "metadata": {},
   "outputs": [],
   "source": [
    "mask = cv2.inRange(hsv, lower_blue, upper_blue)"
   ]
  },
  {
   "cell_type": "code",
   "execution_count": 11,
   "id": "9621c4ed",
   "metadata": {},
   "outputs": [],
   "source": [
    "result = cv2.bitwise_and(a, a, mask=mask)"
   ]
  },
  {
   "cell_type": "code",
   "execution_count": 12,
   "id": "5e50f499",
   "metadata": {},
   "outputs": [
    {
     "name": "stdout",
     "output_type": "stream",
     "text": [
      "BGR value at (100, 50): [107 123 130]\n",
      "HSV value at (100, 50): [ 21  45 130]\n"
     ]
    }
   ],
   "source": [
    "pixel_bgr = a[100, 50]\n",
    "print(f\"BGR value at (100, 50): {pixel_bgr}\")\n",
    "\n",
    "pixel_hsv = hsv[100, 50]\n",
    "print(f\"HSV value at (100, 50): {pixel_hsv}\")"
   ]
  },
  {
   "cell_type": "code",
   "execution_count": 37,
   "id": "5ac97502",
   "metadata": {},
   "outputs": [],
   "source": [
    "import cv2\n",
    "import numpy as np\n",
    "\n",
    "image_path = 'img_1.jpg'\n",
    "img = cv2.imread(image_path)\n",
    "if img is None:\n",
    "    print(f\"Error: Could not load image from {image_path}\")\n",
    "else:\n",
    "    hsv = cv2.cvtColor(img, cv2.COLOR_BGR2HSV)\n",
    "\n",
    "    lower_red1 = np.array([0, 100, 100])\n",
    "    upper_red1 = np.array([10, 255, 255])\n",
    "    mask1 = cv2.inRange(hsv, lower_red1, upper_red1)\n",
    "\n",
    "    lower_red2 = np.array([150, 100, 100])\n",
    "    upper_red2 = np.array([180, 255, 255])\n",
    "    mask2 = cv2.inRange(hsv, lower_red2, upper_red2)\n",
    "    \n",
    "    red_mask = cv2.bitwise_or(mask1, mask2)\n",
    "    img[red_mask > 0] = [255, 255, 255] \n",
    "    cv2.imwrite('output.jpg', img)\n",
    "    cv2.imshow('Red Replaced with White', img)\n",
    "    cv2.waitKey(0)\n",
    "    cv2.destroyAllWindows()"
   ]
  },
  {
   "cell_type": "code",
   "execution_count": 38,
   "id": "7d6900e7",
   "metadata": {},
   "outputs": [],
   "source": [
    "import cv2\n",
    "import numpy as np\n",
    "\n",
    "image_path = 'output.jpg'\n",
    "img = cv2.imread(image_path)\n",
    "if img is None:\n",
    "    print(f\"Error: Could not load image from {image_path}\")\n",
    "else:\n",
    "    hsv = cv2.cvtColor(img, cv2.COLOR_BGR2HSV)\n",
    "\n",
    "    lower_red1 = np.array([0, 100, 100])\n",
    "    upper_red1 = np.array([10, 255, 255])\n",
    "    mask1 = cv2.inRange(hsv, lower_red1, upper_red1)\n",
    "\n",
    "    lower_red2 = np.array([150, 100, 100])\n",
    "    upper_red2 = np.array([180, 255, 255])\n",
    "    mask2 = cv2.inRange(hsv, lower_red2, upper_red2)\n",
    "    \n",
    "    red_mask = cv2.bitwise_or(mask1, mask2)\n",
    "    img[red_mask > 0] = [255, 255, 255] \n",
    "    cv2.imwrite('output.jpg', img)\n",
    "    cv2.imshow('Red Replaced with White', img)\n",
    "    cv2.waitKey(0)\n",
    "    cv2.destroyAllWindows()"
   ]
  },
  {
   "cell_type": "code",
   "execution_count": null,
   "id": "41613d12",
   "metadata": {},
   "outputs": [],
   "source": []
  }
 ],
 "metadata": {
  "kernelspec": {
   "display_name": "Python 3",
   "language": "python",
   "name": "python3"
  },
  "language_info": {
   "codemirror_mode": {
    "name": "ipython",
    "version": 3
   },
   "file_extension": ".py",
   "mimetype": "text/x-python",
   "name": "python",
   "nbconvert_exporter": "python",
   "pygments_lexer": "ipython3",
   "version": "3.12.1"
  }
 },
 "nbformat": 4,
 "nbformat_minor": 5
}
