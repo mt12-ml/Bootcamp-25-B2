{
 "cells": [
  {
   "cell_type": "code",
   "execution_count": null,
   "id": "ded564e6-09d7-4b10-a30d-1fd11a3b3b22",
   "metadata": {},
   "outputs": [],
   "source": []
  },
  {
   "cell_type": "markdown",
   "id": "181faf6c-56fd-40e3-a9d7-8356aac5b47b",
   "metadata": {},
   "source": [
    "\n",
    "Reverse a String\n",
    "Task: Write a function that takes a string and returns it reversed.\n",
    "Input: \"hello\"\n",
    "Output: \"olleh\"\n"
   ]
  },
  {
   "cell_type": "code",
   "execution_count": 12,
   "id": "b66e7533-c56a-4f54-af82-ce169b5d839c",
   "metadata": {},
   "outputs": [
    {
     "name": "stdin",
     "output_type": "stream",
     "text": [
      "Enter string which you want to reverse: apocalpyse\n"
     ]
    },
    {
     "data": {
      "text/plain": [
       "'esyplacopa'"
      ]
     },
     "execution_count": 12,
     "metadata": {},
     "output_type": "execute_result"
    }
   ],
   "source": [
    "def reverse_string ():\n",
    "    x = input(\"Enter string which you want to reverse:\")\n",
    "    reversed = x[::-1]\n",
    "    return reversed\n",
    "    \n",
    "reverse_string()"
   ]
  },
  {
   "cell_type": "markdown",
   "id": "bc9da493-0640-431f-95f4-510afab540d8",
   "metadata": {},
   "source": [
    "\n",
    "Count Vowels\n",
    "Task: Count the number of vowels in a given lowercase string.\n",
    "Input: \"data science\"\n",
    "Output: 5\n"
   ]
  },
  {
   "cell_type": "code",
   "execution_count": 21,
   "id": "f1dc5a94-d636-43ff-9b77-7405c78a9894",
   "metadata": {},
   "outputs": [
    {
     "name": "stdout",
     "output_type": "stream",
     "text": [
      "9\n"
     ]
    }
   ],
   "source": [
    "def count_vowels (string:str):\n",
    "    count = 0\n",
    "    for character in string:\n",
    "        if character in ['a','e','i','o','u']:\n",
    "            count += 1\n",
    "    return count\n",
    "vowels = count_vowels('i love machine learning')\n",
    "print (vowels)\n",
    "        "
   ]
  },
  {
   "cell_type": "markdown",
   "id": "6bb653c9-3a99-4c89-a19b-569dae15fe50",
   "metadata": {},
   "source": [
    "\n",
    "Sum of List\n",
    "Task: Return the sum of all numbers in a given list.\n",
    "Input: [1, 2, 3, 4, 5]\n",
    "Output: 15\n"
   ]
  },
  {
   "cell_type": "code",
   "execution_count": 25,
   "id": "4cd26186-fe9d-4058-94a5-c68a0b3ab9b3",
   "metadata": {},
   "outputs": [
    {
     "name": "stdout",
     "output_type": "stream",
     "text": [
      "15\n",
      "11\n"
     ]
    }
   ],
   "source": [
    "# using built-in function\n",
    "a = [1,2,3,4,5]\n",
    "print (sum(a))\n",
    "\n",
    "# iterating over list elements\n",
    "def sum_list (a):\n",
    "    sum = 0\n",
    "    for number in a:\n",
    "        sum += number\n",
    "    return sum\n",
    "    \n",
    "print (sum_list([1,3,7]))\n",
    "        "
   ]
  },
  {
   "cell_type": "code",
   "execution_count": null,
   "id": "e74f93d4-98a8-4121-a496-5ad60a4c2606",
   "metadata": {},
   "outputs": [],
   "source": [
    "\n",
    "Check Palindrome\n",
    "Task: Return True if the given string is a palindrome, otherwise False.\n",
    "Input: \"madam\"\n",
    "Output: True\n"
   ]
  },
  {
   "cell_type": "code",
   "execution_count": 31,
   "id": "4f6e4be3-3272-4eff-a8e5-c1b8310ece43",
   "metadata": {},
   "outputs": [
    {
     "data": {
      "text/plain": [
       "True"
      ]
     },
     "execution_count": 31,
     "metadata": {},
     "output_type": "execute_result"
    }
   ],
   "source": [
    "def check_palindrome (a):\n",
    "    reversed = a[::-1]\n",
    "    if a ==  reversed:\n",
    "        return True\n",
    "    else:\n",
    "        return False\n",
    "        \n",
    "check_palindrome('madam')"
   ]
  },
  {
   "cell_type": "code",
   "execution_count": null,
   "id": "a5e05de0-8554-4151-8c5a-f26e811e606a",
   "metadata": {},
   "outputs": [],
   "source": [
    "\n",
    "Remove Duplicates from List\n",
    "Task: Remove duplicates from a list while preserving order.\n",
    "Input: [1, 3, 2, 1, 3, 4]\n",
    "Output: [1, 3, 2, 4]\n"
   ]
  },
  {
   "cell_type": "code",
   "execution_count": 34,
   "id": "59df84ae-2f24-4565-8c18-e25563ea319c",
   "metadata": {},
   "outputs": [
    {
     "data": {
      "text/plain": [
       "[1, 3, 2, 4]"
      ]
     },
     "execution_count": 34,
     "metadata": {},
     "output_type": "execute_result"
    }
   ],
   "source": [
    "def remove_duplicates (list):\n",
    "    checked = set ()\n",
    "    result = []\n",
    "    for item in list:\n",
    "        if item not in checked:\n",
    "            checked.add(item)\n",
    "            result.append(item)\n",
    "    return result\n",
    "\n",
    "remove_duplicates ([1,3,2,1,3,4])\n",
    "    "
   ]
  },
  {
   "cell_type": "code",
   "execution_count": null,
   "id": "9a42408b-0505-40fd-8c59-44b397bc4fbd",
   "metadata": {},
   "outputs": [],
   "source": [
    "\n",
    "Word Frequency Counter\n",
    "Task: Count the frequency of each word in a string and return a dictionary.\n",
    "Input: \"apple banana apple orange\"\n",
    "Output: {'apple': 2, 'banana': 1, 'orange': 1}\n"
   ]
  },
  {
   "cell_type": "code",
   "execution_count": 38,
   "id": "8644b9b7-4709-4c08-bbec-18f738efba70",
   "metadata": {},
   "outputs": [
    {
     "data": {
      "text/plain": [
       "{'apple': 2, 'orange': 1, 'banana': 1}"
      ]
     },
     "execution_count": 38,
     "metadata": {},
     "output_type": "execute_result"
    }
   ],
   "source": [
    "def word_counter(text):\n",
    "    words = text.split()\n",
    "    dictionary = {word:words.count(word) for word in set(words)}\n",
    "    return dictionary\n",
    "word_counter (\"apple banana apple orange\")"
   ]
  },
  {
   "cell_type": "code",
   "execution_count": null,
   "id": "4dd36627-2e02-4089-982c-29dfd159e8ba",
   "metadata": {},
   "outputs": [],
   "source": [
    "\n",
    "List of Even Squares\n",
    "Task: Return a list of squares of even numbers from a given list.\n",
    "Input: [1, 2, 3, 4, 5]\n",
    "Output: [4, 16]\n"
   ]
  },
  {
   "cell_type": "code",
   "execution_count": 43,
   "id": "155a36e4-922f-45e4-84d4-f45c27e4012d",
   "metadata": {},
   "outputs": [
    {
     "data": {
      "text/plain": [
       "[4, 16, 36]"
      ]
     },
     "execution_count": 43,
     "metadata": {},
     "output_type": "execute_result"
    }
   ],
   "source": [
    "def check_even_squares (x):\n",
    "    even_squares = [number**2 for number in x if number % 2 ==0 ]\n",
    "    return even_squares\n",
    "check_even_squares ([1,2,3,4,5,6])\n",
    "    "
   ]
  },
  {
   "cell_type": "code",
   "execution_count": null,
   "id": "9d3fbc28-a3f5-4192-9144-0aea26686ff3",
   "metadata": {},
   "outputs": [],
   "source": [
    "\n",
    "Flatten Nested List\n",
    "Task: Flatten a 2D list into a 1D list.\n",
    "Input: [[1, 2], [3, 4], [5]]\n",
    "Output: [1, 2, 3, 4, 5]\n"
   ]
  },
  {
   "cell_type": "code",
   "execution_count": 46,
   "id": "1fd277b2-c308-45f9-b961-5e16e1508536",
   "metadata": {},
   "outputs": [
    {
     "data": {
      "text/plain": [
       "[1, 2, 3, 4, 5]"
      ]
     },
     "execution_count": 46,
     "metadata": {},
     "output_type": "execute_result"
    }
   ],
   "source": [
    "def flatten_2D_list (x):\n",
    "    flattened_list = []\n",
    "    for sub_list in x:\n",
    "        for number in sub_list:\n",
    "            flattened_list.append(number)\n",
    "    return flattened_list\n",
    "\n",
    "flatten_2D_list ([[1,2],[3,4],[5]])"
   ]
  },
  {
   "cell_type": "code",
   "execution_count": null,
   "id": "1c24534e-5cb9-47c4-bf1f-603448014652",
   "metadata": {},
   "outputs": [],
   "source": [
    "\n",
    "Group Words by Length\n",
    "Task: Group words from a list into a dictionary based on their length.\n",
    "Input: [\"a\", \"to\", \"tea\", \"ted\", \"ten\"]\n",
    "Output: {1: ['a'], 2: ['to'], 3: ['tea', 'ted', 'ten']}\n"
   ]
  },
  {
   "cell_type": "code",
   "execution_count": 52,
   "id": "b2345cd0-8bf2-4bea-b5f1-6b9cff4045c6",
   "metadata": {},
   "outputs": [
    {
     "data": {
      "text/plain": [
       "{1: ['a'], 2: ['to'], 3: ['tea', 'ted', 'ten']}"
      ]
     },
     "execution_count": 52,
     "metadata": {},
     "output_type": "execute_result"
    }
   ],
   "source": [
    "def group_words (words):\n",
    "    grouped = {}\n",
    "    for word in words:\n",
    "        length = len(word)\n",
    "        if length not in grouped:\n",
    "            grouped[length] = []\n",
    "        grouped[length].append(word)\n",
    "    return grouped\n",
    "        \n",
    "group_words ([\"a\", \"to\", \"tea\", \"ted\", \"ten\"])"
   ]
  },
  {
   "cell_type": "code",
   "execution_count": null,
   "id": "054e53c0-1d35-4db0-b9f2-13f918533376",
   "metadata": {},
   "outputs": [],
   "source": []
  },
  {
   "cell_type": "code",
   "execution_count": null,
   "id": "74be34a2-d67f-4962-8839-d12de16b1d8b",
   "metadata": {},
   "outputs": [],
   "source": [
    "\n",
    "Fibonacci Generator\n",
    "Task: Write a generator that yields the first n Fibonacci numbers.\n",
    "Input: n = 6\n",
    "Output: [0, 1, 1, 2, 3, 5]\n"
   ]
  },
  {
   "cell_type": "code",
   "execution_count": 54,
   "id": "ce83fa52-e2fa-4816-9c88-b42a3909d13d",
   "metadata": {},
   "outputs": [
    {
     "name": "stdout",
     "output_type": "stream",
     "text": [
      "[0, 1, 1, 2, 3, 5, 8, 13]\n"
     ]
    }
   ],
   "source": [
    "def fibonacci_generator(n):\n",
    "    a, b = 0, 1\n",
    "    for _ in range(n):\n",
    "        yield a\n",
    "        a, b = b, a + b\n",
    "\n",
    "n = 8\n",
    "output = list(fibonacci_generator(n))\n",
    "print(output)\n"
   ]
  },
  {
   "cell_type": "code",
   "execution_count": null,
   "id": "d26027e1-d22d-451c-b5e4-9f40566ff164",
   "metadata": {},
   "outputs": [],
   "source": []
  },
  {
   "cell_type": "code",
   "execution_count": null,
   "id": "cca77f92-e968-4c32-93f8-082400bc79e0",
   "metadata": {},
   "outputs": [],
   "source": [
    "\n",
    "Merge Dictionaries by Summing Values\n",
    "Task: Merge two dictionaries by summing values of common keys.\n",
    "Input: {'a': 5, 'b': 3}, {'a': 2, 'c': 4}\n",
    "Output: {'a': 7, 'b': 3, 'c': 4}\n",
    "\n",
    "\n"
   ]
  },
  {
   "cell_type": "code",
   "execution_count": 55,
   "id": "4faa17ee-59fe-4561-bb83-894c7950271d",
   "metadata": {},
   "outputs": [
    {
     "name": "stdout",
     "output_type": "stream",
     "text": [
      "{'a': 7, 'b': 3, 'c': 4}\n"
     ]
    }
   ],
   "source": [
    "dict1 = {'a': 5, 'b': 3}\n",
    "dict2 = {'a': 2, 'c': 4}\n",
    "\n",
    "merged = dict1.copy()\n",
    "for key, value in dict2.items():\n",
    "    merged[key] = merged.get(key, 0) + value\n",
    "\n",
    "print(merged)\n"
   ]
  },
  {
   "cell_type": "code",
   "execution_count": null,
   "id": "5b85b6fa-85de-4108-8511-ac510c089250",
   "metadata": {},
   "outputs": [],
   "source": []
  },
  {
   "cell_type": "code",
   "execution_count": null,
   "id": "8de00d3b-63e4-4e8b-932e-c4e49c610ea4",
   "metadata": {},
   "outputs": [],
   "source": [
    "\n",
    "Custom Sorting\n",
    "Task: Sort a list of tuples based on the second element in descending order.\n",
    "Input: [('a', 3), ('b', 1), ('c', 2)]\n",
    "Output: [('a', 3), ('c', 2), ('b', 1)]"
   ]
  },
  {
   "cell_type": "code",
   "execution_count": 56,
   "id": "9e69ad5e-8bd4-4d57-bf05-14b73fb82979",
   "metadata": {},
   "outputs": [
    {
     "name": "stdout",
     "output_type": "stream",
     "text": [
      "[('a', 3), ('c', 2), ('b', 1)]\n"
     ]
    }
   ],
   "source": [
    "data = [('a', 3), ('b', 1), ('c', 2)]\n",
    "\n",
    "sorted_data = sorted(data, key=lambda x: x[1], reverse=True)\n",
    "\n",
    "print(sorted_data)\n"
   ]
  },
  {
   "cell_type": "code",
   "execution_count": null,
   "id": "e8e8c0e9-11c7-4a4a-bb6e-776c3d0626e2",
   "metadata": {},
   "outputs": [],
   "source": []
  },
  {
   "cell_type": "code",
   "execution_count": null,
   "id": "beaef0ba-deae-4e6f-aa25-73fd14f18a72",
   "metadata": {},
   "outputs": [],
   "source": []
  }
 ],
 "metadata": {
  "kernelspec": {
   "display_name": "Python 3 (ipykernel)",
   "language": "python",
   "name": "python3"
  },
  "language_info": {
   "codemirror_mode": {
    "name": "ipython",
    "version": 3
   },
   "file_extension": ".py",
   "mimetype": "text/x-python",
   "name": "python",
   "nbconvert_exporter": "python",
   "pygments_lexer": "ipython3",
   "version": "3.12.4"
  }
 },
 "nbformat": 4,
 "nbformat_minor": 5
}
