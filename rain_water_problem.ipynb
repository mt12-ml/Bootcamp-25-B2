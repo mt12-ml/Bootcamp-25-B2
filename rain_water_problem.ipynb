{
 "cells": [
  {
   "cell_type": "code",
   "execution_count": 3,
   "id": "5bbb9f0e",
   "metadata": {},
   "outputs": [],
   "source": [
    "def trap(height):\n",
    "    right,left = len(height)-1,0\n",
    "    right_max,left_max = 0,0\n",
    "    water=0\n",
    "    while left < right:\n",
    "        if height[left]<height[right]:\n",
    "            if left_max<height[left]:\n",
    "                left_max = height[left]\n",
    "            else:\n",
    "                water += left_max - height[left]\n",
    "                left += 1\n",
    "        else:\n",
    "            if right_max<height[right]:\n",
    "                right_max = height[right]\n",
    "            else:\n",
    "                water += right_max - height[right]\n",
    "                right -= 1\n",
    "    return water"
   ]
  },
  {
   "cell_type": "code",
   "execution_count": null,
   "id": "25298821",
   "metadata": {},
   "outputs": [
    {
     "name": "stdout",
     "output_type": "stream",
     "text": [
      "6\n",
      "9\n"
     ]
    }
   ],
   "source": [
    "height = [0,1,0,2,1,0,1,3,2,1,2,1]\n",
    "height2 = [4,2,0,3,2,5]\n",
    "print(trap(height))\n",
    "print(trap(height2))"
   ]
  },
  {
   "cell_type": "code",
   "execution_count": null,
   "id": "19681e4f",
   "metadata": {},
   "outputs": [],
   "source": []
  }
 ],
 "metadata": {
  "kernelspec": {
   "display_name": "Python 3",
   "language": "python",
   "name": "python3"
  },
  "language_info": {
   "codemirror_mode": {
    "name": "ipython",
    "version": 3
   },
   "file_extension": ".py",
   "mimetype": "text/x-python",
   "name": "python",
   "nbconvert_exporter": "python",
   "pygments_lexer": "ipython3",
   "version": "3.12.1"
  }
 },
 "nbformat": 4,
 "nbformat_minor": 5
}
